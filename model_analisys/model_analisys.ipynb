{
 "cells": [
  {
   "cell_type": "code",
   "execution_count": 1,
   "metadata": {},
   "outputs": [],
   "source": [
    "import os\n",
    "os.chdir('..')"
   ]
  },
  {
   "cell_type": "code",
   "execution_count": 2,
   "metadata": {},
   "outputs": [],
   "source": [
    "import pickle as pkl\n",
    "import pandas as pd\n",
    "import numpy as np\n",
    "import dalex"
   ]
  },
  {
   "cell_type": "code",
   "execution_count": 3,
   "metadata": {},
   "outputs": [
    {
     "name": "stderr",
     "output_type": "stream",
     "text": [
      "/home/antoni/miniconda3/envs/best/lib/python3.9/site-packages/xgboost/compat.py:36: FutureWarning: pandas.Int64Index is deprecated and will be removed from pandas in a future version. Use pandas.Index with the appropriate dtype instead.\n",
      "  from pandas import MultiIndex, Int64Index\n"
     ]
    }
   ],
   "source": [
    "with open('models/xgboost.pkl', 'rb') as f:\n",
    "    model = pkl.load(f)\n",
    "with open('models/relevant_cols.pkl', 'rb') as f:\n",
    "    relevant_cols = pkl.load(f)"
   ]
  },
  {
   "cell_type": "code",
   "execution_count": 4,
   "metadata": {},
   "outputs": [],
   "source": [
    "df_test = pd.read_csv('data/test_processed.csv')\n",
    "X_test, y_test = df_test.drop(columns='FULLVAL')[relevant_cols], df_test['FULLVAL']"
   ]
  },
  {
   "cell_type": "markdown",
   "metadata": {},
   "source": [
    "# 1. Metrics"
   ]
  },
  {
   "cell_type": "code",
   "execution_count": 5,
   "metadata": {},
   "outputs": [],
   "source": [
    "from sklearn.metrics import(\n",
    "    mean_absolute_error,\n",
    "    r2_score\n",
    ")"
   ]
  },
  {
   "cell_type": "code",
   "execution_count": 6,
   "metadata": {},
   "outputs": [
    {
     "name": "stderr",
     "output_type": "stream",
     "text": [
      "/home/antoni/miniconda3/envs/best/lib/python3.9/site-packages/xgboost/data.py:262: FutureWarning: pandas.Int64Index is deprecated and will be removed from pandas in a future version. Use pandas.Index with the appropriate dtype instead.\n",
      "  elif isinstance(data.columns, (pd.Int64Index, pd.RangeIndex)):\n"
     ]
    },
    {
     "data": {
      "text/plain": [
       "201118.19755227226"
      ]
     },
     "execution_count": 6,
     "metadata": {},
     "output_type": "execute_result"
    }
   ],
   "source": [
    "mean_absolute_error(y_test, model.predict(X_test))"
   ]
  },
  {
   "cell_type": "code",
   "execution_count": 7,
   "metadata": {},
   "outputs": [
    {
     "name": "stderr",
     "output_type": "stream",
     "text": [
      "/home/antoni/miniconda3/envs/best/lib/python3.9/site-packages/xgboost/data.py:262: FutureWarning: pandas.Int64Index is deprecated and will be removed from pandas in a future version. Use pandas.Index with the appropriate dtype instead.\n",
      "  elif isinstance(data.columns, (pd.Int64Index, pd.RangeIndex)):\n"
     ]
    },
    {
     "data": {
      "text/plain": [
       "0.9712933551188573"
      ]
     },
     "execution_count": 7,
     "metadata": {},
     "output_type": "execute_result"
    }
   ],
   "source": [
    "r2_score(y_test, model.predict(X_test))"
   ]
  },
  {
   "cell_type": "markdown",
   "metadata": {},
   "source": [
    "# 2. Decile Analysis"
   ]
  },
  {
   "cell_type": "code",
   "execution_count": 8,
   "metadata": {},
   "outputs": [
    {
     "name": "stderr",
     "output_type": "stream",
     "text": [
      "/home/antoni/miniconda3/envs/best/lib/python3.9/site-packages/xgboost/data.py:262: FutureWarning: pandas.Int64Index is deprecated and will be removed from pandas in a future version. Use pandas.Index with the appropriate dtype instead.\n",
      "  elif isinstance(data.columns, (pd.Int64Index, pd.RangeIndex)):\n"
     ]
    }
   ],
   "source": [
    "pred = model.predict(X_test)\n",
    "df_summary = pd.DataFrame({\n",
    "    'deciles': pd.qcut(pred, q=10),\n",
    "    'actual': y_test,\n",
    "    'predicted': pred\n",
    "})\n",
    "df_summary = df_summary.assign(\n",
    "    relative_error=np.abs(df_summary.actual - df_summary.predicted)/df_summary.actual\n",
    ")"
   ]
  },
  {
   "cell_type": "code",
   "execution_count": 9,
   "metadata": {},
   "outputs": [
    {
     "data": {
      "text/html": [
       "<div>\n",
       "<style scoped>\n",
       "    .dataframe tbody tr th:only-of-type {\n",
       "        vertical-align: middle;\n",
       "    }\n",
       "\n",
       "    .dataframe tbody tr th {\n",
       "        vertical-align: top;\n",
       "    }\n",
       "\n",
       "    .dataframe thead th {\n",
       "        text-align: right;\n",
       "    }\n",
       "</style>\n",
       "<table border=\"1\" class=\"dataframe\">\n",
       "  <thead>\n",
       "    <tr style=\"text-align: right;\">\n",
       "      <th></th>\n",
       "      <th>deciles</th>\n",
       "      <th>actual</th>\n",
       "      <th>predicted</th>\n",
       "      <th>relative_error</th>\n",
       "    </tr>\n",
       "  </thead>\n",
       "  <tbody>\n",
       "    <tr>\n",
       "      <th>0</th>\n",
       "      <td>(19138.043999999998, 181996.675]</td>\n",
       "      <td>6.502813e+04</td>\n",
       "      <td>1.012256e+05</td>\n",
       "      <td>NaN</td>\n",
       "    </tr>\n",
       "    <tr>\n",
       "      <th>1</th>\n",
       "      <td>(181996.675, 273549.781]</td>\n",
       "      <td>2.218077e+05</td>\n",
       "      <td>2.360055e+05</td>\n",
       "      <td>0.203514</td>\n",
       "    </tr>\n",
       "    <tr>\n",
       "      <th>2</th>\n",
       "      <td>(273549.781, 396399.828]</td>\n",
       "      <td>3.166781e+05</td>\n",
       "      <td>3.152221e+05</td>\n",
       "      <td>0.255660</td>\n",
       "    </tr>\n",
       "    <tr>\n",
       "      <th>3</th>\n",
       "      <td>(396399.828, 461669.988]</td>\n",
       "      <td>4.112371e+05</td>\n",
       "      <td>4.319131e+05</td>\n",
       "      <td>0.127607</td>\n",
       "    </tr>\n",
       "    <tr>\n",
       "      <th>4</th>\n",
       "      <td>(461669.988, 510274.938]</td>\n",
       "      <td>4.632674e+05</td>\n",
       "      <td>4.844921e+05</td>\n",
       "      <td>0.131419</td>\n",
       "    </tr>\n",
       "    <tr>\n",
       "      <th>5</th>\n",
       "      <td>(510274.938, 586370.938]</td>\n",
       "      <td>5.500624e+05</td>\n",
       "      <td>5.452001e+05</td>\n",
       "      <td>0.120442</td>\n",
       "    </tr>\n",
       "    <tr>\n",
       "      <th>6</th>\n",
       "      <td>(586370.938, 642609.669]</td>\n",
       "      <td>6.017908e+05</td>\n",
       "      <td>6.129769e+05</td>\n",
       "      <td>0.107255</td>\n",
       "    </tr>\n",
       "    <tr>\n",
       "      <th>7</th>\n",
       "      <td>(642609.669, 951005.763]</td>\n",
       "      <td>7.361155e+05</td>\n",
       "      <td>7.640543e+05</td>\n",
       "      <td>0.151569</td>\n",
       "    </tr>\n",
       "    <tr>\n",
       "      <th>8</th>\n",
       "      <td>(951005.763, 1580098.388]</td>\n",
       "      <td>1.208394e+06</td>\n",
       "      <td>1.242411e+06</td>\n",
       "      <td>0.257472</td>\n",
       "    </tr>\n",
       "    <tr>\n",
       "      <th>9</th>\n",
       "      <td>(1580098.388, 285254112.0]</td>\n",
       "      <td>1.049581e+07</td>\n",
       "      <td>9.779332e+06</td>\n",
       "      <td>0.171868</td>\n",
       "    </tr>\n",
       "  </tbody>\n",
       "</table>\n",
       "</div>"
      ],
      "text/plain": [
       "                            deciles        actual     predicted  \\\n",
       "0  (19138.043999999998, 181996.675]  6.502813e+04  1.012256e+05   \n",
       "1          (181996.675, 273549.781]  2.218077e+05  2.360055e+05   \n",
       "2          (273549.781, 396399.828]  3.166781e+05  3.152221e+05   \n",
       "3          (396399.828, 461669.988]  4.112371e+05  4.319131e+05   \n",
       "4          (461669.988, 510274.938]  4.632674e+05  4.844921e+05   \n",
       "5          (510274.938, 586370.938]  5.500624e+05  5.452001e+05   \n",
       "6          (586370.938, 642609.669]  6.017908e+05  6.129769e+05   \n",
       "7          (642609.669, 951005.763]  7.361155e+05  7.640543e+05   \n",
       "8         (951005.763, 1580098.388]  1.208394e+06  1.242411e+06   \n",
       "9        (1580098.388, 285254112.0]  1.049581e+07  9.779332e+06   \n",
       "\n",
       "   relative_error  \n",
       "0             NaN  \n",
       "1        0.203514  \n",
       "2        0.255660  \n",
       "3        0.127607  \n",
       "4        0.131419  \n",
       "5        0.120442  \n",
       "6        0.107255  \n",
       "7        0.151569  \n",
       "8        0.257472  \n",
       "9        0.171868  "
      ]
     },
     "execution_count": 9,
     "metadata": {},
     "output_type": "execute_result"
    }
   ],
   "source": [
    "df_summary.groupby('deciles', as_index=False).mean()"
   ]
  },
  {
   "cell_type": "markdown",
   "metadata": {},
   "source": [
    "# 3. Model explanation"
   ]
  },
  {
   "cell_type": "code",
   "execution_count": 10,
   "metadata": {},
   "outputs": [
    {
     "name": "stdout",
     "output_type": "stream",
     "text": [
      "Preparation of a new explainer is initiated\n",
      "\n",
      "  -> data              : 1792 rows 41 cols\n",
      "  -> target variable   : Parameter 'y' was a pandas.Series. Converted to a numpy.ndarray.\n",
      "  -> target variable   : 1792 values\n",
      "  -> model_class       : xgboost.sklearn.XGBRFRegressor (default)\n",
      "  -> label             : Not specified, model's class short name will be used. (default)\n",
      "  -> predict function  : <function yhat_default at 0x7f4c8b63be50> will be used (default)\n",
      "  -> predict function  : Accepts pandas.DataFrame and numpy.ndarray.\n",
      "  -> predicted values  : min = 1.91e+04, mean = 1.46e+06, max = 2.85e+08\n",
      "  -> model type        : regression will be used (default)\n",
      "  -> residual function : difference between y and yhat (default)\n",
      "  -> residuals         : min = -1.34e+07, mean = 5.61e+04, max = 8.37e+07\n",
      "  -> model_info        : package xgboost\n",
      "\n",
      "A new explainer has been created!\n"
     ]
    },
    {
     "name": "stderr",
     "output_type": "stream",
     "text": [
      "/home/antoni/miniconda3/envs/best/lib/python3.9/site-packages/xgboost/data.py:262: FutureWarning: pandas.Int64Index is deprecated and will be removed from pandas in a future version. Use pandas.Index with the appropriate dtype instead.\n",
      "  elif isinstance(data.columns, (pd.Int64Index, pd.RangeIndex)):\n"
     ]
    }
   ],
   "source": [
    "explainer = dalex.Explainer(model, X_test, y_test)"
   ]
  },
  {
   "cell_type": "code",
   "execution_count": 11,
   "metadata": {},
   "outputs": [],
   "source": [
    "bd = dalex.predict_explanations.BreakDown()"
   ]
  },
  {
   "cell_type": "code",
   "execution_count": 12,
   "metadata": {},
   "outputs": [],
   "source": [
    "bd.fit(explainer, X_test.loc[69])"
   ]
  },
  {
   "cell_type": "code",
   "execution_count": 14,
   "metadata": {},
   "outputs": [
    {
     "data": {
      "application/vnd.plotly.v1+json": {
       "config": {
        "displaylogo": false,
        "modeBarButtonsToRemove": [
         "sendDataToCloud",
         "lasso2d",
         "autoScale2d",
         "select2d",
         "zoom2d",
         "pan2d",
         "zoomIn2d",
         "zoomOut2d",
         "resetScale2d",
         "toggleSpikelines",
         "hoverCompareCartesian",
         "hoverClosestCartesian"
        ],
        "plotlyServerURL": "https://plot.ly",
        "staticPlot": false,
        "toImageButtonOptions": {
         "height": null,
         "width": null
        }
       },
       "data": [
        {
         "base": 1455177.125,
         "connector": {
          "line": {
           "color": "#371ea3",
           "dash": "solid",
           "width": 1
          },
          "mode": "spanning"
         },
         "decreasing": {
          "marker": {
           "color": "#f05a71"
          }
         },
         "hoverinfo": "text+delta",
         "hoverlabel": {
          "bgcolor": "rgba(0,0,0,0.8)"
         },
         "hovertext": [
          "Average response: 1455177.1<br>Prediction: 305884.56",
          "TAXCLASS_1 = 1.0<br>increases average response by",
          "BLDGCL_Public use = 0.0<br>increases average response by",
          "AVLAND2 = -0.6763<br>increases average response by",
          "AVLAND = -0.8932<br>increases average response by",
          "LTAREA = 0.09863<br>decreases average response by",
          "BLDGCL_Family = 1.0<br>increases average response by",
          "LTDEPTH = 0.004115<br>decreases average response by",
          "TAXCLASS_4 = 0.0<br>increases average response by",
          "EXT_G = 0.0<br>increases average response by",
          "TAXCLASS_2A = 0.0<br>increases average response by",
          "TAXCLASS_2 = 0.0<br>increases average response by",
          "EXT_No = 1.0<br>increases average response by",
          "EXMPTCL = 0.0<br>decreases average response by",
          "EXCD1_No = 1.0<br>decreases average response by",
          "EXCD1_1101.0 = 0.0<br>decreases average response by",
          "EXCD1_1022.0 = 0.0<br>decreases average response by",
          "EXCD1_1021.0 = 0.0<br>decreases average response by",
          "EXCD2_1015.0 = 0.0<br>decreases average response by",
          "EXCD1_2261.0 = 0.0<br>decreases average response by",
          "EXCD1_1015.0 = 0.0<br>decreases average response by",
          "EXCD2_1017.0 = 0.0<br>decreases average response by",
          "EXCD2_No = 1.0<br>decreases average response by",
          "EXT_E = 0.0<br>increases average response by",
          "EXCD1_2172.0 = 0.0<br>decreases average response by",
          "TAXCLASS_1C = 0.0<br>decreases average response by",
          "EXTOT2 = -0.4192<br>decreases average response by",
          "EXCD1_1017.0 = 0.0<br>decreases average response by",
          "BLDGCL_Multifamily = 0.0<br>decreases average response by",
          "EXLAND = -0.8811<br>decreases average response by",
          "TAXCLASS_2B = 0.0<br>decreases average response by",
          "EXTOT = -0.9821<br>increases average response by",
          "TAXCLASS_2C = 0.0<br>decreases average response by",
          "BLDAREA = -1.493<br>decreases average response by",
          "TAXCLASS_1A = 0.0<br>decreases average response by",
          "BLDDEPTH = -1.512<br>decreases average response by",
          "LTFRONT = 0.2053<br>increases average response by",
          "BLDFRONT = -1.475<br>decreases average response by",
          "STORIES = -2.426<br>decreases average response by",
          "loc_cluster = 1.0<br>decreases average response by",
          "AVTOT2 = -0.6769<br>decreases average response by",
          "AVTOT = -1.41<br>decreases average response by",
          "Average response: 1455177.1<br>Prediction: 305884.56"
         ],
         "increasing": {
          "marker": {
           "color": "#8bdcbe"
          }
         },
         "measure": [
          "relative",
          "relative",
          "relative",
          "relative",
          "relative",
          "relative",
          "relative",
          "relative",
          "relative",
          "relative",
          "relative",
          "relative",
          "relative",
          "relative",
          "relative",
          "relative",
          "relative",
          "relative",
          "relative",
          "relative",
          "relative",
          "relative",
          "relative",
          "relative",
          "relative",
          "relative",
          "relative",
          "relative",
          "relative",
          "relative",
          "relative",
          "relative",
          "relative",
          "relative",
          "relative",
          "relative",
          "relative",
          "relative",
          "relative",
          "relative",
          "relative",
          "relative",
          "total"
         ],
         "orientation": "h",
         "showlegend": false,
         "text": [
          "1455177.1",
          "+219166.25",
          "+426295.12",
          "+219936.5",
          "+28438.0",
          "-7920.25",
          "+1995.75",
          "-15152.25",
          "+4554.0",
          "+916.75",
          "+2000.75",
          "+31.25",
          "+1412.0",
          "-151.75",
          "0.0",
          "0.0",
          "0.0",
          "0.0",
          "-7.25",
          "0.0",
          "-25.5",
          "-14.75",
          "0.0",
          "+269.0",
          "-2.0",
          "0.0",
          "-94.5",
          "-554.0",
          "-2989.25",
          "-4976.75",
          "-45.0",
          "+368.25",
          "-2970.25",
          "-14425.5",
          "-794.25",
          "-38793.0",
          "+30717.75",
          "-44618.754",
          "-121895.0",
          "-179843.88",
          "-78028.875",
          "-1572091.2",
          "305884.56"
         ],
         "textposition": "outside",
         "totals": {
          "marker": {
           "color": "#371ea3"
          }
         },
         "type": "waterfall",
         "x": [
          0,
          219166.25,
          426295.125,
          219936.5,
          28438,
          -7920.25,
          1995.75,
          -15152.25,
          4554,
          916.75,
          2000.75,
          31.25,
          1412,
          -151.75,
          0,
          0,
          0,
          0,
          -7.25,
          0,
          -25.5,
          -14.75,
          0,
          269,
          -2,
          0,
          -94.5,
          -554,
          -2989.25,
          -4976.75,
          -45,
          368.25,
          -2970.25,
          -14425.5,
          -794.25,
          -38793,
          30717.75,
          -44618.75390625,
          -121895,
          -179843.875,
          -78028.875,
          -1572091.25,
          -1149292.5
         ],
         "xaxis": "x",
         "y": [
          "intercept",
          "TAXCLASS_1 = 1.0",
          "BLDGCL_Public use = 0.0",
          "AVLAND2 = -0.6763",
          "AVLAND = -0.8932",
          "LTAREA = 0.09863",
          "BLDGCL_Family = 1.0",
          "LTDEPTH = 0.004115",
          "TAXCLASS_4 = 0.0",
          "EXT_G = 0.0",
          "TAXCLASS_2A = 0.0",
          "TAXCLASS_2 = 0.0",
          "EXT_No = 1.0",
          "EXMPTCL = 0.0",
          "EXCD1_No = 1.0",
          "EXCD1_1101.0 = 0.0",
          "EXCD1_1022.0 = 0.0",
          "EXCD1_1021.0 = 0.0",
          "EXCD2_1015.0 = 0.0",
          "EXCD1_2261.0 = 0.0",
          "EXCD1_1015.0 = 0.0",
          "EXCD2_1017.0 = 0.0",
          "EXCD2_No = 1.0",
          "EXT_E = 0.0",
          "EXCD1_2172.0 = 0.0",
          "TAXCLASS_1C = 0.0",
          "EXTOT2 = -0.4192",
          "EXCD1_1017.0 = 0.0",
          "BLDGCL_Multifamily = 0.0",
          "EXLAND = -0.8811",
          "TAXCLASS_2B = 0.0",
          "EXTOT = -0.9821",
          "TAXCLASS_2C = 0.0",
          "BLDAREA = -1.493",
          "TAXCLASS_1A = 0.0",
          "BLDDEPTH = -1.512",
          "LTFRONT = 0.2053",
          "BLDFRONT = -1.475",
          "STORIES = -2.426",
          "loc_cluster = 1.0",
          "AVTOT2 = -0.6769",
          "AVTOT = -1.41",
          "prediction"
         ],
         "yaxis": "y"
        }
       ],
       "layout": {
        "annotations": [
         {
          "font": {
           "size": 16
          },
          "showarrow": false,
          "text": "XGBRFRegressor",
          "x": 0.5,
          "xanchor": "center",
          "xref": "paper",
          "y": 1,
          "yanchor": "bottom",
          "yref": "paper"
         },
         {
          "font": {
           "size": 16
          },
          "showarrow": false,
          "text": "contribution",
          "x": 0.5,
          "xanchor": "center",
          "xref": "paper",
          "y": 0,
          "yanchor": "top",
          "yref": "paper",
          "yshift": -30
         }
        ],
        "font": {
         "color": "#371ea3"
        },
        "height": 1013,
        "margin": {
         "b": 71,
         "r": 30,
         "t": 78
        },
        "shapes": [
         {
          "line": {
           "color": "#371ea3",
           "dash": "dot",
           "width": 1.5
          },
          "type": "line",
          "x0": 1455177.125,
          "x1": 1455177.125,
          "xref": "x",
          "y0": -1,
          "y1": 43,
          "yref": "y"
         }
        ],
        "template": {
         "data": {
          "scatter": [
           {
            "type": "scatter"
           }
          ]
         }
        },
        "title": {
         "text": "Break Down",
         "x": 0.15
        },
        "xaxis": {
         "anchor": "y",
         "automargin": true,
         "domain": [
          0,
          1
         ],
         "fixedrange": true,
         "gridwidth": 2,
         "range": [
          -584.7437499999651,
          2655482.275
         ],
         "tickcolor": "white",
         "ticklen": 3,
         "ticks": "outside",
         "type": "linear",
         "zeroline": false
        },
        "yaxis": {
         "anchor": "x",
         "automargin": true,
         "autorange": "reversed",
         "domain": [
          0,
          1
         ],
         "fixedrange": true,
         "gridwidth": 2,
         "tickcolor": "white",
         "ticklen": 10,
         "ticks": "outside",
         "type": "category"
        }
       }
      },
      "text/html": [
       "<div>                            <div id=\"2fd0db22-6eaa-443f-b4f0-33b310b7c46e\" class=\"plotly-graph-div\" style=\"height:1013.0px; width:100%;\"></div>            <script type=\"text/javascript\">                require([\"plotly\"], function(Plotly) {                    window.PLOTLYENV=window.PLOTLYENV || {};                                    if (document.getElementById(\"2fd0db22-6eaa-443f-b4f0-33b310b7c46e\")) {                    Plotly.newPlot(                        \"2fd0db22-6eaa-443f-b4f0-33b310b7c46e\",                        [{\"base\":1455177.125,\"connector\":{\"line\":{\"color\":\"#371ea3\",\"dash\":\"solid\",\"width\":1},\"mode\":\"spanning\"},\"decreasing\":{\"marker\":{\"color\":\"#f05a71\"}},\"hoverinfo\":\"text+delta\",\"hoverlabel\":{\"bgcolor\":\"rgba(0,0,0,0.8)\"},\"hovertext\":[\"Average response: 1455177.1<br>Prediction: 305884.56\",\"TAXCLASS_1 = 1.0<br>increases average response by\",\"BLDGCL_Public use = 0.0<br>increases average response by\",\"AVLAND2 = -0.6763<br>increases average response by\",\"AVLAND = -0.8932<br>increases average response by\",\"LTAREA = 0.09863<br>decreases average response by\",\"BLDGCL_Family = 1.0<br>increases average response by\",\"LTDEPTH = 0.004115<br>decreases average response by\",\"TAXCLASS_4 = 0.0<br>increases average response by\",\"EXT_G = 0.0<br>increases average response by\",\"TAXCLASS_2A = 0.0<br>increases average response by\",\"TAXCLASS_2 = 0.0<br>increases average response by\",\"EXT_No = 1.0<br>increases average response by\",\"EXMPTCL = 0.0<br>decreases average response by\",\"EXCD1_No = 1.0<br>decreases average response by\",\"EXCD1_1101.0 = 0.0<br>decreases average response by\",\"EXCD1_1022.0 = 0.0<br>decreases average response by\",\"EXCD1_1021.0 = 0.0<br>decreases average response by\",\"EXCD2_1015.0 = 0.0<br>decreases average response by\",\"EXCD1_2261.0 = 0.0<br>decreases average response by\",\"EXCD1_1015.0 = 0.0<br>decreases average response by\",\"EXCD2_1017.0 = 0.0<br>decreases average response by\",\"EXCD2_No = 1.0<br>decreases average response by\",\"EXT_E = 0.0<br>increases average response by\",\"EXCD1_2172.0 = 0.0<br>decreases average response by\",\"TAXCLASS_1C = 0.0<br>decreases average response by\",\"EXTOT2 = -0.4192<br>decreases average response by\",\"EXCD1_1017.0 = 0.0<br>decreases average response by\",\"BLDGCL_Multifamily = 0.0<br>decreases average response by\",\"EXLAND = -0.8811<br>decreases average response by\",\"TAXCLASS_2B = 0.0<br>decreases average response by\",\"EXTOT = -0.9821<br>increases average response by\",\"TAXCLASS_2C = 0.0<br>decreases average response by\",\"BLDAREA = -1.493<br>decreases average response by\",\"TAXCLASS_1A = 0.0<br>decreases average response by\",\"BLDDEPTH = -1.512<br>decreases average response by\",\"LTFRONT = 0.2053<br>increases average response by\",\"BLDFRONT = -1.475<br>decreases average response by\",\"STORIES = -2.426<br>decreases average response by\",\"loc_cluster = 1.0<br>decreases average response by\",\"AVTOT2 = -0.6769<br>decreases average response by\",\"AVTOT = -1.41<br>decreases average response by\",\"Average response: 1455177.1<br>Prediction: 305884.56\"],\"increasing\":{\"marker\":{\"color\":\"#8bdcbe\"}},\"measure\":[\"relative\",\"relative\",\"relative\",\"relative\",\"relative\",\"relative\",\"relative\",\"relative\",\"relative\",\"relative\",\"relative\",\"relative\",\"relative\",\"relative\",\"relative\",\"relative\",\"relative\",\"relative\",\"relative\",\"relative\",\"relative\",\"relative\",\"relative\",\"relative\",\"relative\",\"relative\",\"relative\",\"relative\",\"relative\",\"relative\",\"relative\",\"relative\",\"relative\",\"relative\",\"relative\",\"relative\",\"relative\",\"relative\",\"relative\",\"relative\",\"relative\",\"relative\",\"total\"],\"orientation\":\"h\",\"showlegend\":false,\"text\":[\"1455177.1\",\"+219166.25\",\"+426295.12\",\"+219936.5\",\"+28438.0\",\"-7920.25\",\"+1995.75\",\"-15152.25\",\"+4554.0\",\"+916.75\",\"+2000.75\",\"+31.25\",\"+1412.0\",\"-151.75\",\"0.0\",\"0.0\",\"0.0\",\"0.0\",\"-7.25\",\"0.0\",\"-25.5\",\"-14.75\",\"0.0\",\"+269.0\",\"-2.0\",\"0.0\",\"-94.5\",\"-554.0\",\"-2989.25\",\"-4976.75\",\"-45.0\",\"+368.25\",\"-2970.25\",\"-14425.5\",\"-794.25\",\"-38793.0\",\"+30717.75\",\"-44618.754\",\"-121895.0\",\"-179843.88\",\"-78028.875\",\"-1572091.2\",\"305884.56\"],\"textposition\":\"outside\",\"totals\":{\"marker\":{\"color\":\"#371ea3\"}},\"x\":[0.0,219166.25,426295.125,219936.5,28438.0,-7920.25,1995.75,-15152.25,4554.0,916.75,2000.75,31.25,1412.0,-151.75,0.0,0.0,0.0,0.0,-7.25,0.0,-25.5,-14.75,0.0,269.0,-2.0,0.0,-94.5,-554.0,-2989.25,-4976.75,-45.0,368.25,-2970.25,-14425.5,-794.25,-38793.0,30717.75,-44618.75390625,-121895.0,-179843.875,-78028.875,-1572091.25,-1149292.5],\"y\":[\"intercept\",\"TAXCLASS_1 = 1.0\",\"BLDGCL_Public use = 0.0\",\"AVLAND2 = -0.6763\",\"AVLAND = -0.8932\",\"LTAREA = 0.09863\",\"BLDGCL_Family = 1.0\",\"LTDEPTH = 0.004115\",\"TAXCLASS_4 = 0.0\",\"EXT_G = 0.0\",\"TAXCLASS_2A = 0.0\",\"TAXCLASS_2 = 0.0\",\"EXT_No = 1.0\",\"EXMPTCL = 0.0\",\"EXCD1_No = 1.0\",\"EXCD1_1101.0 = 0.0\",\"EXCD1_1022.0 = 0.0\",\"EXCD1_1021.0 = 0.0\",\"EXCD2_1015.0 = 0.0\",\"EXCD1_2261.0 = 0.0\",\"EXCD1_1015.0 = 0.0\",\"EXCD2_1017.0 = 0.0\",\"EXCD2_No = 1.0\",\"EXT_E = 0.0\",\"EXCD1_2172.0 = 0.0\",\"TAXCLASS_1C = 0.0\",\"EXTOT2 = -0.4192\",\"EXCD1_1017.0 = 0.0\",\"BLDGCL_Multifamily = 0.0\",\"EXLAND = -0.8811\",\"TAXCLASS_2B = 0.0\",\"EXTOT = -0.9821\",\"TAXCLASS_2C = 0.0\",\"BLDAREA = -1.493\",\"TAXCLASS_1A = 0.0\",\"BLDDEPTH = -1.512\",\"LTFRONT = 0.2053\",\"BLDFRONT = -1.475\",\"STORIES = -2.426\",\"loc_cluster = 1.0\",\"AVTOT2 = -0.6769\",\"AVTOT = -1.41\",\"prediction\"],\"type\":\"waterfall\",\"xaxis\":\"x\",\"yaxis\":\"y\"}],                        {\"template\":{\"data\":{\"scatter\":[{\"type\":\"scatter\"}]}},\"xaxis\":{\"anchor\":\"y\",\"domain\":[0.0,1.0],\"type\":\"linear\",\"gridwidth\":2,\"zeroline\":false,\"automargin\":true,\"ticks\":\"outside\",\"tickcolor\":\"white\",\"ticklen\":3,\"fixedrange\":true,\"range\":[-584.7437499999651,2655482.275]},\"yaxis\":{\"anchor\":\"x\",\"domain\":[0.0,1.0],\"type\":\"category\",\"autorange\":\"reversed\",\"gridwidth\":2,\"automargin\":true,\"ticks\":\"outside\",\"tickcolor\":\"white\",\"ticklen\":10,\"fixedrange\":true},\"annotations\":[{\"font\":{\"size\":16},\"showarrow\":false,\"text\":\"XGBRFRegressor\",\"x\":0.5,\"xanchor\":\"center\",\"xref\":\"paper\",\"y\":1.0,\"yanchor\":\"bottom\",\"yref\":\"paper\"},{\"font\":{\"size\":16},\"showarrow\":false,\"text\":\"contribution\",\"x\":0.5,\"xanchor\":\"center\",\"xref\":\"paper\",\"y\":0,\"yanchor\":\"top\",\"yref\":\"paper\",\"yshift\":-30}],\"shapes\":[{\"line\":{\"color\":\"#371ea3\",\"dash\":\"dot\",\"width\":1.5},\"type\":\"line\",\"x0\":1455177.125,\"x1\":1455177.125,\"xref\":\"x\",\"y0\":-1,\"y1\":43,\"yref\":\"y\"}],\"title\":{\"text\":\"Break Down\",\"x\":0.15},\"font\":{\"color\":\"#371ea3\"},\"margin\":{\"t\":78,\"b\":71,\"r\":30},\"height\":1013.0},                        {\"displaylogo\": false, \"staticPlot\": false, \"toImageButtonOptions\": {\"height\": null, \"width\": null}, \"modeBarButtonsToRemove\": [\"sendDataToCloud\", \"lasso2d\", \"autoScale2d\", \"select2d\", \"zoom2d\", \"pan2d\", \"zoomIn2d\", \"zoomOut2d\", \"resetScale2d\", \"toggleSpikelines\", \"hoverCompareCartesian\", \"hoverClosestCartesian\"], \"responsive\": true}                    ).then(function(){\n",
       "                            \n",
       "var gd = document.getElementById('2fd0db22-6eaa-443f-b4f0-33b310b7c46e');\n",
       "var x = new MutationObserver(function (mutations, observer) {{\n",
       "        var display = window.getComputedStyle(gd).display;\n",
       "        if (!display || display === 'none') {{\n",
       "            console.log([gd, 'removed!']);\n",
       "            Plotly.purge(gd);\n",
       "            observer.disconnect();\n",
       "        }}\n",
       "}});\n",
       "\n",
       "// Listen for the removal of the full notebook cells\n",
       "var notebookContainer = gd.closest('#notebook-container');\n",
       "if (notebookContainer) {{\n",
       "    x.observe(notebookContainer, {childList: true});\n",
       "}}\n",
       "\n",
       "// Listen for the clearing of the current output cell\n",
       "var outputEl = gd.closest('.output');\n",
       "if (outputEl) {{\n",
       "    x.observe(outputEl, {childList: true});\n",
       "}}\n",
       "\n",
       "                        })                };                });            </script>        </div>"
      ]
     },
     "metadata": {},
     "output_type": "display_data"
    }
   ],
   "source": [
    "bd.plot(max_vars=50)"
   ]
  },
  {
   "cell_type": "code",
   "execution_count": 26,
   "metadata": {},
   "outputs": [],
   "source": [
    "sh = dalex.predict_explanations.Shap()"
   ]
  },
  {
   "cell_type": "code",
   "execution_count": 33,
   "metadata": {},
   "outputs": [
    {
     "name": "stderr",
     "output_type": "stream",
     "text": [
      "/home/antoni/miniconda3/envs/best/lib/python3.9/site-packages/xgboost/data.py:262: FutureWarning:\n",
      "\n",
      "pandas.Int64Index is deprecated and will be removed from pandas in a future version. Use pandas.Index with the appropriate dtype instead.\n",
      "\n",
      "/home/antoni/miniconda3/envs/best/lib/python3.9/site-packages/xgboost/data.py:262: FutureWarning:\n",
      "\n",
      "pandas.Int64Index is deprecated and will be removed from pandas in a future version. Use pandas.Index with the appropriate dtype instead.\n",
      "\n",
      "/home/antoni/miniconda3/envs/best/lib/python3.9/site-packages/xgboost/data.py:262: FutureWarning:\n",
      "\n",
      "pandas.Int64Index is deprecated and will be removed from pandas in a future version. Use pandas.Index with the appropriate dtype instead.\n",
      "\n",
      "/home/antoni/miniconda3/envs/best/lib/python3.9/site-packages/xgboost/data.py:262: FutureWarning:\n",
      "\n",
      "pandas.Int64Index is deprecated and will be removed from pandas in a future version. Use pandas.Index with the appropriate dtype instead.\n",
      "\n",
      "/home/antoni/miniconda3/envs/best/lib/python3.9/site-packages/xgboost/data.py:262: FutureWarning:\n",
      "\n",
      "pandas.Int64Index is deprecated and will be removed from pandas in a future version. Use pandas.Index with the appropriate dtype instead.\n",
      "\n",
      "/home/antoni/miniconda3/envs/best/lib/python3.9/site-packages/xgboost/data.py:262: FutureWarning:\n",
      "\n",
      "pandas.Int64Index is deprecated and will be removed from pandas in a future version. Use pandas.Index with the appropriate dtype instead.\n",
      "\n",
      "/home/antoni/miniconda3/envs/best/lib/python3.9/site-packages/xgboost/data.py:262: FutureWarning:\n",
      "\n",
      "pandas.Int64Index is deprecated and will be removed from pandas in a future version. Use pandas.Index with the appropriate dtype instead.\n",
      "\n",
      "/home/antoni/miniconda3/envs/best/lib/python3.9/site-packages/xgboost/data.py:262: FutureWarning:\n",
      "\n",
      "pandas.Int64Index is deprecated and will be removed from pandas in a future version. Use pandas.Index with the appropriate dtype instead.\n",
      "\n",
      "/home/antoni/miniconda3/envs/best/lib/python3.9/site-packages/xgboost/data.py:262: FutureWarning:\n",
      "\n",
      "pandas.Int64Index is deprecated and will be removed from pandas in a future version. Use pandas.Index with the appropriate dtype instead.\n",
      "\n",
      "/home/antoni/miniconda3/envs/best/lib/python3.9/site-packages/xgboost/data.py:262: FutureWarning:\n",
      "\n",
      "pandas.Int64Index is deprecated and will be removed from pandas in a future version. Use pandas.Index with the appropriate dtype instead.\n",
      "\n",
      "/home/antoni/miniconda3/envs/best/lib/python3.9/site-packages/xgboost/data.py:262: FutureWarning:\n",
      "\n",
      "pandas.Int64Index is deprecated and will be removed from pandas in a future version. Use pandas.Index with the appropriate dtype instead.\n",
      "\n",
      "/home/antoni/miniconda3/envs/best/lib/python3.9/site-packages/xgboost/data.py:262: FutureWarning:\n",
      "\n",
      "pandas.Int64Index is deprecated and will be removed from pandas in a future version. Use pandas.Index with the appropriate dtype instead.\n",
      "\n",
      "/home/antoni/miniconda3/envs/best/lib/python3.9/site-packages/xgboost/data.py:262: FutureWarning:\n",
      "\n",
      "pandas.Int64Index is deprecated and will be removed from pandas in a future version. Use pandas.Index with the appropriate dtype instead.\n",
      "\n",
      "/home/antoni/miniconda3/envs/best/lib/python3.9/site-packages/xgboost/data.py:262: FutureWarning:\n",
      "\n",
      "pandas.Int64Index is deprecated and will be removed from pandas in a future version. Use pandas.Index with the appropriate dtype instead.\n",
      "\n",
      "/home/antoni/miniconda3/envs/best/lib/python3.9/site-packages/xgboost/data.py:262: FutureWarning:\n",
      "\n",
      "pandas.Int64Index is deprecated and will be removed from pandas in a future version. Use pandas.Index with the appropriate dtype instead.\n",
      "\n",
      "/home/antoni/miniconda3/envs/best/lib/python3.9/site-packages/xgboost/data.py:262: FutureWarning:\n",
      "\n",
      "pandas.Int64Index is deprecated and will be removed from pandas in a future version. Use pandas.Index with the appropriate dtype instead.\n",
      "\n",
      "/home/antoni/miniconda3/envs/best/lib/python3.9/site-packages/xgboost/data.py:262: FutureWarning:\n",
      "\n",
      "pandas.Int64Index is deprecated and will be removed from pandas in a future version. Use pandas.Index with the appropriate dtype instead.\n",
      "\n",
      "/home/antoni/miniconda3/envs/best/lib/python3.9/site-packages/xgboost/data.py:262: FutureWarning:\n",
      "\n",
      "pandas.Int64Index is deprecated and will be removed from pandas in a future version. Use pandas.Index with the appropriate dtype instead.\n",
      "\n",
      "/home/antoni/miniconda3/envs/best/lib/python3.9/site-packages/xgboost/data.py:262: FutureWarning:\n",
      "\n",
      "pandas.Int64Index is deprecated and will be removed from pandas in a future version. Use pandas.Index with the appropriate dtype instead.\n",
      "\n",
      "/home/antoni/miniconda3/envs/best/lib/python3.9/site-packages/xgboost/data.py:262: FutureWarning:\n",
      "\n",
      "pandas.Int64Index is deprecated and will be removed from pandas in a future version. Use pandas.Index with the appropriate dtype instead.\n",
      "\n",
      "/home/antoni/miniconda3/envs/best/lib/python3.9/site-packages/xgboost/data.py:262: FutureWarning:\n",
      "\n",
      "pandas.Int64Index is deprecated and will be removed from pandas in a future version. Use pandas.Index with the appropriate dtype instead.\n",
      "\n",
      "/home/antoni/miniconda3/envs/best/lib/python3.9/site-packages/xgboost/data.py:262: FutureWarning:\n",
      "\n",
      "pandas.Int64Index is deprecated and will be removed from pandas in a future version. Use pandas.Index with the appropriate dtype instead.\n",
      "\n",
      "/home/antoni/miniconda3/envs/best/lib/python3.9/site-packages/xgboost/data.py:262: FutureWarning:\n",
      "\n",
      "pandas.Int64Index is deprecated and will be removed from pandas in a future version. Use pandas.Index with the appropriate dtype instead.\n",
      "\n",
      "/home/antoni/miniconda3/envs/best/lib/python3.9/site-packages/xgboost/data.py:262: FutureWarning:\n",
      "\n",
      "pandas.Int64Index is deprecated and will be removed from pandas in a future version. Use pandas.Index with the appropriate dtype instead.\n",
      "\n",
      "/home/antoni/miniconda3/envs/best/lib/python3.9/site-packages/xgboost/data.py:262: FutureWarning:\n",
      "\n",
      "pandas.Int64Index is deprecated and will be removed from pandas in a future version. Use pandas.Index with the appropriate dtype instead.\n",
      "\n",
      "/home/antoni/miniconda3/envs/best/lib/python3.9/site-packages/xgboost/data.py:262: FutureWarning:\n",
      "\n",
      "pandas.Int64Index is deprecated and will be removed from pandas in a future version. Use pandas.Index with the appropriate dtype instead.\n",
      "\n"
     ]
    }
   ],
   "source": [
    "sh.fit(explainer, X_test.loc[70])"
   ]
  },
  {
   "cell_type": "code",
   "execution_count": 34,
   "metadata": {},
   "outputs": [
    {
     "data": {
      "application/vnd.plotly.v1+json": {
       "config": {
        "displaylogo": false,
        "modeBarButtonsToRemove": [
         "sendDataToCloud",
         "lasso2d",
         "autoScale2d",
         "select2d",
         "zoom2d",
         "pan2d",
         "zoomIn2d",
         "zoomOut2d",
         "resetScale2d",
         "toggleSpikelines",
         "hoverCompareCartesian",
         "hoverClosestCartesian"
        ],
        "plotlyServerURL": "https://plot.ly",
        "staticPlot": false,
        "toImageButtonOptions": {
         "height": null,
         "width": null
        }
       },
       "data": [
        {
         "base": 1455177.125,
         "hoverinfo": "text",
         "hoverlabel": {
          "bgcolor": "rgba(0,0,0,0.8)"
         },
         "hovertext": [
          "Average response: 1455177.1<br>Prediction: 1677004.6<br>TAXCLASS_1 = 0.0<br>decreases average response <br>by 514103.955",
          "Average response: 1455177.1<br>Prediction: 1677004.6<br>AVTOT = 1.0<br>increases average response <br>by 426957.81",
          "Average response: 1455177.1<br>Prediction: 1677004.6<br>AVLAND2 = -0.6763<br>increases average response <br>by 176265.165",
          "Average response: 1455177.1<br>Prediction: 1677004.6<br>BLDGCL_Public use = 0.0<br>increases average response <br>by 116174.695",
          "Average response: 1455177.1<br>Prediction: 1677004.6<br>AVLAND = 1.426<br>increases average response <br>by 104212.47",
          "Average response: 1455177.1<br>Prediction: 1677004.6<br>AVTOT2 = -0.6769<br>decreases average response <br>by 99889.76",
          "Average response: 1455177.1<br>Prediction: 1677004.6<br>STORIES = -0.5314<br>decreases average response <br>by 49046.565",
          "Average response: 1455177.1<br>Prediction: 1677004.6<br>BLDAREA = 0.9734<br>increases average response <br>by 41058.05",
          "Average response: 1455177.1<br>Prediction: 1677004.6<br>LTAREA = 2.065<br>increases average response <br>by 29182.175",
          "Average response: 1455177.1<br>Prediction: 1677004.6<br>BLDFRONT = 1.568<br>increases average response <br>by 23658.775",
          "Average response: 1455177.1<br>Prediction: 1677004.6<br>TAXCLASS_4 = 1.0<br>decreases average response <br>by 19054.775",
          "Average response: 1455177.1<br>Prediction: 1677004.6<br>BLDDEPTH = 0.2764<br>decreases average response <br>by 16496.935",
          "Average response: 1455177.1<br>Prediction: 1677004.6<br>LTDEPTH = 1.023<br>increases average response <br>by 15054.06",
          "Average response: 1455177.1<br>Prediction: 1677004.6<br>loc_cluster = 0.0<br>increases average response <br>by 13800.76",
          "Average response: 1455177.1<br>Prediction: 1677004.6<br>BLDGCL_Multifamily = 0.0<br>decreases average response <br>by 8615.165",
          "Average response: 1455177.1<br>Prediction: 1677004.6<br>EXTOT = -0.9821<br>decreases average response <br>by 4454.77",
          "Average response: 1455177.1<br>Prediction: 1677004.6<br>BLDGCL_Family = 0.0<br>decreases average response <br>by 3849.325",
          "Average response: 1455177.1<br>Prediction: 1677004.6<br>TAXCLASS_2C = 0.0<br>decreases average response <br>by 3054.545",
          "Average response: 1455177.1<br>Prediction: 1677004.6<br>TAXCLASS_1A = 0.0<br>decreases average response <br>by 1941.675",
          "Average response: 1455177.1<br>Prediction: 1677004.6<br>EXLAND = -0.8811<br>decreases average response <br>by 1902.605",
          "Average response: 1455177.1<br>Prediction: 1677004.6<br>TAXCLASS_2B = 0.0<br>decreases average response <br>by 1814.31",
          "Average response: 1455177.1<br>Prediction: 1677004.6<br>EXT_No = 1.0<br>increases average response <br>by 1550.52",
          "Average response: 1455177.1<br>Prediction: 1677004.6<br>EXT_E = 0.0<br>decreases average response <br>by 1520.785",
          "Average response: 1455177.1<br>Prediction: 1677004.6<br>TAXCLASS_2A = 0.0<br>increases average response <br>by 453.72",
          "Average response: 1455177.1<br>Prediction: 1677004.6<br>LTFRONT = 2.487<br>decreases average response <br>by 296.44",
          "Average response: 1455177.1<br>Prediction: 1677004.6<br>EXT_G = 0.0<br>decreases average response <br>by 211.735",
          "Average response: 1455177.1<br>Prediction: 1677004.6<br>EXTOT2 = -0.4192<br>decreases average response <br>by 84.355",
          "Average response: 1455177.1<br>Prediction: 1677004.6<br>TAXCLASS_1C = 0.0<br>decreases average response <br>by 78.02",
          "Average response: 1455177.1<br>Prediction: 1677004.6<br>EXCD1_2172.0 = 0.0<br>decreases average response <br>by 67.17",
          "Average response: 1455177.1<br>Prediction: 1677004.6<br>EXCD1_1017.0 = 0.0<br>decreases average response <br>by 64.155",
          "Average response: 1455177.1<br>Prediction: 1677004.6<br>TAXCLASS_2 = 0.0<br>increases average response <br>by 53.09",
          "Average response: 1455177.1<br>Prediction: 1677004.6<br>EXCD2_No = 1.0<br>decreases average response <br>by 19.68",
          "Average response: 1455177.1<br>Prediction: 1677004.6<br>EXCD1_No = 1.0<br>decreases average response <br>by 13.425",
          "Average response: 1455177.1<br>Prediction: 1677004.6<br>EXCD2_1017.0 = 0.0<br>decreases average response <br>by 3.71",
          "Average response: 1455177.1<br>Prediction: 1677004.6<br>EXCD1_1015.0 = 0.0<br>decreases average response <br>by 2.565",
          "Average response: 1455177.1<br>Prediction: 1677004.6<br>EXCD1_1101.0 = 0.0<br>decreases average response <br>by 2.545",
          "Average response: 1455177.1<br>Prediction: 1677004.6<br>EXCD1_2261.0 = 0.0<br>decreases average response <br>by 2.4",
          "Average response: 1455177.1<br>Prediction: 1677004.6<br>EXCD2_1015.0 = 0.0<br>decreases average response <br>by 2.0",
          "Average response: 1455177.1<br>Prediction: 1677004.6<br>EXMPTCL = 0.0<br>decreases average response <br>by 0.42",
          "Average response: 1455177.1<br>Prediction: 1677004.6<br>EXCD1_1021.0 = 0.0<br>decreases average response <br>by 0.0",
          "Average response: 1455177.1<br>Prediction: 1677004.6<br>EXCD1_1022.0 = 0.0<br>decreases average response <br>by 0.0"
         ],
         "marker": {
          "color": [
           "#f05a71",
           "#8bdcbe",
           "#8bdcbe",
           "#8bdcbe",
           "#8bdcbe",
           "#f05a71",
           "#f05a71",
           "#8bdcbe",
           "#8bdcbe",
           "#8bdcbe",
           "#f05a71",
           "#f05a71",
           "#8bdcbe",
           "#8bdcbe",
           "#f05a71",
           "#f05a71",
           "#f05a71",
           "#f05a71",
           "#f05a71",
           "#f05a71",
           "#f05a71",
           "#8bdcbe",
           "#f05a71",
           "#8bdcbe",
           "#f05a71",
           "#f05a71",
           "#f05a71",
           "#f05a71",
           "#f05a71",
           "#f05a71",
           "#8bdcbe",
           "#f05a71",
           "#f05a71",
           "#f05a71",
           "#f05a71",
           "#f05a71",
           "#f05a71",
           "#f05a71",
           "#f05a71",
           "#371ea3",
           "#371ea3"
          ]
         },
         "orientation": "h",
         "showlegend": false,
         "text": [
          "-514103.955",
          "+426957.81",
          "+176265.165",
          "+116174.695",
          "+104212.47",
          "-99889.76",
          "-49046.565",
          "+41058.05",
          "+29182.175",
          "+23658.775",
          "-19054.775",
          "-16496.935",
          "+15054.06",
          "+13800.76",
          "-8615.165",
          "-4454.77",
          "-3849.325",
          "-3054.545",
          "-1941.675",
          "-1902.605",
          "-1814.31",
          "+1550.52",
          "-1520.785",
          "+453.72",
          "-296.44",
          "-211.735",
          "-84.355",
          "-78.02",
          "-67.17",
          "-64.155",
          "+53.09",
          "-19.68",
          "-13.425",
          "-3.71",
          "-2.565",
          "-2.545",
          "-2.4",
          "-2.0",
          "-0.42",
          "0.0",
          "0.0"
         ],
         "textposition": "outside",
         "type": "bar",
         "x": [
          -514103.955,
          426957.81,
          176265.165,
          116174.695,
          104212.47,
          -99889.76,
          -49046.565,
          41058.05,
          29182.175,
          23658.775,
          -19054.775,
          -16496.935,
          15054.06,
          13800.76,
          -8615.165,
          -4454.77,
          -3849.325,
          -3054.545,
          -1941.675,
          -1902.605,
          -1814.31,
          1550.52,
          -1520.785,
          453.72,
          -296.44,
          -211.735,
          -84.355,
          -78.02,
          -67.17,
          -64.155,
          53.09,
          -19.68,
          -13.425,
          -3.71,
          -2.565,
          -2.545,
          -2.4,
          -2,
          -0.42,
          0,
          0
         ],
         "xaxis": "x",
         "y": [
          "TAXCLASS_1 = 0.0",
          "AVTOT = 1.0",
          "AVLAND2 = -0.6763",
          "BLDGCL_Public use = 0.0",
          "AVLAND = 1.426",
          "AVTOT2 = -0.6769",
          "STORIES = -0.5314",
          "BLDAREA = 0.9734",
          "LTAREA = 2.065",
          "BLDFRONT = 1.568",
          "TAXCLASS_4 = 1.0",
          "BLDDEPTH = 0.2764",
          "LTDEPTH = 1.023",
          "loc_cluster = 0.0",
          "BLDGCL_Multifamily = 0.0",
          "EXTOT = -0.9821",
          "BLDGCL_Family = 0.0",
          "TAXCLASS_2C = 0.0",
          "TAXCLASS_1A = 0.0",
          "EXLAND = -0.8811",
          "TAXCLASS_2B = 0.0",
          "EXT_No = 1.0",
          "EXT_E = 0.0",
          "TAXCLASS_2A = 0.0",
          "LTFRONT = 2.487",
          "EXT_G = 0.0",
          "EXTOT2 = -0.4192",
          "TAXCLASS_1C = 0.0",
          "EXCD1_2172.0 = 0.0",
          "EXCD1_1017.0 = 0.0",
          "TAXCLASS_2 = 0.0",
          "EXCD2_No = 1.0",
          "EXCD1_No = 1.0",
          "EXCD2_1017.0 = 0.0",
          "EXCD1_1015.0 = 0.0",
          "EXCD1_1101.0 = 0.0",
          "EXCD1_2261.0 = 0.0",
          "EXCD2_1015.0 = 0.0",
          "EXMPTCL = 0.0",
          "EXCD1_1021.0 = 0.0",
          "EXCD1_1022.0 = 0.0"
         ],
         "yaxis": "y"
        }
       ],
       "layout": {
        "annotations": [
         {
          "font": {
           "size": 16
          },
          "showarrow": false,
          "text": "XGBRFRegressor",
          "x": 0.5,
          "xanchor": "center",
          "xref": "paper",
          "y": 1,
          "yanchor": "bottom",
          "yref": "paper"
         },
         {
          "font": {
           "size": 16
          },
          "showarrow": false,
          "text": "contribution",
          "x": 0.5,
          "xanchor": "center",
          "xref": "paper",
          "y": 0,
          "yanchor": "top",
          "yref": "paper",
          "yshift": -30
         }
        ],
        "font": {
         "color": "#371ea3"
        },
        "height": 973,
        "margin": {
         "b": 71,
         "r": 30,
         "t": 78
        },
        "shapes": [
         {
          "line": {
           "color": "#371ea3",
           "dash": "dot",
           "width": 1.5
          },
          "type": "line",
          "x0": 1455177.125,
          "x1": 1455177.125,
          "xref": "x",
          "y0": -1,
          "y1": 41,
          "yref": "y"
         }
        ],
        "template": {
         "data": {
          "scatter": [
           {
            "type": "scatter"
           }
          ]
         }
        },
        "title": {
         "text": "Shapley Values",
         "x": 0.15
        },
        "xaxis": {
         "anchor": "y",
         "automargin": true,
         "domain": [
          0,
          1
         ],
         "fixedrange": true,
         "gridwidth": 2,
         "range": [
          799913.90525,
          2023294.1997500001
         ],
         "tickcolor": "white",
         "ticklen": 3,
         "ticks": "outside",
         "type": "linear",
         "zeroline": false
        },
        "yaxis": {
         "anchor": "x",
         "automargin": true,
         "autorange": "reversed",
         "domain": [
          0,
          1
         ],
         "fixedrange": true,
         "gridwidth": 2,
         "tickcolor": "white",
         "ticklen": 10,
         "ticks": "outside",
         "type": "category"
        }
       }
      },
      "text/html": [
       "<div>                            <div id=\"6e90cc6b-953b-4013-baa8-9b08170ae5cf\" class=\"plotly-graph-div\" style=\"height:973.0px; width:100%;\"></div>            <script type=\"text/javascript\">                require([\"plotly\"], function(Plotly) {                    window.PLOTLYENV=window.PLOTLYENV || {};                                    if (document.getElementById(\"6e90cc6b-953b-4013-baa8-9b08170ae5cf\")) {                    Plotly.newPlot(                        \"6e90cc6b-953b-4013-baa8-9b08170ae5cf\",                        [{\"base\":1455177.125,\"hoverinfo\":\"text\",\"hoverlabel\":{\"bgcolor\":\"rgba(0,0,0,0.8)\"},\"hovertext\":[\"Average response: 1455177.1<br>Prediction: 1677004.6<br>TAXCLASS_1 = 0.0<br>decreases average response <br>by 514103.955\",\"Average response: 1455177.1<br>Prediction: 1677004.6<br>AVTOT = 1.0<br>increases average response <br>by 426957.81\",\"Average response: 1455177.1<br>Prediction: 1677004.6<br>AVLAND2 = -0.6763<br>increases average response <br>by 176265.165\",\"Average response: 1455177.1<br>Prediction: 1677004.6<br>BLDGCL_Public use = 0.0<br>increases average response <br>by 116174.695\",\"Average response: 1455177.1<br>Prediction: 1677004.6<br>AVLAND = 1.426<br>increases average response <br>by 104212.47\",\"Average response: 1455177.1<br>Prediction: 1677004.6<br>AVTOT2 = -0.6769<br>decreases average response <br>by 99889.76\",\"Average response: 1455177.1<br>Prediction: 1677004.6<br>STORIES = -0.5314<br>decreases average response <br>by 49046.565\",\"Average response: 1455177.1<br>Prediction: 1677004.6<br>BLDAREA = 0.9734<br>increases average response <br>by 41058.05\",\"Average response: 1455177.1<br>Prediction: 1677004.6<br>LTAREA = 2.065<br>increases average response <br>by 29182.175\",\"Average response: 1455177.1<br>Prediction: 1677004.6<br>BLDFRONT = 1.568<br>increases average response <br>by 23658.775\",\"Average response: 1455177.1<br>Prediction: 1677004.6<br>TAXCLASS_4 = 1.0<br>decreases average response <br>by 19054.775\",\"Average response: 1455177.1<br>Prediction: 1677004.6<br>BLDDEPTH = 0.2764<br>decreases average response <br>by 16496.935\",\"Average response: 1455177.1<br>Prediction: 1677004.6<br>LTDEPTH = 1.023<br>increases average response <br>by 15054.06\",\"Average response: 1455177.1<br>Prediction: 1677004.6<br>loc_cluster = 0.0<br>increases average response <br>by 13800.76\",\"Average response: 1455177.1<br>Prediction: 1677004.6<br>BLDGCL_Multifamily = 0.0<br>decreases average response <br>by 8615.165\",\"Average response: 1455177.1<br>Prediction: 1677004.6<br>EXTOT = -0.9821<br>decreases average response <br>by 4454.77\",\"Average response: 1455177.1<br>Prediction: 1677004.6<br>BLDGCL_Family = 0.0<br>decreases average response <br>by 3849.325\",\"Average response: 1455177.1<br>Prediction: 1677004.6<br>TAXCLASS_2C = 0.0<br>decreases average response <br>by 3054.545\",\"Average response: 1455177.1<br>Prediction: 1677004.6<br>TAXCLASS_1A = 0.0<br>decreases average response <br>by 1941.675\",\"Average response: 1455177.1<br>Prediction: 1677004.6<br>EXLAND = -0.8811<br>decreases average response <br>by 1902.605\",\"Average response: 1455177.1<br>Prediction: 1677004.6<br>TAXCLASS_2B = 0.0<br>decreases average response <br>by 1814.31\",\"Average response: 1455177.1<br>Prediction: 1677004.6<br>EXT_No = 1.0<br>increases average response <br>by 1550.52\",\"Average response: 1455177.1<br>Prediction: 1677004.6<br>EXT_E = 0.0<br>decreases average response <br>by 1520.785\",\"Average response: 1455177.1<br>Prediction: 1677004.6<br>TAXCLASS_2A = 0.0<br>increases average response <br>by 453.72\",\"Average response: 1455177.1<br>Prediction: 1677004.6<br>LTFRONT = 2.487<br>decreases average response <br>by 296.44\",\"Average response: 1455177.1<br>Prediction: 1677004.6<br>EXT_G = 0.0<br>decreases average response <br>by 211.735\",\"Average response: 1455177.1<br>Prediction: 1677004.6<br>EXTOT2 = -0.4192<br>decreases average response <br>by 84.355\",\"Average response: 1455177.1<br>Prediction: 1677004.6<br>TAXCLASS_1C = 0.0<br>decreases average response <br>by 78.02\",\"Average response: 1455177.1<br>Prediction: 1677004.6<br>EXCD1_2172.0 = 0.0<br>decreases average response <br>by 67.17\",\"Average response: 1455177.1<br>Prediction: 1677004.6<br>EXCD1_1017.0 = 0.0<br>decreases average response <br>by 64.155\",\"Average response: 1455177.1<br>Prediction: 1677004.6<br>TAXCLASS_2 = 0.0<br>increases average response <br>by 53.09\",\"Average response: 1455177.1<br>Prediction: 1677004.6<br>EXCD2_No = 1.0<br>decreases average response <br>by 19.68\",\"Average response: 1455177.1<br>Prediction: 1677004.6<br>EXCD1_No = 1.0<br>decreases average response <br>by 13.425\",\"Average response: 1455177.1<br>Prediction: 1677004.6<br>EXCD2_1017.0 = 0.0<br>decreases average response <br>by 3.71\",\"Average response: 1455177.1<br>Prediction: 1677004.6<br>EXCD1_1015.0 = 0.0<br>decreases average response <br>by 2.565\",\"Average response: 1455177.1<br>Prediction: 1677004.6<br>EXCD1_1101.0 = 0.0<br>decreases average response <br>by 2.545\",\"Average response: 1455177.1<br>Prediction: 1677004.6<br>EXCD1_2261.0 = 0.0<br>decreases average response <br>by 2.4\",\"Average response: 1455177.1<br>Prediction: 1677004.6<br>EXCD2_1015.0 = 0.0<br>decreases average response <br>by 2.0\",\"Average response: 1455177.1<br>Prediction: 1677004.6<br>EXMPTCL = 0.0<br>decreases average response <br>by 0.42\",\"Average response: 1455177.1<br>Prediction: 1677004.6<br>EXCD1_1021.0 = 0.0<br>decreases average response <br>by 0.0\",\"Average response: 1455177.1<br>Prediction: 1677004.6<br>EXCD1_1022.0 = 0.0<br>decreases average response <br>by 0.0\"],\"marker\":{\"color\":[\"#f05a71\",\"#8bdcbe\",\"#8bdcbe\",\"#8bdcbe\",\"#8bdcbe\",\"#f05a71\",\"#f05a71\",\"#8bdcbe\",\"#8bdcbe\",\"#8bdcbe\",\"#f05a71\",\"#f05a71\",\"#8bdcbe\",\"#8bdcbe\",\"#f05a71\",\"#f05a71\",\"#f05a71\",\"#f05a71\",\"#f05a71\",\"#f05a71\",\"#f05a71\",\"#8bdcbe\",\"#f05a71\",\"#8bdcbe\",\"#f05a71\",\"#f05a71\",\"#f05a71\",\"#f05a71\",\"#f05a71\",\"#f05a71\",\"#8bdcbe\",\"#f05a71\",\"#f05a71\",\"#f05a71\",\"#f05a71\",\"#f05a71\",\"#f05a71\",\"#f05a71\",\"#f05a71\",\"#371ea3\",\"#371ea3\"]},\"orientation\":\"h\",\"showlegend\":false,\"text\":[\"-514103.955\",\"+426957.81\",\"+176265.165\",\"+116174.695\",\"+104212.47\",\"-99889.76\",\"-49046.565\",\"+41058.05\",\"+29182.175\",\"+23658.775\",\"-19054.775\",\"-16496.935\",\"+15054.06\",\"+13800.76\",\"-8615.165\",\"-4454.77\",\"-3849.325\",\"-3054.545\",\"-1941.675\",\"-1902.605\",\"-1814.31\",\"+1550.52\",\"-1520.785\",\"+453.72\",\"-296.44\",\"-211.735\",\"-84.355\",\"-78.02\",\"-67.17\",\"-64.155\",\"+53.09\",\"-19.68\",\"-13.425\",\"-3.71\",\"-2.565\",\"-2.545\",\"-2.4\",\"-2.0\",\"-0.42\",\"0.0\",\"0.0\"],\"textposition\":\"outside\",\"x\":[-514103.955,426957.81,176265.165,116174.695,104212.47,-99889.76,-49046.565,41058.05,29182.175,23658.775,-19054.775,-16496.935,15054.06,13800.76,-8615.165,-4454.77,-3849.325,-3054.545,-1941.675,-1902.605,-1814.31,1550.52,-1520.785,453.72,-296.44,-211.735,-84.355,-78.02,-67.17,-64.155,53.09,-19.68,-13.425,-3.71,-2.565,-2.545,-2.4,-2.0,-0.42,0.0,0.0],\"y\":[\"TAXCLASS_1 = 0.0\",\"AVTOT = 1.0\",\"AVLAND2 = -0.6763\",\"BLDGCL_Public use = 0.0\",\"AVLAND = 1.426\",\"AVTOT2 = -0.6769\",\"STORIES = -0.5314\",\"BLDAREA = 0.9734\",\"LTAREA = 2.065\",\"BLDFRONT = 1.568\",\"TAXCLASS_4 = 1.0\",\"BLDDEPTH = 0.2764\",\"LTDEPTH = 1.023\",\"loc_cluster = 0.0\",\"BLDGCL_Multifamily = 0.0\",\"EXTOT = -0.9821\",\"BLDGCL_Family = 0.0\",\"TAXCLASS_2C = 0.0\",\"TAXCLASS_1A = 0.0\",\"EXLAND = -0.8811\",\"TAXCLASS_2B = 0.0\",\"EXT_No = 1.0\",\"EXT_E = 0.0\",\"TAXCLASS_2A = 0.0\",\"LTFRONT = 2.487\",\"EXT_G = 0.0\",\"EXTOT2 = -0.4192\",\"TAXCLASS_1C = 0.0\",\"EXCD1_2172.0 = 0.0\",\"EXCD1_1017.0 = 0.0\",\"TAXCLASS_2 = 0.0\",\"EXCD2_No = 1.0\",\"EXCD1_No = 1.0\",\"EXCD2_1017.0 = 0.0\",\"EXCD1_1015.0 = 0.0\",\"EXCD1_1101.0 = 0.0\",\"EXCD1_2261.0 = 0.0\",\"EXCD2_1015.0 = 0.0\",\"EXMPTCL = 0.0\",\"EXCD1_1021.0 = 0.0\",\"EXCD1_1022.0 = 0.0\"],\"type\":\"bar\",\"xaxis\":\"x\",\"yaxis\":\"y\"}],                        {\"template\":{\"data\":{\"scatter\":[{\"type\":\"scatter\"}]}},\"xaxis\":{\"anchor\":\"y\",\"domain\":[0.0,1.0],\"type\":\"linear\",\"gridwidth\":2,\"zeroline\":false,\"automargin\":true,\"ticks\":\"outside\",\"tickcolor\":\"white\",\"ticklen\":3,\"fixedrange\":true,\"range\":[799913.90525,2023294.1997500001]},\"yaxis\":{\"anchor\":\"x\",\"domain\":[0.0,1.0],\"type\":\"category\",\"autorange\":\"reversed\",\"gridwidth\":2,\"automargin\":true,\"ticks\":\"outside\",\"tickcolor\":\"white\",\"ticklen\":10,\"fixedrange\":true},\"annotations\":[{\"font\":{\"size\":16},\"showarrow\":false,\"text\":\"XGBRFRegressor\",\"x\":0.5,\"xanchor\":\"center\",\"xref\":\"paper\",\"y\":1.0,\"yanchor\":\"bottom\",\"yref\":\"paper\"},{\"font\":{\"size\":16},\"showarrow\":false,\"text\":\"contribution\",\"x\":0.5,\"xanchor\":\"center\",\"xref\":\"paper\",\"y\":0,\"yanchor\":\"top\",\"yref\":\"paper\",\"yshift\":-30}],\"shapes\":[{\"line\":{\"color\":\"#371ea3\",\"dash\":\"dot\",\"width\":1.5},\"type\":\"line\",\"x0\":1455177.125,\"x1\":1455177.125,\"xref\":\"x\",\"y0\":-1,\"y1\":41,\"yref\":\"y\"}],\"title\":{\"text\":\"Shapley Values\",\"x\":0.15},\"font\":{\"color\":\"#371ea3\"},\"margin\":{\"t\":78,\"b\":71,\"r\":30},\"height\":973.0},                        {\"displaylogo\": false, \"staticPlot\": false, \"toImageButtonOptions\": {\"height\": null, \"width\": null}, \"modeBarButtonsToRemove\": [\"sendDataToCloud\", \"lasso2d\", \"autoScale2d\", \"select2d\", \"zoom2d\", \"pan2d\", \"zoomIn2d\", \"zoomOut2d\", \"resetScale2d\", \"toggleSpikelines\", \"hoverCompareCartesian\", \"hoverClosestCartesian\"], \"responsive\": true}                    ).then(function(){\n",
       "                            \n",
       "var gd = document.getElementById('6e90cc6b-953b-4013-baa8-9b08170ae5cf');\n",
       "var x = new MutationObserver(function (mutations, observer) {{\n",
       "        var display = window.getComputedStyle(gd).display;\n",
       "        if (!display || display === 'none') {{\n",
       "            console.log([gd, 'removed!']);\n",
       "            Plotly.purge(gd);\n",
       "            observer.disconnect();\n",
       "        }}\n",
       "}});\n",
       "\n",
       "// Listen for the removal of the full notebook cells\n",
       "var notebookContainer = gd.closest('#notebook-container');\n",
       "if (notebookContainer) {{\n",
       "    x.observe(notebookContainer, {childList: true});\n",
       "}}\n",
       "\n",
       "// Listen for the clearing of the current output cell\n",
       "var outputEl = gd.closest('.output');\n",
       "if (outputEl) {{\n",
       "    x.observe(outputEl, {childList: true});\n",
       "}}\n",
       "\n",
       "                        })                };                });            </script>        </div>"
      ]
     },
     "metadata": {},
     "output_type": "display_data"
    }
   ],
   "source": [
    "sh.plot(max_vars=50)"
   ]
  },
  {
   "cell_type": "code",
   "execution_count": 36,
   "metadata": {},
   "outputs": [
    {
     "data": {
      "text/plain": [
       "LTFRONT             0.205251\n",
       "LTDEPTH             0.004115\n",
       "STORIES            -2.425673\n",
       "FULLVAL        104000.000000\n",
       "AVLAND             -0.893186\n",
       "                   ...      \n",
       "TAXCLASS_2B         0.000000\n",
       "TAXCLASS_2C         0.000000\n",
       "TAXCLASS_3          0.000000\n",
       "TAXCLASS_4          0.000000\n",
       "loc_cluster         1.000000\n",
       "Name: 69, Length: 124, dtype: float64"
      ]
     },
     "execution_count": 36,
     "metadata": {},
     "output_type": "execute_result"
    }
   ],
   "source": [
    "df_test.loc[69]"
   ]
  },
  {
   "cell_type": "code",
   "execution_count": 44,
   "metadata": {},
   "outputs": [
    {
     "name": "stderr",
     "output_type": "stream",
     "text": [
      "Calculating ceteris paribus:   0%|          | 0/41 [00:00<?, ?it/s]/home/antoni/miniconda3/envs/best/lib/python3.9/site-packages/xgboost/data.py:262: FutureWarning:\n",
      "\n",
      "pandas.Int64Index is deprecated and will be removed from pandas in a future version. Use pandas.Index with the appropriate dtype instead.\n",
      "\n",
      "/home/antoni/miniconda3/envs/best/lib/python3.9/site-packages/xgboost/data.py:262: FutureWarning:\n",
      "\n",
      "pandas.Int64Index is deprecated and will be removed from pandas in a future version. Use pandas.Index with the appropriate dtype instead.\n",
      "\n",
      "/home/antoni/miniconda3/envs/best/lib/python3.9/site-packages/xgboost/data.py:262: FutureWarning:\n",
      "\n",
      "pandas.Int64Index is deprecated and will be removed from pandas in a future version. Use pandas.Index with the appropriate dtype instead.\n",
      "\n",
      "/home/antoni/miniconda3/envs/best/lib/python3.9/site-packages/xgboost/data.py:262: FutureWarning:\n",
      "\n",
      "pandas.Int64Index is deprecated and will be removed from pandas in a future version. Use pandas.Index with the appropriate dtype instead.\n",
      "\n",
      "/home/antoni/miniconda3/envs/best/lib/python3.9/site-packages/xgboost/data.py:262: FutureWarning:\n",
      "\n",
      "pandas.Int64Index is deprecated and will be removed from pandas in a future version. Use pandas.Index with the appropriate dtype instead.\n",
      "\n",
      "/home/antoni/miniconda3/envs/best/lib/python3.9/site-packages/xgboost/data.py:262: FutureWarning:\n",
      "\n",
      "pandas.Int64Index is deprecated and will be removed from pandas in a future version. Use pandas.Index with the appropriate dtype instead.\n",
      "\n",
      "Calculating ceteris paribus:  15%|█▍        | 6/41 [00:00<00:00, 55.83it/s]/home/antoni/miniconda3/envs/best/lib/python3.9/site-packages/xgboost/data.py:262: FutureWarning:\n",
      "\n",
      "pandas.Int64Index is deprecated and will be removed from pandas in a future version. Use pandas.Index with the appropriate dtype instead.\n",
      "\n",
      "/home/antoni/miniconda3/envs/best/lib/python3.9/site-packages/xgboost/data.py:262: FutureWarning:\n",
      "\n",
      "pandas.Int64Index is deprecated and will be removed from pandas in a future version. Use pandas.Index with the appropriate dtype instead.\n",
      "\n",
      "/home/antoni/miniconda3/envs/best/lib/python3.9/site-packages/xgboost/data.py:262: FutureWarning:\n",
      "\n",
      "pandas.Int64Index is deprecated and will be removed from pandas in a future version. Use pandas.Index with the appropriate dtype instead.\n",
      "\n",
      "/home/antoni/miniconda3/envs/best/lib/python3.9/site-packages/xgboost/data.py:262: FutureWarning:\n",
      "\n",
      "pandas.Int64Index is deprecated and will be removed from pandas in a future version. Use pandas.Index with the appropriate dtype instead.\n",
      "\n",
      "/home/antoni/miniconda3/envs/best/lib/python3.9/site-packages/xgboost/data.py:262: FutureWarning:\n",
      "\n",
      "pandas.Int64Index is deprecated and will be removed from pandas in a future version. Use pandas.Index with the appropriate dtype instead.\n",
      "\n",
      "/home/antoni/miniconda3/envs/best/lib/python3.9/site-packages/xgboost/data.py:262: FutureWarning:\n",
      "\n",
      "pandas.Int64Index is deprecated and will be removed from pandas in a future version. Use pandas.Index with the appropriate dtype instead.\n",
      "\n",
      "Calculating ceteris paribus:  29%|██▉       | 12/41 [00:00<00:00, 56.24it/s]/home/antoni/miniconda3/envs/best/lib/python3.9/site-packages/xgboost/data.py:262: FutureWarning:\n",
      "\n",
      "pandas.Int64Index is deprecated and will be removed from pandas in a future version. Use pandas.Index with the appropriate dtype instead.\n",
      "\n",
      "/home/antoni/miniconda3/envs/best/lib/python3.9/site-packages/xgboost/data.py:262: FutureWarning:\n",
      "\n",
      "pandas.Int64Index is deprecated and will be removed from pandas in a future version. Use pandas.Index with the appropriate dtype instead.\n",
      "\n",
      "/home/antoni/miniconda3/envs/best/lib/python3.9/site-packages/xgboost/data.py:262: FutureWarning:\n",
      "\n",
      "pandas.Int64Index is deprecated and will be removed from pandas in a future version. Use pandas.Index with the appropriate dtype instead.\n",
      "\n",
      "/home/antoni/miniconda3/envs/best/lib/python3.9/site-packages/xgboost/data.py:262: FutureWarning:\n",
      "\n",
      "pandas.Int64Index is deprecated and will be removed from pandas in a future version. Use pandas.Index with the appropriate dtype instead.\n",
      "\n",
      "/home/antoni/miniconda3/envs/best/lib/python3.9/site-packages/xgboost/data.py:262: FutureWarning:\n",
      "\n",
      "pandas.Int64Index is deprecated and will be removed from pandas in a future version. Use pandas.Index with the appropriate dtype instead.\n",
      "\n",
      "/home/antoni/miniconda3/envs/best/lib/python3.9/site-packages/xgboost/data.py:262: FutureWarning:\n",
      "\n",
      "pandas.Int64Index is deprecated and will be removed from pandas in a future version. Use pandas.Index with the appropriate dtype instead.\n",
      "\n",
      "Calculating ceteris paribus:  44%|████▍     | 18/41 [00:00<00:00, 44.14it/s]/home/antoni/miniconda3/envs/best/lib/python3.9/site-packages/xgboost/data.py:262: FutureWarning:\n",
      "\n",
      "pandas.Int64Index is deprecated and will be removed from pandas in a future version. Use pandas.Index with the appropriate dtype instead.\n",
      "\n",
      "/home/antoni/miniconda3/envs/best/lib/python3.9/site-packages/xgboost/data.py:262: FutureWarning:\n",
      "\n",
      "pandas.Int64Index is deprecated and will be removed from pandas in a future version. Use pandas.Index with the appropriate dtype instead.\n",
      "\n",
      "/home/antoni/miniconda3/envs/best/lib/python3.9/site-packages/xgboost/data.py:262: FutureWarning:\n",
      "\n",
      "pandas.Int64Index is deprecated and will be removed from pandas in a future version. Use pandas.Index with the appropriate dtype instead.\n",
      "\n",
      "/home/antoni/miniconda3/envs/best/lib/python3.9/site-packages/xgboost/data.py:262: FutureWarning:\n",
      "\n",
      "pandas.Int64Index is deprecated and will be removed from pandas in a future version. Use pandas.Index with the appropriate dtype instead.\n",
      "\n",
      "/home/antoni/miniconda3/envs/best/lib/python3.9/site-packages/xgboost/data.py:262: FutureWarning:\n",
      "\n",
      "pandas.Int64Index is deprecated and will be removed from pandas in a future version. Use pandas.Index with the appropriate dtype instead.\n",
      "\n",
      "Calculating ceteris paribus:  56%|█████▌    | 23/41 [00:00<00:00, 43.96it/s]/home/antoni/miniconda3/envs/best/lib/python3.9/site-packages/xgboost/data.py:262: FutureWarning:\n",
      "\n",
      "pandas.Int64Index is deprecated and will be removed from pandas in a future version. Use pandas.Index with the appropriate dtype instead.\n",
      "\n",
      "/home/antoni/miniconda3/envs/best/lib/python3.9/site-packages/xgboost/data.py:262: FutureWarning:\n",
      "\n",
      "pandas.Int64Index is deprecated and will be removed from pandas in a future version. Use pandas.Index with the appropriate dtype instead.\n",
      "\n",
      "/home/antoni/miniconda3/envs/best/lib/python3.9/site-packages/xgboost/data.py:262: FutureWarning:\n",
      "\n",
      "pandas.Int64Index is deprecated and will be removed from pandas in a future version. Use pandas.Index with the appropriate dtype instead.\n",
      "\n",
      "/home/antoni/miniconda3/envs/best/lib/python3.9/site-packages/xgboost/data.py:262: FutureWarning:\n",
      "\n",
      "pandas.Int64Index is deprecated and will be removed from pandas in a future version. Use pandas.Index with the appropriate dtype instead.\n",
      "\n",
      "/home/antoni/miniconda3/envs/best/lib/python3.9/site-packages/xgboost/data.py:262: FutureWarning:\n",
      "\n",
      "pandas.Int64Index is deprecated and will be removed from pandas in a future version. Use pandas.Index with the appropriate dtype instead.\n",
      "\n",
      "Calculating ceteris paribus:  68%|██████▊   | 28/41 [00:00<00:00, 44.20it/s]/home/antoni/miniconda3/envs/best/lib/python3.9/site-packages/xgboost/data.py:262: FutureWarning:\n",
      "\n",
      "pandas.Int64Index is deprecated and will be removed from pandas in a future version. Use pandas.Index with the appropriate dtype instead.\n",
      "\n",
      "/home/antoni/miniconda3/envs/best/lib/python3.9/site-packages/xgboost/data.py:262: FutureWarning:\n",
      "\n",
      "pandas.Int64Index is deprecated and will be removed from pandas in a future version. Use pandas.Index with the appropriate dtype instead.\n",
      "\n",
      "/home/antoni/miniconda3/envs/best/lib/python3.9/site-packages/xgboost/data.py:262: FutureWarning:\n",
      "\n",
      "pandas.Int64Index is deprecated and will be removed from pandas in a future version. Use pandas.Index with the appropriate dtype instead.\n",
      "\n",
      "/home/antoni/miniconda3/envs/best/lib/python3.9/site-packages/xgboost/data.py:262: FutureWarning:\n",
      "\n",
      "pandas.Int64Index is deprecated and will be removed from pandas in a future version. Use pandas.Index with the appropriate dtype instead.\n",
      "\n",
      "/home/antoni/miniconda3/envs/best/lib/python3.9/site-packages/xgboost/data.py:262: FutureWarning:\n",
      "\n",
      "pandas.Int64Index is deprecated and will be removed from pandas in a future version. Use pandas.Index with the appropriate dtype instead.\n",
      "\n",
      "Calculating ceteris paribus:  80%|████████  | 33/41 [00:00<00:00, 43.15it/s]/home/antoni/miniconda3/envs/best/lib/python3.9/site-packages/xgboost/data.py:262: FutureWarning:\n",
      "\n",
      "pandas.Int64Index is deprecated and will be removed from pandas in a future version. Use pandas.Index with the appropriate dtype instead.\n",
      "\n",
      "/home/antoni/miniconda3/envs/best/lib/python3.9/site-packages/xgboost/data.py:262: FutureWarning:\n",
      "\n",
      "pandas.Int64Index is deprecated and will be removed from pandas in a future version. Use pandas.Index with the appropriate dtype instead.\n",
      "\n",
      "/home/antoni/miniconda3/envs/best/lib/python3.9/site-packages/xgboost/data.py:262: FutureWarning:\n",
      "\n",
      "pandas.Int64Index is deprecated and will be removed from pandas in a future version. Use pandas.Index with the appropriate dtype instead.\n",
      "\n",
      "/home/antoni/miniconda3/envs/best/lib/python3.9/site-packages/xgboost/data.py:262: FutureWarning:\n",
      "\n",
      "pandas.Int64Index is deprecated and will be removed from pandas in a future version. Use pandas.Index with the appropriate dtype instead.\n",
      "\n",
      "/home/antoni/miniconda3/envs/best/lib/python3.9/site-packages/xgboost/data.py:262: FutureWarning:\n",
      "\n",
      "pandas.Int64Index is deprecated and will be removed from pandas in a future version. Use pandas.Index with the appropriate dtype instead.\n",
      "\n",
      "Calculating ceteris paribus:  93%|█████████▎| 38/41 [00:00<00:00, 39.55it/s]/home/antoni/miniconda3/envs/best/lib/python3.9/site-packages/xgboost/data.py:262: FutureWarning:\n",
      "\n",
      "pandas.Int64Index is deprecated and will be removed from pandas in a future version. Use pandas.Index with the appropriate dtype instead.\n",
      "\n",
      "/home/antoni/miniconda3/envs/best/lib/python3.9/site-packages/xgboost/data.py:262: FutureWarning:\n",
      "\n",
      "pandas.Int64Index is deprecated and will be removed from pandas in a future version. Use pandas.Index with the appropriate dtype instead.\n",
      "\n",
      "/home/antoni/miniconda3/envs/best/lib/python3.9/site-packages/xgboost/data.py:262: FutureWarning:\n",
      "\n",
      "pandas.Int64Index is deprecated and will be removed from pandas in a future version. Use pandas.Index with the appropriate dtype instead.\n",
      "\n",
      "Calculating ceteris paribus: 100%|██████████| 41/41 [00:01<00:00, 39.26it/s]\n",
      "/home/antoni/miniconda3/envs/best/lib/python3.9/site-packages/xgboost/data.py:262: FutureWarning:\n",
      "\n",
      "pandas.Int64Index is deprecated and will be removed from pandas in a future version. Use pandas.Index with the appropriate dtype instead.\n",
      "\n",
      "/home/antoni/miniconda3/envs/best/lib/python3.9/site-packages/dalex/predict_explanations/_ceteris_paribus/object.py:221: UserWarning:\n",
      "\n",
      "'show_observations' parameter changed to False,because the 'variable_splits_with_obs' attribute is FalseSee `variable_splits_with_obs` parameter in `predict_profile`.\n",
      "\n"
     ]
    },
    {
     "data": {
      "application/vnd.plotly.v1+json": {
       "config": {
        "displaylogo": false,
        "modeBarButtonsToRemove": [
         "sendDataToCloud",
         "lasso2d",
         "autoScale2d",
         "select2d",
         "zoom2d",
         "pan2d",
         "zoomIn2d",
         "zoomOut2d",
         "resetScale2d",
         "toggleSpikelines",
         "hoverCompareCartesian",
         "hoverClosestCartesian"
        ],
        "plotlyServerURL": "https://plot.ly",
        "staticPlot": false,
        "toImageButtonOptions": {
         "height": null,
         "width": null
        }
       },
       "data": [
        {
         "customdata": [
          [
           "</br>id: 69</br>prediction: 301794.438</br>AVLAND: -3.4131768595900747</br></br>LTFRONT: 0.2052506401893017</br>LTDEPTH: 0.0041150840808124</br>STORIES: -2.4256728086552424</br>AVTOT: -1.409987515485199</br>EXLAND: -0.8811002224994066</br>EXTOT: -0.9821209155989064</br>EXMPTCL: 0.0</br>BLDFRONT: -1.4752961362039547</br>BLDDEPTH: -1.5117416694640489</br>AVLAND2: -0.6763157372913495</br>AVTOT2: -0.6769214045938811</br>EXTOT2: -0.4192279477359309</br>BLDAREA: -1.4931117864269552</br>LTAREA: 0.0986332022265756</br>... too many variables"
          ],
          [
           "</br>id: 69</br>prediction: 301794.438</br>AVLAND: -3.302839409463379</br></br>LTFRONT: 0.2052506401893017</br>LTDEPTH: 0.0041150840808124</br>STORIES: -2.4256728086552424</br>AVTOT: -1.409987515485199</br>EXLAND: -0.8811002224994066</br>EXTOT: -0.9821209155989064</br>EXMPTCL: 0.0</br>BLDFRONT: -1.4752961362039547</br>BLDDEPTH: -1.5117416694640489</br>AVLAND2: -0.6763157372913495</br>AVTOT2: -0.6769214045938811</br>EXTOT2: -0.4192279477359309</br>BLDAREA: -1.4931117864269552</br>LTAREA: 0.0986332022265756</br>... too many variables"
          ],
          [
           "</br>id: 69</br>prediction: 301794.438</br>AVLAND: -3.192501959336683</br></br>LTFRONT: 0.2052506401893017</br>LTDEPTH: 0.0041150840808124</br>STORIES: -2.4256728086552424</br>AVTOT: -1.409987515485199</br>EXLAND: -0.8811002224994066</br>EXTOT: -0.9821209155989064</br>EXMPTCL: 0.0</br>BLDFRONT: -1.4752961362039547</br>BLDDEPTH: -1.5117416694640489</br>AVLAND2: -0.6763157372913495</br>AVTOT2: -0.6769214045938811</br>EXTOT2: -0.4192279477359309</br>BLDAREA: -1.4931117864269552</br>LTAREA: 0.0986332022265756</br>... too many variables"
          ],
          [
           "</br>id: 69</br>prediction: 302173.125</br>AVLAND: -3.0821645092099876</br></br>LTFRONT: 0.2052506401893017</br>LTDEPTH: 0.0041150840808124</br>STORIES: -2.4256728086552424</br>AVTOT: -1.409987515485199</br>EXLAND: -0.8811002224994066</br>EXTOT: -0.9821209155989064</br>EXMPTCL: 0.0</br>BLDFRONT: -1.4752961362039547</br>BLDDEPTH: -1.5117416694640489</br>AVLAND2: -0.6763157372913495</br>AVTOT2: -0.6769214045938811</br>EXTOT2: -0.4192279477359309</br>BLDAREA: -1.4931117864269552</br>LTAREA: 0.0986332022265756</br>... too many variables"
          ],
          [
           "</br>id: 69</br>prediction: 302173.125</br>AVLAND: -2.971827059083292</br></br>LTFRONT: 0.2052506401893017</br>LTDEPTH: 0.0041150840808124</br>STORIES: -2.4256728086552424</br>AVTOT: -1.409987515485199</br>EXLAND: -0.8811002224994066</br>EXTOT: -0.9821209155989064</br>EXMPTCL: 0.0</br>BLDFRONT: -1.4752961362039547</br>BLDDEPTH: -1.5117416694640489</br>AVLAND2: -0.6763157372913495</br>AVTOT2: -0.6769214045938811</br>EXTOT2: -0.4192279477359309</br>BLDAREA: -1.4931117864269552</br>LTAREA: 0.0986332022265756</br>... too many variables"
          ],
          [
           "</br>id: 69</br>prediction: 302173.125</br>AVLAND: -2.861489608956596</br></br>LTFRONT: 0.2052506401893017</br>LTDEPTH: 0.0041150840808124</br>STORIES: -2.4256728086552424</br>AVTOT: -1.409987515485199</br>EXLAND: -0.8811002224994066</br>EXTOT: -0.9821209155989064</br>EXMPTCL: 0.0</br>BLDFRONT: -1.4752961362039547</br>BLDDEPTH: -1.5117416694640489</br>AVLAND2: -0.6763157372913495</br>AVTOT2: -0.6769214045938811</br>EXTOT2: -0.4192279477359309</br>BLDAREA: -1.4931117864269552</br>LTAREA: 0.0986332022265756</br>... too many variables"
          ],
          [
           "</br>id: 69</br>prediction: 302173.125</br>AVLAND: -2.7511521588299</br></br>LTFRONT: 0.2052506401893017</br>LTDEPTH: 0.0041150840808124</br>STORIES: -2.4256728086552424</br>AVTOT: -1.409987515485199</br>EXLAND: -0.8811002224994066</br>EXTOT: -0.9821209155989064</br>EXMPTCL: 0.0</br>BLDFRONT: -1.4752961362039547</br>BLDDEPTH: -1.5117416694640489</br>AVLAND2: -0.6763157372913495</br>AVTOT2: -0.6769214045938811</br>EXTOT2: -0.4192279477359309</br>BLDAREA: -1.4931117864269552</br>LTAREA: 0.0986332022265756</br>... too many variables"
          ],
          [
           "</br>id: 69</br>prediction: 302173.125</br>AVLAND: -2.6408147087032043</br></br>LTFRONT: 0.2052506401893017</br>LTDEPTH: 0.0041150840808124</br>STORIES: -2.4256728086552424</br>AVTOT: -1.409987515485199</br>EXLAND: -0.8811002224994066</br>EXTOT: -0.9821209155989064</br>EXMPTCL: 0.0</br>BLDFRONT: -1.4752961362039547</br>BLDDEPTH: -1.5117416694640489</br>AVLAND2: -0.6763157372913495</br>AVTOT2: -0.6769214045938811</br>EXTOT2: -0.4192279477359309</br>BLDAREA: -1.4931117864269552</br>LTAREA: 0.0986332022265756</br>... too many variables"
          ],
          [
           "</br>id: 69</br>prediction: 302173.125</br>AVLAND: -2.5304772585765085</br></br>LTFRONT: 0.2052506401893017</br>LTDEPTH: 0.0041150840808124</br>STORIES: -2.4256728086552424</br>AVTOT: -1.409987515485199</br>EXLAND: -0.8811002224994066</br>EXTOT: -0.9821209155989064</br>EXMPTCL: 0.0</br>BLDFRONT: -1.4752961362039547</br>BLDDEPTH: -1.5117416694640489</br>AVLAND2: -0.6763157372913495</br>AVTOT2: -0.6769214045938811</br>EXTOT2: -0.4192279477359309</br>BLDAREA: -1.4931117864269552</br>LTAREA: 0.0986332022265756</br>... too many variables"
          ],
          [
           "</br>id: 69</br>prediction: 302173.125</br>AVLAND: -2.4201398084498127</br></br>LTFRONT: 0.2052506401893017</br>LTDEPTH: 0.0041150840808124</br>STORIES: -2.4256728086552424</br>AVTOT: -1.409987515485199</br>EXLAND: -0.8811002224994066</br>EXTOT: -0.9821209155989064</br>EXMPTCL: 0.0</br>BLDFRONT: -1.4752961362039547</br>BLDDEPTH: -1.5117416694640489</br>AVLAND2: -0.6763157372913495</br>AVTOT2: -0.6769214045938811</br>EXTOT2: -0.4192279477359309</br>BLDAREA: -1.4931117864269552</br>LTAREA: 0.0986332022265756</br>... too many variables"
          ],
          [
           "</br>id: 69</br>prediction: 302173.125</br>AVLAND: -2.3098023583231173</br></br>LTFRONT: 0.2052506401893017</br>LTDEPTH: 0.0041150840808124</br>STORIES: -2.4256728086552424</br>AVTOT: -1.409987515485199</br>EXLAND: -0.8811002224994066</br>EXTOT: -0.9821209155989064</br>EXMPTCL: 0.0</br>BLDFRONT: -1.4752961362039547</br>BLDDEPTH: -1.5117416694640489</br>AVLAND2: -0.6763157372913495</br>AVTOT2: -0.6769214045938811</br>EXTOT2: -0.4192279477359309</br>BLDAREA: -1.4931117864269552</br>LTAREA: 0.0986332022265756</br>... too many variables"
          ],
          [
           "</br>id: 69</br>prediction: 302173.125</br>AVLAND: -2.199464908196421</br></br>LTFRONT: 0.2052506401893017</br>LTDEPTH: 0.0041150840808124</br>STORIES: -2.4256728086552424</br>AVTOT: -1.409987515485199</br>EXLAND: -0.8811002224994066</br>EXTOT: -0.9821209155989064</br>EXMPTCL: 0.0</br>BLDFRONT: -1.4752961362039547</br>BLDDEPTH: -1.5117416694640489</br>AVLAND2: -0.6763157372913495</br>AVTOT2: -0.6769214045938811</br>EXTOT2: -0.4192279477359309</br>BLDAREA: -1.4931117864269552</br>LTAREA: 0.0986332022265756</br>... too many variables"
          ],
          [
           "</br>id: 69</br>prediction: 302173.125</br>AVLAND: -2.0891274580697257</br></br>LTFRONT: 0.2052506401893017</br>LTDEPTH: 0.0041150840808124</br>STORIES: -2.4256728086552424</br>AVTOT: -1.409987515485199</br>EXLAND: -0.8811002224994066</br>EXTOT: -0.9821209155989064</br>EXMPTCL: 0.0</br>BLDFRONT: -1.4752961362039547</br>BLDDEPTH: -1.5117416694640489</br>AVLAND2: -0.6763157372913495</br>AVTOT2: -0.6769214045938811</br>EXTOT2: -0.4192279477359309</br>BLDAREA: -1.4931117864269552</br>LTAREA: 0.0986332022265756</br>... too many variables"
          ],
          [
           "</br>id: 69</br>prediction: 302173.125</br>AVLAND: -1.9787900079430298</br></br>LTFRONT: 0.2052506401893017</br>LTDEPTH: 0.0041150840808124</br>STORIES: -2.4256728086552424</br>AVTOT: -1.409987515485199</br>EXLAND: -0.8811002224994066</br>EXTOT: -0.9821209155989064</br>EXMPTCL: 0.0</br>BLDFRONT: -1.4752961362039547</br>BLDDEPTH: -1.5117416694640489</br>AVLAND2: -0.6763157372913495</br>AVTOT2: -0.6769214045938811</br>EXTOT2: -0.4192279477359309</br>BLDAREA: -1.4931117864269552</br>LTAREA: 0.0986332022265756</br>... too many variables"
          ],
          [
           "</br>id: 69</br>prediction: 302880.5</br>AVLAND: -1.868452557816334</br></br>LTFRONT: 0.2052506401893017</br>LTDEPTH: 0.0041150840808124</br>STORIES: -2.4256728086552424</br>AVTOT: -1.409987515485199</br>EXLAND: -0.8811002224994066</br>EXTOT: -0.9821209155989064</br>EXMPTCL: 0.0</br>BLDFRONT: -1.4752961362039547</br>BLDDEPTH: -1.5117416694640489</br>AVLAND2: -0.6763157372913495</br>AVTOT2: -0.6769214045938811</br>EXTOT2: -0.4192279477359309</br>BLDAREA: -1.4931117864269552</br>LTAREA: 0.0986332022265756</br>... too many variables"
          ],
          [
           "</br>id: 69</br>prediction: 303108.938</br>AVLAND: -1.7581151076896384</br></br>LTFRONT: 0.2052506401893017</br>LTDEPTH: 0.0041150840808124</br>STORIES: -2.4256728086552424</br>AVTOT: -1.409987515485199</br>EXLAND: -0.8811002224994066</br>EXTOT: -0.9821209155989064</br>EXMPTCL: 0.0</br>BLDFRONT: -1.4752961362039547</br>BLDDEPTH: -1.5117416694640489</br>AVLAND2: -0.6763157372913495</br>AVTOT2: -0.6769214045938811</br>EXTOT2: -0.4192279477359309</br>BLDAREA: -1.4931117864269552</br>LTAREA: 0.0986332022265756</br>... too many variables"
          ],
          [
           "</br>id: 69</br>prediction: 303942.875</br>AVLAND: -1.6477776575629426</br></br>LTFRONT: 0.2052506401893017</br>LTDEPTH: 0.0041150840808124</br>STORIES: -2.4256728086552424</br>AVTOT: -1.409987515485199</br>EXLAND: -0.8811002224994066</br>EXTOT: -0.9821209155989064</br>EXMPTCL: 0.0</br>BLDFRONT: -1.4752961362039547</br>BLDDEPTH: -1.5117416694640489</br>AVLAND2: -0.6763157372913495</br>AVTOT2: -0.6769214045938811</br>EXTOT2: -0.4192279477359309</br>BLDAREA: -1.4931117864269552</br>LTAREA: 0.0986332022265756</br>... too many variables"
          ],
          [
           "</br>id: 69</br>prediction: 303942.875</br>AVLAND: -1.5374402074362468</br></br>LTFRONT: 0.2052506401893017</br>LTDEPTH: 0.0041150840808124</br>STORIES: -2.4256728086552424</br>AVTOT: -1.409987515485199</br>EXLAND: -0.8811002224994066</br>EXTOT: -0.9821209155989064</br>EXMPTCL: 0.0</br>BLDFRONT: -1.4752961362039547</br>BLDDEPTH: -1.5117416694640489</br>AVLAND2: -0.6763157372913495</br>AVTOT2: -0.6769214045938811</br>EXTOT2: -0.4192279477359309</br>BLDAREA: -1.4931117864269552</br>LTAREA: 0.0986332022265756</br>... too many variables"
          ],
          [
           "</br>id: 69</br>prediction: 303942.875</br>AVLAND: -1.4271027573095512</br></br>LTFRONT: 0.2052506401893017</br>LTDEPTH: 0.0041150840808124</br>STORIES: -2.4256728086552424</br>AVTOT: -1.409987515485199</br>EXLAND: -0.8811002224994066</br>EXTOT: -0.9821209155989064</br>EXMPTCL: 0.0</br>BLDFRONT: -1.4752961362039547</br>BLDDEPTH: -1.5117416694640489</br>AVLAND2: -0.6763157372913495</br>AVTOT2: -0.6769214045938811</br>EXTOT2: -0.4192279477359309</br>BLDAREA: -1.4931117864269552</br>LTAREA: 0.0986332022265756</br>... too many variables"
          ],
          [
           "</br>id: 69</br>prediction: 305034.5</br>AVLAND: -1.3167653071828553</br></br>LTFRONT: 0.2052506401893017</br>LTDEPTH: 0.0041150840808124</br>STORIES: -2.4256728086552424</br>AVTOT: -1.409987515485199</br>EXLAND: -0.8811002224994066</br>EXTOT: -0.9821209155989064</br>EXMPTCL: 0.0</br>BLDFRONT: -1.4752961362039547</br>BLDDEPTH: -1.5117416694640489</br>AVLAND2: -0.6763157372913495</br>AVTOT2: -0.6769214045938811</br>EXTOT2: -0.4192279477359309</br>BLDAREA: -1.4931117864269552</br>LTAREA: 0.0986332022265756</br>... too many variables"
          ],
          [
           "</br>id: 69</br>prediction: 305034.5</br>AVLAND: -1.2064278570561595</br></br>LTFRONT: 0.2052506401893017</br>LTDEPTH: 0.0041150840808124</br>STORIES: -2.4256728086552424</br>AVTOT: -1.409987515485199</br>EXLAND: -0.8811002224994066</br>EXTOT: -0.9821209155989064</br>EXMPTCL: 0.0</br>BLDFRONT: -1.4752961362039547</br>BLDDEPTH: -1.5117416694640489</br>AVLAND2: -0.6763157372913495</br>AVTOT2: -0.6769214045938811</br>EXTOT2: -0.4192279477359309</br>BLDAREA: -1.4931117864269552</br>LTAREA: 0.0986332022265756</br>... too many variables"
          ],
          [
           "</br>id: 69</br>prediction: 305034.5</br>AVLAND: -1.0960904069294637</br></br>LTFRONT: 0.2052506401893017</br>LTDEPTH: 0.0041150840808124</br>STORIES: -2.4256728086552424</br>AVTOT: -1.409987515485199</br>EXLAND: -0.8811002224994066</br>EXTOT: -0.9821209155989064</br>EXMPTCL: 0.0</br>BLDFRONT: -1.4752961362039547</br>BLDDEPTH: -1.5117416694640489</br>AVLAND2: -0.6763157372913495</br>AVTOT2: -0.6769214045938811</br>EXTOT2: -0.4192279477359309</br>BLDAREA: -1.4931117864269552</br>LTAREA: 0.0986332022265756</br>... too many variables"
          ],
          [
           "</br>id: 69</br>prediction: 305884.562</br>AVLAND: -0.9857529568027679</br></br>LTFRONT: 0.2052506401893017</br>LTDEPTH: 0.0041150840808124</br>STORIES: -2.4256728086552424</br>AVTOT: -1.409987515485199</br>EXLAND: -0.8811002224994066</br>EXTOT: -0.9821209155989064</br>EXMPTCL: 0.0</br>BLDFRONT: -1.4752961362039547</br>BLDDEPTH: -1.5117416694640489</br>AVLAND2: -0.6763157372913495</br>AVTOT2: -0.6769214045938811</br>EXTOT2: -0.4192279477359309</br>BLDAREA: -1.4931117864269552</br>LTAREA: 0.0986332022265756</br>... too many variables"
          ],
          [
           "</br>id: 69</br>prediction: 305884.562</br>AVLAND: -0.8754155066760725</br></br>LTFRONT: 0.2052506401893017</br>LTDEPTH: 0.0041150840808124</br>STORIES: -2.4256728086552424</br>AVTOT: -1.409987515485199</br>EXLAND: -0.8811002224994066</br>EXTOT: -0.9821209155989064</br>EXMPTCL: 0.0</br>BLDFRONT: -1.4752961362039547</br>BLDDEPTH: -1.5117416694640489</br>AVLAND2: -0.6763157372913495</br>AVTOT2: -0.6769214045938811</br>EXTOT2: -0.4192279477359309</br>BLDAREA: -1.4931117864269552</br>LTAREA: 0.0986332022265756</br>... too many variables"
          ],
          [
           "</br>id: 69</br>prediction: 304460.375</br>AVLAND: -0.7650780565493767</br></br>LTFRONT: 0.2052506401893017</br>LTDEPTH: 0.0041150840808124</br>STORIES: -2.4256728086552424</br>AVTOT: -1.409987515485199</br>EXLAND: -0.8811002224994066</br>EXTOT: -0.9821209155989064</br>EXMPTCL: 0.0</br>BLDFRONT: -1.4752961362039547</br>BLDDEPTH: -1.5117416694640489</br>AVLAND2: -0.6763157372913495</br>AVTOT2: -0.6769214045938811</br>EXTOT2: -0.4192279477359309</br>BLDAREA: -1.4931117864269552</br>LTAREA: 0.0986332022265756</br>... too many variables"
          ],
          [
           "</br>id: 69</br>prediction: 327630.875</br>AVLAND: -0.6547406064226808</br></br>LTFRONT: 0.2052506401893017</br>LTDEPTH: 0.0041150840808124</br>STORIES: -2.4256728086552424</br>AVTOT: -1.409987515485199</br>EXLAND: -0.8811002224994066</br>EXTOT: -0.9821209155989064</br>EXMPTCL: 0.0</br>BLDFRONT: -1.4752961362039547</br>BLDDEPTH: -1.5117416694640489</br>AVLAND2: -0.6763157372913495</br>AVTOT2: -0.6769214045938811</br>EXTOT2: -0.4192279477359309</br>BLDAREA: -1.4931117864269552</br>LTAREA: 0.0986332022265756</br>... too many variables"
          ],
          [
           "</br>id: 69</br>prediction: 325147.375</br>AVLAND: -0.544403156295985</br></br>LTFRONT: 0.2052506401893017</br>LTDEPTH: 0.0041150840808124</br>STORIES: -2.4256728086552424</br>AVTOT: -1.409987515485199</br>EXLAND: -0.8811002224994066</br>EXTOT: -0.9821209155989064</br>EXMPTCL: 0.0</br>BLDFRONT: -1.4752961362039547</br>BLDDEPTH: -1.5117416694640489</br>AVLAND2: -0.6763157372913495</br>AVTOT2: -0.6769214045938811</br>EXTOT2: -0.4192279477359309</br>BLDAREA: -1.4931117864269552</br>LTAREA: 0.0986332022265756</br>... too many variables"
          ],
          [
           "</br>id: 69</br>prediction: 294836.0</br>AVLAND: -0.4340657061692892</br></br>LTFRONT: 0.2052506401893017</br>LTDEPTH: 0.0041150840808124</br>STORIES: -2.4256728086552424</br>AVTOT: -1.409987515485199</br>EXLAND: -0.8811002224994066</br>EXTOT: -0.9821209155989064</br>EXMPTCL: 0.0</br>BLDFRONT: -1.4752961362039547</br>BLDDEPTH: -1.5117416694640489</br>AVLAND2: -0.6763157372913495</br>AVTOT2: -0.6769214045938811</br>EXTOT2: -0.4192279477359309</br>BLDAREA: -1.4931117864269552</br>LTAREA: 0.0986332022265756</br>... too many variables"
          ],
          [
           "</br>id: 69</br>prediction: 302391.406</br>AVLAND: -0.32372825604259337</br></br>LTFRONT: 0.2052506401893017</br>LTDEPTH: 0.0041150840808124</br>STORIES: -2.4256728086552424</br>AVTOT: -1.409987515485199</br>EXLAND: -0.8811002224994066</br>EXTOT: -0.9821209155989064</br>EXMPTCL: 0.0</br>BLDFRONT: -1.4752961362039547</br>BLDDEPTH: -1.5117416694640489</br>AVLAND2: -0.6763157372913495</br>AVTOT2: -0.6769214045938811</br>EXTOT2: -0.4192279477359309</br>BLDAREA: -1.4931117864269552</br>LTAREA: 0.0986332022265756</br>... too many variables"
          ],
          [
           "</br>id: 69</br>prediction: 312175.688</br>AVLAND: -0.21339080591589799</br></br>LTFRONT: 0.2052506401893017</br>LTDEPTH: 0.0041150840808124</br>STORIES: -2.4256728086552424</br>AVTOT: -1.409987515485199</br>EXLAND: -0.8811002224994066</br>EXTOT: -0.9821209155989064</br>EXMPTCL: 0.0</br>BLDFRONT: -1.4752961362039547</br>BLDDEPTH: -1.5117416694640489</br>AVLAND2: -0.6763157372913495</br>AVTOT2: -0.6769214045938811</br>EXTOT2: -0.4192279477359309</br>BLDAREA: -1.4931117864269552</br>LTAREA: 0.0986332022265756</br>... too many variables"
          ],
          [
           "</br>id: 69</br>prediction: 307700.562</br>AVLAND: -0.10305335578920216</br></br>LTFRONT: 0.2052506401893017</br>LTDEPTH: 0.0041150840808124</br>STORIES: -2.4256728086552424</br>AVTOT: -1.409987515485199</br>EXLAND: -0.8811002224994066</br>EXTOT: -0.9821209155989064</br>EXMPTCL: 0.0</br>BLDFRONT: -1.4752961362039547</br>BLDDEPTH: -1.5117416694640489</br>AVLAND2: -0.6763157372913495</br>AVTOT2: -0.6769214045938811</br>EXTOT2: -0.4192279477359309</br>BLDAREA: -1.4931117864269552</br>LTAREA: 0.0986332022265756</br>... too many variables"
          ],
          [
           "</br>id: 69</br>prediction: 306504.5</br>AVLAND: 0.007284094337493663</br></br>LTFRONT: 0.2052506401893017</br>LTDEPTH: 0.0041150840808124</br>STORIES: -2.4256728086552424</br>AVTOT: -1.409987515485199</br>EXLAND: -0.8811002224994066</br>EXTOT: -0.9821209155989064</br>EXMPTCL: 0.0</br>BLDFRONT: -1.4752961362039547</br>BLDDEPTH: -1.5117416694640489</br>AVLAND2: -0.6763157372913495</br>AVTOT2: -0.6769214045938811</br>EXTOT2: -0.4192279477359309</br>BLDAREA: -1.4931117864269552</br>LTAREA: 0.0986332022265756</br>... too many variables"
          ],
          [
           "</br>id: 69</br>prediction: 309736.344</br>AVLAND: 0.11762154446418949</br></br>LTFRONT: 0.2052506401893017</br>LTDEPTH: 0.0041150840808124</br>STORIES: -2.4256728086552424</br>AVTOT: -1.409987515485199</br>EXLAND: -0.8811002224994066</br>EXTOT: -0.9821209155989064</br>EXMPTCL: 0.0</br>BLDFRONT: -1.4752961362039547</br>BLDDEPTH: -1.5117416694640489</br>AVLAND2: -0.6763157372913495</br>AVTOT2: -0.6769214045938811</br>EXTOT2: -0.4192279477359309</br>BLDAREA: -1.4931117864269552</br>LTAREA: 0.0986332022265756</br>... too many variables"
          ],
          [
           "</br>id: 69</br>prediction: 311986.094</br>AVLAND: 0.2279589945908853</br></br>LTFRONT: 0.2052506401893017</br>LTDEPTH: 0.0041150840808124</br>STORIES: -2.4256728086552424</br>AVTOT: -1.409987515485199</br>EXLAND: -0.8811002224994066</br>EXTOT: -0.9821209155989064</br>EXMPTCL: 0.0</br>BLDFRONT: -1.4752961362039547</br>BLDDEPTH: -1.5117416694640489</br>AVLAND2: -0.6763157372913495</br>AVTOT2: -0.6769214045938811</br>EXTOT2: -0.4192279477359309</br>BLDAREA: -1.4931117864269552</br>LTAREA: 0.0986332022265756</br>... too many variables"
          ],
          [
           "</br>id: 69</br>prediction: 369010.219</br>AVLAND: 0.33829644471758114</br></br>LTFRONT: 0.2052506401893017</br>LTDEPTH: 0.0041150840808124</br>STORIES: -2.4256728086552424</br>AVTOT: -1.409987515485199</br>EXLAND: -0.8811002224994066</br>EXTOT: -0.9821209155989064</br>EXMPTCL: 0.0</br>BLDFRONT: -1.4752961362039547</br>BLDDEPTH: -1.5117416694640489</br>AVLAND2: -0.6763157372913495</br>AVTOT2: -0.6769214045938811</br>EXTOT2: -0.4192279477359309</br>BLDAREA: -1.4931117864269552</br>LTAREA: 0.0986332022265756</br>... too many variables"
          ],
          [
           "</br>id: 69</br>prediction: 376669.719</br>AVLAND: 0.44863389484427696</br></br>LTFRONT: 0.2052506401893017</br>LTDEPTH: 0.0041150840808124</br>STORIES: -2.4256728086552424</br>AVTOT: -1.409987515485199</br>EXLAND: -0.8811002224994066</br>EXTOT: -0.9821209155989064</br>EXMPTCL: 0.0</br>BLDFRONT: -1.4752961362039547</br>BLDDEPTH: -1.5117416694640489</br>AVLAND2: -0.6763157372913495</br>AVTOT2: -0.6769214045938811</br>EXTOT2: -0.4192279477359309</br>BLDAREA: -1.4931117864269552</br>LTAREA: 0.0986332022265756</br>... too many variables"
          ],
          [
           "</br>id: 69</br>prediction: 376669.719</br>AVLAND: 0.5589713449709723</br></br>LTFRONT: 0.2052506401893017</br>LTDEPTH: 0.0041150840808124</br>STORIES: -2.4256728086552424</br>AVTOT: -1.409987515485199</br>EXLAND: -0.8811002224994066</br>EXTOT: -0.9821209155989064</br>EXMPTCL: 0.0</br>BLDFRONT: -1.4752961362039547</br>BLDDEPTH: -1.5117416694640489</br>AVLAND2: -0.6763157372913495</br>AVTOT2: -0.6769214045938811</br>EXTOT2: -0.4192279477359309</br>BLDAREA: -1.4931117864269552</br>LTAREA: 0.0986332022265756</br>... too many variables"
          ],
          [
           "</br>id: 69</br>prediction: 376669.719</br>AVLAND: 0.6693087950976686</br></br>LTFRONT: 0.2052506401893017</br>LTDEPTH: 0.0041150840808124</br>STORIES: -2.4256728086552424</br>AVTOT: -1.409987515485199</br>EXLAND: -0.8811002224994066</br>EXTOT: -0.9821209155989064</br>EXMPTCL: 0.0</br>BLDFRONT: -1.4752961362039547</br>BLDDEPTH: -1.5117416694640489</br>AVLAND2: -0.6763157372913495</br>AVTOT2: -0.6769214045938811</br>EXTOT2: -0.4192279477359309</br>BLDAREA: -1.4931117864269552</br>LTAREA: 0.0986332022265756</br>... too many variables"
          ],
          [
           "</br>id: 69</br>prediction: 376669.719</br>AVLAND: 0.779646245224364</br></br>LTFRONT: 0.2052506401893017</br>LTDEPTH: 0.0041150840808124</br>STORIES: -2.4256728086552424</br>AVTOT: -1.409987515485199</br>EXLAND: -0.8811002224994066</br>EXTOT: -0.9821209155989064</br>EXMPTCL: 0.0</br>BLDFRONT: -1.4752961362039547</br>BLDDEPTH: -1.5117416694640489</br>AVLAND2: -0.6763157372913495</br>AVTOT2: -0.6769214045938811</br>EXTOT2: -0.4192279477359309</br>BLDAREA: -1.4931117864269552</br>LTAREA: 0.0986332022265756</br>... too many variables"
          ],
          [
           "</br>id: 69</br>prediction: 376669.719</br>AVLAND: 0.8899836953510594</br></br>LTFRONT: 0.2052506401893017</br>LTDEPTH: 0.0041150840808124</br>STORIES: -2.4256728086552424</br>AVTOT: -1.409987515485199</br>EXLAND: -0.8811002224994066</br>EXTOT: -0.9821209155989064</br>EXMPTCL: 0.0</br>BLDFRONT: -1.4752961362039547</br>BLDDEPTH: -1.5117416694640489</br>AVLAND2: -0.6763157372913495</br>AVTOT2: -0.6769214045938811</br>EXTOT2: -0.4192279477359309</br>BLDAREA: -1.4931117864269552</br>LTAREA: 0.0986332022265756</br>... too many variables"
          ],
          [
           "</br>id: 69</br>prediction: 378247.469</br>AVLAND: 1.0003211454777556</br></br>LTFRONT: 0.2052506401893017</br>LTDEPTH: 0.0041150840808124</br>STORIES: -2.4256728086552424</br>AVTOT: -1.409987515485199</br>EXLAND: -0.8811002224994066</br>EXTOT: -0.9821209155989064</br>EXMPTCL: 0.0</br>BLDFRONT: -1.4752961362039547</br>BLDDEPTH: -1.5117416694640489</br>AVLAND2: -0.6763157372913495</br>AVTOT2: -0.6769214045938811</br>EXTOT2: -0.4192279477359309</br>BLDAREA: -1.4931117864269552</br>LTAREA: 0.0986332022265756</br>... too many variables"
          ],
          [
           "</br>id: 69</br>prediction: 436975.719</br>AVLAND: 1.110658595604451</br></br>LTFRONT: 0.2052506401893017</br>LTDEPTH: 0.0041150840808124</br>STORIES: -2.4256728086552424</br>AVTOT: -1.409987515485199</br>EXLAND: -0.8811002224994066</br>EXTOT: -0.9821209155989064</br>EXMPTCL: 0.0</br>BLDFRONT: -1.4752961362039547</br>BLDDEPTH: -1.5117416694640489</br>AVLAND2: -0.6763157372913495</br>AVTOT2: -0.6769214045938811</br>EXTOT2: -0.4192279477359309</br>BLDAREA: -1.4931117864269552</br>LTAREA: 0.0986332022265756</br>... too many variables"
          ],
          [
           "</br>id: 69</br>prediction: 522055.188</br>AVLAND: 1.2209960457311473</br></br>LTFRONT: 0.2052506401893017</br>LTDEPTH: 0.0041150840808124</br>STORIES: -2.4256728086552424</br>AVTOT: -1.409987515485199</br>EXLAND: -0.8811002224994066</br>EXTOT: -0.9821209155989064</br>EXMPTCL: 0.0</br>BLDFRONT: -1.4752961362039547</br>BLDDEPTH: -1.5117416694640489</br>AVLAND2: -0.6763157372913495</br>AVTOT2: -0.6769214045938811</br>EXTOT2: -0.4192279477359309</br>BLDAREA: -1.4931117864269552</br>LTAREA: 0.0986332022265756</br>... too many variables"
          ],
          [
           "</br>id: 69</br>prediction: 531202.312</br>AVLAND: 1.3313334958578427</br></br>LTFRONT: 0.2052506401893017</br>LTDEPTH: 0.0041150840808124</br>STORIES: -2.4256728086552424</br>AVTOT: -1.409987515485199</br>EXLAND: -0.8811002224994066</br>EXTOT: -0.9821209155989064</br>EXMPTCL: 0.0</br>BLDFRONT: -1.4752961362039547</br>BLDDEPTH: -1.5117416694640489</br>AVLAND2: -0.6763157372913495</br>AVTOT2: -0.6769214045938811</br>EXTOT2: -0.4192279477359309</br>BLDAREA: -1.4931117864269552</br>LTAREA: 0.0986332022265756</br>... too many variables"
          ],
          [
           "</br>id: 69</br>prediction: 573381.938</br>AVLAND: 1.441670945984539</br></br>LTFRONT: 0.2052506401893017</br>LTDEPTH: 0.0041150840808124</br>STORIES: -2.4256728086552424</br>AVTOT: -1.409987515485199</br>EXLAND: -0.8811002224994066</br>EXTOT: -0.9821209155989064</br>EXMPTCL: 0.0</br>BLDFRONT: -1.4752961362039547</br>BLDDEPTH: -1.5117416694640489</br>AVLAND2: -0.6763157372913495</br>AVTOT2: -0.6769214045938811</br>EXTOT2: -0.4192279477359309</br>BLDAREA: -1.4931117864269552</br>LTAREA: 0.0986332022265756</br>... too many variables"
          ],
          [
           "</br>id: 69</br>prediction: 654893.438</br>AVLAND: 1.5520083961112343</br></br>LTFRONT: 0.2052506401893017</br>LTDEPTH: 0.0041150840808124</br>STORIES: -2.4256728086552424</br>AVTOT: -1.409987515485199</br>EXLAND: -0.8811002224994066</br>EXTOT: -0.9821209155989064</br>EXMPTCL: 0.0</br>BLDFRONT: -1.4752961362039547</br>BLDDEPTH: -1.5117416694640489</br>AVLAND2: -0.6763157372913495</br>AVTOT2: -0.6769214045938811</br>EXTOT2: -0.4192279477359309</br>BLDAREA: -1.4931117864269552</br>LTAREA: 0.0986332022265756</br>... too many variables"
          ],
          [
           "</br>id: 69</br>prediction: 664922.75</br>AVLAND: 1.6623458462379297</br></br>LTFRONT: 0.2052506401893017</br>LTDEPTH: 0.0041150840808124</br>STORIES: -2.4256728086552424</br>AVTOT: -1.409987515485199</br>EXLAND: -0.8811002224994066</br>EXTOT: -0.9821209155989064</br>EXMPTCL: 0.0</br>BLDFRONT: -1.4752961362039547</br>BLDDEPTH: -1.5117416694640489</br>AVLAND2: -0.6763157372913495</br>AVTOT2: -0.6769214045938811</br>EXTOT2: -0.4192279477359309</br>BLDAREA: -1.4931117864269552</br>LTAREA: 0.0986332022265756</br>... too many variables"
          ],
          [
           "</br>id: 69</br>prediction: 666908.812</br>AVLAND: 1.772683296364626</br></br>LTFRONT: 0.2052506401893017</br>LTDEPTH: 0.0041150840808124</br>STORIES: -2.4256728086552424</br>AVTOT: -1.409987515485199</br>EXLAND: -0.8811002224994066</br>EXTOT: -0.9821209155989064</br>EXMPTCL: 0.0</br>BLDFRONT: -1.4752961362039547</br>BLDDEPTH: -1.5117416694640489</br>AVLAND2: -0.6763157372913495</br>AVTOT2: -0.6769214045938811</br>EXTOT2: -0.4192279477359309</br>BLDAREA: -1.4931117864269552</br>LTAREA: 0.0986332022265756</br>... too many variables"
          ],
          [
           "</br>id: 69</br>prediction: 622785.875</br>AVLAND: 1.8830207464913213</br></br>LTFRONT: 0.2052506401893017</br>LTDEPTH: 0.0041150840808124</br>STORIES: -2.4256728086552424</br>AVTOT: -1.409987515485199</br>EXLAND: -0.8811002224994066</br>EXTOT: -0.9821209155989064</br>EXMPTCL: 0.0</br>BLDFRONT: -1.4752961362039547</br>BLDDEPTH: -1.5117416694640489</br>AVLAND2: -0.6763157372913495</br>AVTOT2: -0.6769214045938811</br>EXTOT2: -0.4192279477359309</br>BLDAREA: -1.4931117864269552</br>LTAREA: 0.0986332022265756</br>... too many variables"
          ],
          [
           "</br>id: 69</br>prediction: 626478.25</br>AVLAND: 1.9933581966180176</br></br>LTFRONT: 0.2052506401893017</br>LTDEPTH: 0.0041150840808124</br>STORIES: -2.4256728086552424</br>AVTOT: -1.409987515485199</br>EXLAND: -0.8811002224994066</br>EXTOT: -0.9821209155989064</br>EXMPTCL: 0.0</br>BLDFRONT: -1.4752961362039547</br>BLDDEPTH: -1.5117416694640489</br>AVLAND2: -0.6763157372913495</br>AVTOT2: -0.6769214045938811</br>EXTOT2: -0.4192279477359309</br>BLDAREA: -1.4931117864269552</br>LTAREA: 0.0986332022265756</br>... too many variables"
          ],
          [
           "</br>id: 69</br>prediction: 626478.25</br>AVLAND: 2.103695646744713</br></br>LTFRONT: 0.2052506401893017</br>LTDEPTH: 0.0041150840808124</br>STORIES: -2.4256728086552424</br>AVTOT: -1.409987515485199</br>EXLAND: -0.8811002224994066</br>EXTOT: -0.9821209155989064</br>EXMPTCL: 0.0</br>BLDFRONT: -1.4752961362039547</br>BLDDEPTH: -1.5117416694640489</br>AVLAND2: -0.6763157372913495</br>AVTOT2: -0.6769214045938811</br>EXTOT2: -0.4192279477359309</br>BLDAREA: -1.4931117864269552</br>LTAREA: 0.0986332022265756</br>... too many variables"
          ],
          [
           "</br>id: 69</br>prediction: 624096.75</br>AVLAND: 2.2140330968714093</br></br>LTFRONT: 0.2052506401893017</br>LTDEPTH: 0.0041150840808124</br>STORIES: -2.4256728086552424</br>AVTOT: -1.409987515485199</br>EXLAND: -0.8811002224994066</br>EXTOT: -0.9821209155989064</br>EXMPTCL: 0.0</br>BLDFRONT: -1.4752961362039547</br>BLDDEPTH: -1.5117416694640489</br>AVLAND2: -0.6763157372913495</br>AVTOT2: -0.6769214045938811</br>EXTOT2: -0.4192279477359309</br>BLDAREA: -1.4931117864269552</br>LTAREA: 0.0986332022265756</br>... too many variables"
          ],
          [
           "</br>id: 69</br>prediction: 624096.75</br>AVLAND: 2.3243705469981046</br></br>LTFRONT: 0.2052506401893017</br>LTDEPTH: 0.0041150840808124</br>STORIES: -2.4256728086552424</br>AVTOT: -1.409987515485199</br>EXLAND: -0.8811002224994066</br>EXTOT: -0.9821209155989064</br>EXMPTCL: 0.0</br>BLDFRONT: -1.4752961362039547</br>BLDDEPTH: -1.5117416694640489</br>AVLAND2: -0.6763157372913495</br>AVTOT2: -0.6769214045938811</br>EXTOT2: -0.4192279477359309</br>BLDAREA: -1.4931117864269552</br>LTAREA: 0.0986332022265756</br>... too many variables"
          ],
          [
           "</br>id: 69</br>prediction: 629876.688</br>AVLAND: 2.4347079971248</br></br>LTFRONT: 0.2052506401893017</br>LTDEPTH: 0.0041150840808124</br>STORIES: -2.4256728086552424</br>AVTOT: -1.409987515485199</br>EXLAND: -0.8811002224994066</br>EXTOT: -0.9821209155989064</br>EXMPTCL: 0.0</br>BLDFRONT: -1.4752961362039547</br>BLDDEPTH: -1.5117416694640489</br>AVLAND2: -0.6763157372913495</br>AVTOT2: -0.6769214045938811</br>EXTOT2: -0.4192279477359309</br>BLDAREA: -1.4931117864269552</br>LTAREA: 0.0986332022265756</br>... too many variables"
          ],
          [
           "</br>id: 69</br>prediction: 634013.188</br>AVLAND: 2.5450454472514963</br></br>LTFRONT: 0.2052506401893017</br>LTDEPTH: 0.0041150840808124</br>STORIES: -2.4256728086552424</br>AVTOT: -1.409987515485199</br>EXLAND: -0.8811002224994066</br>EXTOT: -0.9821209155989064</br>EXMPTCL: 0.0</br>BLDFRONT: -1.4752961362039547</br>BLDDEPTH: -1.5117416694640489</br>AVLAND2: -0.6763157372913495</br>AVTOT2: -0.6769214045938811</br>EXTOT2: -0.4192279477359309</br>BLDAREA: -1.4931117864269552</br>LTAREA: 0.0986332022265756</br>... too many variables"
          ],
          [
           "</br>id: 69</br>prediction: 634013.188</br>AVLAND: 2.6553828973781917</br></br>LTFRONT: 0.2052506401893017</br>LTDEPTH: 0.0041150840808124</br>STORIES: -2.4256728086552424</br>AVTOT: -1.409987515485199</br>EXLAND: -0.8811002224994066</br>EXTOT: -0.9821209155989064</br>EXMPTCL: 0.0</br>BLDFRONT: -1.4752961362039547</br>BLDDEPTH: -1.5117416694640489</br>AVLAND2: -0.6763157372913495</br>AVTOT2: -0.6769214045938811</br>EXTOT2: -0.4192279477359309</br>BLDAREA: -1.4931117864269552</br>LTAREA: 0.0986332022265756</br>... too many variables"
          ],
          [
           "</br>id: 69</br>prediction: 727410.562</br>AVLAND: 2.765720347504888</br></br>LTFRONT: 0.2052506401893017</br>LTDEPTH: 0.0041150840808124</br>STORIES: -2.4256728086552424</br>AVTOT: -1.409987515485199</br>EXLAND: -0.8811002224994066</br>EXTOT: -0.9821209155989064</br>EXMPTCL: 0.0</br>BLDFRONT: -1.4752961362039547</br>BLDDEPTH: -1.5117416694640489</br>AVLAND2: -0.6763157372913495</br>AVTOT2: -0.6769214045938811</br>EXTOT2: -0.4192279477359309</br>BLDAREA: -1.4931117864269552</br>LTAREA: 0.0986332022265756</br>... too many variables"
          ],
          [
           "</br>id: 69</br>prediction: 727410.562</br>AVLAND: 2.8760577976315833</br></br>LTFRONT: 0.2052506401893017</br>LTDEPTH: 0.0041150840808124</br>STORIES: -2.4256728086552424</br>AVTOT: -1.409987515485199</br>EXLAND: -0.8811002224994066</br>EXTOT: -0.9821209155989064</br>EXMPTCL: 0.0</br>BLDFRONT: -1.4752961362039547</br>BLDDEPTH: -1.5117416694640489</br>AVLAND2: -0.6763157372913495</br>AVTOT2: -0.6769214045938811</br>EXTOT2: -0.4192279477359309</br>BLDAREA: -1.4931117864269552</br>LTAREA: 0.0986332022265756</br>... too many variables"
          ],
          [
           "</br>id: 69</br>prediction: 815766.312</br>AVLAND: 2.9863952477582787</br></br>LTFRONT: 0.2052506401893017</br>LTDEPTH: 0.0041150840808124</br>STORIES: -2.4256728086552424</br>AVTOT: -1.409987515485199</br>EXLAND: -0.8811002224994066</br>EXTOT: -0.9821209155989064</br>EXMPTCL: 0.0</br>BLDFRONT: -1.4752961362039547</br>BLDDEPTH: -1.5117416694640489</br>AVLAND2: -0.6763157372913495</br>AVTOT2: -0.6769214045938811</br>EXTOT2: -0.4192279477359309</br>BLDAREA: -1.4931117864269552</br>LTAREA: 0.0986332022265756</br>... too many variables"
          ],
          [
           "</br>id: 69</br>prediction: 815766.312</br>AVLAND: 3.096732697884975</br></br>LTFRONT: 0.2052506401893017</br>LTDEPTH: 0.0041150840808124</br>STORIES: -2.4256728086552424</br>AVTOT: -1.409987515485199</br>EXLAND: -0.8811002224994066</br>EXTOT: -0.9821209155989064</br>EXMPTCL: 0.0</br>BLDFRONT: -1.4752961362039547</br>BLDDEPTH: -1.5117416694640489</br>AVLAND2: -0.6763157372913495</br>AVTOT2: -0.6769214045938811</br>EXTOT2: -0.4192279477359309</br>BLDAREA: -1.4931117864269552</br>LTAREA: 0.0986332022265756</br>... too many variables"
          ],
          [
           "</br>id: 69</br>prediction: 815766.312</br>AVLAND: 3.2070701480116703</br></br>LTFRONT: 0.2052506401893017</br>LTDEPTH: 0.0041150840808124</br>STORIES: -2.4256728086552424</br>AVTOT: -1.409987515485199</br>EXLAND: -0.8811002224994066</br>EXTOT: -0.9821209155989064</br>EXMPTCL: 0.0</br>BLDFRONT: -1.4752961362039547</br>BLDDEPTH: -1.5117416694640489</br>AVLAND2: -0.6763157372913495</br>AVTOT2: -0.6769214045938811</br>EXTOT2: -0.4192279477359309</br>BLDAREA: -1.4931117864269552</br>LTAREA: 0.0986332022265756</br>... too many variables"
          ],
          [
           "</br>id: 69</br>prediction: 815766.312</br>AVLAND: 3.3174075981383666</br></br>LTFRONT: 0.2052506401893017</br>LTDEPTH: 0.0041150840808124</br>STORIES: -2.4256728086552424</br>AVTOT: -1.409987515485199</br>EXLAND: -0.8811002224994066</br>EXTOT: -0.9821209155989064</br>EXMPTCL: 0.0</br>BLDFRONT: -1.4752961362039547</br>BLDDEPTH: -1.5117416694640489</br>AVLAND2: -0.6763157372913495</br>AVTOT2: -0.6769214045938811</br>EXTOT2: -0.4192279477359309</br>BLDAREA: -1.4931117864269552</br>LTAREA: 0.0986332022265756</br>... too many variables"
          ],
          [
           "</br>id: 69</br>prediction: 815766.312</br>AVLAND: 3.427745048265062</br></br>LTFRONT: 0.2052506401893017</br>LTDEPTH: 0.0041150840808124</br>STORIES: -2.4256728086552424</br>AVTOT: -1.409987515485199</br>EXLAND: -0.8811002224994066</br>EXTOT: -0.9821209155989064</br>EXMPTCL: 0.0</br>BLDFRONT: -1.4752961362039547</br>BLDDEPTH: -1.5117416694640489</br>AVLAND2: -0.6763157372913495</br>AVTOT2: -0.6769214045938811</br>EXTOT2: -0.4192279477359309</br>BLDAREA: -1.4931117864269552</br>LTAREA: 0.0986332022265756</br>... too many variables"
          ],
          [
           "</br>id: 69</br>prediction: 815766.312</br>AVLAND: 3.5380824983917583</br></br>LTFRONT: 0.2052506401893017</br>LTDEPTH: 0.0041150840808124</br>STORIES: -2.4256728086552424</br>AVTOT: -1.409987515485199</br>EXLAND: -0.8811002224994066</br>EXTOT: -0.9821209155989064</br>EXMPTCL: 0.0</br>BLDFRONT: -1.4752961362039547</br>BLDDEPTH: -1.5117416694640489</br>AVLAND2: -0.6763157372913495</br>AVTOT2: -0.6769214045938811</br>EXTOT2: -0.4192279477359309</br>BLDAREA: -1.4931117864269552</br>LTAREA: 0.0986332022265756</br>... too many variables"
          ],
          [
           "</br>id: 69</br>prediction: 920475.75</br>AVLAND: 3.6484199485184536</br></br>LTFRONT: 0.2052506401893017</br>LTDEPTH: 0.0041150840808124</br>STORIES: -2.4256728086552424</br>AVTOT: -1.409987515485199</br>EXLAND: -0.8811002224994066</br>EXTOT: -0.9821209155989064</br>EXMPTCL: 0.0</br>BLDFRONT: -1.4752961362039547</br>BLDDEPTH: -1.5117416694640489</br>AVLAND2: -0.6763157372913495</br>AVTOT2: -0.6769214045938811</br>EXTOT2: -0.4192279477359309</br>BLDAREA: -1.4931117864269552</br>LTAREA: 0.0986332022265756</br>... too many variables"
          ],
          [
           "</br>id: 69</br>prediction: 920475.75</br>AVLAND: 3.758757398645149</br></br>LTFRONT: 0.2052506401893017</br>LTDEPTH: 0.0041150840808124</br>STORIES: -2.4256728086552424</br>AVTOT: -1.409987515485199</br>EXLAND: -0.8811002224994066</br>EXTOT: -0.9821209155989064</br>EXMPTCL: 0.0</br>BLDFRONT: -1.4752961362039547</br>BLDDEPTH: -1.5117416694640489</br>AVLAND2: -0.6763157372913495</br>AVTOT2: -0.6769214045938811</br>EXTOT2: -0.4192279477359309</br>BLDAREA: -1.4931117864269552</br>LTAREA: 0.0986332022265756</br>... too many variables"
          ],
          [
           "</br>id: 69</br>prediction: 920475.75</br>AVLAND: 3.8690948487718453</br></br>LTFRONT: 0.2052506401893017</br>LTDEPTH: 0.0041150840808124</br>STORIES: -2.4256728086552424</br>AVTOT: -1.409987515485199</br>EXLAND: -0.8811002224994066</br>EXTOT: -0.9821209155989064</br>EXMPTCL: 0.0</br>BLDFRONT: -1.4752961362039547</br>BLDDEPTH: -1.5117416694640489</br>AVLAND2: -0.6763157372913495</br>AVTOT2: -0.6769214045938811</br>EXTOT2: -0.4192279477359309</br>BLDAREA: -1.4931117864269552</br>LTAREA: 0.0986332022265756</br>... too many variables"
          ],
          [
           "</br>id: 69</br>prediction: 920475.75</br>AVLAND: 3.9794322988985407</br></br>LTFRONT: 0.2052506401893017</br>LTDEPTH: 0.0041150840808124</br>STORIES: -2.4256728086552424</br>AVTOT: -1.409987515485199</br>EXLAND: -0.8811002224994066</br>EXTOT: -0.9821209155989064</br>EXMPTCL: 0.0</br>BLDFRONT: -1.4752961362039547</br>BLDDEPTH: -1.5117416694640489</br>AVLAND2: -0.6763157372913495</br>AVTOT2: -0.6769214045938811</br>EXTOT2: -0.4192279477359309</br>BLDAREA: -1.4931117864269552</br>LTAREA: 0.0986332022265756</br>... too many variables"
          ],
          [
           "</br>id: 69</br>prediction: 920475.75</br>AVLAND: 4.089769749025237</br></br>LTFRONT: 0.2052506401893017</br>LTDEPTH: 0.0041150840808124</br>STORIES: -2.4256728086552424</br>AVTOT: -1.409987515485199</br>EXLAND: -0.8811002224994066</br>EXTOT: -0.9821209155989064</br>EXMPTCL: 0.0</br>BLDFRONT: -1.4752961362039547</br>BLDDEPTH: -1.5117416694640489</br>AVLAND2: -0.6763157372913495</br>AVTOT2: -0.6769214045938811</br>EXTOT2: -0.4192279477359309</br>BLDAREA: -1.4931117864269552</br>LTAREA: 0.0986332022265756</br>... too many variables"
          ],
          [
           "</br>id: 69</br>prediction: 920475.75</br>AVLAND: 4.200107199151932</br></br>LTFRONT: 0.2052506401893017</br>LTDEPTH: 0.0041150840808124</br>STORIES: -2.4256728086552424</br>AVTOT: -1.409987515485199</br>EXLAND: -0.8811002224994066</br>EXTOT: -0.9821209155989064</br>EXMPTCL: 0.0</br>BLDFRONT: -1.4752961362039547</br>BLDDEPTH: -1.5117416694640489</br>AVLAND2: -0.6763157372913495</br>AVTOT2: -0.6769214045938811</br>EXTOT2: -0.4192279477359309</br>BLDAREA: -1.4931117864269552</br>LTAREA: 0.0986332022265756</br>... too many variables"
          ],
          [
           "</br>id: 69</br>prediction: 920475.75</br>AVLAND: 4.310444649278629</br></br>LTFRONT: 0.2052506401893017</br>LTDEPTH: 0.0041150840808124</br>STORIES: -2.4256728086552424</br>AVTOT: -1.409987515485199</br>EXLAND: -0.8811002224994066</br>EXTOT: -0.9821209155989064</br>EXMPTCL: 0.0</br>BLDFRONT: -1.4752961362039547</br>BLDDEPTH: -1.5117416694640489</br>AVLAND2: -0.6763157372913495</br>AVTOT2: -0.6769214045938811</br>EXTOT2: -0.4192279477359309</br>BLDAREA: -1.4931117864269552</br>LTAREA: 0.0986332022265756</br>... too many variables"
          ],
          [
           "</br>id: 69</br>prediction: 920475.75</br>AVLAND: 4.420782099405324</br></br>LTFRONT: 0.2052506401893017</br>LTDEPTH: 0.0041150840808124</br>STORIES: -2.4256728086552424</br>AVTOT: -1.409987515485199</br>EXLAND: -0.8811002224994066</br>EXTOT: -0.9821209155989064</br>EXMPTCL: 0.0</br>BLDFRONT: -1.4752961362039547</br>BLDDEPTH: -1.5117416694640489</br>AVLAND2: -0.6763157372913495</br>AVTOT2: -0.6769214045938811</br>EXTOT2: -0.4192279477359309</br>BLDAREA: -1.4931117864269552</br>LTAREA: 0.0986332022265756</br>... too many variables"
          ],
          [
           "</br>id: 69</br>prediction: 920475.75</br>AVLAND: 4.531119549532019</br></br>LTFRONT: 0.2052506401893017</br>LTDEPTH: 0.0041150840808124</br>STORIES: -2.4256728086552424</br>AVTOT: -1.409987515485199</br>EXLAND: -0.8811002224994066</br>EXTOT: -0.9821209155989064</br>EXMPTCL: 0.0</br>BLDFRONT: -1.4752961362039547</br>BLDDEPTH: -1.5117416694640489</br>AVLAND2: -0.6763157372913495</br>AVTOT2: -0.6769214045938811</br>EXTOT2: -0.4192279477359309</br>BLDAREA: -1.4931117864269552</br>LTAREA: 0.0986332022265756</br>... too many variables"
          ],
          [
           "</br>id: 69</br>prediction: 920475.75</br>AVLAND: 4.641456999658716</br></br>LTFRONT: 0.2052506401893017</br>LTDEPTH: 0.0041150840808124</br>STORIES: -2.4256728086552424</br>AVTOT: -1.409987515485199</br>EXLAND: -0.8811002224994066</br>EXTOT: -0.9821209155989064</br>EXMPTCL: 0.0</br>BLDFRONT: -1.4752961362039547</br>BLDDEPTH: -1.5117416694640489</br>AVLAND2: -0.6763157372913495</br>AVTOT2: -0.6769214045938811</br>EXTOT2: -0.4192279477359309</br>BLDAREA: -1.4931117864269552</br>LTAREA: 0.0986332022265756</br>... too many variables"
          ],
          [
           "</br>id: 69</br>prediction: 920475.75</br>AVLAND: 4.751794449785412</br></br>LTFRONT: 0.2052506401893017</br>LTDEPTH: 0.0041150840808124</br>STORIES: -2.4256728086552424</br>AVTOT: -1.409987515485199</br>EXLAND: -0.8811002224994066</br>EXTOT: -0.9821209155989064</br>EXMPTCL: 0.0</br>BLDFRONT: -1.4752961362039547</br>BLDDEPTH: -1.5117416694640489</br>AVLAND2: -0.6763157372913495</br>AVTOT2: -0.6769214045938811</br>EXTOT2: -0.4192279477359309</br>BLDAREA: -1.4931117864269552</br>LTAREA: 0.0986332022265756</br>... too many variables"
          ],
          [
           "</br>id: 69</br>prediction: 1713655.125</br>AVLAND: 4.862131899912106</br></br>LTFRONT: 0.2052506401893017</br>LTDEPTH: 0.0041150840808124</br>STORIES: -2.4256728086552424</br>AVTOT: -1.409987515485199</br>EXLAND: -0.8811002224994066</br>EXTOT: -0.9821209155989064</br>EXMPTCL: 0.0</br>BLDFRONT: -1.4752961362039547</br>BLDDEPTH: -1.5117416694640489</br>AVLAND2: -0.6763157372913495</br>AVTOT2: -0.6769214045938811</br>EXTOT2: -0.4192279477359309</br>BLDAREA: -1.4931117864269552</br>LTAREA: 0.0986332022265756</br>... too many variables"
          ],
          [
           "</br>id: 69</br>prediction: 1713655.125</br>AVLAND: 4.972469350038803</br></br>LTFRONT: 0.2052506401893017</br>LTDEPTH: 0.0041150840808124</br>STORIES: -2.4256728086552424</br>AVTOT: -1.409987515485199</br>EXLAND: -0.8811002224994066</br>EXTOT: -0.9821209155989064</br>EXMPTCL: 0.0</br>BLDFRONT: -1.4752961362039547</br>BLDDEPTH: -1.5117416694640489</br>AVLAND2: -0.6763157372913495</br>AVTOT2: -0.6769214045938811</br>EXTOT2: -0.4192279477359309</br>BLDAREA: -1.4931117864269552</br>LTAREA: 0.0986332022265756</br>... too many variables"
          ],
          [
           "</br>id: 69</br>prediction: 1713655.125</br>AVLAND: 5.082806800165499</br></br>LTFRONT: 0.2052506401893017</br>LTDEPTH: 0.0041150840808124</br>STORIES: -2.4256728086552424</br>AVTOT: -1.409987515485199</br>EXLAND: -0.8811002224994066</br>EXTOT: -0.9821209155989064</br>EXMPTCL: 0.0</br>BLDFRONT: -1.4752961362039547</br>BLDDEPTH: -1.5117416694640489</br>AVLAND2: -0.6763157372913495</br>AVTOT2: -0.6769214045938811</br>EXTOT2: -0.4192279477359309</br>BLDAREA: -1.4931117864269552</br>LTAREA: 0.0986332022265756</br>... too many variables"
          ],
          [
           "</br>id: 69</br>prediction: 6330050.0</br>AVLAND: 5.193144250292193</br></br>LTFRONT: 0.2052506401893017</br>LTDEPTH: 0.0041150840808124</br>STORIES: -2.4256728086552424</br>AVTOT: -1.409987515485199</br>EXLAND: -0.8811002224994066</br>EXTOT: -0.9821209155989064</br>EXMPTCL: 0.0</br>BLDFRONT: -1.4752961362039547</br>BLDDEPTH: -1.5117416694640489</br>AVLAND2: -0.6763157372913495</br>AVTOT2: -0.6769214045938811</br>EXTOT2: -0.4192279477359309</br>BLDAREA: -1.4931117864269552</br>LTAREA: 0.0986332022265756</br>... too many variables"
          ],
          [
           "</br>id: 69</br>prediction: 15564990.0</br>AVLAND: 5.30348170041889</br></br>LTFRONT: 0.2052506401893017</br>LTDEPTH: 0.0041150840808124</br>STORIES: -2.4256728086552424</br>AVTOT: -1.409987515485199</br>EXLAND: -0.8811002224994066</br>EXTOT: -0.9821209155989064</br>EXMPTCL: 0.0</br>BLDFRONT: -1.4752961362039547</br>BLDDEPTH: -1.5117416694640489</br>AVLAND2: -0.6763157372913495</br>AVTOT2: -0.6769214045938811</br>EXTOT2: -0.4192279477359309</br>BLDAREA: -1.4931117864269552</br>LTAREA: 0.0986332022265756</br>... too many variables"
          ],
          [
           "</br>id: 69</br>prediction: 15564990.0</br>AVLAND: 5.413819150545586</br></br>LTFRONT: 0.2052506401893017</br>LTDEPTH: 0.0041150840808124</br>STORIES: -2.4256728086552424</br>AVTOT: -1.409987515485199</br>EXLAND: -0.8811002224994066</br>EXTOT: -0.9821209155989064</br>EXMPTCL: 0.0</br>BLDFRONT: -1.4752961362039547</br>BLDDEPTH: -1.5117416694640489</br>AVLAND2: -0.6763157372913495</br>AVTOT2: -0.6769214045938811</br>EXTOT2: -0.4192279477359309</br>BLDAREA: -1.4931117864269552</br>LTAREA: 0.0986332022265756</br>... too many variables"
          ],
          [
           "</br>id: 69</br>prediction: 15564990.0</br>AVLAND: 5.524156600672282</br></br>LTFRONT: 0.2052506401893017</br>LTDEPTH: 0.0041150840808124</br>STORIES: -2.4256728086552424</br>AVTOT: -1.409987515485199</br>EXLAND: -0.8811002224994066</br>EXTOT: -0.9821209155989064</br>EXMPTCL: 0.0</br>BLDFRONT: -1.4752961362039547</br>BLDDEPTH: -1.5117416694640489</br>AVLAND2: -0.6763157372913495</br>AVTOT2: -0.6769214045938811</br>EXTOT2: -0.4192279477359309</br>BLDAREA: -1.4931117864269552</br>LTAREA: 0.0986332022265756</br>... too many variables"
          ],
          [
           "</br>id: 69</br>prediction: 15564990.0</br>AVLAND: 5.634494050798977</br></br>LTFRONT: 0.2052506401893017</br>LTDEPTH: 0.0041150840808124</br>STORIES: -2.4256728086552424</br>AVTOT: -1.409987515485199</br>EXLAND: -0.8811002224994066</br>EXTOT: -0.9821209155989064</br>EXMPTCL: 0.0</br>BLDFRONT: -1.4752961362039547</br>BLDDEPTH: -1.5117416694640489</br>AVLAND2: -0.6763157372913495</br>AVTOT2: -0.6769214045938811</br>EXTOT2: -0.4192279477359309</br>BLDAREA: -1.4931117864269552</br>LTAREA: 0.0986332022265756</br>... too many variables"
          ],
          [
           "</br>id: 69</br>prediction: 15564990.0</br>AVLAND: 5.744831500925673</br></br>LTFRONT: 0.2052506401893017</br>LTDEPTH: 0.0041150840808124</br>STORIES: -2.4256728086552424</br>AVTOT: -1.409987515485199</br>EXLAND: -0.8811002224994066</br>EXTOT: -0.9821209155989064</br>EXMPTCL: 0.0</br>BLDFRONT: -1.4752961362039547</br>BLDDEPTH: -1.5117416694640489</br>AVLAND2: -0.6763157372913495</br>AVTOT2: -0.6769214045938811</br>EXTOT2: -0.4192279477359309</br>BLDAREA: -1.4931117864269552</br>LTAREA: 0.0986332022265756</br>... too many variables"
          ],
          [
           "</br>id: 69</br>prediction: 15564990.0</br>AVLAND: 5.855168951052369</br></br>LTFRONT: 0.2052506401893017</br>LTDEPTH: 0.0041150840808124</br>STORIES: -2.4256728086552424</br>AVTOT: -1.409987515485199</br>EXLAND: -0.8811002224994066</br>EXTOT: -0.9821209155989064</br>EXMPTCL: 0.0</br>BLDFRONT: -1.4752961362039547</br>BLDDEPTH: -1.5117416694640489</br>AVLAND2: -0.6763157372913495</br>AVTOT2: -0.6769214045938811</br>EXTOT2: -0.4192279477359309</br>BLDAREA: -1.4931117864269552</br>LTAREA: 0.0986332022265756</br>... too many variables"
          ],
          [
           "</br>id: 69</br>prediction: 16668938.0</br>AVLAND: 5.965506401179064</br></br>LTFRONT: 0.2052506401893017</br>LTDEPTH: 0.0041150840808124</br>STORIES: -2.4256728086552424</br>AVTOT: -1.409987515485199</br>EXLAND: -0.8811002224994066</br>EXTOT: -0.9821209155989064</br>EXMPTCL: 0.0</br>BLDFRONT: -1.4752961362039547</br>BLDDEPTH: -1.5117416694640489</br>AVLAND2: -0.6763157372913495</br>AVTOT2: -0.6769214045938811</br>EXTOT2: -0.4192279477359309</br>BLDAREA: -1.4931117864269552</br>LTAREA: 0.0986332022265756</br>... too many variables"
          ],
          [
           "</br>id: 69</br>prediction: 16668938.0</br>AVLAND: 6.07584385130576</br></br>LTFRONT: 0.2052506401893017</br>LTDEPTH: 0.0041150840808124</br>STORIES: -2.4256728086552424</br>AVTOT: -1.409987515485199</br>EXLAND: -0.8811002224994066</br>EXTOT: -0.9821209155989064</br>EXMPTCL: 0.0</br>BLDFRONT: -1.4752961362039547</br>BLDDEPTH: -1.5117416694640489</br>AVLAND2: -0.6763157372913495</br>AVTOT2: -0.6769214045938811</br>EXTOT2: -0.4192279477359309</br>BLDAREA: -1.4931117864269552</br>LTAREA: 0.0986332022265756</br>... too many variables"
          ],
          [
           "</br>id: 69</br>prediction: 16668938.0</br>AVLAND: 6.186181301432456</br></br>LTFRONT: 0.2052506401893017</br>LTDEPTH: 0.0041150840808124</br>STORIES: -2.4256728086552424</br>AVTOT: -1.409987515485199</br>EXLAND: -0.8811002224994066</br>EXTOT: -0.9821209155989064</br>EXMPTCL: 0.0</br>BLDFRONT: -1.4752961362039547</br>BLDDEPTH: -1.5117416694640489</br>AVLAND2: -0.6763157372913495</br>AVTOT2: -0.6769214045938811</br>EXTOT2: -0.4192279477359309</br>BLDAREA: -1.4931117864269552</br>LTAREA: 0.0986332022265756</br>... too many variables"
          ],
          [
           "</br>id: 69</br>prediction: 16668938.0</br>AVLAND: 6.2965187515591525</br></br>LTFRONT: 0.2052506401893017</br>LTDEPTH: 0.0041150840808124</br>STORIES: -2.4256728086552424</br>AVTOT: -1.409987515485199</br>EXLAND: -0.8811002224994066</br>EXTOT: -0.9821209155989064</br>EXMPTCL: 0.0</br>BLDFRONT: -1.4752961362039547</br>BLDDEPTH: -1.5117416694640489</br>AVLAND2: -0.6763157372913495</br>AVTOT2: -0.6769214045938811</br>EXTOT2: -0.4192279477359309</br>BLDAREA: -1.4931117864269552</br>LTAREA: 0.0986332022265756</br>... too many variables"
          ],
          [
           "</br>id: 69</br>prediction: 16668938.0</br>AVLAND: 6.406856201685847</br></br>LTFRONT: 0.2052506401893017</br>LTDEPTH: 0.0041150840808124</br>STORIES: -2.4256728086552424</br>AVTOT: -1.409987515485199</br>EXLAND: -0.8811002224994066</br>EXTOT: -0.9821209155989064</br>EXMPTCL: 0.0</br>BLDFRONT: -1.4752961362039547</br>BLDDEPTH: -1.5117416694640489</br>AVLAND2: -0.6763157372913495</br>AVTOT2: -0.6769214045938811</br>EXTOT2: -0.4192279477359309</br>BLDAREA: -1.4931117864269552</br>LTAREA: 0.0986332022265756</br>... too many variables"
          ],
          [
           "</br>id: 69</br>prediction: 16668938.0</br>AVLAND: 6.517193651812543</br></br>LTFRONT: 0.2052506401893017</br>LTDEPTH: 0.0041150840808124</br>STORIES: -2.4256728086552424</br>AVTOT: -1.409987515485199</br>EXLAND: -0.8811002224994066</br>EXTOT: -0.9821209155989064</br>EXMPTCL: 0.0</br>BLDFRONT: -1.4752961362039547</br>BLDDEPTH: -1.5117416694640489</br>AVLAND2: -0.6763157372913495</br>AVTOT2: -0.6769214045938811</br>EXTOT2: -0.4192279477359309</br>BLDAREA: -1.4931117864269552</br>LTAREA: 0.0986332022265756</br>... too many variables"
          ],
          [
           "</br>id: 69</br>prediction: 16668938.0</br>AVLAND: 6.6275311019392396</br></br>LTFRONT: 0.2052506401893017</br>LTDEPTH: 0.0041150840808124</br>STORIES: -2.4256728086552424</br>AVTOT: -1.409987515485199</br>EXLAND: -0.8811002224994066</br>EXTOT: -0.9821209155989064</br>EXMPTCL: 0.0</br>BLDFRONT: -1.4752961362039547</br>BLDDEPTH: -1.5117416694640489</br>AVLAND2: -0.6763157372913495</br>AVTOT2: -0.6769214045938811</br>EXTOT2: -0.4192279477359309</br>BLDAREA: -1.4931117864269552</br>LTAREA: 0.0986332022265756</br>... too many variables"
          ],
          [
           "</br>id: 69</br>prediction: 16668938.0</br>AVLAND: 6.737868552065934</br></br>LTFRONT: 0.2052506401893017</br>LTDEPTH: 0.0041150840808124</br>STORIES: -2.4256728086552424</br>AVTOT: -1.409987515485199</br>EXLAND: -0.8811002224994066</br>EXTOT: -0.9821209155989064</br>EXMPTCL: 0.0</br>BLDFRONT: -1.4752961362039547</br>BLDDEPTH: -1.5117416694640489</br>AVLAND2: -0.6763157372913495</br>AVTOT2: -0.6769214045938811</br>EXTOT2: -0.4192279477359309</br>BLDAREA: -1.4931117864269552</br>LTAREA: 0.0986332022265756</br>... too many variables"
          ],
          [
           "</br>id: 69</br>prediction: 16668938.0</br>AVLAND: 6.84820600219263</br></br>LTFRONT: 0.2052506401893017</br>LTDEPTH: 0.0041150840808124</br>STORIES: -2.4256728086552424</br>AVTOT: -1.409987515485199</br>EXLAND: -0.8811002224994066</br>EXTOT: -0.9821209155989064</br>EXMPTCL: 0.0</br>BLDFRONT: -1.4752961362039547</br>BLDDEPTH: -1.5117416694640489</br>AVLAND2: -0.6763157372913495</br>AVTOT2: -0.6769214045938811</br>EXTOT2: -0.4192279477359309</br>BLDAREA: -1.4931117864269552</br>LTAREA: 0.0986332022265756</br>... too many variables"
          ],
          [
           "</br>id: 69</br>prediction: 16668938.0</br>AVLAND: 6.958543452319327</br></br>LTFRONT: 0.2052506401893017</br>LTDEPTH: 0.0041150840808124</br>STORIES: -2.4256728086552424</br>AVTOT: -1.409987515485199</br>EXLAND: -0.8811002224994066</br>EXTOT: -0.9821209155989064</br>EXMPTCL: 0.0</br>BLDFRONT: -1.4752961362039547</br>BLDDEPTH: -1.5117416694640489</br>AVLAND2: -0.6763157372913495</br>AVTOT2: -0.6769214045938811</br>EXTOT2: -0.4192279477359309</br>BLDAREA: -1.4931117864269552</br>LTAREA: 0.0986332022265756</br>... too many variables"
          ],
          [
           "</br>id: 69</br>prediction: 16668938.0</br>AVLAND: 7.068880902446023</br></br>LTFRONT: 0.2052506401893017</br>LTDEPTH: 0.0041150840808124</br>STORIES: -2.4256728086552424</br>AVTOT: -1.409987515485199</br>EXLAND: -0.8811002224994066</br>EXTOT: -0.9821209155989064</br>EXMPTCL: 0.0</br>BLDFRONT: -1.4752961362039547</br>BLDDEPTH: -1.5117416694640489</br>AVLAND2: -0.6763157372913495</br>AVTOT2: -0.6769214045938811</br>EXTOT2: -0.4192279477359309</br>BLDAREA: -1.4931117864269552</br>LTAREA: 0.0986332022265756</br>... too many variables"
          ],
          [
           "</br>id: 69</br>prediction: 16668938.0</br>AVLAND: 7.179218352572717</br></br>LTFRONT: 0.2052506401893017</br>LTDEPTH: 0.0041150840808124</br>STORIES: -2.4256728086552424</br>AVTOT: -1.409987515485199</br>EXLAND: -0.8811002224994066</br>EXTOT: -0.9821209155989064</br>EXMPTCL: 0.0</br>BLDFRONT: -1.4752961362039547</br>BLDDEPTH: -1.5117416694640489</br>AVLAND2: -0.6763157372913495</br>AVTOT2: -0.6769214045938811</br>EXTOT2: -0.4192279477359309</br>BLDAREA: -1.4931117864269552</br>LTAREA: 0.0986332022265756</br>... too many variables"
          ],
          [
           "</br>id: 69</br>prediction: 16668938.0</br>AVLAND: 7.289555802699414</br></br>LTFRONT: 0.2052506401893017</br>LTDEPTH: 0.0041150840808124</br>STORIES: -2.4256728086552424</br>AVTOT: -1.409987515485199</br>EXLAND: -0.8811002224994066</br>EXTOT: -0.9821209155989064</br>EXMPTCL: 0.0</br>BLDFRONT: -1.4752961362039547</br>BLDDEPTH: -1.5117416694640489</br>AVLAND2: -0.6763157372913495</br>AVTOT2: -0.6769214045938811</br>EXTOT2: -0.4192279477359309</br>BLDAREA: -1.4931117864269552</br>LTAREA: 0.0986332022265756</br>... too many variables"
          ],
          [
           "</br>id: 69</br>prediction: 16668938.0</br>AVLAND: 7.39989325282611</br></br>LTFRONT: 0.2052506401893017</br>LTDEPTH: 0.0041150840808124</br>STORIES: -2.4256728086552424</br>AVTOT: -1.409987515485199</br>EXLAND: -0.8811002224994066</br>EXTOT: -0.9821209155989064</br>EXMPTCL: 0.0</br>BLDFRONT: -1.4752961362039547</br>BLDDEPTH: -1.5117416694640489</br>AVLAND2: -0.6763157372913495</br>AVTOT2: -0.6769214045938811</br>EXTOT2: -0.4192279477359309</br>BLDAREA: -1.4931117864269552</br>LTAREA: 0.0986332022265756</br>... too many variables"
          ],
          [
           "</br>id: 69</br>prediction: 16668938.0</br>AVLAND: 7.510230702952804</br></br>LTFRONT: 0.2052506401893017</br>LTDEPTH: 0.0041150840808124</br>STORIES: -2.4256728086552424</br>AVTOT: -1.409987515485199</br>EXLAND: -0.8811002224994066</br>EXTOT: -0.9821209155989064</br>EXMPTCL: 0.0</br>BLDFRONT: -1.4752961362039547</br>BLDDEPTH: -1.5117416694640489</br>AVLAND2: -0.6763157372913495</br>AVTOT2: -0.6769214045938811</br>EXTOT2: -0.4192279477359309</br>BLDAREA: -1.4931117864269552</br>LTAREA: 0.0986332022265756</br>... too many variables"
          ],
          [
           "</br>id: 69</br>prediction: 16668938.0</br>AVLAND: 7.620568153079501</br></br>LTFRONT: 0.2052506401893017</br>LTDEPTH: 0.0041150840808124</br>STORIES: -2.4256728086552424</br>AVTOT: -1.409987515485199</br>EXLAND: -0.8811002224994066</br>EXTOT: -0.9821209155989064</br>EXMPTCL: 0.0</br>BLDFRONT: -1.4752961362039547</br>BLDDEPTH: -1.5117416694640489</br>AVLAND2: -0.6763157372913495</br>AVTOT2: -0.6769214045938811</br>EXTOT2: -0.4192279477359309</br>BLDAREA: -1.4931117864269552</br>LTAREA: 0.0986332022265756</br>... too many variables"
          ]
         ],
         "hovertemplate": "%{customdata[0]}<extra></extra>",
         "legendgroup": "XGBRFRegressor",
         "line": {
          "color": "#46bac2",
          "dash": "solid",
          "width": 2
         },
         "marker": {
          "symbol": "circle"
         },
         "mode": "lines",
         "name": "XGBRFRegressor",
         "opacity": 1,
         "orientation": "v",
         "showlegend": true,
         "type": "scatter",
         "x": [
          -3.4131768595900747,
          -3.302839409463379,
          -3.192501959336683,
          -3.0821645092099876,
          -2.971827059083292,
          -2.861489608956596,
          -2.7511521588299,
          -2.6408147087032043,
          -2.5304772585765085,
          -2.4201398084498127,
          -2.3098023583231173,
          -2.199464908196421,
          -2.0891274580697257,
          -1.9787900079430298,
          -1.868452557816334,
          -1.7581151076896384,
          -1.6477776575629426,
          -1.5374402074362468,
          -1.4271027573095512,
          -1.3167653071828553,
          -1.2064278570561595,
          -1.0960904069294637,
          -0.9857529568027679,
          -0.8754155066760725,
          -0.7650780565493767,
          -0.6547406064226808,
          -0.544403156295985,
          -0.4340657061692892,
          -0.32372825604259337,
          -0.21339080591589799,
          -0.10305335578920216,
          0.007284094337493663,
          0.11762154446418949,
          0.2279589945908853,
          0.33829644471758114,
          0.44863389484427696,
          0.5589713449709723,
          0.6693087950976686,
          0.779646245224364,
          0.8899836953510594,
          1.0003211454777556,
          1.110658595604451,
          1.2209960457311473,
          1.3313334958578427,
          1.441670945984539,
          1.5520083961112343,
          1.6623458462379297,
          1.772683296364626,
          1.8830207464913213,
          1.9933581966180176,
          2.103695646744713,
          2.2140330968714093,
          2.3243705469981046,
          2.4347079971248,
          2.5450454472514963,
          2.6553828973781917,
          2.765720347504888,
          2.8760577976315833,
          2.9863952477582787,
          3.096732697884975,
          3.2070701480116703,
          3.3174075981383666,
          3.427745048265062,
          3.5380824983917583,
          3.6484199485184536,
          3.758757398645149,
          3.8690948487718453,
          3.9794322988985407,
          4.089769749025237,
          4.200107199151932,
          4.310444649278629,
          4.420782099405324,
          4.531119549532019,
          4.641456999658716,
          4.751794449785412,
          4.862131899912106,
          4.972469350038803,
          5.082806800165499,
          5.193144250292193,
          5.30348170041889,
          5.413819150545586,
          5.524156600672282,
          5.634494050798977,
          5.744831500925673,
          5.855168951052369,
          5.965506401179064,
          6.07584385130576,
          6.186181301432456,
          6.2965187515591525,
          6.406856201685847,
          6.517193651812543,
          6.6275311019392396,
          6.737868552065934,
          6.84820600219263,
          6.958543452319327,
          7.068880902446023,
          7.179218352572717,
          7.289555802699414,
          7.39989325282611,
          7.510230702952804,
          7.620568153079501
         ],
         "xaxis": "x",
         "y": [
          301794.4375,
          301794.4375,
          301794.4375,
          302173.125,
          302173.125,
          302173.125,
          302173.125,
          302173.125,
          302173.125,
          302173.125,
          302173.125,
          302173.125,
          302173.125,
          302173.125,
          302880.5,
          303108.9375,
          303942.875,
          303942.875,
          303942.875,
          305034.5,
          305034.5,
          305034.5,
          305884.5625,
          305884.5625,
          304460.375,
          327630.875,
          325147.375,
          294836,
          302391.40625,
          312175.6875,
          307700.5625,
          306504.5,
          309736.34375,
          311986.09375,
          369010.21875,
          376669.71875,
          376669.71875,
          376669.71875,
          376669.71875,
          376669.71875,
          378247.46875,
          436975.71875,
          522055.1875,
          531202.3125,
          573381.9375,
          654893.4375,
          664922.75,
          666908.8125,
          622785.875,
          626478.25,
          626478.25,
          624096.75,
          624096.75,
          629876.6875,
          634013.1875,
          634013.1875,
          727410.5625,
          727410.5625,
          815766.3125,
          815766.3125,
          815766.3125,
          815766.3125,
          815766.3125,
          815766.3125,
          920475.75,
          920475.75,
          920475.75,
          920475.75,
          920475.75,
          920475.75,
          920475.75,
          920475.75,
          920475.75,
          920475.75,
          920475.75,
          1713655.125,
          1713655.125,
          1713655.125,
          6330050,
          15564990,
          15564990,
          15564990,
          15564990,
          15564990,
          15564990,
          16668938,
          16668938,
          16668938,
          16668938,
          16668938,
          16668938,
          16668938,
          16668938,
          16668938,
          16668938,
          16668938,
          16668938,
          16668938,
          16668938,
          16668938,
          16668938
         ],
         "yaxis": "y"
        },
        {
         "customdata": [
          [
           "</br>id: 69</br>prediction: 302159.375</br>AVTOT: -3.5734856978804257</br></br>LTFRONT: 0.2052506401893017</br>LTDEPTH: 0.0041150840808124</br>STORIES: -2.4256728086552424</br>AVLAND: -0.8931862160783208</br>EXLAND: -0.8811002224994066</br>EXTOT: -0.9821209155989064</br>EXMPTCL: 0.0</br>BLDFRONT: -1.4752961362039547</br>BLDDEPTH: -1.5117416694640489</br>AVLAND2: -0.6763157372913495</br>AVTOT2: -0.6769214045938811</br>EXTOT2: -0.4192279477359309</br>BLDAREA: -1.4931117864269552</br>LTAREA: 0.0986332022265756</br>... too many variables"
          ],
          [
           "</br>id: 69</br>prediction: 302159.375</br>AVTOT: -3.4748668598755734</br></br>LTFRONT: 0.2052506401893017</br>LTDEPTH: 0.0041150840808124</br>STORIES: -2.4256728086552424</br>AVLAND: -0.8931862160783208</br>EXLAND: -0.8811002224994066</br>EXTOT: -0.9821209155989064</br>EXMPTCL: 0.0</br>BLDFRONT: -1.4752961362039547</br>BLDDEPTH: -1.5117416694640489</br>AVLAND2: -0.6763157372913495</br>AVTOT2: -0.6769214045938811</br>EXTOT2: -0.4192279477359309</br>BLDAREA: -1.4931117864269552</br>LTAREA: 0.0986332022265756</br>... too many variables"
          ],
          [
           "</br>id: 69</br>prediction: 302159.375</br>AVTOT: -3.376248021870721</br></br>LTFRONT: 0.2052506401893017</br>LTDEPTH: 0.0041150840808124</br>STORIES: -2.4256728086552424</br>AVLAND: -0.8931862160783208</br>EXLAND: -0.8811002224994066</br>EXTOT: -0.9821209155989064</br>EXMPTCL: 0.0</br>BLDFRONT: -1.4752961362039547</br>BLDDEPTH: -1.5117416694640489</br>AVLAND2: -0.6763157372913495</br>AVTOT2: -0.6769214045938811</br>EXTOT2: -0.4192279477359309</br>BLDAREA: -1.4931117864269552</br>LTAREA: 0.0986332022265756</br>... too many variables"
          ],
          [
           "</br>id: 69</br>prediction: 302159.375</br>AVTOT: -3.277629183865869</br></br>LTFRONT: 0.2052506401893017</br>LTDEPTH: 0.0041150840808124</br>STORIES: -2.4256728086552424</br>AVLAND: -0.8931862160783208</br>EXLAND: -0.8811002224994066</br>EXTOT: -0.9821209155989064</br>EXMPTCL: 0.0</br>BLDFRONT: -1.4752961362039547</br>BLDDEPTH: -1.5117416694640489</br>AVLAND2: -0.6763157372913495</br>AVTOT2: -0.6769214045938811</br>EXTOT2: -0.4192279477359309</br>BLDAREA: -1.4931117864269552</br>LTAREA: 0.0986332022265756</br>... too many variables"
          ],
          [
           "</br>id: 69</br>prediction: 302159.375</br>AVTOT: -3.179010345861017</br></br>LTFRONT: 0.2052506401893017</br>LTDEPTH: 0.0041150840808124</br>STORIES: -2.4256728086552424</br>AVLAND: -0.8931862160783208</br>EXLAND: -0.8811002224994066</br>EXTOT: -0.9821209155989064</br>EXMPTCL: 0.0</br>BLDFRONT: -1.4752961362039547</br>BLDDEPTH: -1.5117416694640489</br>AVLAND2: -0.6763157372913495</br>AVTOT2: -0.6769214045938811</br>EXTOT2: -0.4192279477359309</br>BLDAREA: -1.4931117864269552</br>LTAREA: 0.0986332022265756</br>... too many variables"
          ],
          [
           "</br>id: 69</br>prediction: 302159.375</br>AVTOT: -3.080391507856165</br></br>LTFRONT: 0.2052506401893017</br>LTDEPTH: 0.0041150840808124</br>STORIES: -2.4256728086552424</br>AVLAND: -0.8931862160783208</br>EXLAND: -0.8811002224994066</br>EXTOT: -0.9821209155989064</br>EXMPTCL: 0.0</br>BLDFRONT: -1.4752961362039547</br>BLDDEPTH: -1.5117416694640489</br>AVLAND2: -0.6763157372913495</br>AVTOT2: -0.6769214045938811</br>EXTOT2: -0.4192279477359309</br>BLDAREA: -1.4931117864269552</br>LTAREA: 0.0986332022265756</br>... too many variables"
          ],
          [
           "</br>id: 69</br>prediction: 302159.375</br>AVTOT: -2.9817726698513125</br></br>LTFRONT: 0.2052506401893017</br>LTDEPTH: 0.0041150840808124</br>STORIES: -2.4256728086552424</br>AVLAND: -0.8931862160783208</br>EXLAND: -0.8811002224994066</br>EXTOT: -0.9821209155989064</br>EXMPTCL: 0.0</br>BLDFRONT: -1.4752961362039547</br>BLDDEPTH: -1.5117416694640489</br>AVLAND2: -0.6763157372913495</br>AVTOT2: -0.6769214045938811</br>EXTOT2: -0.4192279477359309</br>BLDAREA: -1.4931117864269552</br>LTAREA: 0.0986332022265756</br>... too many variables"
          ],
          [
           "</br>id: 69</br>prediction: 302159.375</br>AVTOT: -2.8831538318464602</br></br>LTFRONT: 0.2052506401893017</br>LTDEPTH: 0.0041150840808124</br>STORIES: -2.4256728086552424</br>AVLAND: -0.8931862160783208</br>EXLAND: -0.8811002224994066</br>EXTOT: -0.9821209155989064</br>EXMPTCL: 0.0</br>BLDFRONT: -1.4752961362039547</br>BLDDEPTH: -1.5117416694640489</br>AVLAND2: -0.6763157372913495</br>AVTOT2: -0.6769214045938811</br>EXTOT2: -0.4192279477359309</br>BLDAREA: -1.4931117864269552</br>LTAREA: 0.0986332022265756</br>... too many variables"
          ],
          [
           "</br>id: 69</br>prediction: 302159.375</br>AVTOT: -2.784534993841608</br></br>LTFRONT: 0.2052506401893017</br>LTDEPTH: 0.0041150840808124</br>STORIES: -2.4256728086552424</br>AVLAND: -0.8931862160783208</br>EXLAND: -0.8811002224994066</br>EXTOT: -0.9821209155989064</br>EXMPTCL: 0.0</br>BLDFRONT: -1.4752961362039547</br>BLDDEPTH: -1.5117416694640489</br>AVLAND2: -0.6763157372913495</br>AVTOT2: -0.6769214045938811</br>EXTOT2: -0.4192279477359309</br>BLDAREA: -1.4931117864269552</br>LTAREA: 0.0986332022265756</br>... too many variables"
          ],
          [
           "</br>id: 69</br>prediction: 302159.375</br>AVTOT: -2.6859161558367557</br></br>LTFRONT: 0.2052506401893017</br>LTDEPTH: 0.0041150840808124</br>STORIES: -2.4256728086552424</br>AVLAND: -0.8931862160783208</br>EXLAND: -0.8811002224994066</br>EXTOT: -0.9821209155989064</br>EXMPTCL: 0.0</br>BLDFRONT: -1.4752961362039547</br>BLDDEPTH: -1.5117416694640489</br>AVLAND2: -0.6763157372913495</br>AVTOT2: -0.6769214045938811</br>EXTOT2: -0.4192279477359309</br>BLDAREA: -1.4931117864269552</br>LTAREA: 0.0986332022265756</br>... too many variables"
          ],
          [
           "</br>id: 69</br>prediction: 302159.375</br>AVTOT: -2.5872973178319034</br></br>LTFRONT: 0.2052506401893017</br>LTDEPTH: 0.0041150840808124</br>STORIES: -2.4256728086552424</br>AVLAND: -0.8931862160783208</br>EXLAND: -0.8811002224994066</br>EXTOT: -0.9821209155989064</br>EXMPTCL: 0.0</br>BLDFRONT: -1.4752961362039547</br>BLDDEPTH: -1.5117416694640489</br>AVLAND2: -0.6763157372913495</br>AVTOT2: -0.6769214045938811</br>EXTOT2: -0.4192279477359309</br>BLDAREA: -1.4931117864269552</br>LTAREA: 0.0986332022265756</br>... too many variables"
          ],
          [
           "</br>id: 69</br>prediction: 302159.375</br>AVTOT: -2.488678479827051</br></br>LTFRONT: 0.2052506401893017</br>LTDEPTH: 0.0041150840808124</br>STORIES: -2.4256728086552424</br>AVLAND: -0.8931862160783208</br>EXLAND: -0.8811002224994066</br>EXTOT: -0.9821209155989064</br>EXMPTCL: 0.0</br>BLDFRONT: -1.4752961362039547</br>BLDDEPTH: -1.5117416694640489</br>AVLAND2: -0.6763157372913495</br>AVTOT2: -0.6769214045938811</br>EXTOT2: -0.4192279477359309</br>BLDAREA: -1.4931117864269552</br>LTAREA: 0.0986332022265756</br>... too many variables"
          ],
          [
           "</br>id: 69</br>prediction: 302553.625</br>AVTOT: -2.390059641822199</br></br>LTFRONT: 0.2052506401893017</br>LTDEPTH: 0.0041150840808124</br>STORIES: -2.4256728086552424</br>AVLAND: -0.8931862160783208</br>EXLAND: -0.8811002224994066</br>EXTOT: -0.9821209155989064</br>EXMPTCL: 0.0</br>BLDFRONT: -1.4752961362039547</br>BLDDEPTH: -1.5117416694640489</br>AVLAND2: -0.6763157372913495</br>AVTOT2: -0.6769214045938811</br>EXTOT2: -0.4192279477359309</br>BLDAREA: -1.4931117864269552</br>LTAREA: 0.0986332022265756</br>... too many variables"
          ],
          [
           "</br>id: 69</br>prediction: 302553.625</br>AVTOT: -2.2914408038173466</br></br>LTFRONT: 0.2052506401893017</br>LTDEPTH: 0.0041150840808124</br>STORIES: -2.4256728086552424</br>AVLAND: -0.8931862160783208</br>EXLAND: -0.8811002224994066</br>EXTOT: -0.9821209155989064</br>EXMPTCL: 0.0</br>BLDFRONT: -1.4752961362039547</br>BLDDEPTH: -1.5117416694640489</br>AVLAND2: -0.6763157372913495</br>AVTOT2: -0.6769214045938811</br>EXTOT2: -0.4192279477359309</br>BLDAREA: -1.4931117864269552</br>LTAREA: 0.0986332022265756</br>... too many variables"
          ],
          [
           "</br>id: 69</br>prediction: 302553.625</br>AVTOT: -2.1928219658124948</br></br>LTFRONT: 0.2052506401893017</br>LTDEPTH: 0.0041150840808124</br>STORIES: -2.4256728086552424</br>AVLAND: -0.8931862160783208</br>EXLAND: -0.8811002224994066</br>EXTOT: -0.9821209155989064</br>EXMPTCL: 0.0</br>BLDFRONT: -1.4752961362039547</br>BLDDEPTH: -1.5117416694640489</br>AVLAND2: -0.6763157372913495</br>AVTOT2: -0.6769214045938811</br>EXTOT2: -0.4192279477359309</br>BLDAREA: -1.4931117864269552</br>LTAREA: 0.0986332022265756</br>... too many variables"
          ],
          [
           "</br>id: 69</br>prediction: 302553.625</br>AVTOT: -2.0942031278076425</br></br>LTFRONT: 0.2052506401893017</br>LTDEPTH: 0.0041150840808124</br>STORIES: -2.4256728086552424</br>AVLAND: -0.8931862160783208</br>EXLAND: -0.8811002224994066</br>EXTOT: -0.9821209155989064</br>EXMPTCL: 0.0</br>BLDFRONT: -1.4752961362039547</br>BLDDEPTH: -1.5117416694640489</br>AVLAND2: -0.6763157372913495</br>AVTOT2: -0.6769214045938811</br>EXTOT2: -0.4192279477359309</br>BLDAREA: -1.4931117864269552</br>LTAREA: 0.0986332022265756</br>... too many variables"
          ],
          [
           "</br>id: 69</br>prediction: 302553.625</br>AVTOT: -1.9955842898027902</br></br>LTFRONT: 0.2052506401893017</br>LTDEPTH: 0.0041150840808124</br>STORIES: -2.4256728086552424</br>AVLAND: -0.8931862160783208</br>EXLAND: -0.8811002224994066</br>EXTOT: -0.9821209155989064</br>EXMPTCL: 0.0</br>BLDFRONT: -1.4752961362039547</br>BLDDEPTH: -1.5117416694640489</br>AVLAND2: -0.6763157372913495</br>AVTOT2: -0.6769214045938811</br>EXTOT2: -0.4192279477359309</br>BLDAREA: -1.4931117864269552</br>LTAREA: 0.0986332022265756</br>... too many variables"
          ],
          [
           "</br>id: 69</br>prediction: 302553.625</br>AVTOT: -1.896965451797938</br></br>LTFRONT: 0.2052506401893017</br>LTDEPTH: 0.0041150840808124</br>STORIES: -2.4256728086552424</br>AVLAND: -0.8931862160783208</br>EXLAND: -0.8811002224994066</br>EXTOT: -0.9821209155989064</br>EXMPTCL: 0.0</br>BLDFRONT: -1.4752961362039547</br>BLDDEPTH: -1.5117416694640489</br>AVLAND2: -0.6763157372913495</br>AVTOT2: -0.6769214045938811</br>EXTOT2: -0.4192279477359309</br>BLDAREA: -1.4931117864269552</br>LTAREA: 0.0986332022265756</br>... too many variables"
          ],
          [
           "</br>id: 69</br>prediction: 302553.625</br>AVTOT: -1.7983466137930857</br></br>LTFRONT: 0.2052506401893017</br>LTDEPTH: 0.0041150840808124</br>STORIES: -2.4256728086552424</br>AVLAND: -0.8931862160783208</br>EXLAND: -0.8811002224994066</br>EXTOT: -0.9821209155989064</br>EXMPTCL: 0.0</br>BLDFRONT: -1.4752961362039547</br>BLDDEPTH: -1.5117416694640489</br>AVLAND2: -0.6763157372913495</br>AVTOT2: -0.6769214045938811</br>EXTOT2: -0.4192279477359309</br>BLDAREA: -1.4931117864269552</br>LTAREA: 0.0986332022265756</br>... too many variables"
          ],
          [
           "</br>id: 69</br>prediction: 302553.625</br>AVTOT: -1.6997277757882336</br></br>LTFRONT: 0.2052506401893017</br>LTDEPTH: 0.0041150840808124</br>STORIES: -2.4256728086552424</br>AVLAND: -0.8931862160783208</br>EXLAND: -0.8811002224994066</br>EXTOT: -0.9821209155989064</br>EXMPTCL: 0.0</br>BLDFRONT: -1.4752961362039547</br>BLDDEPTH: -1.5117416694640489</br>AVLAND2: -0.6763157372913495</br>AVTOT2: -0.6769214045938811</br>EXTOT2: -0.4192279477359309</br>BLDAREA: -1.4931117864269552</br>LTAREA: 0.0986332022265756</br>... too many variables"
          ],
          [
           "</br>id: 69</br>prediction: 302553.625</br>AVTOT: -1.6011089377833814</br></br>LTFRONT: 0.2052506401893017</br>LTDEPTH: 0.0041150840808124</br>STORIES: -2.4256728086552424</br>AVLAND: -0.8931862160783208</br>EXLAND: -0.8811002224994066</br>EXTOT: -0.9821209155989064</br>EXMPTCL: 0.0</br>BLDFRONT: -1.4752961362039547</br>BLDDEPTH: -1.5117416694640489</br>AVLAND2: -0.6763157372913495</br>AVTOT2: -0.6769214045938811</br>EXTOT2: -0.4192279477359309</br>BLDAREA: -1.4931117864269552</br>LTAREA: 0.0986332022265756</br>... too many variables"
          ],
          [
           "</br>id: 69</br>prediction: 304887.438</br>AVTOT: -1.5024900997785293</br></br>LTFRONT: 0.2052506401893017</br>LTDEPTH: 0.0041150840808124</br>STORIES: -2.4256728086552424</br>AVLAND: -0.8931862160783208</br>EXLAND: -0.8811002224994066</br>EXTOT: -0.9821209155989064</br>EXMPTCL: 0.0</br>BLDFRONT: -1.4752961362039547</br>BLDDEPTH: -1.5117416694640489</br>AVLAND2: -0.6763157372913495</br>AVTOT2: -0.6769214045938811</br>EXTOT2: -0.4192279477359309</br>BLDAREA: -1.4931117864269552</br>LTAREA: 0.0986332022265756</br>... too many variables"
          ],
          [
           "</br>id: 69</br>prediction: 305884.562</br>AVTOT: -1.403871261773677</br></br>LTFRONT: 0.2052506401893017</br>LTDEPTH: 0.0041150840808124</br>STORIES: -2.4256728086552424</br>AVLAND: -0.8931862160783208</br>EXLAND: -0.8811002224994066</br>EXTOT: -0.9821209155989064</br>EXMPTCL: 0.0</br>BLDFRONT: -1.4752961362039547</br>BLDDEPTH: -1.5117416694640489</br>AVLAND2: -0.6763157372913495</br>AVTOT2: -0.6769214045938811</br>EXTOT2: -0.4192279477359309</br>BLDAREA: -1.4931117864269552</br>LTAREA: 0.0986332022265756</br>... too many variables"
          ],
          [
           "</br>id: 69</br>prediction: 305884.562</br>AVTOT: -1.3052524237688248</br></br>LTFRONT: 0.2052506401893017</br>LTDEPTH: 0.0041150840808124</br>STORIES: -2.4256728086552424</br>AVLAND: -0.8931862160783208</br>EXLAND: -0.8811002224994066</br>EXTOT: -0.9821209155989064</br>EXMPTCL: 0.0</br>BLDFRONT: -1.4752961362039547</br>BLDDEPTH: -1.5117416694640489</br>AVLAND2: -0.6763157372913495</br>AVTOT2: -0.6769214045938811</br>EXTOT2: -0.4192279477359309</br>BLDAREA: -1.4931117864269552</br>LTAREA: 0.0986332022265756</br>... too many variables"
          ],
          [
           "</br>id: 69</br>prediction: 305884.562</br>AVTOT: -1.2066335857639725</br></br>LTFRONT: 0.2052506401893017</br>LTDEPTH: 0.0041150840808124</br>STORIES: -2.4256728086552424</br>AVLAND: -0.8931862160783208</br>EXLAND: -0.8811002224994066</br>EXTOT: -0.9821209155989064</br>EXMPTCL: 0.0</br>BLDFRONT: -1.4752961362039547</br>BLDDEPTH: -1.5117416694640489</br>AVLAND2: -0.6763157372913495</br>AVTOT2: -0.6769214045938811</br>EXTOT2: -0.4192279477359309</br>BLDAREA: -1.4931117864269552</br>LTAREA: 0.0986332022265756</br>... too many variables"
          ],
          [
           "</br>id: 69</br>prediction: 305884.562</br>AVTOT: -1.1080147477591202</br></br>LTFRONT: 0.2052506401893017</br>LTDEPTH: 0.0041150840808124</br>STORIES: -2.4256728086552424</br>AVLAND: -0.8931862160783208</br>EXLAND: -0.8811002224994066</br>EXTOT: -0.9821209155989064</br>EXMPTCL: 0.0</br>BLDFRONT: -1.4752961362039547</br>BLDDEPTH: -1.5117416694640489</br>AVLAND2: -0.6763157372913495</br>AVTOT2: -0.6769214045938811</br>EXTOT2: -0.4192279477359309</br>BLDAREA: -1.4931117864269552</br>LTAREA: 0.0986332022265756</br>... too many variables"
          ],
          [
           "</br>id: 69</br>prediction: 325856.031</br>AVTOT: -1.009395909754268</br></br>LTFRONT: 0.2052506401893017</br>LTDEPTH: 0.0041150840808124</br>STORIES: -2.4256728086552424</br>AVLAND: -0.8931862160783208</br>EXLAND: -0.8811002224994066</br>EXTOT: -0.9821209155989064</br>EXMPTCL: 0.0</br>BLDFRONT: -1.4752961362039547</br>BLDDEPTH: -1.5117416694640489</br>AVLAND2: -0.6763157372913495</br>AVTOT2: -0.6769214045938811</br>EXTOT2: -0.4192279477359309</br>BLDAREA: -1.4931117864269552</br>LTAREA: 0.0986332022265756</br>... too many variables"
          ],
          [
           "</br>id: 69</br>prediction: 325856.031</br>AVTOT: -0.9107770717494157</br></br>LTFRONT: 0.2052506401893017</br>LTDEPTH: 0.0041150840808124</br>STORIES: -2.4256728086552424</br>AVLAND: -0.8931862160783208</br>EXLAND: -0.8811002224994066</br>EXTOT: -0.9821209155989064</br>EXMPTCL: 0.0</br>BLDFRONT: -1.4752961362039547</br>BLDDEPTH: -1.5117416694640489</br>AVLAND2: -0.6763157372913495</br>AVTOT2: -0.6769214045938811</br>EXTOT2: -0.4192279477359309</br>BLDAREA: -1.4931117864269552</br>LTAREA: 0.0986332022265756</br>... too many variables"
          ],
          [
           "</br>id: 69</br>prediction: 343937.0</br>AVTOT: -0.8121582337445639</br></br>LTFRONT: 0.2052506401893017</br>LTDEPTH: 0.0041150840808124</br>STORIES: -2.4256728086552424</br>AVLAND: -0.8931862160783208</br>EXLAND: -0.8811002224994066</br>EXTOT: -0.9821209155989064</br>EXMPTCL: 0.0</br>BLDFRONT: -1.4752961362039547</br>BLDDEPTH: -1.5117416694640489</br>AVLAND2: -0.6763157372913495</br>AVTOT2: -0.6769214045938811</br>EXTOT2: -0.4192279477359309</br>BLDAREA: -1.4931117864269552</br>LTAREA: 0.0986332022265756</br>... too many variables"
          ],
          [
           "</br>id: 69</br>prediction: 345221.0</br>AVTOT: -0.7135393957397116</br></br>LTFRONT: 0.2052506401893017</br>LTDEPTH: 0.0041150840808124</br>STORIES: -2.4256728086552424</br>AVLAND: -0.8931862160783208</br>EXLAND: -0.8811002224994066</br>EXTOT: -0.9821209155989064</br>EXMPTCL: 0.0</br>BLDFRONT: -1.4752961362039547</br>BLDDEPTH: -1.5117416694640489</br>AVLAND2: -0.6763157372913495</br>AVTOT2: -0.6769214045938811</br>EXTOT2: -0.4192279477359309</br>BLDAREA: -1.4931117864269552</br>LTAREA: 0.0986332022265756</br>... too many variables"
          ],
          [
           "</br>id: 69</br>prediction: 345221.0</br>AVTOT: -0.6149205577348593</br></br>LTFRONT: 0.2052506401893017</br>LTDEPTH: 0.0041150840808124</br>STORIES: -2.4256728086552424</br>AVLAND: -0.8931862160783208</br>EXLAND: -0.8811002224994066</br>EXTOT: -0.9821209155989064</br>EXMPTCL: 0.0</br>BLDFRONT: -1.4752961362039547</br>BLDDEPTH: -1.5117416694640489</br>AVLAND2: -0.6763157372913495</br>AVTOT2: -0.6769214045938811</br>EXTOT2: -0.4192279477359309</br>BLDAREA: -1.4931117864269552</br>LTAREA: 0.0986332022265756</br>... too many variables"
          ],
          [
           "</br>id: 69</br>prediction: 366470.906</br>AVTOT: -0.516301719730007</br></br>LTFRONT: 0.2052506401893017</br>LTDEPTH: 0.0041150840808124</br>STORIES: -2.4256728086552424</br>AVLAND: -0.8931862160783208</br>EXLAND: -0.8811002224994066</br>EXTOT: -0.9821209155989064</br>EXMPTCL: 0.0</br>BLDFRONT: -1.4752961362039547</br>BLDDEPTH: -1.5117416694640489</br>AVLAND2: -0.6763157372913495</br>AVTOT2: -0.6769214045938811</br>EXTOT2: -0.4192279477359309</br>BLDAREA: -1.4931117864269552</br>LTAREA: 0.0986332022265756</br>... too many variables"
          ],
          [
           "</br>id: 69</br>prediction: 409783.625</br>AVTOT: -0.4176828817251548</br></br>LTFRONT: 0.2052506401893017</br>LTDEPTH: 0.0041150840808124</br>STORIES: -2.4256728086552424</br>AVLAND: -0.8931862160783208</br>EXLAND: -0.8811002224994066</br>EXTOT: -0.9821209155989064</br>EXMPTCL: 0.0</br>BLDFRONT: -1.4752961362039547</br>BLDDEPTH: -1.5117416694640489</br>AVLAND2: -0.6763157372913495</br>AVTOT2: -0.6769214045938811</br>EXTOT2: -0.4192279477359309</br>BLDAREA: -1.4931117864269552</br>LTAREA: 0.0986332022265756</br>... too many variables"
          ],
          [
           "</br>id: 69</br>prediction: 600073.5</br>AVTOT: -0.3190640437203025</br></br>LTFRONT: 0.2052506401893017</br>LTDEPTH: 0.0041150840808124</br>STORIES: -2.4256728086552424</br>AVLAND: -0.8931862160783208</br>EXLAND: -0.8811002224994066</br>EXTOT: -0.9821209155989064</br>EXMPTCL: 0.0</br>BLDFRONT: -1.4752961362039547</br>BLDDEPTH: -1.5117416694640489</br>AVLAND2: -0.6763157372913495</br>AVTOT2: -0.6769214045938811</br>EXTOT2: -0.4192279477359309</br>BLDAREA: -1.4931117864269552</br>LTAREA: 0.0986332022265756</br>... too many variables"
          ],
          [
           "</br>id: 69</br>prediction: 663287.75</br>AVTOT: -0.22044520571545023</br></br>LTFRONT: 0.2052506401893017</br>LTDEPTH: 0.0041150840808124</br>STORIES: -2.4256728086552424</br>AVLAND: -0.8931862160783208</br>EXLAND: -0.8811002224994066</br>EXTOT: -0.9821209155989064</br>EXMPTCL: 0.0</br>BLDFRONT: -1.4752961362039547</br>BLDDEPTH: -1.5117416694640489</br>AVLAND2: -0.6763157372913495</br>AVTOT2: -0.6769214045938811</br>EXTOT2: -0.4192279477359309</br>BLDAREA: -1.4931117864269552</br>LTAREA: 0.0986332022265756</br>... too many variables"
          ],
          [
           "</br>id: 69</br>prediction: 723545.438</br>AVTOT: -0.12182636771059796</br></br>LTFRONT: 0.2052506401893017</br>LTDEPTH: 0.0041150840808124</br>STORIES: -2.4256728086552424</br>AVLAND: -0.8931862160783208</br>EXLAND: -0.8811002224994066</br>EXTOT: -0.9821209155989064</br>EXMPTCL: 0.0</br>BLDFRONT: -1.4752961362039547</br>BLDDEPTH: -1.5117416694640489</br>AVLAND2: -0.6763157372913495</br>AVTOT2: -0.6769214045938811</br>EXTOT2: -0.4192279477359309</br>BLDAREA: -1.4931117864269552</br>LTAREA: 0.0986332022265756</br>... too many variables"
          ],
          [
           "</br>id: 69</br>prediction: 1214622.25</br>AVTOT: -0.02320752970574569</br></br>LTFRONT: 0.2052506401893017</br>LTDEPTH: 0.0041150840808124</br>STORIES: -2.4256728086552424</br>AVLAND: -0.8931862160783208</br>EXLAND: -0.8811002224994066</br>EXTOT: -0.9821209155989064</br>EXMPTCL: 0.0</br>BLDFRONT: -1.4752961362039547</br>BLDDEPTH: -1.5117416694640489</br>AVLAND2: -0.6763157372913495</br>AVTOT2: -0.6769214045938811</br>EXTOT2: -0.4192279477359309</br>BLDAREA: -1.4931117864269552</br>LTAREA: 0.0986332022265756</br>... too many variables"
          ],
          [
           "</br>id: 69</br>prediction: 1385595.125</br>AVTOT: 0.07541130829910614</br></br>LTFRONT: 0.2052506401893017</br>LTDEPTH: 0.0041150840808124</br>STORIES: -2.4256728086552424</br>AVLAND: -0.8931862160783208</br>EXLAND: -0.8811002224994066</br>EXTOT: -0.9821209155989064</br>EXMPTCL: 0.0</br>BLDFRONT: -1.4752961362039547</br>BLDDEPTH: -1.5117416694640489</br>AVLAND2: -0.6763157372913495</br>AVTOT2: -0.6769214045938811</br>EXTOT2: -0.4192279477359309</br>BLDAREA: -1.4931117864269552</br>LTAREA: 0.0986332022265756</br>... too many variables"
          ],
          [
           "</br>id: 69</br>prediction: 1480396.25</br>AVTOT: 0.1740301463039584</br></br>LTFRONT: 0.2052506401893017</br>LTDEPTH: 0.0041150840808124</br>STORIES: -2.4256728086552424</br>AVLAND: -0.8931862160783208</br>EXLAND: -0.8811002224994066</br>EXTOT: -0.9821209155989064</br>EXMPTCL: 0.0</br>BLDFRONT: -1.4752961362039547</br>BLDDEPTH: -1.5117416694640489</br>AVLAND2: -0.6763157372913495</br>AVTOT2: -0.6769214045938811</br>EXTOT2: -0.4192279477359309</br>BLDAREA: -1.4931117864269552</br>LTAREA: 0.0986332022265756</br>... too many variables"
          ],
          [
           "</br>id: 69</br>prediction: 1538815.125</br>AVTOT: 0.2726489843088107</br></br>LTFRONT: 0.2052506401893017</br>LTDEPTH: 0.0041150840808124</br>STORIES: -2.4256728086552424</br>AVLAND: -0.8931862160783208</br>EXLAND: -0.8811002224994066</br>EXTOT: -0.9821209155989064</br>EXMPTCL: 0.0</br>BLDFRONT: -1.4752961362039547</br>BLDDEPTH: -1.5117416694640489</br>AVLAND2: -0.6763157372913495</br>AVTOT2: -0.6769214045938811</br>EXTOT2: -0.4192279477359309</br>BLDAREA: -1.4931117864269552</br>LTAREA: 0.0986332022265756</br>... too many variables"
          ],
          [
           "</br>id: 69</br>prediction: 1986545.125</br>AVTOT: 0.37126782231366295</br></br>LTFRONT: 0.2052506401893017</br>LTDEPTH: 0.0041150840808124</br>STORIES: -2.4256728086552424</br>AVLAND: -0.8931862160783208</br>EXLAND: -0.8811002224994066</br>EXTOT: -0.9821209155989064</br>EXMPTCL: 0.0</br>BLDFRONT: -1.4752961362039547</br>BLDDEPTH: -1.5117416694640489</br>AVLAND2: -0.6763157372913495</br>AVTOT2: -0.6769214045938811</br>EXTOT2: -0.4192279477359309</br>BLDAREA: -1.4931117864269552</br>LTAREA: 0.0986332022265756</br>... too many variables"
          ],
          [
           "</br>id: 69</br>prediction: 3387709.5</br>AVTOT: 0.4698866603185148</br></br>LTFRONT: 0.2052506401893017</br>LTDEPTH: 0.0041150840808124</br>STORIES: -2.4256728086552424</br>AVLAND: -0.8931862160783208</br>EXLAND: -0.8811002224994066</br>EXTOT: -0.9821209155989064</br>EXMPTCL: 0.0</br>BLDFRONT: -1.4752961362039547</br>BLDDEPTH: -1.5117416694640489</br>AVLAND2: -0.6763157372913495</br>AVTOT2: -0.6769214045938811</br>EXTOT2: -0.4192279477359309</br>BLDAREA: -1.4931117864269552</br>LTAREA: 0.0986332022265756</br>... too many variables"
          ],
          [
           "</br>id: 69</br>prediction: 3464857.75</br>AVTOT: 0.568505498323367</br></br>LTFRONT: 0.2052506401893017</br>LTDEPTH: 0.0041150840808124</br>STORIES: -2.4256728086552424</br>AVLAND: -0.8931862160783208</br>EXLAND: -0.8811002224994066</br>EXTOT: -0.9821209155989064</br>EXMPTCL: 0.0</br>BLDFRONT: -1.4752961362039547</br>BLDDEPTH: -1.5117416694640489</br>AVLAND2: -0.6763157372913495</br>AVTOT2: -0.6769214045938811</br>EXTOT2: -0.4192279477359309</br>BLDAREA: -1.4931117864269552</br>LTAREA: 0.0986332022265756</br>... too many variables"
          ],
          [
           "</br>id: 69</br>prediction: 3669629.5</br>AVTOT: 0.6671243363282193</br></br>LTFRONT: 0.2052506401893017</br>LTDEPTH: 0.0041150840808124</br>STORIES: -2.4256728086552424</br>AVLAND: -0.8931862160783208</br>EXLAND: -0.8811002224994066</br>EXTOT: -0.9821209155989064</br>EXMPTCL: 0.0</br>BLDFRONT: -1.4752961362039547</br>BLDDEPTH: -1.5117416694640489</br>AVLAND2: -0.6763157372913495</br>AVTOT2: -0.6769214045938811</br>EXTOT2: -0.4192279477359309</br>BLDAREA: -1.4931117864269552</br>LTAREA: 0.0986332022265756</br>... too many variables"
          ],
          [
           "</br>id: 69</br>prediction: 3740351.5</br>AVTOT: 0.7657431743330716</br></br>LTFRONT: 0.2052506401893017</br>LTDEPTH: 0.0041150840808124</br>STORIES: -2.4256728086552424</br>AVLAND: -0.8931862160783208</br>EXLAND: -0.8811002224994066</br>EXTOT: -0.9821209155989064</br>EXMPTCL: 0.0</br>BLDFRONT: -1.4752961362039547</br>BLDDEPTH: -1.5117416694640489</br>AVLAND2: -0.6763157372913495</br>AVTOT2: -0.6769214045938811</br>EXTOT2: -0.4192279477359309</br>BLDAREA: -1.4931117864269552</br>LTAREA: 0.0986332022265756</br>... too many variables"
          ],
          [
           "</br>id: 69</br>prediction: 3747004.5</br>AVTOT: 0.8643620123379239</br></br>LTFRONT: 0.2052506401893017</br>LTDEPTH: 0.0041150840808124</br>STORIES: -2.4256728086552424</br>AVLAND: -0.8931862160783208</br>EXLAND: -0.8811002224994066</br>EXTOT: -0.9821209155989064</br>EXMPTCL: 0.0</br>BLDFRONT: -1.4752961362039547</br>BLDDEPTH: -1.5117416694640489</br>AVLAND2: -0.6763157372913495</br>AVTOT2: -0.6769214045938811</br>EXTOT2: -0.4192279477359309</br>BLDAREA: -1.4931117864269552</br>LTAREA: 0.0986332022265756</br>... too many variables"
          ],
          [
           "</br>id: 69</br>prediction: 3752620.75</br>AVTOT: 0.9629808503427761</br></br>LTFRONT: 0.2052506401893017</br>LTDEPTH: 0.0041150840808124</br>STORIES: -2.4256728086552424</br>AVLAND: -0.8931862160783208</br>EXLAND: -0.8811002224994066</br>EXTOT: -0.9821209155989064</br>EXMPTCL: 0.0</br>BLDFRONT: -1.4752961362039547</br>BLDDEPTH: -1.5117416694640489</br>AVLAND2: -0.6763157372913495</br>AVTOT2: -0.6769214045938811</br>EXTOT2: -0.4192279477359309</br>BLDAREA: -1.4931117864269552</br>LTAREA: 0.0986332022265756</br>... too many variables"
          ],
          [
           "</br>id: 69</br>prediction: 3745774.25</br>AVTOT: 1.0615996883476284</br></br>LTFRONT: 0.2052506401893017</br>LTDEPTH: 0.0041150840808124</br>STORIES: -2.4256728086552424</br>AVLAND: -0.8931862160783208</br>EXLAND: -0.8811002224994066</br>EXTOT: -0.9821209155989064</br>EXMPTCL: 0.0</br>BLDFRONT: -1.4752961362039547</br>BLDDEPTH: -1.5117416694640489</br>AVLAND2: -0.6763157372913495</br>AVTOT2: -0.6769214045938811</br>EXTOT2: -0.4192279477359309</br>BLDAREA: -1.4931117864269552</br>LTAREA: 0.0986332022265756</br>... too many variables"
          ],
          [
           "</br>id: 69</br>prediction: 3625417.0</br>AVTOT: 1.1602185263524807</br></br>LTFRONT: 0.2052506401893017</br>LTDEPTH: 0.0041150840808124</br>STORIES: -2.4256728086552424</br>AVLAND: -0.8931862160783208</br>EXLAND: -0.8811002224994066</br>EXTOT: -0.9821209155989064</br>EXMPTCL: 0.0</br>BLDFRONT: -1.4752961362039547</br>BLDDEPTH: -1.5117416694640489</br>AVLAND2: -0.6763157372913495</br>AVTOT2: -0.6769214045938811</br>EXTOT2: -0.4192279477359309</br>BLDAREA: -1.4931117864269552</br>LTAREA: 0.0986332022265756</br>... too many variables"
          ],
          [
           "</br>id: 69</br>prediction: 3555091.0</br>AVTOT: 1.258837364357333</br></br>LTFRONT: 0.2052506401893017</br>LTDEPTH: 0.0041150840808124</br>STORIES: -2.4256728086552424</br>AVLAND: -0.8931862160783208</br>EXLAND: -0.8811002224994066</br>EXTOT: -0.9821209155989064</br>EXMPTCL: 0.0</br>BLDFRONT: -1.4752961362039547</br>BLDDEPTH: -1.5117416694640489</br>AVLAND2: -0.6763157372913495</br>AVTOT2: -0.6769214045938811</br>EXTOT2: -0.4192279477359309</br>BLDAREA: -1.4931117864269552</br>LTAREA: 0.0986332022265756</br>... too many variables"
          ],
          [
           "</br>id: 69</br>prediction: 3519581.5</br>AVTOT: 1.3574562023621852</br></br>LTFRONT: 0.2052506401893017</br>LTDEPTH: 0.0041150840808124</br>STORIES: -2.4256728086552424</br>AVLAND: -0.8931862160783208</br>EXLAND: -0.8811002224994066</br>EXTOT: -0.9821209155989064</br>EXMPTCL: 0.0</br>BLDFRONT: -1.4752961362039547</br>BLDDEPTH: -1.5117416694640489</br>AVLAND2: -0.6763157372913495</br>AVTOT2: -0.6769214045938811</br>EXTOT2: -0.4192279477359309</br>BLDAREA: -1.4931117864269552</br>LTAREA: 0.0986332022265756</br>... too many variables"
          ],
          [
           "</br>id: 69</br>prediction: 2867810.0</br>AVTOT: 1.4560750403670375</br></br>LTFRONT: 0.2052506401893017</br>LTDEPTH: 0.0041150840808124</br>STORIES: -2.4256728086552424</br>AVLAND: -0.8931862160783208</br>EXLAND: -0.8811002224994066</br>EXTOT: -0.9821209155989064</br>EXMPTCL: 0.0</br>BLDFRONT: -1.4752961362039547</br>BLDDEPTH: -1.5117416694640489</br>AVLAND2: -0.6763157372913495</br>AVTOT2: -0.6769214045938811</br>EXTOT2: -0.4192279477359309</br>BLDAREA: -1.4931117864269552</br>LTAREA: 0.0986332022265756</br>... too many variables"
          ],
          [
           "</br>id: 69</br>prediction: 2710133.5</br>AVTOT: 1.5546938783718898</br></br>LTFRONT: 0.2052506401893017</br>LTDEPTH: 0.0041150840808124</br>STORIES: -2.4256728086552424</br>AVLAND: -0.8931862160783208</br>EXLAND: -0.8811002224994066</br>EXTOT: -0.9821209155989064</br>EXMPTCL: 0.0</br>BLDFRONT: -1.4752961362039547</br>BLDDEPTH: -1.5117416694640489</br>AVLAND2: -0.6763157372913495</br>AVTOT2: -0.6769214045938811</br>EXTOT2: -0.4192279477359309</br>BLDAREA: -1.4931117864269552</br>LTAREA: 0.0986332022265756</br>... too many variables"
          ],
          [
           "</br>id: 69</br>prediction: 2938106.5</br>AVTOT: 1.653312716376742</br></br>LTFRONT: 0.2052506401893017</br>LTDEPTH: 0.0041150840808124</br>STORIES: -2.4256728086552424</br>AVLAND: -0.8931862160783208</br>EXLAND: -0.8811002224994066</br>EXTOT: -0.9821209155989064</br>EXMPTCL: 0.0</br>BLDFRONT: -1.4752961362039547</br>BLDDEPTH: -1.5117416694640489</br>AVLAND2: -0.6763157372913495</br>AVTOT2: -0.6769214045938811</br>EXTOT2: -0.4192279477359309</br>BLDAREA: -1.4931117864269552</br>LTAREA: 0.0986332022265756</br>... too many variables"
          ],
          [
           "</br>id: 69</br>prediction: 2985129.5</br>AVTOT: 1.7519315543815943</br></br>LTFRONT: 0.2052506401893017</br>LTDEPTH: 0.0041150840808124</br>STORIES: -2.4256728086552424</br>AVLAND: -0.8931862160783208</br>EXLAND: -0.8811002224994066</br>EXTOT: -0.9821209155989064</br>EXMPTCL: 0.0</br>BLDFRONT: -1.4752961362039547</br>BLDDEPTH: -1.5117416694640489</br>AVLAND2: -0.6763157372913495</br>AVTOT2: -0.6769214045938811</br>EXTOT2: -0.4192279477359309</br>BLDAREA: -1.4931117864269552</br>LTAREA: 0.0986332022265756</br>... too many variables"
          ],
          [
           "</br>id: 69</br>prediction: 3342099.25</br>AVTOT: 1.8505503923864466</br></br>LTFRONT: 0.2052506401893017</br>LTDEPTH: 0.0041150840808124</br>STORIES: -2.4256728086552424</br>AVLAND: -0.8931862160783208</br>EXLAND: -0.8811002224994066</br>EXTOT: -0.9821209155989064</br>EXMPTCL: 0.0</br>BLDFRONT: -1.4752961362039547</br>BLDDEPTH: -1.5117416694640489</br>AVLAND2: -0.6763157372913495</br>AVTOT2: -0.6769214045938811</br>EXTOT2: -0.4192279477359309</br>BLDAREA: -1.4931117864269552</br>LTAREA: 0.0986332022265756</br>... too many variables"
          ],
          [
           "</br>id: 69</br>prediction: 3445488.5</br>AVTOT: 1.949169230391298</br></br>LTFRONT: 0.2052506401893017</br>LTDEPTH: 0.0041150840808124</br>STORIES: -2.4256728086552424</br>AVLAND: -0.8931862160783208</br>EXLAND: -0.8811002224994066</br>EXTOT: -0.9821209155989064</br>EXMPTCL: 0.0</br>BLDFRONT: -1.4752961362039547</br>BLDDEPTH: -1.5117416694640489</br>AVLAND2: -0.6763157372913495</br>AVTOT2: -0.6769214045938811</br>EXTOT2: -0.4192279477359309</br>BLDAREA: -1.4931117864269552</br>LTAREA: 0.0986332022265756</br>... too many variables"
          ],
          [
           "</br>id: 69</br>prediction: 3541692.75</br>AVTOT: 2.0477880683961502</br></br>LTFRONT: 0.2052506401893017</br>LTDEPTH: 0.0041150840808124</br>STORIES: -2.4256728086552424</br>AVLAND: -0.8931862160783208</br>EXLAND: -0.8811002224994066</br>EXTOT: -0.9821209155989064</br>EXMPTCL: 0.0</br>BLDFRONT: -1.4752961362039547</br>BLDDEPTH: -1.5117416694640489</br>AVLAND2: -0.6763157372913495</br>AVTOT2: -0.6769214045938811</br>EXTOT2: -0.4192279477359309</br>BLDAREA: -1.4931117864269552</br>LTAREA: 0.0986332022265756</br>... too many variables"
          ],
          [
           "</br>id: 69</br>prediction: 3749295.75</br>AVTOT: 2.1464069064010025</br></br>LTFRONT: 0.2052506401893017</br>LTDEPTH: 0.0041150840808124</br>STORIES: -2.4256728086552424</br>AVLAND: -0.8931862160783208</br>EXLAND: -0.8811002224994066</br>EXTOT: -0.9821209155989064</br>EXMPTCL: 0.0</br>BLDFRONT: -1.4752961362039547</br>BLDDEPTH: -1.5117416694640489</br>AVLAND2: -0.6763157372913495</br>AVTOT2: -0.6769214045938811</br>EXTOT2: -0.4192279477359309</br>BLDAREA: -1.4931117864269552</br>LTAREA: 0.0986332022265756</br>... too many variables"
          ],
          [
           "</br>id: 69</br>prediction: 3876594.0</br>AVTOT: 2.245025744405855</br></br>LTFRONT: 0.2052506401893017</br>LTDEPTH: 0.0041150840808124</br>STORIES: -2.4256728086552424</br>AVLAND: -0.8931862160783208</br>EXLAND: -0.8811002224994066</br>EXTOT: -0.9821209155989064</br>EXMPTCL: 0.0</br>BLDFRONT: -1.4752961362039547</br>BLDDEPTH: -1.5117416694640489</br>AVLAND2: -0.6763157372913495</br>AVTOT2: -0.6769214045938811</br>EXTOT2: -0.4192279477359309</br>BLDAREA: -1.4931117864269552</br>LTAREA: 0.0986332022265756</br>... too many variables"
          ],
          [
           "</br>id: 69</br>prediction: 4443889.5</br>AVTOT: 2.343644582410707</br></br>LTFRONT: 0.2052506401893017</br>LTDEPTH: 0.0041150840808124</br>STORIES: -2.4256728086552424</br>AVLAND: -0.8931862160783208</br>EXLAND: -0.8811002224994066</br>EXTOT: -0.9821209155989064</br>EXMPTCL: 0.0</br>BLDFRONT: -1.4752961362039547</br>BLDDEPTH: -1.5117416694640489</br>AVLAND2: -0.6763157372913495</br>AVTOT2: -0.6769214045938811</br>EXTOT2: -0.4192279477359309</br>BLDAREA: -1.4931117864269552</br>LTAREA: 0.0986332022265756</br>... too many variables"
          ],
          [
           "</br>id: 69</br>prediction: 4707116.0</br>AVTOT: 2.4422634204155593</br></br>LTFRONT: 0.2052506401893017</br>LTDEPTH: 0.0041150840808124</br>STORIES: -2.4256728086552424</br>AVLAND: -0.8931862160783208</br>EXLAND: -0.8811002224994066</br>EXTOT: -0.9821209155989064</br>EXMPTCL: 0.0</br>BLDFRONT: -1.4752961362039547</br>BLDDEPTH: -1.5117416694640489</br>AVLAND2: -0.6763157372913495</br>AVTOT2: -0.6769214045938811</br>EXTOT2: -0.4192279477359309</br>BLDAREA: -1.4931117864269552</br>LTAREA: 0.0986332022265756</br>... too many variables"
          ],
          [
           "</br>id: 69</br>prediction: 5129247.0</br>AVTOT: 2.5408822584204116</br></br>LTFRONT: 0.2052506401893017</br>LTDEPTH: 0.0041150840808124</br>STORIES: -2.4256728086552424</br>AVLAND: -0.8931862160783208</br>EXLAND: -0.8811002224994066</br>EXTOT: -0.9821209155989064</br>EXMPTCL: 0.0</br>BLDFRONT: -1.4752961362039547</br>BLDDEPTH: -1.5117416694640489</br>AVLAND2: -0.6763157372913495</br>AVTOT2: -0.6769214045938811</br>EXTOT2: -0.4192279477359309</br>BLDAREA: -1.4931117864269552</br>LTAREA: 0.0986332022265756</br>... too many variables"
          ],
          [
           "</br>id: 69</br>prediction: 5567379.0</br>AVTOT: 2.639501096425264</br></br>LTFRONT: 0.2052506401893017</br>LTDEPTH: 0.0041150840808124</br>STORIES: -2.4256728086552424</br>AVLAND: -0.8931862160783208</br>EXLAND: -0.8811002224994066</br>EXTOT: -0.9821209155989064</br>EXMPTCL: 0.0</br>BLDFRONT: -1.4752961362039547</br>BLDDEPTH: -1.5117416694640489</br>AVLAND2: -0.6763157372913495</br>AVTOT2: -0.6769214045938811</br>EXTOT2: -0.4192279477359309</br>BLDAREA: -1.4931117864269552</br>LTAREA: 0.0986332022265756</br>... too many variables"
          ],
          [
           "</br>id: 69</br>prediction: 6068678.0</br>AVTOT: 2.738119934430116</br></br>LTFRONT: 0.2052506401893017</br>LTDEPTH: 0.0041150840808124</br>STORIES: -2.4256728086552424</br>AVLAND: -0.8931862160783208</br>EXLAND: -0.8811002224994066</br>EXTOT: -0.9821209155989064</br>EXMPTCL: 0.0</br>BLDFRONT: -1.4752961362039547</br>BLDDEPTH: -1.5117416694640489</br>AVLAND2: -0.6763157372913495</br>AVTOT2: -0.6769214045938811</br>EXTOT2: -0.4192279477359309</br>BLDAREA: -1.4931117864269552</br>LTAREA: 0.0986332022265756</br>... too many variables"
          ],
          [
           "</br>id: 69</br>prediction: 7075749.5</br>AVTOT: 2.8367387724349684</br></br>LTFRONT: 0.2052506401893017</br>LTDEPTH: 0.0041150840808124</br>STORIES: -2.4256728086552424</br>AVLAND: -0.8931862160783208</br>EXLAND: -0.8811002224994066</br>EXTOT: -0.9821209155989064</br>EXMPTCL: 0.0</br>BLDFRONT: -1.4752961362039547</br>BLDDEPTH: -1.5117416694640489</br>AVLAND2: -0.6763157372913495</br>AVTOT2: -0.6769214045938811</br>EXTOT2: -0.4192279477359309</br>BLDAREA: -1.4931117864269552</br>LTAREA: 0.0986332022265756</br>... too many variables"
          ],
          [
           "</br>id: 69</br>prediction: 7781809.0</br>AVTOT: 2.9353576104398207</br></br>LTFRONT: 0.2052506401893017</br>LTDEPTH: 0.0041150840808124</br>STORIES: -2.4256728086552424</br>AVLAND: -0.8931862160783208</br>EXLAND: -0.8811002224994066</br>EXTOT: -0.9821209155989064</br>EXMPTCL: 0.0</br>BLDFRONT: -1.4752961362039547</br>BLDDEPTH: -1.5117416694640489</br>AVLAND2: -0.6763157372913495</br>AVTOT2: -0.6769214045938811</br>EXTOT2: -0.4192279477359309</br>BLDAREA: -1.4931117864269552</br>LTAREA: 0.0986332022265756</br>... too many variables"
          ],
          [
           "</br>id: 69</br>prediction: 8447456.0</br>AVTOT: 3.033976448444673</br></br>LTFRONT: 0.2052506401893017</br>LTDEPTH: 0.0041150840808124</br>STORIES: -2.4256728086552424</br>AVLAND: -0.8931862160783208</br>EXLAND: -0.8811002224994066</br>EXTOT: -0.9821209155989064</br>EXMPTCL: 0.0</br>BLDFRONT: -1.4752961362039547</br>BLDDEPTH: -1.5117416694640489</br>AVLAND2: -0.6763157372913495</br>AVTOT2: -0.6769214045938811</br>EXTOT2: -0.4192279477359309</br>BLDAREA: -1.4931117864269552</br>LTAREA: 0.0986332022265756</br>... too many variables"
          ],
          [
           "</br>id: 69</br>prediction: 10197534.0</br>AVTOT: 3.1325952864495252</br></br>LTFRONT: 0.2052506401893017</br>LTDEPTH: 0.0041150840808124</br>STORIES: -2.4256728086552424</br>AVLAND: -0.8931862160783208</br>EXLAND: -0.8811002224994066</br>EXTOT: -0.9821209155989064</br>EXMPTCL: 0.0</br>BLDFRONT: -1.4752961362039547</br>BLDDEPTH: -1.5117416694640489</br>AVLAND2: -0.6763157372913495</br>AVTOT2: -0.6769214045938811</br>EXTOT2: -0.4192279477359309</br>BLDAREA: -1.4931117864269552</br>LTAREA: 0.0986332022265756</br>... too many variables"
          ],
          [
           "</br>id: 69</br>prediction: 11513906.0</br>AVTOT: 3.2312141244543775</br></br>LTFRONT: 0.2052506401893017</br>LTDEPTH: 0.0041150840808124</br>STORIES: -2.4256728086552424</br>AVLAND: -0.8931862160783208</br>EXLAND: -0.8811002224994066</br>EXTOT: -0.9821209155989064</br>EXMPTCL: 0.0</br>BLDFRONT: -1.4752961362039547</br>BLDDEPTH: -1.5117416694640489</br>AVLAND2: -0.6763157372913495</br>AVTOT2: -0.6769214045938811</br>EXTOT2: -0.4192279477359309</br>BLDAREA: -1.4931117864269552</br>LTAREA: 0.0986332022265756</br>... too many variables"
          ],
          [
           "</br>id: 69</br>prediction: 12364740.0</br>AVTOT: 3.3298329624592298</br></br>LTFRONT: 0.2052506401893017</br>LTDEPTH: 0.0041150840808124</br>STORIES: -2.4256728086552424</br>AVLAND: -0.8931862160783208</br>EXLAND: -0.8811002224994066</br>EXTOT: -0.9821209155989064</br>EXMPTCL: 0.0</br>BLDFRONT: -1.4752961362039547</br>BLDDEPTH: -1.5117416694640489</br>AVLAND2: -0.6763157372913495</br>AVTOT2: -0.6769214045938811</br>EXTOT2: -0.4192279477359309</br>BLDAREA: -1.4931117864269552</br>LTAREA: 0.0986332022265756</br>... too many variables"
          ],
          [
           "</br>id: 69</br>prediction: 14142427.0</br>AVTOT: 3.428451800464082</br></br>LTFRONT: 0.2052506401893017</br>LTDEPTH: 0.0041150840808124</br>STORIES: -2.4256728086552424</br>AVLAND: -0.8931862160783208</br>EXLAND: -0.8811002224994066</br>EXTOT: -0.9821209155989064</br>EXMPTCL: 0.0</br>BLDFRONT: -1.4752961362039547</br>BLDDEPTH: -1.5117416694640489</br>AVLAND2: -0.6763157372913495</br>AVTOT2: -0.6769214045938811</br>EXTOT2: -0.4192279477359309</br>BLDAREA: -1.4931117864269552</br>LTAREA: 0.0986332022265756</br>... too many variables"
          ],
          [
           "</br>id: 69</br>prediction: 15406670.0</br>AVTOT: 3.5270706384689343</br></br>LTFRONT: 0.2052506401893017</br>LTDEPTH: 0.0041150840808124</br>STORIES: -2.4256728086552424</br>AVLAND: -0.8931862160783208</br>EXLAND: -0.8811002224994066</br>EXTOT: -0.9821209155989064</br>EXMPTCL: 0.0</br>BLDFRONT: -1.4752961362039547</br>BLDDEPTH: -1.5117416694640489</br>AVLAND2: -0.6763157372913495</br>AVTOT2: -0.6769214045938811</br>EXTOT2: -0.4192279477359309</br>BLDAREA: -1.4931117864269552</br>LTAREA: 0.0986332022265756</br>... too many variables"
          ],
          [
           "</br>id: 69</br>prediction: 17999944.0</br>AVTOT: 3.6256894764737857</br></br>LTFRONT: 0.2052506401893017</br>LTDEPTH: 0.0041150840808124</br>STORIES: -2.4256728086552424</br>AVLAND: -0.8931862160783208</br>EXLAND: -0.8811002224994066</br>EXTOT: -0.9821209155989064</br>EXMPTCL: 0.0</br>BLDFRONT: -1.4752961362039547</br>BLDDEPTH: -1.5117416694640489</br>AVLAND2: -0.6763157372913495</br>AVTOT2: -0.6769214045938811</br>EXTOT2: -0.4192279477359309</br>BLDAREA: -1.4931117864269552</br>LTAREA: 0.0986332022265756</br>... too many variables"
          ],
          [
           "</br>id: 69</br>prediction: 19178458.0</br>AVTOT: 3.724308314478638</br></br>LTFRONT: 0.2052506401893017</br>LTDEPTH: 0.0041150840808124</br>STORIES: -2.4256728086552424</br>AVLAND: -0.8931862160783208</br>EXLAND: -0.8811002224994066</br>EXTOT: -0.9821209155989064</br>EXMPTCL: 0.0</br>BLDFRONT: -1.4752961362039547</br>BLDDEPTH: -1.5117416694640489</br>AVLAND2: -0.6763157372913495</br>AVTOT2: -0.6769214045938811</br>EXTOT2: -0.4192279477359309</br>BLDAREA: -1.4931117864269552</br>LTAREA: 0.0986332022265756</br>... too many variables"
          ],
          [
           "</br>id: 69</br>prediction: 21534172.0</br>AVTOT: 3.8229271524834902</br></br>LTFRONT: 0.2052506401893017</br>LTDEPTH: 0.0041150840808124</br>STORIES: -2.4256728086552424</br>AVLAND: -0.8931862160783208</br>EXLAND: -0.8811002224994066</br>EXTOT: -0.9821209155989064</br>EXMPTCL: 0.0</br>BLDFRONT: -1.4752961362039547</br>BLDDEPTH: -1.5117416694640489</br>AVLAND2: -0.6763157372913495</br>AVTOT2: -0.6769214045938811</br>EXTOT2: -0.4192279477359309</br>BLDAREA: -1.4931117864269552</br>LTAREA: 0.0986332022265756</br>... too many variables"
          ],
          [
           "</br>id: 69</br>prediction: 23297218.0</br>AVTOT: 3.9215459904883425</br></br>LTFRONT: 0.2052506401893017</br>LTDEPTH: 0.0041150840808124</br>STORIES: -2.4256728086552424</br>AVLAND: -0.8931862160783208</br>EXLAND: -0.8811002224994066</br>EXTOT: -0.9821209155989064</br>EXMPTCL: 0.0</br>BLDFRONT: -1.4752961362039547</br>BLDDEPTH: -1.5117416694640489</br>AVLAND2: -0.6763157372913495</br>AVTOT2: -0.6769214045938811</br>EXTOT2: -0.4192279477359309</br>BLDAREA: -1.4931117864269552</br>LTAREA: 0.0986332022265756</br>... too many variables"
          ],
          [
           "</br>id: 69</br>prediction: 25875862.0</br>AVTOT: 4.020164828493195</br></br>LTFRONT: 0.2052506401893017</br>LTDEPTH: 0.0041150840808124</br>STORIES: -2.4256728086552424</br>AVLAND: -0.8931862160783208</br>EXLAND: -0.8811002224994066</br>EXTOT: -0.9821209155989064</br>EXMPTCL: 0.0</br>BLDFRONT: -1.4752961362039547</br>BLDDEPTH: -1.5117416694640489</br>AVLAND2: -0.6763157372913495</br>AVTOT2: -0.6769214045938811</br>EXTOT2: -0.4192279477359309</br>BLDAREA: -1.4931117864269552</br>LTAREA: 0.0986332022265756</br>... too many variables"
          ],
          [
           "</br>id: 69</br>prediction: 28700796.0</br>AVTOT: 4.118783666498047</br></br>LTFRONT: 0.2052506401893017</br>LTDEPTH: 0.0041150840808124</br>STORIES: -2.4256728086552424</br>AVLAND: -0.8931862160783208</br>EXLAND: -0.8811002224994066</br>EXTOT: -0.9821209155989064</br>EXMPTCL: 0.0</br>BLDFRONT: -1.4752961362039547</br>BLDDEPTH: -1.5117416694640489</br>AVLAND2: -0.6763157372913495</br>AVTOT2: -0.6769214045938811</br>EXTOT2: -0.4192279477359309</br>BLDAREA: -1.4931117864269552</br>LTAREA: 0.0986332022265756</br>... too many variables"
          ],
          [
           "</br>id: 69</br>prediction: 32447270.0</br>AVTOT: 4.2174025045029</br></br>LTFRONT: 0.2052506401893017</br>LTDEPTH: 0.0041150840808124</br>STORIES: -2.4256728086552424</br>AVLAND: -0.8931862160783208</br>EXLAND: -0.8811002224994066</br>EXTOT: -0.9821209155989064</br>EXMPTCL: 0.0</br>BLDFRONT: -1.4752961362039547</br>BLDDEPTH: -1.5117416694640489</br>AVLAND2: -0.6763157372913495</br>AVTOT2: -0.6769214045938811</br>EXTOT2: -0.4192279477359309</br>BLDAREA: -1.4931117864269552</br>LTAREA: 0.0986332022265756</br>... too many variables"
          ],
          [
           "</br>id: 69</br>prediction: 40750208.0</br>AVTOT: 4.316021342507751</br></br>LTFRONT: 0.2052506401893017</br>LTDEPTH: 0.0041150840808124</br>STORIES: -2.4256728086552424</br>AVLAND: -0.8931862160783208</br>EXLAND: -0.8811002224994066</br>EXTOT: -0.9821209155989064</br>EXMPTCL: 0.0</br>BLDFRONT: -1.4752961362039547</br>BLDDEPTH: -1.5117416694640489</br>AVLAND2: -0.6763157372913495</br>AVTOT2: -0.6769214045938811</br>EXTOT2: -0.4192279477359309</br>BLDAREA: -1.4931117864269552</br>LTAREA: 0.0986332022265756</br>... too many variables"
          ],
          [
           "</br>id: 69</br>prediction: 46958836.0</br>AVTOT: 4.414640180512604</br></br>LTFRONT: 0.2052506401893017</br>LTDEPTH: 0.0041150840808124</br>STORIES: -2.4256728086552424</br>AVLAND: -0.8931862160783208</br>EXLAND: -0.8811002224994066</br>EXTOT: -0.9821209155989064</br>EXMPTCL: 0.0</br>BLDFRONT: -1.4752961362039547</br>BLDDEPTH: -1.5117416694640489</br>AVLAND2: -0.6763157372913495</br>AVTOT2: -0.6769214045938811</br>EXTOT2: -0.4192279477359309</br>BLDAREA: -1.4931117864269552</br>LTAREA: 0.0986332022265756</br>... too many variables"
          ],
          [
           "</br>id: 69</br>prediction: 51652104.0</br>AVTOT: 4.513259018517456</br></br>LTFRONT: 0.2052506401893017</br>LTDEPTH: 0.0041150840808124</br>STORIES: -2.4256728086552424</br>AVLAND: -0.8931862160783208</br>EXLAND: -0.8811002224994066</br>EXTOT: -0.9821209155989064</br>EXMPTCL: 0.0</br>BLDFRONT: -1.4752961362039547</br>BLDDEPTH: -1.5117416694640489</br>AVLAND2: -0.6763157372913495</br>AVTOT2: -0.6769214045938811</br>EXTOT2: -0.4192279477359309</br>BLDAREA: -1.4931117864269552</br>LTAREA: 0.0986332022265756</br>... too many variables"
          ],
          [
           "</br>id: 69</br>prediction: 53943452.0</br>AVTOT: 4.611877856522309</br></br>LTFRONT: 0.2052506401893017</br>LTDEPTH: 0.0041150840808124</br>STORIES: -2.4256728086552424</br>AVLAND: -0.8931862160783208</br>EXLAND: -0.8811002224994066</br>EXTOT: -0.9821209155989064</br>EXMPTCL: 0.0</br>BLDFRONT: -1.4752961362039547</br>BLDDEPTH: -1.5117416694640489</br>AVLAND2: -0.6763157372913495</br>AVTOT2: -0.6769214045938811</br>EXTOT2: -0.4192279477359309</br>BLDAREA: -1.4931117864269552</br>LTAREA: 0.0986332022265756</br>... too many variables"
          ],
          [
           "</br>id: 69</br>prediction: 58887380.0</br>AVTOT: 4.71049669452716</br></br>LTFRONT: 0.2052506401893017</br>LTDEPTH: 0.0041150840808124</br>STORIES: -2.4256728086552424</br>AVLAND: -0.8931862160783208</br>EXLAND: -0.8811002224994066</br>EXTOT: -0.9821209155989064</br>EXMPTCL: 0.0</br>BLDFRONT: -1.4752961362039547</br>BLDDEPTH: -1.5117416694640489</br>AVLAND2: -0.6763157372913495</br>AVTOT2: -0.6769214045938811</br>EXTOT2: -0.4192279477359309</br>BLDAREA: -1.4931117864269552</br>LTAREA: 0.0986332022265756</br>... too many variables"
          ],
          [
           "</br>id: 69</br>prediction: 62065116.0</br>AVTOT: 4.809115532532013</br></br>LTFRONT: 0.2052506401893017</br>LTDEPTH: 0.0041150840808124</br>STORIES: -2.4256728086552424</br>AVLAND: -0.8931862160783208</br>EXLAND: -0.8811002224994066</br>EXTOT: -0.9821209155989064</br>EXMPTCL: 0.0</br>BLDFRONT: -1.4752961362039547</br>BLDDEPTH: -1.5117416694640489</br>AVLAND2: -0.6763157372913495</br>AVTOT2: -0.6769214045938811</br>EXTOT2: -0.4192279477359309</br>BLDAREA: -1.4931117864269552</br>LTAREA: 0.0986332022265756</br>... too many variables"
          ],
          [
           "</br>id: 69</br>prediction: 72700680.0</br>AVTOT: 4.907734370536865</br></br>LTFRONT: 0.2052506401893017</br>LTDEPTH: 0.0041150840808124</br>STORIES: -2.4256728086552424</br>AVLAND: -0.8931862160783208</br>EXLAND: -0.8811002224994066</br>EXTOT: -0.9821209155989064</br>EXMPTCL: 0.0</br>BLDFRONT: -1.4752961362039547</br>BLDDEPTH: -1.5117416694640489</br>AVLAND2: -0.6763157372913495</br>AVTOT2: -0.6769214045938811</br>EXTOT2: -0.4192279477359309</br>BLDAREA: -1.4931117864269552</br>LTAREA: 0.0986332022265756</br>... too many variables"
          ],
          [
           "</br>id: 69</br>prediction: 76971376.0</br>AVTOT: 5.006353208541718</br></br>LTFRONT: 0.2052506401893017</br>LTDEPTH: 0.0041150840808124</br>STORIES: -2.4256728086552424</br>AVLAND: -0.8931862160783208</br>EXLAND: -0.8811002224994066</br>EXTOT: -0.9821209155989064</br>EXMPTCL: 0.0</br>BLDFRONT: -1.4752961362039547</br>BLDDEPTH: -1.5117416694640489</br>AVLAND2: -0.6763157372913495</br>AVTOT2: -0.6769214045938811</br>EXTOT2: -0.4192279477359309</br>BLDAREA: -1.4931117864269552</br>LTAREA: 0.0986332022265756</br>... too many variables"
          ],
          [
           "</br>id: 69</br>prediction: 85331688.0</br>AVTOT: 5.104972046546569</br></br>LTFRONT: 0.2052506401893017</br>LTDEPTH: 0.0041150840808124</br>STORIES: -2.4256728086552424</br>AVLAND: -0.8931862160783208</br>EXLAND: -0.8811002224994066</br>EXTOT: -0.9821209155989064</br>EXMPTCL: 0.0</br>BLDFRONT: -1.4752961362039547</br>BLDDEPTH: -1.5117416694640489</br>AVLAND2: -0.6763157372913495</br>AVTOT2: -0.6769214045938811</br>EXTOT2: -0.4192279477359309</br>BLDAREA: -1.4931117864269552</br>LTAREA: 0.0986332022265756</br>... too many variables"
          ],
          [
           "</br>id: 69</br>prediction: 101016760.0</br>AVTOT: 5.2035908845514225</br></br>LTFRONT: 0.2052506401893017</br>LTDEPTH: 0.0041150840808124</br>STORIES: -2.4256728086552424</br>AVLAND: -0.8931862160783208</br>EXLAND: -0.8811002224994066</br>EXTOT: -0.9821209155989064</br>EXMPTCL: 0.0</br>BLDFRONT: -1.4752961362039547</br>BLDDEPTH: -1.5117416694640489</br>AVLAND2: -0.6763157372913495</br>AVTOT2: -0.6769214045938811</br>EXTOT2: -0.4192279477359309</br>BLDAREA: -1.4931117864269552</br>LTAREA: 0.0986332022265756</br>... too many variables"
          ],
          [
           "</br>id: 69</br>prediction: 103430360.0</br>AVTOT: 5.302209722556274</br></br>LTFRONT: 0.2052506401893017</br>LTDEPTH: 0.0041150840808124</br>STORIES: -2.4256728086552424</br>AVLAND: -0.8931862160783208</br>EXLAND: -0.8811002224994066</br>EXTOT: -0.9821209155989064</br>EXMPTCL: 0.0</br>BLDFRONT: -1.4752961362039547</br>BLDDEPTH: -1.5117416694640489</br>AVLAND2: -0.6763157372913495</br>AVTOT2: -0.6769214045938811</br>EXTOT2: -0.4192279477359309</br>BLDAREA: -1.4931117864269552</br>LTAREA: 0.0986332022265756</br>... too many variables"
          ],
          [
           "</br>id: 69</br>prediction: 107469672.0</br>AVTOT: 5.400828560561127</br></br>LTFRONT: 0.2052506401893017</br>LTDEPTH: 0.0041150840808124</br>STORIES: -2.4256728086552424</br>AVLAND: -0.8931862160783208</br>EXLAND: -0.8811002224994066</br>EXTOT: -0.9821209155989064</br>EXMPTCL: 0.0</br>BLDFRONT: -1.4752961362039547</br>BLDDEPTH: -1.5117416694640489</br>AVLAND2: -0.6763157372913495</br>AVTOT2: -0.6769214045938811</br>EXTOT2: -0.4192279477359309</br>BLDAREA: -1.4931117864269552</br>LTAREA: 0.0986332022265756</br>... too many variables"
          ],
          [
           "</br>id: 69</br>prediction: 115790968.0</br>AVTOT: 5.499447398565978</br></br>LTFRONT: 0.2052506401893017</br>LTDEPTH: 0.0041150840808124</br>STORIES: -2.4256728086552424</br>AVLAND: -0.8931862160783208</br>EXLAND: -0.8811002224994066</br>EXTOT: -0.9821209155989064</br>EXMPTCL: 0.0</br>BLDFRONT: -1.4752961362039547</br>BLDDEPTH: -1.5117416694640489</br>AVLAND2: -0.6763157372913495</br>AVTOT2: -0.6769214045938811</br>EXTOT2: -0.4192279477359309</br>BLDAREA: -1.4931117864269552</br>LTAREA: 0.0986332022265756</br>... too many variables"
          ],
          [
           "</br>id: 69</br>prediction: 140435888.0</br>AVTOT: 5.598066236570832</br></br>LTFRONT: 0.2052506401893017</br>LTDEPTH: 0.0041150840808124</br>STORIES: -2.4256728086552424</br>AVLAND: -0.8931862160783208</br>EXLAND: -0.8811002224994066</br>EXTOT: -0.9821209155989064</br>EXMPTCL: 0.0</br>BLDFRONT: -1.4752961362039547</br>BLDDEPTH: -1.5117416694640489</br>AVLAND2: -0.6763157372913495</br>AVTOT2: -0.6769214045938811</br>EXTOT2: -0.4192279477359309</br>BLDAREA: -1.4931117864269552</br>LTAREA: 0.0986332022265756</br>... too many variables"
          ],
          [
           "</br>id: 69</br>prediction: 156429232.0</br>AVTOT: 5.696685074575683</br></br>LTFRONT: 0.2052506401893017</br>LTDEPTH: 0.0041150840808124</br>STORIES: -2.4256728086552424</br>AVLAND: -0.8931862160783208</br>EXLAND: -0.8811002224994066</br>EXTOT: -0.9821209155989064</br>EXMPTCL: 0.0</br>BLDFRONT: -1.4752961362039547</br>BLDDEPTH: -1.5117416694640489</br>AVLAND2: -0.6763157372913495</br>AVTOT2: -0.6769214045938811</br>EXTOT2: -0.4192279477359309</br>BLDAREA: -1.4931117864269552</br>LTAREA: 0.0986332022265756</br>... too many variables"
          ],
          [
           "</br>id: 69</br>prediction: 173621600.0</br>AVTOT: 5.795303912580536</br></br>LTFRONT: 0.2052506401893017</br>LTDEPTH: 0.0041150840808124</br>STORIES: -2.4256728086552424</br>AVLAND: -0.8931862160783208</br>EXLAND: -0.8811002224994066</br>EXTOT: -0.9821209155989064</br>EXMPTCL: 0.0</br>BLDFRONT: -1.4752961362039547</br>BLDDEPTH: -1.5117416694640489</br>AVLAND2: -0.6763157372913495</br>AVTOT2: -0.6769214045938811</br>EXTOT2: -0.4192279477359309</br>BLDAREA: -1.4931117864269552</br>LTAREA: 0.0986332022265756</br>... too many variables"
          ],
          [
           "</br>id: 69</br>prediction: 186563568.0</br>AVTOT: 5.8939227505853875</br></br>LTFRONT: 0.2052506401893017</br>LTDEPTH: 0.0041150840808124</br>STORIES: -2.4256728086552424</br>AVLAND: -0.8931862160783208</br>EXLAND: -0.8811002224994066</br>EXTOT: -0.9821209155989064</br>EXMPTCL: 0.0</br>BLDFRONT: -1.4752961362039547</br>BLDDEPTH: -1.5117416694640489</br>AVLAND2: -0.6763157372913495</br>AVTOT2: -0.6769214045938811</br>EXTOT2: -0.4192279477359309</br>BLDAREA: -1.4931117864269552</br>LTAREA: 0.0986332022265756</br>... too many variables"
          ],
          [
           "</br>id: 69</br>prediction: 200898528.0</br>AVTOT: 5.992541588590239</br></br>LTFRONT: 0.2052506401893017</br>LTDEPTH: 0.0041150840808124</br>STORIES: -2.4256728086552424</br>AVLAND: -0.8931862160783208</br>EXLAND: -0.8811002224994066</br>EXTOT: -0.9821209155989064</br>EXMPTCL: 0.0</br>BLDFRONT: -1.4752961362039547</br>BLDDEPTH: -1.5117416694640489</br>AVLAND2: -0.6763157372913495</br>AVTOT2: -0.6769214045938811</br>EXTOT2: -0.4192279477359309</br>BLDAREA: -1.4931117864269552</br>LTAREA: 0.0986332022265756</br>... too many variables"
          ],
          [
           "</br>id: 69</br>prediction: 205166224.0</br>AVTOT: 6.091160426595092</br></br>LTFRONT: 0.2052506401893017</br>LTDEPTH: 0.0041150840808124</br>STORIES: -2.4256728086552424</br>AVLAND: -0.8931862160783208</br>EXLAND: -0.8811002224994066</br>EXTOT: -0.9821209155989064</br>EXMPTCL: 0.0</br>BLDFRONT: -1.4752961362039547</br>BLDDEPTH: -1.5117416694640489</br>AVLAND2: -0.6763157372913495</br>AVTOT2: -0.6769214045938811</br>EXTOT2: -0.4192279477359309</br>BLDAREA: -1.4931117864269552</br>LTAREA: 0.0986332022265756</br>... too many variables"
          ],
          [
           "</br>id: 69</br>prediction: 205166224.0</br>AVTOT: 6.189779264599943</br></br>LTFRONT: 0.2052506401893017</br>LTDEPTH: 0.0041150840808124</br>STORIES: -2.4256728086552424</br>AVLAND: -0.8931862160783208</br>EXLAND: -0.8811002224994066</br>EXTOT: -0.9821209155989064</br>EXMPTCL: 0.0</br>BLDFRONT: -1.4752961362039547</br>BLDDEPTH: -1.5117416694640489</br>AVLAND2: -0.6763157372913495</br>AVTOT2: -0.6769214045938811</br>EXTOT2: -0.4192279477359309</br>BLDAREA: -1.4931117864269552</br>LTAREA: 0.0986332022265756</br>... too many variables"
          ],
          [
           "</br>id: 69</br>prediction: 210059712.0</br>AVTOT: 6.288398102604796</br></br>LTFRONT: 0.2052506401893017</br>LTDEPTH: 0.0041150840808124</br>STORIES: -2.4256728086552424</br>AVLAND: -0.8931862160783208</br>EXLAND: -0.8811002224994066</br>EXTOT: -0.9821209155989064</br>EXMPTCL: 0.0</br>BLDFRONT: -1.4752961362039547</br>BLDDEPTH: -1.5117416694640489</br>AVLAND2: -0.6763157372913495</br>AVTOT2: -0.6769214045938811</br>EXTOT2: -0.4192279477359309</br>BLDAREA: -1.4931117864269552</br>LTAREA: 0.0986332022265756</br>... too many variables"
          ]
         ],
         "hovertemplate": "%{customdata[0]}<extra></extra>",
         "legendgroup": "XGBRFRegressor",
         "line": {
          "color": "#46bac2",
          "dash": "solid",
          "width": 2
         },
         "marker": {
          "symbol": "circle"
         },
         "mode": "lines",
         "name": "XGBRFRegressor",
         "opacity": 1,
         "orientation": "v",
         "showlegend": false,
         "type": "scatter",
         "x": [
          -3.5734856978804257,
          -3.4748668598755734,
          -3.376248021870721,
          -3.277629183865869,
          -3.179010345861017,
          -3.080391507856165,
          -2.9817726698513125,
          -2.8831538318464602,
          -2.784534993841608,
          -2.6859161558367557,
          -2.5872973178319034,
          -2.488678479827051,
          -2.390059641822199,
          -2.2914408038173466,
          -2.1928219658124948,
          -2.0942031278076425,
          -1.9955842898027902,
          -1.896965451797938,
          -1.7983466137930857,
          -1.6997277757882336,
          -1.6011089377833814,
          -1.5024900997785293,
          -1.403871261773677,
          -1.3052524237688248,
          -1.2066335857639725,
          -1.1080147477591202,
          -1.009395909754268,
          -0.9107770717494157,
          -0.8121582337445639,
          -0.7135393957397116,
          -0.6149205577348593,
          -0.516301719730007,
          -0.4176828817251548,
          -0.3190640437203025,
          -0.22044520571545023,
          -0.12182636771059796,
          -0.02320752970574569,
          0.07541130829910614,
          0.1740301463039584,
          0.2726489843088107,
          0.37126782231366295,
          0.4698866603185148,
          0.568505498323367,
          0.6671243363282193,
          0.7657431743330716,
          0.8643620123379239,
          0.9629808503427761,
          1.0615996883476284,
          1.1602185263524807,
          1.258837364357333,
          1.3574562023621852,
          1.4560750403670375,
          1.5546938783718898,
          1.653312716376742,
          1.7519315543815943,
          1.8505503923864466,
          1.949169230391298,
          2.0477880683961502,
          2.1464069064010025,
          2.245025744405855,
          2.343644582410707,
          2.4422634204155593,
          2.5408822584204116,
          2.639501096425264,
          2.738119934430116,
          2.8367387724349684,
          2.9353576104398207,
          3.033976448444673,
          3.1325952864495252,
          3.2312141244543775,
          3.3298329624592298,
          3.428451800464082,
          3.5270706384689343,
          3.6256894764737857,
          3.724308314478638,
          3.8229271524834902,
          3.9215459904883425,
          4.020164828493195,
          4.118783666498047,
          4.2174025045029,
          4.316021342507751,
          4.414640180512604,
          4.513259018517456,
          4.611877856522309,
          4.71049669452716,
          4.809115532532013,
          4.907734370536865,
          5.006353208541718,
          5.104972046546569,
          5.2035908845514225,
          5.302209722556274,
          5.400828560561127,
          5.499447398565978,
          5.598066236570832,
          5.696685074575683,
          5.795303912580536,
          5.8939227505853875,
          5.992541588590239,
          6.091160426595092,
          6.189779264599943,
          6.288398102604796
         ],
         "xaxis": "x2",
         "y": [
          302159.375,
          302159.375,
          302159.375,
          302159.375,
          302159.375,
          302159.375,
          302159.375,
          302159.375,
          302159.375,
          302159.375,
          302159.375,
          302159.375,
          302553.625,
          302553.625,
          302553.625,
          302553.625,
          302553.625,
          302553.625,
          302553.625,
          302553.625,
          302553.625,
          304887.4375,
          305884.5625,
          305884.5625,
          305884.5625,
          305884.5625,
          325856.03125,
          325856.03125,
          343937,
          345221,
          345221,
          366470.90625,
          409783.625,
          600073.5,
          663287.75,
          723545.4375,
          1214622.25,
          1385595.125,
          1480396.25,
          1538815.125,
          1986545.125,
          3387709.5,
          3464857.75,
          3669629.5,
          3740351.5,
          3747004.5,
          3752620.75,
          3745774.25,
          3625417,
          3555091,
          3519581.5,
          2867810,
          2710133.5,
          2938106.5,
          2985129.5,
          3342099.25,
          3445488.5,
          3541692.75,
          3749295.75,
          3876594,
          4443889.5,
          4707116,
          5129247,
          5567379,
          6068678,
          7075749.5,
          7781809,
          8447456,
          10197534,
          11513906,
          12364740,
          14142427,
          15406670,
          17999944,
          19178458,
          21534172,
          23297218,
          25875862,
          28700796,
          32447270,
          40750208,
          46958836,
          51652104,
          53943452,
          58887380,
          62065116,
          72700680,
          76971376,
          85331688,
          101016760,
          103430360,
          107469672,
          115790968,
          140435888,
          156429232,
          173621600,
          186563568,
          200898528,
          205166224,
          205166224,
          210059712
         ],
         "yaxis": "y2"
        }
       ],
       "layout": {
        "annotations": [
         {
          "font": {
           "size": 13
          },
          "showarrow": false,
          "text": "AVLAND",
          "x": 0.2375,
          "xanchor": "center",
          "xref": "paper",
          "y": 1,
          "yanchor": "bottom",
          "yref": "paper"
         },
         {
          "font": {
           "size": 13
          },
          "showarrow": false,
          "text": "AVTOT",
          "x": 0.7625,
          "xanchor": "center",
          "xref": "paper",
          "y": 1,
          "yanchor": "bottom",
          "yref": "paper"
         },
         {
          "font": {
           "size": 13
          },
          "showarrow": false,
          "text": "prediction",
          "textangle": -90,
          "x": -0.07,
          "xref": "paper",
          "y": 0.5,
          "yref": "paper"
         }
        ],
        "font": {
         "color": "#371ea3"
        },
        "height": 489,
        "hoverlabel": {
         "bgcolor": "rgba(0,0,0,0.8)"
        },
        "hovermode": "closest",
        "legend": {
         "font": {
          "size": 11
         },
         "itemsizing": "constant",
         "orientation": "h",
         "title": {
          "font": {
           "size": 12
          },
          "text": "label"
         },
         "tracegroupgap": 0,
         "x": 1,
         "xanchor": "right",
         "y": 1.0613496932515338,
         "yanchor": "bottom"
        },
        "margin": {
         "b": 71,
         "r": 30,
         "t": 78
        },
        "template": {
         "data": {
          "scatter": [
           {
            "type": "scatter"
           }
          ]
         }
        },
        "title": {
         "font": {
          "size": 16
         },
         "text": "Ceteris Paribus Profiles",
         "x": 0.15
        },
        "xaxis": {
         "anchor": "y",
         "automargin": true,
         "domain": [
          0,
          0.475
         ],
         "fixedrange": true,
         "gridwidth": 2,
         "showticklabels": true,
         "tickcolor": "white",
         "ticklen": 3,
         "ticks": "outside",
         "title": {
          "text": ""
         },
         "type": "linear",
         "zeroline": false
        },
        "xaxis2": {
         "anchor": "y2",
         "automargin": true,
         "domain": [
          0.525,
          1
         ],
         "fixedrange": true,
         "gridwidth": 2,
         "showticklabels": true,
         "tickcolor": "white",
         "ticklen": 3,
         "ticks": "outside",
         "title": {
          "text": ""
         },
         "type": "linear",
         "zeroline": false
        },
        "yaxis": {
         "anchor": "x",
         "automargin": true,
         "domain": [
          0,
          1
         ],
         "fixedrange": true,
         "gridwidth": 2,
         "range": [
          -20681652,
          231036200
         ],
         "tickcolor": "white",
         "ticklen": 3,
         "ticks": "outside",
         "title": {
          "text": ""
         },
         "type": "linear",
         "zeroline": false
        },
        "yaxis2": {
         "anchor": "x2",
         "automargin": true,
         "domain": [
          0,
          1
         ],
         "fixedrange": true,
         "gridwidth": 2,
         "matches": "y",
         "range": [
          -20681652,
          231036200
         ],
         "showticklabels": false,
         "tickcolor": "white",
         "ticklen": 3,
         "ticks": "outside",
         "title": {
          "text": ""
         },
         "type": "linear",
         "zeroline": false
        }
       }
      },
      "text/html": [
       "<div>                            <div id=\"10dad013-f49c-4df1-a21d-aaf5dfcfd060\" class=\"plotly-graph-div\" style=\"height:489px; width:100%;\"></div>            <script type=\"text/javascript\">                require([\"plotly\"], function(Plotly) {                    window.PLOTLYENV=window.PLOTLYENV || {};                                    if (document.getElementById(\"10dad013-f49c-4df1-a21d-aaf5dfcfd060\")) {                    Plotly.newPlot(                        \"10dad013-f49c-4df1-a21d-aaf5dfcfd060\",                        [{\"customdata\":[[\"</br>id: 69</br>prediction: 301794.438</br>AVLAND: -3.4131768595900747</br></br>LTFRONT: 0.2052506401893017</br>LTDEPTH: 0.0041150840808124</br>STORIES: -2.4256728086552424</br>AVTOT: -1.409987515485199</br>EXLAND: -0.8811002224994066</br>EXTOT: -0.9821209155989064</br>EXMPTCL: 0.0</br>BLDFRONT: -1.4752961362039547</br>BLDDEPTH: -1.5117416694640489</br>AVLAND2: -0.6763157372913495</br>AVTOT2: -0.6769214045938811</br>EXTOT2: -0.4192279477359309</br>BLDAREA: -1.4931117864269552</br>LTAREA: 0.0986332022265756</br>... too many variables\"],[\"</br>id: 69</br>prediction: 301794.438</br>AVLAND: -3.302839409463379</br></br>LTFRONT: 0.2052506401893017</br>LTDEPTH: 0.0041150840808124</br>STORIES: -2.4256728086552424</br>AVTOT: -1.409987515485199</br>EXLAND: -0.8811002224994066</br>EXTOT: -0.9821209155989064</br>EXMPTCL: 0.0</br>BLDFRONT: -1.4752961362039547</br>BLDDEPTH: -1.5117416694640489</br>AVLAND2: -0.6763157372913495</br>AVTOT2: -0.6769214045938811</br>EXTOT2: -0.4192279477359309</br>BLDAREA: -1.4931117864269552</br>LTAREA: 0.0986332022265756</br>... too many variables\"],[\"</br>id: 69</br>prediction: 301794.438</br>AVLAND: -3.192501959336683</br></br>LTFRONT: 0.2052506401893017</br>LTDEPTH: 0.0041150840808124</br>STORIES: -2.4256728086552424</br>AVTOT: -1.409987515485199</br>EXLAND: -0.8811002224994066</br>EXTOT: -0.9821209155989064</br>EXMPTCL: 0.0</br>BLDFRONT: -1.4752961362039547</br>BLDDEPTH: -1.5117416694640489</br>AVLAND2: -0.6763157372913495</br>AVTOT2: -0.6769214045938811</br>EXTOT2: -0.4192279477359309</br>BLDAREA: -1.4931117864269552</br>LTAREA: 0.0986332022265756</br>... too many variables\"],[\"</br>id: 69</br>prediction: 302173.125</br>AVLAND: -3.0821645092099876</br></br>LTFRONT: 0.2052506401893017</br>LTDEPTH: 0.0041150840808124</br>STORIES: -2.4256728086552424</br>AVTOT: -1.409987515485199</br>EXLAND: -0.8811002224994066</br>EXTOT: -0.9821209155989064</br>EXMPTCL: 0.0</br>BLDFRONT: -1.4752961362039547</br>BLDDEPTH: -1.5117416694640489</br>AVLAND2: -0.6763157372913495</br>AVTOT2: -0.6769214045938811</br>EXTOT2: -0.4192279477359309</br>BLDAREA: -1.4931117864269552</br>LTAREA: 0.0986332022265756</br>... too many variables\"],[\"</br>id: 69</br>prediction: 302173.125</br>AVLAND: -2.971827059083292</br></br>LTFRONT: 0.2052506401893017</br>LTDEPTH: 0.0041150840808124</br>STORIES: -2.4256728086552424</br>AVTOT: -1.409987515485199</br>EXLAND: -0.8811002224994066</br>EXTOT: -0.9821209155989064</br>EXMPTCL: 0.0</br>BLDFRONT: -1.4752961362039547</br>BLDDEPTH: -1.5117416694640489</br>AVLAND2: -0.6763157372913495</br>AVTOT2: -0.6769214045938811</br>EXTOT2: -0.4192279477359309</br>BLDAREA: -1.4931117864269552</br>LTAREA: 0.0986332022265756</br>... too many variables\"],[\"</br>id: 69</br>prediction: 302173.125</br>AVLAND: -2.861489608956596</br></br>LTFRONT: 0.2052506401893017</br>LTDEPTH: 0.0041150840808124</br>STORIES: -2.4256728086552424</br>AVTOT: -1.409987515485199</br>EXLAND: -0.8811002224994066</br>EXTOT: -0.9821209155989064</br>EXMPTCL: 0.0</br>BLDFRONT: -1.4752961362039547</br>BLDDEPTH: -1.5117416694640489</br>AVLAND2: -0.6763157372913495</br>AVTOT2: -0.6769214045938811</br>EXTOT2: -0.4192279477359309</br>BLDAREA: -1.4931117864269552</br>LTAREA: 0.0986332022265756</br>... too many variables\"],[\"</br>id: 69</br>prediction: 302173.125</br>AVLAND: -2.7511521588299</br></br>LTFRONT: 0.2052506401893017</br>LTDEPTH: 0.0041150840808124</br>STORIES: -2.4256728086552424</br>AVTOT: -1.409987515485199</br>EXLAND: -0.8811002224994066</br>EXTOT: -0.9821209155989064</br>EXMPTCL: 0.0</br>BLDFRONT: -1.4752961362039547</br>BLDDEPTH: -1.5117416694640489</br>AVLAND2: -0.6763157372913495</br>AVTOT2: -0.6769214045938811</br>EXTOT2: -0.4192279477359309</br>BLDAREA: -1.4931117864269552</br>LTAREA: 0.0986332022265756</br>... too many variables\"],[\"</br>id: 69</br>prediction: 302173.125</br>AVLAND: -2.6408147087032043</br></br>LTFRONT: 0.2052506401893017</br>LTDEPTH: 0.0041150840808124</br>STORIES: -2.4256728086552424</br>AVTOT: -1.409987515485199</br>EXLAND: -0.8811002224994066</br>EXTOT: -0.9821209155989064</br>EXMPTCL: 0.0</br>BLDFRONT: -1.4752961362039547</br>BLDDEPTH: -1.5117416694640489</br>AVLAND2: -0.6763157372913495</br>AVTOT2: -0.6769214045938811</br>EXTOT2: -0.4192279477359309</br>BLDAREA: -1.4931117864269552</br>LTAREA: 0.0986332022265756</br>... too many variables\"],[\"</br>id: 69</br>prediction: 302173.125</br>AVLAND: -2.5304772585765085</br></br>LTFRONT: 0.2052506401893017</br>LTDEPTH: 0.0041150840808124</br>STORIES: -2.4256728086552424</br>AVTOT: -1.409987515485199</br>EXLAND: -0.8811002224994066</br>EXTOT: -0.9821209155989064</br>EXMPTCL: 0.0</br>BLDFRONT: -1.4752961362039547</br>BLDDEPTH: -1.5117416694640489</br>AVLAND2: -0.6763157372913495</br>AVTOT2: -0.6769214045938811</br>EXTOT2: -0.4192279477359309</br>BLDAREA: -1.4931117864269552</br>LTAREA: 0.0986332022265756</br>... too many variables\"],[\"</br>id: 69</br>prediction: 302173.125</br>AVLAND: -2.4201398084498127</br></br>LTFRONT: 0.2052506401893017</br>LTDEPTH: 0.0041150840808124</br>STORIES: -2.4256728086552424</br>AVTOT: -1.409987515485199</br>EXLAND: -0.8811002224994066</br>EXTOT: -0.9821209155989064</br>EXMPTCL: 0.0</br>BLDFRONT: -1.4752961362039547</br>BLDDEPTH: -1.5117416694640489</br>AVLAND2: -0.6763157372913495</br>AVTOT2: -0.6769214045938811</br>EXTOT2: -0.4192279477359309</br>BLDAREA: -1.4931117864269552</br>LTAREA: 0.0986332022265756</br>... too many variables\"],[\"</br>id: 69</br>prediction: 302173.125</br>AVLAND: -2.3098023583231173</br></br>LTFRONT: 0.2052506401893017</br>LTDEPTH: 0.0041150840808124</br>STORIES: -2.4256728086552424</br>AVTOT: -1.409987515485199</br>EXLAND: -0.8811002224994066</br>EXTOT: -0.9821209155989064</br>EXMPTCL: 0.0</br>BLDFRONT: -1.4752961362039547</br>BLDDEPTH: -1.5117416694640489</br>AVLAND2: -0.6763157372913495</br>AVTOT2: -0.6769214045938811</br>EXTOT2: -0.4192279477359309</br>BLDAREA: -1.4931117864269552</br>LTAREA: 0.0986332022265756</br>... too many variables\"],[\"</br>id: 69</br>prediction: 302173.125</br>AVLAND: -2.199464908196421</br></br>LTFRONT: 0.2052506401893017</br>LTDEPTH: 0.0041150840808124</br>STORIES: -2.4256728086552424</br>AVTOT: -1.409987515485199</br>EXLAND: -0.8811002224994066</br>EXTOT: -0.9821209155989064</br>EXMPTCL: 0.0</br>BLDFRONT: -1.4752961362039547</br>BLDDEPTH: -1.5117416694640489</br>AVLAND2: -0.6763157372913495</br>AVTOT2: -0.6769214045938811</br>EXTOT2: -0.4192279477359309</br>BLDAREA: -1.4931117864269552</br>LTAREA: 0.0986332022265756</br>... too many variables\"],[\"</br>id: 69</br>prediction: 302173.125</br>AVLAND: -2.0891274580697257</br></br>LTFRONT: 0.2052506401893017</br>LTDEPTH: 0.0041150840808124</br>STORIES: -2.4256728086552424</br>AVTOT: -1.409987515485199</br>EXLAND: -0.8811002224994066</br>EXTOT: -0.9821209155989064</br>EXMPTCL: 0.0</br>BLDFRONT: -1.4752961362039547</br>BLDDEPTH: -1.5117416694640489</br>AVLAND2: -0.6763157372913495</br>AVTOT2: -0.6769214045938811</br>EXTOT2: -0.4192279477359309</br>BLDAREA: -1.4931117864269552</br>LTAREA: 0.0986332022265756</br>... too many variables\"],[\"</br>id: 69</br>prediction: 302173.125</br>AVLAND: -1.9787900079430298</br></br>LTFRONT: 0.2052506401893017</br>LTDEPTH: 0.0041150840808124</br>STORIES: -2.4256728086552424</br>AVTOT: -1.409987515485199</br>EXLAND: -0.8811002224994066</br>EXTOT: -0.9821209155989064</br>EXMPTCL: 0.0</br>BLDFRONT: -1.4752961362039547</br>BLDDEPTH: -1.5117416694640489</br>AVLAND2: -0.6763157372913495</br>AVTOT2: -0.6769214045938811</br>EXTOT2: -0.4192279477359309</br>BLDAREA: -1.4931117864269552</br>LTAREA: 0.0986332022265756</br>... too many variables\"],[\"</br>id: 69</br>prediction: 302880.5</br>AVLAND: -1.868452557816334</br></br>LTFRONT: 0.2052506401893017</br>LTDEPTH: 0.0041150840808124</br>STORIES: -2.4256728086552424</br>AVTOT: -1.409987515485199</br>EXLAND: -0.8811002224994066</br>EXTOT: -0.9821209155989064</br>EXMPTCL: 0.0</br>BLDFRONT: -1.4752961362039547</br>BLDDEPTH: -1.5117416694640489</br>AVLAND2: -0.6763157372913495</br>AVTOT2: -0.6769214045938811</br>EXTOT2: -0.4192279477359309</br>BLDAREA: -1.4931117864269552</br>LTAREA: 0.0986332022265756</br>... too many variables\"],[\"</br>id: 69</br>prediction: 303108.938</br>AVLAND: -1.7581151076896384</br></br>LTFRONT: 0.2052506401893017</br>LTDEPTH: 0.0041150840808124</br>STORIES: -2.4256728086552424</br>AVTOT: -1.409987515485199</br>EXLAND: -0.8811002224994066</br>EXTOT: -0.9821209155989064</br>EXMPTCL: 0.0</br>BLDFRONT: -1.4752961362039547</br>BLDDEPTH: -1.5117416694640489</br>AVLAND2: -0.6763157372913495</br>AVTOT2: -0.6769214045938811</br>EXTOT2: -0.4192279477359309</br>BLDAREA: -1.4931117864269552</br>LTAREA: 0.0986332022265756</br>... too many variables\"],[\"</br>id: 69</br>prediction: 303942.875</br>AVLAND: -1.6477776575629426</br></br>LTFRONT: 0.2052506401893017</br>LTDEPTH: 0.0041150840808124</br>STORIES: -2.4256728086552424</br>AVTOT: -1.409987515485199</br>EXLAND: -0.8811002224994066</br>EXTOT: -0.9821209155989064</br>EXMPTCL: 0.0</br>BLDFRONT: -1.4752961362039547</br>BLDDEPTH: -1.5117416694640489</br>AVLAND2: -0.6763157372913495</br>AVTOT2: -0.6769214045938811</br>EXTOT2: -0.4192279477359309</br>BLDAREA: -1.4931117864269552</br>LTAREA: 0.0986332022265756</br>... too many variables\"],[\"</br>id: 69</br>prediction: 303942.875</br>AVLAND: -1.5374402074362468</br></br>LTFRONT: 0.2052506401893017</br>LTDEPTH: 0.0041150840808124</br>STORIES: -2.4256728086552424</br>AVTOT: -1.409987515485199</br>EXLAND: -0.8811002224994066</br>EXTOT: -0.9821209155989064</br>EXMPTCL: 0.0</br>BLDFRONT: -1.4752961362039547</br>BLDDEPTH: -1.5117416694640489</br>AVLAND2: -0.6763157372913495</br>AVTOT2: -0.6769214045938811</br>EXTOT2: -0.4192279477359309</br>BLDAREA: -1.4931117864269552</br>LTAREA: 0.0986332022265756</br>... too many variables\"],[\"</br>id: 69</br>prediction: 303942.875</br>AVLAND: -1.4271027573095512</br></br>LTFRONT: 0.2052506401893017</br>LTDEPTH: 0.0041150840808124</br>STORIES: -2.4256728086552424</br>AVTOT: -1.409987515485199</br>EXLAND: -0.8811002224994066</br>EXTOT: -0.9821209155989064</br>EXMPTCL: 0.0</br>BLDFRONT: -1.4752961362039547</br>BLDDEPTH: -1.5117416694640489</br>AVLAND2: -0.6763157372913495</br>AVTOT2: -0.6769214045938811</br>EXTOT2: -0.4192279477359309</br>BLDAREA: -1.4931117864269552</br>LTAREA: 0.0986332022265756</br>... too many variables\"],[\"</br>id: 69</br>prediction: 305034.5</br>AVLAND: -1.3167653071828553</br></br>LTFRONT: 0.2052506401893017</br>LTDEPTH: 0.0041150840808124</br>STORIES: -2.4256728086552424</br>AVTOT: -1.409987515485199</br>EXLAND: -0.8811002224994066</br>EXTOT: -0.9821209155989064</br>EXMPTCL: 0.0</br>BLDFRONT: -1.4752961362039547</br>BLDDEPTH: -1.5117416694640489</br>AVLAND2: -0.6763157372913495</br>AVTOT2: -0.6769214045938811</br>EXTOT2: -0.4192279477359309</br>BLDAREA: -1.4931117864269552</br>LTAREA: 0.0986332022265756</br>... too many variables\"],[\"</br>id: 69</br>prediction: 305034.5</br>AVLAND: -1.2064278570561595</br></br>LTFRONT: 0.2052506401893017</br>LTDEPTH: 0.0041150840808124</br>STORIES: -2.4256728086552424</br>AVTOT: -1.409987515485199</br>EXLAND: -0.8811002224994066</br>EXTOT: -0.9821209155989064</br>EXMPTCL: 0.0</br>BLDFRONT: -1.4752961362039547</br>BLDDEPTH: -1.5117416694640489</br>AVLAND2: -0.6763157372913495</br>AVTOT2: -0.6769214045938811</br>EXTOT2: -0.4192279477359309</br>BLDAREA: -1.4931117864269552</br>LTAREA: 0.0986332022265756</br>... too many variables\"],[\"</br>id: 69</br>prediction: 305034.5</br>AVLAND: -1.0960904069294637</br></br>LTFRONT: 0.2052506401893017</br>LTDEPTH: 0.0041150840808124</br>STORIES: -2.4256728086552424</br>AVTOT: -1.409987515485199</br>EXLAND: -0.8811002224994066</br>EXTOT: -0.9821209155989064</br>EXMPTCL: 0.0</br>BLDFRONT: -1.4752961362039547</br>BLDDEPTH: -1.5117416694640489</br>AVLAND2: -0.6763157372913495</br>AVTOT2: -0.6769214045938811</br>EXTOT2: -0.4192279477359309</br>BLDAREA: -1.4931117864269552</br>LTAREA: 0.0986332022265756</br>... too many variables\"],[\"</br>id: 69</br>prediction: 305884.562</br>AVLAND: -0.9857529568027679</br></br>LTFRONT: 0.2052506401893017</br>LTDEPTH: 0.0041150840808124</br>STORIES: -2.4256728086552424</br>AVTOT: -1.409987515485199</br>EXLAND: -0.8811002224994066</br>EXTOT: -0.9821209155989064</br>EXMPTCL: 0.0</br>BLDFRONT: -1.4752961362039547</br>BLDDEPTH: -1.5117416694640489</br>AVLAND2: -0.6763157372913495</br>AVTOT2: -0.6769214045938811</br>EXTOT2: -0.4192279477359309</br>BLDAREA: -1.4931117864269552</br>LTAREA: 0.0986332022265756</br>... too many variables\"],[\"</br>id: 69</br>prediction: 305884.562</br>AVLAND: -0.8754155066760725</br></br>LTFRONT: 0.2052506401893017</br>LTDEPTH: 0.0041150840808124</br>STORIES: -2.4256728086552424</br>AVTOT: -1.409987515485199</br>EXLAND: -0.8811002224994066</br>EXTOT: -0.9821209155989064</br>EXMPTCL: 0.0</br>BLDFRONT: -1.4752961362039547</br>BLDDEPTH: -1.5117416694640489</br>AVLAND2: -0.6763157372913495</br>AVTOT2: -0.6769214045938811</br>EXTOT2: -0.4192279477359309</br>BLDAREA: -1.4931117864269552</br>LTAREA: 0.0986332022265756</br>... too many variables\"],[\"</br>id: 69</br>prediction: 304460.375</br>AVLAND: -0.7650780565493767</br></br>LTFRONT: 0.2052506401893017</br>LTDEPTH: 0.0041150840808124</br>STORIES: -2.4256728086552424</br>AVTOT: -1.409987515485199</br>EXLAND: -0.8811002224994066</br>EXTOT: -0.9821209155989064</br>EXMPTCL: 0.0</br>BLDFRONT: -1.4752961362039547</br>BLDDEPTH: -1.5117416694640489</br>AVLAND2: -0.6763157372913495</br>AVTOT2: -0.6769214045938811</br>EXTOT2: -0.4192279477359309</br>BLDAREA: -1.4931117864269552</br>LTAREA: 0.0986332022265756</br>... too many variables\"],[\"</br>id: 69</br>prediction: 327630.875</br>AVLAND: -0.6547406064226808</br></br>LTFRONT: 0.2052506401893017</br>LTDEPTH: 0.0041150840808124</br>STORIES: -2.4256728086552424</br>AVTOT: -1.409987515485199</br>EXLAND: -0.8811002224994066</br>EXTOT: -0.9821209155989064</br>EXMPTCL: 0.0</br>BLDFRONT: -1.4752961362039547</br>BLDDEPTH: -1.5117416694640489</br>AVLAND2: -0.6763157372913495</br>AVTOT2: -0.6769214045938811</br>EXTOT2: -0.4192279477359309</br>BLDAREA: -1.4931117864269552</br>LTAREA: 0.0986332022265756</br>... too many variables\"],[\"</br>id: 69</br>prediction: 325147.375</br>AVLAND: -0.544403156295985</br></br>LTFRONT: 0.2052506401893017</br>LTDEPTH: 0.0041150840808124</br>STORIES: -2.4256728086552424</br>AVTOT: -1.409987515485199</br>EXLAND: -0.8811002224994066</br>EXTOT: -0.9821209155989064</br>EXMPTCL: 0.0</br>BLDFRONT: -1.4752961362039547</br>BLDDEPTH: -1.5117416694640489</br>AVLAND2: -0.6763157372913495</br>AVTOT2: -0.6769214045938811</br>EXTOT2: -0.4192279477359309</br>BLDAREA: -1.4931117864269552</br>LTAREA: 0.0986332022265756</br>... too many variables\"],[\"</br>id: 69</br>prediction: 294836.0</br>AVLAND: -0.4340657061692892</br></br>LTFRONT: 0.2052506401893017</br>LTDEPTH: 0.0041150840808124</br>STORIES: -2.4256728086552424</br>AVTOT: -1.409987515485199</br>EXLAND: -0.8811002224994066</br>EXTOT: -0.9821209155989064</br>EXMPTCL: 0.0</br>BLDFRONT: -1.4752961362039547</br>BLDDEPTH: -1.5117416694640489</br>AVLAND2: -0.6763157372913495</br>AVTOT2: -0.6769214045938811</br>EXTOT2: -0.4192279477359309</br>BLDAREA: -1.4931117864269552</br>LTAREA: 0.0986332022265756</br>... too many variables\"],[\"</br>id: 69</br>prediction: 302391.406</br>AVLAND: -0.32372825604259337</br></br>LTFRONT: 0.2052506401893017</br>LTDEPTH: 0.0041150840808124</br>STORIES: -2.4256728086552424</br>AVTOT: -1.409987515485199</br>EXLAND: -0.8811002224994066</br>EXTOT: -0.9821209155989064</br>EXMPTCL: 0.0</br>BLDFRONT: -1.4752961362039547</br>BLDDEPTH: -1.5117416694640489</br>AVLAND2: -0.6763157372913495</br>AVTOT2: -0.6769214045938811</br>EXTOT2: -0.4192279477359309</br>BLDAREA: -1.4931117864269552</br>LTAREA: 0.0986332022265756</br>... too many variables\"],[\"</br>id: 69</br>prediction: 312175.688</br>AVLAND: -0.21339080591589799</br></br>LTFRONT: 0.2052506401893017</br>LTDEPTH: 0.0041150840808124</br>STORIES: -2.4256728086552424</br>AVTOT: -1.409987515485199</br>EXLAND: -0.8811002224994066</br>EXTOT: -0.9821209155989064</br>EXMPTCL: 0.0</br>BLDFRONT: -1.4752961362039547</br>BLDDEPTH: -1.5117416694640489</br>AVLAND2: -0.6763157372913495</br>AVTOT2: -0.6769214045938811</br>EXTOT2: -0.4192279477359309</br>BLDAREA: -1.4931117864269552</br>LTAREA: 0.0986332022265756</br>... too many variables\"],[\"</br>id: 69</br>prediction: 307700.562</br>AVLAND: -0.10305335578920216</br></br>LTFRONT: 0.2052506401893017</br>LTDEPTH: 0.0041150840808124</br>STORIES: -2.4256728086552424</br>AVTOT: -1.409987515485199</br>EXLAND: -0.8811002224994066</br>EXTOT: -0.9821209155989064</br>EXMPTCL: 0.0</br>BLDFRONT: -1.4752961362039547</br>BLDDEPTH: -1.5117416694640489</br>AVLAND2: -0.6763157372913495</br>AVTOT2: -0.6769214045938811</br>EXTOT2: -0.4192279477359309</br>BLDAREA: -1.4931117864269552</br>LTAREA: 0.0986332022265756</br>... too many variables\"],[\"</br>id: 69</br>prediction: 306504.5</br>AVLAND: 0.007284094337493663</br></br>LTFRONT: 0.2052506401893017</br>LTDEPTH: 0.0041150840808124</br>STORIES: -2.4256728086552424</br>AVTOT: -1.409987515485199</br>EXLAND: -0.8811002224994066</br>EXTOT: -0.9821209155989064</br>EXMPTCL: 0.0</br>BLDFRONT: -1.4752961362039547</br>BLDDEPTH: -1.5117416694640489</br>AVLAND2: -0.6763157372913495</br>AVTOT2: -0.6769214045938811</br>EXTOT2: -0.4192279477359309</br>BLDAREA: -1.4931117864269552</br>LTAREA: 0.0986332022265756</br>... too many variables\"],[\"</br>id: 69</br>prediction: 309736.344</br>AVLAND: 0.11762154446418949</br></br>LTFRONT: 0.2052506401893017</br>LTDEPTH: 0.0041150840808124</br>STORIES: -2.4256728086552424</br>AVTOT: -1.409987515485199</br>EXLAND: -0.8811002224994066</br>EXTOT: -0.9821209155989064</br>EXMPTCL: 0.0</br>BLDFRONT: -1.4752961362039547</br>BLDDEPTH: -1.5117416694640489</br>AVLAND2: -0.6763157372913495</br>AVTOT2: -0.6769214045938811</br>EXTOT2: -0.4192279477359309</br>BLDAREA: -1.4931117864269552</br>LTAREA: 0.0986332022265756</br>... too many variables\"],[\"</br>id: 69</br>prediction: 311986.094</br>AVLAND: 0.2279589945908853</br></br>LTFRONT: 0.2052506401893017</br>LTDEPTH: 0.0041150840808124</br>STORIES: -2.4256728086552424</br>AVTOT: -1.409987515485199</br>EXLAND: -0.8811002224994066</br>EXTOT: -0.9821209155989064</br>EXMPTCL: 0.0</br>BLDFRONT: -1.4752961362039547</br>BLDDEPTH: -1.5117416694640489</br>AVLAND2: -0.6763157372913495</br>AVTOT2: -0.6769214045938811</br>EXTOT2: -0.4192279477359309</br>BLDAREA: -1.4931117864269552</br>LTAREA: 0.0986332022265756</br>... too many variables\"],[\"</br>id: 69</br>prediction: 369010.219</br>AVLAND: 0.33829644471758114</br></br>LTFRONT: 0.2052506401893017</br>LTDEPTH: 0.0041150840808124</br>STORIES: -2.4256728086552424</br>AVTOT: -1.409987515485199</br>EXLAND: -0.8811002224994066</br>EXTOT: -0.9821209155989064</br>EXMPTCL: 0.0</br>BLDFRONT: -1.4752961362039547</br>BLDDEPTH: -1.5117416694640489</br>AVLAND2: -0.6763157372913495</br>AVTOT2: -0.6769214045938811</br>EXTOT2: -0.4192279477359309</br>BLDAREA: -1.4931117864269552</br>LTAREA: 0.0986332022265756</br>... too many variables\"],[\"</br>id: 69</br>prediction: 376669.719</br>AVLAND: 0.44863389484427696</br></br>LTFRONT: 0.2052506401893017</br>LTDEPTH: 0.0041150840808124</br>STORIES: -2.4256728086552424</br>AVTOT: -1.409987515485199</br>EXLAND: -0.8811002224994066</br>EXTOT: -0.9821209155989064</br>EXMPTCL: 0.0</br>BLDFRONT: -1.4752961362039547</br>BLDDEPTH: -1.5117416694640489</br>AVLAND2: -0.6763157372913495</br>AVTOT2: -0.6769214045938811</br>EXTOT2: -0.4192279477359309</br>BLDAREA: -1.4931117864269552</br>LTAREA: 0.0986332022265756</br>... too many variables\"],[\"</br>id: 69</br>prediction: 376669.719</br>AVLAND: 0.5589713449709723</br></br>LTFRONT: 0.2052506401893017</br>LTDEPTH: 0.0041150840808124</br>STORIES: -2.4256728086552424</br>AVTOT: -1.409987515485199</br>EXLAND: -0.8811002224994066</br>EXTOT: -0.9821209155989064</br>EXMPTCL: 0.0</br>BLDFRONT: -1.4752961362039547</br>BLDDEPTH: -1.5117416694640489</br>AVLAND2: -0.6763157372913495</br>AVTOT2: -0.6769214045938811</br>EXTOT2: -0.4192279477359309</br>BLDAREA: -1.4931117864269552</br>LTAREA: 0.0986332022265756</br>... too many variables\"],[\"</br>id: 69</br>prediction: 376669.719</br>AVLAND: 0.6693087950976686</br></br>LTFRONT: 0.2052506401893017</br>LTDEPTH: 0.0041150840808124</br>STORIES: -2.4256728086552424</br>AVTOT: -1.409987515485199</br>EXLAND: -0.8811002224994066</br>EXTOT: -0.9821209155989064</br>EXMPTCL: 0.0</br>BLDFRONT: -1.4752961362039547</br>BLDDEPTH: -1.5117416694640489</br>AVLAND2: -0.6763157372913495</br>AVTOT2: -0.6769214045938811</br>EXTOT2: -0.4192279477359309</br>BLDAREA: -1.4931117864269552</br>LTAREA: 0.0986332022265756</br>... too many variables\"],[\"</br>id: 69</br>prediction: 376669.719</br>AVLAND: 0.779646245224364</br></br>LTFRONT: 0.2052506401893017</br>LTDEPTH: 0.0041150840808124</br>STORIES: -2.4256728086552424</br>AVTOT: -1.409987515485199</br>EXLAND: -0.8811002224994066</br>EXTOT: -0.9821209155989064</br>EXMPTCL: 0.0</br>BLDFRONT: -1.4752961362039547</br>BLDDEPTH: -1.5117416694640489</br>AVLAND2: -0.6763157372913495</br>AVTOT2: -0.6769214045938811</br>EXTOT2: -0.4192279477359309</br>BLDAREA: -1.4931117864269552</br>LTAREA: 0.0986332022265756</br>... too many variables\"],[\"</br>id: 69</br>prediction: 376669.719</br>AVLAND: 0.8899836953510594</br></br>LTFRONT: 0.2052506401893017</br>LTDEPTH: 0.0041150840808124</br>STORIES: -2.4256728086552424</br>AVTOT: -1.409987515485199</br>EXLAND: -0.8811002224994066</br>EXTOT: -0.9821209155989064</br>EXMPTCL: 0.0</br>BLDFRONT: -1.4752961362039547</br>BLDDEPTH: -1.5117416694640489</br>AVLAND2: -0.6763157372913495</br>AVTOT2: -0.6769214045938811</br>EXTOT2: -0.4192279477359309</br>BLDAREA: -1.4931117864269552</br>LTAREA: 0.0986332022265756</br>... too many variables\"],[\"</br>id: 69</br>prediction: 378247.469</br>AVLAND: 1.0003211454777556</br></br>LTFRONT: 0.2052506401893017</br>LTDEPTH: 0.0041150840808124</br>STORIES: -2.4256728086552424</br>AVTOT: -1.409987515485199</br>EXLAND: -0.8811002224994066</br>EXTOT: -0.9821209155989064</br>EXMPTCL: 0.0</br>BLDFRONT: -1.4752961362039547</br>BLDDEPTH: -1.5117416694640489</br>AVLAND2: -0.6763157372913495</br>AVTOT2: -0.6769214045938811</br>EXTOT2: -0.4192279477359309</br>BLDAREA: -1.4931117864269552</br>LTAREA: 0.0986332022265756</br>... too many variables\"],[\"</br>id: 69</br>prediction: 436975.719</br>AVLAND: 1.110658595604451</br></br>LTFRONT: 0.2052506401893017</br>LTDEPTH: 0.0041150840808124</br>STORIES: -2.4256728086552424</br>AVTOT: -1.409987515485199</br>EXLAND: -0.8811002224994066</br>EXTOT: -0.9821209155989064</br>EXMPTCL: 0.0</br>BLDFRONT: -1.4752961362039547</br>BLDDEPTH: -1.5117416694640489</br>AVLAND2: -0.6763157372913495</br>AVTOT2: -0.6769214045938811</br>EXTOT2: -0.4192279477359309</br>BLDAREA: -1.4931117864269552</br>LTAREA: 0.0986332022265756</br>... too many variables\"],[\"</br>id: 69</br>prediction: 522055.188</br>AVLAND: 1.2209960457311473</br></br>LTFRONT: 0.2052506401893017</br>LTDEPTH: 0.0041150840808124</br>STORIES: -2.4256728086552424</br>AVTOT: -1.409987515485199</br>EXLAND: -0.8811002224994066</br>EXTOT: -0.9821209155989064</br>EXMPTCL: 0.0</br>BLDFRONT: -1.4752961362039547</br>BLDDEPTH: -1.5117416694640489</br>AVLAND2: -0.6763157372913495</br>AVTOT2: -0.6769214045938811</br>EXTOT2: -0.4192279477359309</br>BLDAREA: -1.4931117864269552</br>LTAREA: 0.0986332022265756</br>... too many variables\"],[\"</br>id: 69</br>prediction: 531202.312</br>AVLAND: 1.3313334958578427</br></br>LTFRONT: 0.2052506401893017</br>LTDEPTH: 0.0041150840808124</br>STORIES: -2.4256728086552424</br>AVTOT: -1.409987515485199</br>EXLAND: -0.8811002224994066</br>EXTOT: -0.9821209155989064</br>EXMPTCL: 0.0</br>BLDFRONT: -1.4752961362039547</br>BLDDEPTH: -1.5117416694640489</br>AVLAND2: -0.6763157372913495</br>AVTOT2: -0.6769214045938811</br>EXTOT2: -0.4192279477359309</br>BLDAREA: -1.4931117864269552</br>LTAREA: 0.0986332022265756</br>... too many variables\"],[\"</br>id: 69</br>prediction: 573381.938</br>AVLAND: 1.441670945984539</br></br>LTFRONT: 0.2052506401893017</br>LTDEPTH: 0.0041150840808124</br>STORIES: -2.4256728086552424</br>AVTOT: -1.409987515485199</br>EXLAND: -0.8811002224994066</br>EXTOT: -0.9821209155989064</br>EXMPTCL: 0.0</br>BLDFRONT: -1.4752961362039547</br>BLDDEPTH: -1.5117416694640489</br>AVLAND2: -0.6763157372913495</br>AVTOT2: -0.6769214045938811</br>EXTOT2: -0.4192279477359309</br>BLDAREA: -1.4931117864269552</br>LTAREA: 0.0986332022265756</br>... too many variables\"],[\"</br>id: 69</br>prediction: 654893.438</br>AVLAND: 1.5520083961112343</br></br>LTFRONT: 0.2052506401893017</br>LTDEPTH: 0.0041150840808124</br>STORIES: -2.4256728086552424</br>AVTOT: -1.409987515485199</br>EXLAND: -0.8811002224994066</br>EXTOT: -0.9821209155989064</br>EXMPTCL: 0.0</br>BLDFRONT: -1.4752961362039547</br>BLDDEPTH: -1.5117416694640489</br>AVLAND2: -0.6763157372913495</br>AVTOT2: -0.6769214045938811</br>EXTOT2: -0.4192279477359309</br>BLDAREA: -1.4931117864269552</br>LTAREA: 0.0986332022265756</br>... too many variables\"],[\"</br>id: 69</br>prediction: 664922.75</br>AVLAND: 1.6623458462379297</br></br>LTFRONT: 0.2052506401893017</br>LTDEPTH: 0.0041150840808124</br>STORIES: -2.4256728086552424</br>AVTOT: -1.409987515485199</br>EXLAND: -0.8811002224994066</br>EXTOT: -0.9821209155989064</br>EXMPTCL: 0.0</br>BLDFRONT: -1.4752961362039547</br>BLDDEPTH: -1.5117416694640489</br>AVLAND2: -0.6763157372913495</br>AVTOT2: -0.6769214045938811</br>EXTOT2: -0.4192279477359309</br>BLDAREA: -1.4931117864269552</br>LTAREA: 0.0986332022265756</br>... too many variables\"],[\"</br>id: 69</br>prediction: 666908.812</br>AVLAND: 1.772683296364626</br></br>LTFRONT: 0.2052506401893017</br>LTDEPTH: 0.0041150840808124</br>STORIES: -2.4256728086552424</br>AVTOT: -1.409987515485199</br>EXLAND: -0.8811002224994066</br>EXTOT: -0.9821209155989064</br>EXMPTCL: 0.0</br>BLDFRONT: -1.4752961362039547</br>BLDDEPTH: -1.5117416694640489</br>AVLAND2: -0.6763157372913495</br>AVTOT2: -0.6769214045938811</br>EXTOT2: -0.4192279477359309</br>BLDAREA: -1.4931117864269552</br>LTAREA: 0.0986332022265756</br>... too many variables\"],[\"</br>id: 69</br>prediction: 622785.875</br>AVLAND: 1.8830207464913213</br></br>LTFRONT: 0.2052506401893017</br>LTDEPTH: 0.0041150840808124</br>STORIES: -2.4256728086552424</br>AVTOT: -1.409987515485199</br>EXLAND: -0.8811002224994066</br>EXTOT: -0.9821209155989064</br>EXMPTCL: 0.0</br>BLDFRONT: -1.4752961362039547</br>BLDDEPTH: -1.5117416694640489</br>AVLAND2: -0.6763157372913495</br>AVTOT2: -0.6769214045938811</br>EXTOT2: -0.4192279477359309</br>BLDAREA: -1.4931117864269552</br>LTAREA: 0.0986332022265756</br>... too many variables\"],[\"</br>id: 69</br>prediction: 626478.25</br>AVLAND: 1.9933581966180176</br></br>LTFRONT: 0.2052506401893017</br>LTDEPTH: 0.0041150840808124</br>STORIES: -2.4256728086552424</br>AVTOT: -1.409987515485199</br>EXLAND: -0.8811002224994066</br>EXTOT: -0.9821209155989064</br>EXMPTCL: 0.0</br>BLDFRONT: -1.4752961362039547</br>BLDDEPTH: -1.5117416694640489</br>AVLAND2: -0.6763157372913495</br>AVTOT2: -0.6769214045938811</br>EXTOT2: -0.4192279477359309</br>BLDAREA: -1.4931117864269552</br>LTAREA: 0.0986332022265756</br>... too many variables\"],[\"</br>id: 69</br>prediction: 626478.25</br>AVLAND: 2.103695646744713</br></br>LTFRONT: 0.2052506401893017</br>LTDEPTH: 0.0041150840808124</br>STORIES: -2.4256728086552424</br>AVTOT: -1.409987515485199</br>EXLAND: -0.8811002224994066</br>EXTOT: -0.9821209155989064</br>EXMPTCL: 0.0</br>BLDFRONT: -1.4752961362039547</br>BLDDEPTH: -1.5117416694640489</br>AVLAND2: -0.6763157372913495</br>AVTOT2: -0.6769214045938811</br>EXTOT2: -0.4192279477359309</br>BLDAREA: -1.4931117864269552</br>LTAREA: 0.0986332022265756</br>... too many variables\"],[\"</br>id: 69</br>prediction: 624096.75</br>AVLAND: 2.2140330968714093</br></br>LTFRONT: 0.2052506401893017</br>LTDEPTH: 0.0041150840808124</br>STORIES: -2.4256728086552424</br>AVTOT: -1.409987515485199</br>EXLAND: -0.8811002224994066</br>EXTOT: -0.9821209155989064</br>EXMPTCL: 0.0</br>BLDFRONT: -1.4752961362039547</br>BLDDEPTH: -1.5117416694640489</br>AVLAND2: -0.6763157372913495</br>AVTOT2: -0.6769214045938811</br>EXTOT2: -0.4192279477359309</br>BLDAREA: -1.4931117864269552</br>LTAREA: 0.0986332022265756</br>... too many variables\"],[\"</br>id: 69</br>prediction: 624096.75</br>AVLAND: 2.3243705469981046</br></br>LTFRONT: 0.2052506401893017</br>LTDEPTH: 0.0041150840808124</br>STORIES: -2.4256728086552424</br>AVTOT: -1.409987515485199</br>EXLAND: -0.8811002224994066</br>EXTOT: -0.9821209155989064</br>EXMPTCL: 0.0</br>BLDFRONT: -1.4752961362039547</br>BLDDEPTH: -1.5117416694640489</br>AVLAND2: -0.6763157372913495</br>AVTOT2: -0.6769214045938811</br>EXTOT2: -0.4192279477359309</br>BLDAREA: -1.4931117864269552</br>LTAREA: 0.0986332022265756</br>... too many variables\"],[\"</br>id: 69</br>prediction: 629876.688</br>AVLAND: 2.4347079971248</br></br>LTFRONT: 0.2052506401893017</br>LTDEPTH: 0.0041150840808124</br>STORIES: -2.4256728086552424</br>AVTOT: -1.409987515485199</br>EXLAND: -0.8811002224994066</br>EXTOT: -0.9821209155989064</br>EXMPTCL: 0.0</br>BLDFRONT: -1.4752961362039547</br>BLDDEPTH: -1.5117416694640489</br>AVLAND2: -0.6763157372913495</br>AVTOT2: -0.6769214045938811</br>EXTOT2: -0.4192279477359309</br>BLDAREA: -1.4931117864269552</br>LTAREA: 0.0986332022265756</br>... too many variables\"],[\"</br>id: 69</br>prediction: 634013.188</br>AVLAND: 2.5450454472514963</br></br>LTFRONT: 0.2052506401893017</br>LTDEPTH: 0.0041150840808124</br>STORIES: -2.4256728086552424</br>AVTOT: -1.409987515485199</br>EXLAND: -0.8811002224994066</br>EXTOT: -0.9821209155989064</br>EXMPTCL: 0.0</br>BLDFRONT: -1.4752961362039547</br>BLDDEPTH: -1.5117416694640489</br>AVLAND2: -0.6763157372913495</br>AVTOT2: -0.6769214045938811</br>EXTOT2: -0.4192279477359309</br>BLDAREA: -1.4931117864269552</br>LTAREA: 0.0986332022265756</br>... too many variables\"],[\"</br>id: 69</br>prediction: 634013.188</br>AVLAND: 2.6553828973781917</br></br>LTFRONT: 0.2052506401893017</br>LTDEPTH: 0.0041150840808124</br>STORIES: -2.4256728086552424</br>AVTOT: -1.409987515485199</br>EXLAND: -0.8811002224994066</br>EXTOT: -0.9821209155989064</br>EXMPTCL: 0.0</br>BLDFRONT: -1.4752961362039547</br>BLDDEPTH: -1.5117416694640489</br>AVLAND2: -0.6763157372913495</br>AVTOT2: -0.6769214045938811</br>EXTOT2: -0.4192279477359309</br>BLDAREA: -1.4931117864269552</br>LTAREA: 0.0986332022265756</br>... too many variables\"],[\"</br>id: 69</br>prediction: 727410.562</br>AVLAND: 2.765720347504888</br></br>LTFRONT: 0.2052506401893017</br>LTDEPTH: 0.0041150840808124</br>STORIES: -2.4256728086552424</br>AVTOT: -1.409987515485199</br>EXLAND: -0.8811002224994066</br>EXTOT: -0.9821209155989064</br>EXMPTCL: 0.0</br>BLDFRONT: -1.4752961362039547</br>BLDDEPTH: -1.5117416694640489</br>AVLAND2: -0.6763157372913495</br>AVTOT2: -0.6769214045938811</br>EXTOT2: -0.4192279477359309</br>BLDAREA: -1.4931117864269552</br>LTAREA: 0.0986332022265756</br>... too many variables\"],[\"</br>id: 69</br>prediction: 727410.562</br>AVLAND: 2.8760577976315833</br></br>LTFRONT: 0.2052506401893017</br>LTDEPTH: 0.0041150840808124</br>STORIES: -2.4256728086552424</br>AVTOT: -1.409987515485199</br>EXLAND: -0.8811002224994066</br>EXTOT: -0.9821209155989064</br>EXMPTCL: 0.0</br>BLDFRONT: -1.4752961362039547</br>BLDDEPTH: -1.5117416694640489</br>AVLAND2: -0.6763157372913495</br>AVTOT2: -0.6769214045938811</br>EXTOT2: -0.4192279477359309</br>BLDAREA: -1.4931117864269552</br>LTAREA: 0.0986332022265756</br>... too many variables\"],[\"</br>id: 69</br>prediction: 815766.312</br>AVLAND: 2.9863952477582787</br></br>LTFRONT: 0.2052506401893017</br>LTDEPTH: 0.0041150840808124</br>STORIES: -2.4256728086552424</br>AVTOT: -1.409987515485199</br>EXLAND: -0.8811002224994066</br>EXTOT: -0.9821209155989064</br>EXMPTCL: 0.0</br>BLDFRONT: -1.4752961362039547</br>BLDDEPTH: -1.5117416694640489</br>AVLAND2: -0.6763157372913495</br>AVTOT2: -0.6769214045938811</br>EXTOT2: -0.4192279477359309</br>BLDAREA: -1.4931117864269552</br>LTAREA: 0.0986332022265756</br>... too many variables\"],[\"</br>id: 69</br>prediction: 815766.312</br>AVLAND: 3.096732697884975</br></br>LTFRONT: 0.2052506401893017</br>LTDEPTH: 0.0041150840808124</br>STORIES: -2.4256728086552424</br>AVTOT: -1.409987515485199</br>EXLAND: -0.8811002224994066</br>EXTOT: -0.9821209155989064</br>EXMPTCL: 0.0</br>BLDFRONT: -1.4752961362039547</br>BLDDEPTH: -1.5117416694640489</br>AVLAND2: -0.6763157372913495</br>AVTOT2: -0.6769214045938811</br>EXTOT2: -0.4192279477359309</br>BLDAREA: -1.4931117864269552</br>LTAREA: 0.0986332022265756</br>... too many variables\"],[\"</br>id: 69</br>prediction: 815766.312</br>AVLAND: 3.2070701480116703</br></br>LTFRONT: 0.2052506401893017</br>LTDEPTH: 0.0041150840808124</br>STORIES: -2.4256728086552424</br>AVTOT: -1.409987515485199</br>EXLAND: -0.8811002224994066</br>EXTOT: -0.9821209155989064</br>EXMPTCL: 0.0</br>BLDFRONT: -1.4752961362039547</br>BLDDEPTH: -1.5117416694640489</br>AVLAND2: -0.6763157372913495</br>AVTOT2: -0.6769214045938811</br>EXTOT2: -0.4192279477359309</br>BLDAREA: -1.4931117864269552</br>LTAREA: 0.0986332022265756</br>... too many variables\"],[\"</br>id: 69</br>prediction: 815766.312</br>AVLAND: 3.3174075981383666</br></br>LTFRONT: 0.2052506401893017</br>LTDEPTH: 0.0041150840808124</br>STORIES: -2.4256728086552424</br>AVTOT: -1.409987515485199</br>EXLAND: -0.8811002224994066</br>EXTOT: -0.9821209155989064</br>EXMPTCL: 0.0</br>BLDFRONT: -1.4752961362039547</br>BLDDEPTH: -1.5117416694640489</br>AVLAND2: -0.6763157372913495</br>AVTOT2: -0.6769214045938811</br>EXTOT2: -0.4192279477359309</br>BLDAREA: -1.4931117864269552</br>LTAREA: 0.0986332022265756</br>... too many variables\"],[\"</br>id: 69</br>prediction: 815766.312</br>AVLAND: 3.427745048265062</br></br>LTFRONT: 0.2052506401893017</br>LTDEPTH: 0.0041150840808124</br>STORIES: -2.4256728086552424</br>AVTOT: -1.409987515485199</br>EXLAND: -0.8811002224994066</br>EXTOT: -0.9821209155989064</br>EXMPTCL: 0.0</br>BLDFRONT: -1.4752961362039547</br>BLDDEPTH: -1.5117416694640489</br>AVLAND2: -0.6763157372913495</br>AVTOT2: -0.6769214045938811</br>EXTOT2: -0.4192279477359309</br>BLDAREA: -1.4931117864269552</br>LTAREA: 0.0986332022265756</br>... too many variables\"],[\"</br>id: 69</br>prediction: 815766.312</br>AVLAND: 3.5380824983917583</br></br>LTFRONT: 0.2052506401893017</br>LTDEPTH: 0.0041150840808124</br>STORIES: -2.4256728086552424</br>AVTOT: -1.409987515485199</br>EXLAND: -0.8811002224994066</br>EXTOT: -0.9821209155989064</br>EXMPTCL: 0.0</br>BLDFRONT: -1.4752961362039547</br>BLDDEPTH: -1.5117416694640489</br>AVLAND2: -0.6763157372913495</br>AVTOT2: -0.6769214045938811</br>EXTOT2: -0.4192279477359309</br>BLDAREA: -1.4931117864269552</br>LTAREA: 0.0986332022265756</br>... too many variables\"],[\"</br>id: 69</br>prediction: 920475.75</br>AVLAND: 3.6484199485184536</br></br>LTFRONT: 0.2052506401893017</br>LTDEPTH: 0.0041150840808124</br>STORIES: -2.4256728086552424</br>AVTOT: -1.409987515485199</br>EXLAND: -0.8811002224994066</br>EXTOT: -0.9821209155989064</br>EXMPTCL: 0.0</br>BLDFRONT: -1.4752961362039547</br>BLDDEPTH: -1.5117416694640489</br>AVLAND2: -0.6763157372913495</br>AVTOT2: -0.6769214045938811</br>EXTOT2: -0.4192279477359309</br>BLDAREA: -1.4931117864269552</br>LTAREA: 0.0986332022265756</br>... too many variables\"],[\"</br>id: 69</br>prediction: 920475.75</br>AVLAND: 3.758757398645149</br></br>LTFRONT: 0.2052506401893017</br>LTDEPTH: 0.0041150840808124</br>STORIES: -2.4256728086552424</br>AVTOT: -1.409987515485199</br>EXLAND: -0.8811002224994066</br>EXTOT: -0.9821209155989064</br>EXMPTCL: 0.0</br>BLDFRONT: -1.4752961362039547</br>BLDDEPTH: -1.5117416694640489</br>AVLAND2: -0.6763157372913495</br>AVTOT2: -0.6769214045938811</br>EXTOT2: -0.4192279477359309</br>BLDAREA: -1.4931117864269552</br>LTAREA: 0.0986332022265756</br>... too many variables\"],[\"</br>id: 69</br>prediction: 920475.75</br>AVLAND: 3.8690948487718453</br></br>LTFRONT: 0.2052506401893017</br>LTDEPTH: 0.0041150840808124</br>STORIES: -2.4256728086552424</br>AVTOT: -1.409987515485199</br>EXLAND: -0.8811002224994066</br>EXTOT: -0.9821209155989064</br>EXMPTCL: 0.0</br>BLDFRONT: -1.4752961362039547</br>BLDDEPTH: -1.5117416694640489</br>AVLAND2: -0.6763157372913495</br>AVTOT2: -0.6769214045938811</br>EXTOT2: -0.4192279477359309</br>BLDAREA: -1.4931117864269552</br>LTAREA: 0.0986332022265756</br>... too many variables\"],[\"</br>id: 69</br>prediction: 920475.75</br>AVLAND: 3.9794322988985407</br></br>LTFRONT: 0.2052506401893017</br>LTDEPTH: 0.0041150840808124</br>STORIES: -2.4256728086552424</br>AVTOT: -1.409987515485199</br>EXLAND: -0.8811002224994066</br>EXTOT: -0.9821209155989064</br>EXMPTCL: 0.0</br>BLDFRONT: -1.4752961362039547</br>BLDDEPTH: -1.5117416694640489</br>AVLAND2: -0.6763157372913495</br>AVTOT2: -0.6769214045938811</br>EXTOT2: -0.4192279477359309</br>BLDAREA: -1.4931117864269552</br>LTAREA: 0.0986332022265756</br>... too many variables\"],[\"</br>id: 69</br>prediction: 920475.75</br>AVLAND: 4.089769749025237</br></br>LTFRONT: 0.2052506401893017</br>LTDEPTH: 0.0041150840808124</br>STORIES: -2.4256728086552424</br>AVTOT: -1.409987515485199</br>EXLAND: -0.8811002224994066</br>EXTOT: -0.9821209155989064</br>EXMPTCL: 0.0</br>BLDFRONT: -1.4752961362039547</br>BLDDEPTH: -1.5117416694640489</br>AVLAND2: -0.6763157372913495</br>AVTOT2: -0.6769214045938811</br>EXTOT2: -0.4192279477359309</br>BLDAREA: -1.4931117864269552</br>LTAREA: 0.0986332022265756</br>... too many variables\"],[\"</br>id: 69</br>prediction: 920475.75</br>AVLAND: 4.200107199151932</br></br>LTFRONT: 0.2052506401893017</br>LTDEPTH: 0.0041150840808124</br>STORIES: -2.4256728086552424</br>AVTOT: -1.409987515485199</br>EXLAND: -0.8811002224994066</br>EXTOT: -0.9821209155989064</br>EXMPTCL: 0.0</br>BLDFRONT: -1.4752961362039547</br>BLDDEPTH: -1.5117416694640489</br>AVLAND2: -0.6763157372913495</br>AVTOT2: -0.6769214045938811</br>EXTOT2: -0.4192279477359309</br>BLDAREA: -1.4931117864269552</br>LTAREA: 0.0986332022265756</br>... too many variables\"],[\"</br>id: 69</br>prediction: 920475.75</br>AVLAND: 4.310444649278629</br></br>LTFRONT: 0.2052506401893017</br>LTDEPTH: 0.0041150840808124</br>STORIES: -2.4256728086552424</br>AVTOT: -1.409987515485199</br>EXLAND: -0.8811002224994066</br>EXTOT: -0.9821209155989064</br>EXMPTCL: 0.0</br>BLDFRONT: -1.4752961362039547</br>BLDDEPTH: -1.5117416694640489</br>AVLAND2: -0.6763157372913495</br>AVTOT2: -0.6769214045938811</br>EXTOT2: -0.4192279477359309</br>BLDAREA: -1.4931117864269552</br>LTAREA: 0.0986332022265756</br>... too many variables\"],[\"</br>id: 69</br>prediction: 920475.75</br>AVLAND: 4.420782099405324</br></br>LTFRONT: 0.2052506401893017</br>LTDEPTH: 0.0041150840808124</br>STORIES: -2.4256728086552424</br>AVTOT: -1.409987515485199</br>EXLAND: -0.8811002224994066</br>EXTOT: -0.9821209155989064</br>EXMPTCL: 0.0</br>BLDFRONT: -1.4752961362039547</br>BLDDEPTH: -1.5117416694640489</br>AVLAND2: -0.6763157372913495</br>AVTOT2: -0.6769214045938811</br>EXTOT2: -0.4192279477359309</br>BLDAREA: -1.4931117864269552</br>LTAREA: 0.0986332022265756</br>... too many variables\"],[\"</br>id: 69</br>prediction: 920475.75</br>AVLAND: 4.531119549532019</br></br>LTFRONT: 0.2052506401893017</br>LTDEPTH: 0.0041150840808124</br>STORIES: -2.4256728086552424</br>AVTOT: -1.409987515485199</br>EXLAND: -0.8811002224994066</br>EXTOT: -0.9821209155989064</br>EXMPTCL: 0.0</br>BLDFRONT: -1.4752961362039547</br>BLDDEPTH: -1.5117416694640489</br>AVLAND2: -0.6763157372913495</br>AVTOT2: -0.6769214045938811</br>EXTOT2: -0.4192279477359309</br>BLDAREA: -1.4931117864269552</br>LTAREA: 0.0986332022265756</br>... too many variables\"],[\"</br>id: 69</br>prediction: 920475.75</br>AVLAND: 4.641456999658716</br></br>LTFRONT: 0.2052506401893017</br>LTDEPTH: 0.0041150840808124</br>STORIES: -2.4256728086552424</br>AVTOT: -1.409987515485199</br>EXLAND: -0.8811002224994066</br>EXTOT: -0.9821209155989064</br>EXMPTCL: 0.0</br>BLDFRONT: -1.4752961362039547</br>BLDDEPTH: -1.5117416694640489</br>AVLAND2: -0.6763157372913495</br>AVTOT2: -0.6769214045938811</br>EXTOT2: -0.4192279477359309</br>BLDAREA: -1.4931117864269552</br>LTAREA: 0.0986332022265756</br>... too many variables\"],[\"</br>id: 69</br>prediction: 920475.75</br>AVLAND: 4.751794449785412</br></br>LTFRONT: 0.2052506401893017</br>LTDEPTH: 0.0041150840808124</br>STORIES: -2.4256728086552424</br>AVTOT: -1.409987515485199</br>EXLAND: -0.8811002224994066</br>EXTOT: -0.9821209155989064</br>EXMPTCL: 0.0</br>BLDFRONT: -1.4752961362039547</br>BLDDEPTH: -1.5117416694640489</br>AVLAND2: -0.6763157372913495</br>AVTOT2: -0.6769214045938811</br>EXTOT2: -0.4192279477359309</br>BLDAREA: -1.4931117864269552</br>LTAREA: 0.0986332022265756</br>... too many variables\"],[\"</br>id: 69</br>prediction: 1713655.125</br>AVLAND: 4.862131899912106</br></br>LTFRONT: 0.2052506401893017</br>LTDEPTH: 0.0041150840808124</br>STORIES: -2.4256728086552424</br>AVTOT: -1.409987515485199</br>EXLAND: -0.8811002224994066</br>EXTOT: -0.9821209155989064</br>EXMPTCL: 0.0</br>BLDFRONT: -1.4752961362039547</br>BLDDEPTH: -1.5117416694640489</br>AVLAND2: -0.6763157372913495</br>AVTOT2: -0.6769214045938811</br>EXTOT2: -0.4192279477359309</br>BLDAREA: -1.4931117864269552</br>LTAREA: 0.0986332022265756</br>... too many variables\"],[\"</br>id: 69</br>prediction: 1713655.125</br>AVLAND: 4.972469350038803</br></br>LTFRONT: 0.2052506401893017</br>LTDEPTH: 0.0041150840808124</br>STORIES: -2.4256728086552424</br>AVTOT: -1.409987515485199</br>EXLAND: -0.8811002224994066</br>EXTOT: -0.9821209155989064</br>EXMPTCL: 0.0</br>BLDFRONT: -1.4752961362039547</br>BLDDEPTH: -1.5117416694640489</br>AVLAND2: -0.6763157372913495</br>AVTOT2: -0.6769214045938811</br>EXTOT2: -0.4192279477359309</br>BLDAREA: -1.4931117864269552</br>LTAREA: 0.0986332022265756</br>... too many variables\"],[\"</br>id: 69</br>prediction: 1713655.125</br>AVLAND: 5.082806800165499</br></br>LTFRONT: 0.2052506401893017</br>LTDEPTH: 0.0041150840808124</br>STORIES: -2.4256728086552424</br>AVTOT: -1.409987515485199</br>EXLAND: -0.8811002224994066</br>EXTOT: -0.9821209155989064</br>EXMPTCL: 0.0</br>BLDFRONT: -1.4752961362039547</br>BLDDEPTH: -1.5117416694640489</br>AVLAND2: -0.6763157372913495</br>AVTOT2: -0.6769214045938811</br>EXTOT2: -0.4192279477359309</br>BLDAREA: -1.4931117864269552</br>LTAREA: 0.0986332022265756</br>... too many variables\"],[\"</br>id: 69</br>prediction: 6330050.0</br>AVLAND: 5.193144250292193</br></br>LTFRONT: 0.2052506401893017</br>LTDEPTH: 0.0041150840808124</br>STORIES: -2.4256728086552424</br>AVTOT: -1.409987515485199</br>EXLAND: -0.8811002224994066</br>EXTOT: -0.9821209155989064</br>EXMPTCL: 0.0</br>BLDFRONT: -1.4752961362039547</br>BLDDEPTH: -1.5117416694640489</br>AVLAND2: -0.6763157372913495</br>AVTOT2: -0.6769214045938811</br>EXTOT2: -0.4192279477359309</br>BLDAREA: -1.4931117864269552</br>LTAREA: 0.0986332022265756</br>... too many variables\"],[\"</br>id: 69</br>prediction: 15564990.0</br>AVLAND: 5.30348170041889</br></br>LTFRONT: 0.2052506401893017</br>LTDEPTH: 0.0041150840808124</br>STORIES: -2.4256728086552424</br>AVTOT: -1.409987515485199</br>EXLAND: -0.8811002224994066</br>EXTOT: -0.9821209155989064</br>EXMPTCL: 0.0</br>BLDFRONT: -1.4752961362039547</br>BLDDEPTH: -1.5117416694640489</br>AVLAND2: -0.6763157372913495</br>AVTOT2: -0.6769214045938811</br>EXTOT2: -0.4192279477359309</br>BLDAREA: -1.4931117864269552</br>LTAREA: 0.0986332022265756</br>... too many variables\"],[\"</br>id: 69</br>prediction: 15564990.0</br>AVLAND: 5.413819150545586</br></br>LTFRONT: 0.2052506401893017</br>LTDEPTH: 0.0041150840808124</br>STORIES: -2.4256728086552424</br>AVTOT: -1.409987515485199</br>EXLAND: -0.8811002224994066</br>EXTOT: -0.9821209155989064</br>EXMPTCL: 0.0</br>BLDFRONT: -1.4752961362039547</br>BLDDEPTH: -1.5117416694640489</br>AVLAND2: -0.6763157372913495</br>AVTOT2: -0.6769214045938811</br>EXTOT2: -0.4192279477359309</br>BLDAREA: -1.4931117864269552</br>LTAREA: 0.0986332022265756</br>... too many variables\"],[\"</br>id: 69</br>prediction: 15564990.0</br>AVLAND: 5.524156600672282</br></br>LTFRONT: 0.2052506401893017</br>LTDEPTH: 0.0041150840808124</br>STORIES: -2.4256728086552424</br>AVTOT: -1.409987515485199</br>EXLAND: -0.8811002224994066</br>EXTOT: -0.9821209155989064</br>EXMPTCL: 0.0</br>BLDFRONT: -1.4752961362039547</br>BLDDEPTH: -1.5117416694640489</br>AVLAND2: -0.6763157372913495</br>AVTOT2: -0.6769214045938811</br>EXTOT2: -0.4192279477359309</br>BLDAREA: -1.4931117864269552</br>LTAREA: 0.0986332022265756</br>... too many variables\"],[\"</br>id: 69</br>prediction: 15564990.0</br>AVLAND: 5.634494050798977</br></br>LTFRONT: 0.2052506401893017</br>LTDEPTH: 0.0041150840808124</br>STORIES: -2.4256728086552424</br>AVTOT: -1.409987515485199</br>EXLAND: -0.8811002224994066</br>EXTOT: -0.9821209155989064</br>EXMPTCL: 0.0</br>BLDFRONT: -1.4752961362039547</br>BLDDEPTH: -1.5117416694640489</br>AVLAND2: -0.6763157372913495</br>AVTOT2: -0.6769214045938811</br>EXTOT2: -0.4192279477359309</br>BLDAREA: -1.4931117864269552</br>LTAREA: 0.0986332022265756</br>... too many variables\"],[\"</br>id: 69</br>prediction: 15564990.0</br>AVLAND: 5.744831500925673</br></br>LTFRONT: 0.2052506401893017</br>LTDEPTH: 0.0041150840808124</br>STORIES: -2.4256728086552424</br>AVTOT: -1.409987515485199</br>EXLAND: -0.8811002224994066</br>EXTOT: -0.9821209155989064</br>EXMPTCL: 0.0</br>BLDFRONT: -1.4752961362039547</br>BLDDEPTH: -1.5117416694640489</br>AVLAND2: -0.6763157372913495</br>AVTOT2: -0.6769214045938811</br>EXTOT2: -0.4192279477359309</br>BLDAREA: -1.4931117864269552</br>LTAREA: 0.0986332022265756</br>... too many variables\"],[\"</br>id: 69</br>prediction: 15564990.0</br>AVLAND: 5.855168951052369</br></br>LTFRONT: 0.2052506401893017</br>LTDEPTH: 0.0041150840808124</br>STORIES: -2.4256728086552424</br>AVTOT: -1.409987515485199</br>EXLAND: -0.8811002224994066</br>EXTOT: -0.9821209155989064</br>EXMPTCL: 0.0</br>BLDFRONT: -1.4752961362039547</br>BLDDEPTH: -1.5117416694640489</br>AVLAND2: -0.6763157372913495</br>AVTOT2: -0.6769214045938811</br>EXTOT2: -0.4192279477359309</br>BLDAREA: -1.4931117864269552</br>LTAREA: 0.0986332022265756</br>... too many variables\"],[\"</br>id: 69</br>prediction: 16668938.0</br>AVLAND: 5.965506401179064</br></br>LTFRONT: 0.2052506401893017</br>LTDEPTH: 0.0041150840808124</br>STORIES: -2.4256728086552424</br>AVTOT: -1.409987515485199</br>EXLAND: -0.8811002224994066</br>EXTOT: -0.9821209155989064</br>EXMPTCL: 0.0</br>BLDFRONT: -1.4752961362039547</br>BLDDEPTH: -1.5117416694640489</br>AVLAND2: -0.6763157372913495</br>AVTOT2: -0.6769214045938811</br>EXTOT2: -0.4192279477359309</br>BLDAREA: -1.4931117864269552</br>LTAREA: 0.0986332022265756</br>... too many variables\"],[\"</br>id: 69</br>prediction: 16668938.0</br>AVLAND: 6.07584385130576</br></br>LTFRONT: 0.2052506401893017</br>LTDEPTH: 0.0041150840808124</br>STORIES: -2.4256728086552424</br>AVTOT: -1.409987515485199</br>EXLAND: -0.8811002224994066</br>EXTOT: -0.9821209155989064</br>EXMPTCL: 0.0</br>BLDFRONT: -1.4752961362039547</br>BLDDEPTH: -1.5117416694640489</br>AVLAND2: -0.6763157372913495</br>AVTOT2: -0.6769214045938811</br>EXTOT2: -0.4192279477359309</br>BLDAREA: -1.4931117864269552</br>LTAREA: 0.0986332022265756</br>... too many variables\"],[\"</br>id: 69</br>prediction: 16668938.0</br>AVLAND: 6.186181301432456</br></br>LTFRONT: 0.2052506401893017</br>LTDEPTH: 0.0041150840808124</br>STORIES: -2.4256728086552424</br>AVTOT: -1.409987515485199</br>EXLAND: -0.8811002224994066</br>EXTOT: -0.9821209155989064</br>EXMPTCL: 0.0</br>BLDFRONT: -1.4752961362039547</br>BLDDEPTH: -1.5117416694640489</br>AVLAND2: -0.6763157372913495</br>AVTOT2: -0.6769214045938811</br>EXTOT2: -0.4192279477359309</br>BLDAREA: -1.4931117864269552</br>LTAREA: 0.0986332022265756</br>... too many variables\"],[\"</br>id: 69</br>prediction: 16668938.0</br>AVLAND: 6.2965187515591525</br></br>LTFRONT: 0.2052506401893017</br>LTDEPTH: 0.0041150840808124</br>STORIES: -2.4256728086552424</br>AVTOT: -1.409987515485199</br>EXLAND: -0.8811002224994066</br>EXTOT: -0.9821209155989064</br>EXMPTCL: 0.0</br>BLDFRONT: -1.4752961362039547</br>BLDDEPTH: -1.5117416694640489</br>AVLAND2: -0.6763157372913495</br>AVTOT2: -0.6769214045938811</br>EXTOT2: -0.4192279477359309</br>BLDAREA: -1.4931117864269552</br>LTAREA: 0.0986332022265756</br>... too many variables\"],[\"</br>id: 69</br>prediction: 16668938.0</br>AVLAND: 6.406856201685847</br></br>LTFRONT: 0.2052506401893017</br>LTDEPTH: 0.0041150840808124</br>STORIES: -2.4256728086552424</br>AVTOT: -1.409987515485199</br>EXLAND: -0.8811002224994066</br>EXTOT: -0.9821209155989064</br>EXMPTCL: 0.0</br>BLDFRONT: -1.4752961362039547</br>BLDDEPTH: -1.5117416694640489</br>AVLAND2: -0.6763157372913495</br>AVTOT2: -0.6769214045938811</br>EXTOT2: -0.4192279477359309</br>BLDAREA: -1.4931117864269552</br>LTAREA: 0.0986332022265756</br>... too many variables\"],[\"</br>id: 69</br>prediction: 16668938.0</br>AVLAND: 6.517193651812543</br></br>LTFRONT: 0.2052506401893017</br>LTDEPTH: 0.0041150840808124</br>STORIES: -2.4256728086552424</br>AVTOT: -1.409987515485199</br>EXLAND: -0.8811002224994066</br>EXTOT: -0.9821209155989064</br>EXMPTCL: 0.0</br>BLDFRONT: -1.4752961362039547</br>BLDDEPTH: -1.5117416694640489</br>AVLAND2: -0.6763157372913495</br>AVTOT2: -0.6769214045938811</br>EXTOT2: -0.4192279477359309</br>BLDAREA: -1.4931117864269552</br>LTAREA: 0.0986332022265756</br>... too many variables\"],[\"</br>id: 69</br>prediction: 16668938.0</br>AVLAND: 6.6275311019392396</br></br>LTFRONT: 0.2052506401893017</br>LTDEPTH: 0.0041150840808124</br>STORIES: -2.4256728086552424</br>AVTOT: -1.409987515485199</br>EXLAND: -0.8811002224994066</br>EXTOT: -0.9821209155989064</br>EXMPTCL: 0.0</br>BLDFRONT: -1.4752961362039547</br>BLDDEPTH: -1.5117416694640489</br>AVLAND2: -0.6763157372913495</br>AVTOT2: -0.6769214045938811</br>EXTOT2: -0.4192279477359309</br>BLDAREA: -1.4931117864269552</br>LTAREA: 0.0986332022265756</br>... too many variables\"],[\"</br>id: 69</br>prediction: 16668938.0</br>AVLAND: 6.737868552065934</br></br>LTFRONT: 0.2052506401893017</br>LTDEPTH: 0.0041150840808124</br>STORIES: -2.4256728086552424</br>AVTOT: -1.409987515485199</br>EXLAND: -0.8811002224994066</br>EXTOT: -0.9821209155989064</br>EXMPTCL: 0.0</br>BLDFRONT: -1.4752961362039547</br>BLDDEPTH: -1.5117416694640489</br>AVLAND2: -0.6763157372913495</br>AVTOT2: -0.6769214045938811</br>EXTOT2: -0.4192279477359309</br>BLDAREA: -1.4931117864269552</br>LTAREA: 0.0986332022265756</br>... too many variables\"],[\"</br>id: 69</br>prediction: 16668938.0</br>AVLAND: 6.84820600219263</br></br>LTFRONT: 0.2052506401893017</br>LTDEPTH: 0.0041150840808124</br>STORIES: -2.4256728086552424</br>AVTOT: -1.409987515485199</br>EXLAND: -0.8811002224994066</br>EXTOT: -0.9821209155989064</br>EXMPTCL: 0.0</br>BLDFRONT: -1.4752961362039547</br>BLDDEPTH: -1.5117416694640489</br>AVLAND2: -0.6763157372913495</br>AVTOT2: -0.6769214045938811</br>EXTOT2: -0.4192279477359309</br>BLDAREA: -1.4931117864269552</br>LTAREA: 0.0986332022265756</br>... too many variables\"],[\"</br>id: 69</br>prediction: 16668938.0</br>AVLAND: 6.958543452319327</br></br>LTFRONT: 0.2052506401893017</br>LTDEPTH: 0.0041150840808124</br>STORIES: -2.4256728086552424</br>AVTOT: -1.409987515485199</br>EXLAND: -0.8811002224994066</br>EXTOT: -0.9821209155989064</br>EXMPTCL: 0.0</br>BLDFRONT: -1.4752961362039547</br>BLDDEPTH: -1.5117416694640489</br>AVLAND2: -0.6763157372913495</br>AVTOT2: -0.6769214045938811</br>EXTOT2: -0.4192279477359309</br>BLDAREA: -1.4931117864269552</br>LTAREA: 0.0986332022265756</br>... too many variables\"],[\"</br>id: 69</br>prediction: 16668938.0</br>AVLAND: 7.068880902446023</br></br>LTFRONT: 0.2052506401893017</br>LTDEPTH: 0.0041150840808124</br>STORIES: -2.4256728086552424</br>AVTOT: -1.409987515485199</br>EXLAND: -0.8811002224994066</br>EXTOT: -0.9821209155989064</br>EXMPTCL: 0.0</br>BLDFRONT: -1.4752961362039547</br>BLDDEPTH: -1.5117416694640489</br>AVLAND2: -0.6763157372913495</br>AVTOT2: -0.6769214045938811</br>EXTOT2: -0.4192279477359309</br>BLDAREA: -1.4931117864269552</br>LTAREA: 0.0986332022265756</br>... too many variables\"],[\"</br>id: 69</br>prediction: 16668938.0</br>AVLAND: 7.179218352572717</br></br>LTFRONT: 0.2052506401893017</br>LTDEPTH: 0.0041150840808124</br>STORIES: -2.4256728086552424</br>AVTOT: -1.409987515485199</br>EXLAND: -0.8811002224994066</br>EXTOT: -0.9821209155989064</br>EXMPTCL: 0.0</br>BLDFRONT: -1.4752961362039547</br>BLDDEPTH: -1.5117416694640489</br>AVLAND2: -0.6763157372913495</br>AVTOT2: -0.6769214045938811</br>EXTOT2: -0.4192279477359309</br>BLDAREA: -1.4931117864269552</br>LTAREA: 0.0986332022265756</br>... too many variables\"],[\"</br>id: 69</br>prediction: 16668938.0</br>AVLAND: 7.289555802699414</br></br>LTFRONT: 0.2052506401893017</br>LTDEPTH: 0.0041150840808124</br>STORIES: -2.4256728086552424</br>AVTOT: -1.409987515485199</br>EXLAND: -0.8811002224994066</br>EXTOT: -0.9821209155989064</br>EXMPTCL: 0.0</br>BLDFRONT: -1.4752961362039547</br>BLDDEPTH: -1.5117416694640489</br>AVLAND2: -0.6763157372913495</br>AVTOT2: -0.6769214045938811</br>EXTOT2: -0.4192279477359309</br>BLDAREA: -1.4931117864269552</br>LTAREA: 0.0986332022265756</br>... too many variables\"],[\"</br>id: 69</br>prediction: 16668938.0</br>AVLAND: 7.39989325282611</br></br>LTFRONT: 0.2052506401893017</br>LTDEPTH: 0.0041150840808124</br>STORIES: -2.4256728086552424</br>AVTOT: -1.409987515485199</br>EXLAND: -0.8811002224994066</br>EXTOT: -0.9821209155989064</br>EXMPTCL: 0.0</br>BLDFRONT: -1.4752961362039547</br>BLDDEPTH: -1.5117416694640489</br>AVLAND2: -0.6763157372913495</br>AVTOT2: -0.6769214045938811</br>EXTOT2: -0.4192279477359309</br>BLDAREA: -1.4931117864269552</br>LTAREA: 0.0986332022265756</br>... too many variables\"],[\"</br>id: 69</br>prediction: 16668938.0</br>AVLAND: 7.510230702952804</br></br>LTFRONT: 0.2052506401893017</br>LTDEPTH: 0.0041150840808124</br>STORIES: -2.4256728086552424</br>AVTOT: -1.409987515485199</br>EXLAND: -0.8811002224994066</br>EXTOT: -0.9821209155989064</br>EXMPTCL: 0.0</br>BLDFRONT: -1.4752961362039547</br>BLDDEPTH: -1.5117416694640489</br>AVLAND2: -0.6763157372913495</br>AVTOT2: -0.6769214045938811</br>EXTOT2: -0.4192279477359309</br>BLDAREA: -1.4931117864269552</br>LTAREA: 0.0986332022265756</br>... too many variables\"],[\"</br>id: 69</br>prediction: 16668938.0</br>AVLAND: 7.620568153079501</br></br>LTFRONT: 0.2052506401893017</br>LTDEPTH: 0.0041150840808124</br>STORIES: -2.4256728086552424</br>AVTOT: -1.409987515485199</br>EXLAND: -0.8811002224994066</br>EXTOT: -0.9821209155989064</br>EXMPTCL: 0.0</br>BLDFRONT: -1.4752961362039547</br>BLDDEPTH: -1.5117416694640489</br>AVLAND2: -0.6763157372913495</br>AVTOT2: -0.6769214045938811</br>EXTOT2: -0.4192279477359309</br>BLDAREA: -1.4931117864269552</br>LTAREA: 0.0986332022265756</br>... too many variables\"]],\"hovertemplate\":\"%{customdata[0]}<extra></extra>\",\"legendgroup\":\"XGBRFRegressor\",\"line\":{\"color\":\"#46bac2\",\"dash\":\"solid\",\"width\":2},\"marker\":{\"symbol\":\"circle\"},\"mode\":\"lines\",\"name\":\"XGBRFRegressor\",\"orientation\":\"v\",\"showlegend\":true,\"x\":[-3.4131768595900747,-3.302839409463379,-3.192501959336683,-3.0821645092099876,-2.971827059083292,-2.861489608956596,-2.7511521588299,-2.6408147087032043,-2.5304772585765085,-2.4201398084498127,-2.3098023583231173,-2.199464908196421,-2.0891274580697257,-1.9787900079430298,-1.868452557816334,-1.7581151076896384,-1.6477776575629426,-1.5374402074362468,-1.4271027573095512,-1.3167653071828553,-1.2064278570561595,-1.0960904069294637,-0.9857529568027679,-0.8754155066760725,-0.7650780565493767,-0.6547406064226808,-0.544403156295985,-0.4340657061692892,-0.32372825604259337,-0.21339080591589799,-0.10305335578920216,0.007284094337493663,0.11762154446418949,0.2279589945908853,0.33829644471758114,0.44863389484427696,0.5589713449709723,0.6693087950976686,0.779646245224364,0.8899836953510594,1.0003211454777556,1.110658595604451,1.2209960457311473,1.3313334958578427,1.441670945984539,1.5520083961112343,1.6623458462379297,1.772683296364626,1.8830207464913213,1.9933581966180176,2.103695646744713,2.2140330968714093,2.3243705469981046,2.4347079971248,2.5450454472514963,2.6553828973781917,2.765720347504888,2.8760577976315833,2.9863952477582787,3.096732697884975,3.2070701480116703,3.3174075981383666,3.427745048265062,3.5380824983917583,3.6484199485184536,3.758757398645149,3.8690948487718453,3.9794322988985407,4.089769749025237,4.200107199151932,4.310444649278629,4.420782099405324,4.531119549532019,4.641456999658716,4.751794449785412,4.862131899912106,4.972469350038803,5.082806800165499,5.193144250292193,5.30348170041889,5.413819150545586,5.524156600672282,5.634494050798977,5.744831500925673,5.855168951052369,5.965506401179064,6.07584385130576,6.186181301432456,6.2965187515591525,6.406856201685847,6.517193651812543,6.6275311019392396,6.737868552065934,6.84820600219263,6.958543452319327,7.068880902446023,7.179218352572717,7.289555802699414,7.39989325282611,7.510230702952804,7.620568153079501],\"xaxis\":\"x\",\"y\":[301794.4375,301794.4375,301794.4375,302173.125,302173.125,302173.125,302173.125,302173.125,302173.125,302173.125,302173.125,302173.125,302173.125,302173.125,302880.5,303108.9375,303942.875,303942.875,303942.875,305034.5,305034.5,305034.5,305884.5625,305884.5625,304460.375,327630.875,325147.375,294836.0,302391.40625,312175.6875,307700.5625,306504.5,309736.34375,311986.09375,369010.21875,376669.71875,376669.71875,376669.71875,376669.71875,376669.71875,378247.46875,436975.71875,522055.1875,531202.3125,573381.9375,654893.4375,664922.75,666908.8125,622785.875,626478.25,626478.25,624096.75,624096.75,629876.6875,634013.1875,634013.1875,727410.5625,727410.5625,815766.3125,815766.3125,815766.3125,815766.3125,815766.3125,815766.3125,920475.75,920475.75,920475.75,920475.75,920475.75,920475.75,920475.75,920475.75,920475.75,920475.75,920475.75,1713655.125,1713655.125,1713655.125,6330050.0,15564990.0,15564990.0,15564990.0,15564990.0,15564990.0,15564990.0,16668938.0,16668938.0,16668938.0,16668938.0,16668938.0,16668938.0,16668938.0,16668938.0,16668938.0,16668938.0,16668938.0,16668938.0,16668938.0,16668938.0,16668938.0,16668938.0],\"yaxis\":\"y\",\"type\":\"scatter\",\"opacity\":1},{\"customdata\":[[\"</br>id: 69</br>prediction: 302159.375</br>AVTOT: -3.5734856978804257</br></br>LTFRONT: 0.2052506401893017</br>LTDEPTH: 0.0041150840808124</br>STORIES: -2.4256728086552424</br>AVLAND: -0.8931862160783208</br>EXLAND: -0.8811002224994066</br>EXTOT: -0.9821209155989064</br>EXMPTCL: 0.0</br>BLDFRONT: -1.4752961362039547</br>BLDDEPTH: -1.5117416694640489</br>AVLAND2: -0.6763157372913495</br>AVTOT2: -0.6769214045938811</br>EXTOT2: -0.4192279477359309</br>BLDAREA: -1.4931117864269552</br>LTAREA: 0.0986332022265756</br>... too many variables\"],[\"</br>id: 69</br>prediction: 302159.375</br>AVTOT: -3.4748668598755734</br></br>LTFRONT: 0.2052506401893017</br>LTDEPTH: 0.0041150840808124</br>STORIES: -2.4256728086552424</br>AVLAND: -0.8931862160783208</br>EXLAND: -0.8811002224994066</br>EXTOT: -0.9821209155989064</br>EXMPTCL: 0.0</br>BLDFRONT: -1.4752961362039547</br>BLDDEPTH: -1.5117416694640489</br>AVLAND2: -0.6763157372913495</br>AVTOT2: -0.6769214045938811</br>EXTOT2: -0.4192279477359309</br>BLDAREA: -1.4931117864269552</br>LTAREA: 0.0986332022265756</br>... too many variables\"],[\"</br>id: 69</br>prediction: 302159.375</br>AVTOT: -3.376248021870721</br></br>LTFRONT: 0.2052506401893017</br>LTDEPTH: 0.0041150840808124</br>STORIES: -2.4256728086552424</br>AVLAND: -0.8931862160783208</br>EXLAND: -0.8811002224994066</br>EXTOT: -0.9821209155989064</br>EXMPTCL: 0.0</br>BLDFRONT: -1.4752961362039547</br>BLDDEPTH: -1.5117416694640489</br>AVLAND2: -0.6763157372913495</br>AVTOT2: -0.6769214045938811</br>EXTOT2: -0.4192279477359309</br>BLDAREA: -1.4931117864269552</br>LTAREA: 0.0986332022265756</br>... too many variables\"],[\"</br>id: 69</br>prediction: 302159.375</br>AVTOT: -3.277629183865869</br></br>LTFRONT: 0.2052506401893017</br>LTDEPTH: 0.0041150840808124</br>STORIES: -2.4256728086552424</br>AVLAND: -0.8931862160783208</br>EXLAND: -0.8811002224994066</br>EXTOT: -0.9821209155989064</br>EXMPTCL: 0.0</br>BLDFRONT: -1.4752961362039547</br>BLDDEPTH: -1.5117416694640489</br>AVLAND2: -0.6763157372913495</br>AVTOT2: -0.6769214045938811</br>EXTOT2: -0.4192279477359309</br>BLDAREA: -1.4931117864269552</br>LTAREA: 0.0986332022265756</br>... too many variables\"],[\"</br>id: 69</br>prediction: 302159.375</br>AVTOT: -3.179010345861017</br></br>LTFRONT: 0.2052506401893017</br>LTDEPTH: 0.0041150840808124</br>STORIES: -2.4256728086552424</br>AVLAND: -0.8931862160783208</br>EXLAND: -0.8811002224994066</br>EXTOT: -0.9821209155989064</br>EXMPTCL: 0.0</br>BLDFRONT: -1.4752961362039547</br>BLDDEPTH: -1.5117416694640489</br>AVLAND2: -0.6763157372913495</br>AVTOT2: -0.6769214045938811</br>EXTOT2: -0.4192279477359309</br>BLDAREA: -1.4931117864269552</br>LTAREA: 0.0986332022265756</br>... too many variables\"],[\"</br>id: 69</br>prediction: 302159.375</br>AVTOT: -3.080391507856165</br></br>LTFRONT: 0.2052506401893017</br>LTDEPTH: 0.0041150840808124</br>STORIES: -2.4256728086552424</br>AVLAND: -0.8931862160783208</br>EXLAND: -0.8811002224994066</br>EXTOT: -0.9821209155989064</br>EXMPTCL: 0.0</br>BLDFRONT: -1.4752961362039547</br>BLDDEPTH: -1.5117416694640489</br>AVLAND2: -0.6763157372913495</br>AVTOT2: -0.6769214045938811</br>EXTOT2: -0.4192279477359309</br>BLDAREA: -1.4931117864269552</br>LTAREA: 0.0986332022265756</br>... too many variables\"],[\"</br>id: 69</br>prediction: 302159.375</br>AVTOT: -2.9817726698513125</br></br>LTFRONT: 0.2052506401893017</br>LTDEPTH: 0.0041150840808124</br>STORIES: -2.4256728086552424</br>AVLAND: -0.8931862160783208</br>EXLAND: -0.8811002224994066</br>EXTOT: -0.9821209155989064</br>EXMPTCL: 0.0</br>BLDFRONT: -1.4752961362039547</br>BLDDEPTH: -1.5117416694640489</br>AVLAND2: -0.6763157372913495</br>AVTOT2: -0.6769214045938811</br>EXTOT2: -0.4192279477359309</br>BLDAREA: -1.4931117864269552</br>LTAREA: 0.0986332022265756</br>... too many variables\"],[\"</br>id: 69</br>prediction: 302159.375</br>AVTOT: -2.8831538318464602</br></br>LTFRONT: 0.2052506401893017</br>LTDEPTH: 0.0041150840808124</br>STORIES: -2.4256728086552424</br>AVLAND: -0.8931862160783208</br>EXLAND: -0.8811002224994066</br>EXTOT: -0.9821209155989064</br>EXMPTCL: 0.0</br>BLDFRONT: -1.4752961362039547</br>BLDDEPTH: -1.5117416694640489</br>AVLAND2: -0.6763157372913495</br>AVTOT2: -0.6769214045938811</br>EXTOT2: -0.4192279477359309</br>BLDAREA: -1.4931117864269552</br>LTAREA: 0.0986332022265756</br>... too many variables\"],[\"</br>id: 69</br>prediction: 302159.375</br>AVTOT: -2.784534993841608</br></br>LTFRONT: 0.2052506401893017</br>LTDEPTH: 0.0041150840808124</br>STORIES: -2.4256728086552424</br>AVLAND: -0.8931862160783208</br>EXLAND: -0.8811002224994066</br>EXTOT: -0.9821209155989064</br>EXMPTCL: 0.0</br>BLDFRONT: -1.4752961362039547</br>BLDDEPTH: -1.5117416694640489</br>AVLAND2: -0.6763157372913495</br>AVTOT2: -0.6769214045938811</br>EXTOT2: -0.4192279477359309</br>BLDAREA: -1.4931117864269552</br>LTAREA: 0.0986332022265756</br>... too many variables\"],[\"</br>id: 69</br>prediction: 302159.375</br>AVTOT: -2.6859161558367557</br></br>LTFRONT: 0.2052506401893017</br>LTDEPTH: 0.0041150840808124</br>STORIES: -2.4256728086552424</br>AVLAND: -0.8931862160783208</br>EXLAND: -0.8811002224994066</br>EXTOT: -0.9821209155989064</br>EXMPTCL: 0.0</br>BLDFRONT: -1.4752961362039547</br>BLDDEPTH: -1.5117416694640489</br>AVLAND2: -0.6763157372913495</br>AVTOT2: -0.6769214045938811</br>EXTOT2: -0.4192279477359309</br>BLDAREA: -1.4931117864269552</br>LTAREA: 0.0986332022265756</br>... too many variables\"],[\"</br>id: 69</br>prediction: 302159.375</br>AVTOT: -2.5872973178319034</br></br>LTFRONT: 0.2052506401893017</br>LTDEPTH: 0.0041150840808124</br>STORIES: -2.4256728086552424</br>AVLAND: -0.8931862160783208</br>EXLAND: -0.8811002224994066</br>EXTOT: -0.9821209155989064</br>EXMPTCL: 0.0</br>BLDFRONT: -1.4752961362039547</br>BLDDEPTH: -1.5117416694640489</br>AVLAND2: -0.6763157372913495</br>AVTOT2: -0.6769214045938811</br>EXTOT2: -0.4192279477359309</br>BLDAREA: -1.4931117864269552</br>LTAREA: 0.0986332022265756</br>... too many variables\"],[\"</br>id: 69</br>prediction: 302159.375</br>AVTOT: -2.488678479827051</br></br>LTFRONT: 0.2052506401893017</br>LTDEPTH: 0.0041150840808124</br>STORIES: -2.4256728086552424</br>AVLAND: -0.8931862160783208</br>EXLAND: -0.8811002224994066</br>EXTOT: -0.9821209155989064</br>EXMPTCL: 0.0</br>BLDFRONT: -1.4752961362039547</br>BLDDEPTH: -1.5117416694640489</br>AVLAND2: -0.6763157372913495</br>AVTOT2: -0.6769214045938811</br>EXTOT2: -0.4192279477359309</br>BLDAREA: -1.4931117864269552</br>LTAREA: 0.0986332022265756</br>... too many variables\"],[\"</br>id: 69</br>prediction: 302553.625</br>AVTOT: -2.390059641822199</br></br>LTFRONT: 0.2052506401893017</br>LTDEPTH: 0.0041150840808124</br>STORIES: -2.4256728086552424</br>AVLAND: -0.8931862160783208</br>EXLAND: -0.8811002224994066</br>EXTOT: -0.9821209155989064</br>EXMPTCL: 0.0</br>BLDFRONT: -1.4752961362039547</br>BLDDEPTH: -1.5117416694640489</br>AVLAND2: -0.6763157372913495</br>AVTOT2: -0.6769214045938811</br>EXTOT2: -0.4192279477359309</br>BLDAREA: -1.4931117864269552</br>LTAREA: 0.0986332022265756</br>... too many variables\"],[\"</br>id: 69</br>prediction: 302553.625</br>AVTOT: -2.2914408038173466</br></br>LTFRONT: 0.2052506401893017</br>LTDEPTH: 0.0041150840808124</br>STORIES: -2.4256728086552424</br>AVLAND: -0.8931862160783208</br>EXLAND: -0.8811002224994066</br>EXTOT: -0.9821209155989064</br>EXMPTCL: 0.0</br>BLDFRONT: -1.4752961362039547</br>BLDDEPTH: -1.5117416694640489</br>AVLAND2: -0.6763157372913495</br>AVTOT2: -0.6769214045938811</br>EXTOT2: -0.4192279477359309</br>BLDAREA: -1.4931117864269552</br>LTAREA: 0.0986332022265756</br>... too many variables\"],[\"</br>id: 69</br>prediction: 302553.625</br>AVTOT: -2.1928219658124948</br></br>LTFRONT: 0.2052506401893017</br>LTDEPTH: 0.0041150840808124</br>STORIES: -2.4256728086552424</br>AVLAND: -0.8931862160783208</br>EXLAND: -0.8811002224994066</br>EXTOT: -0.9821209155989064</br>EXMPTCL: 0.0</br>BLDFRONT: -1.4752961362039547</br>BLDDEPTH: -1.5117416694640489</br>AVLAND2: -0.6763157372913495</br>AVTOT2: -0.6769214045938811</br>EXTOT2: -0.4192279477359309</br>BLDAREA: -1.4931117864269552</br>LTAREA: 0.0986332022265756</br>... too many variables\"],[\"</br>id: 69</br>prediction: 302553.625</br>AVTOT: -2.0942031278076425</br></br>LTFRONT: 0.2052506401893017</br>LTDEPTH: 0.0041150840808124</br>STORIES: -2.4256728086552424</br>AVLAND: -0.8931862160783208</br>EXLAND: -0.8811002224994066</br>EXTOT: -0.9821209155989064</br>EXMPTCL: 0.0</br>BLDFRONT: -1.4752961362039547</br>BLDDEPTH: -1.5117416694640489</br>AVLAND2: -0.6763157372913495</br>AVTOT2: -0.6769214045938811</br>EXTOT2: -0.4192279477359309</br>BLDAREA: -1.4931117864269552</br>LTAREA: 0.0986332022265756</br>... too many variables\"],[\"</br>id: 69</br>prediction: 302553.625</br>AVTOT: -1.9955842898027902</br></br>LTFRONT: 0.2052506401893017</br>LTDEPTH: 0.0041150840808124</br>STORIES: -2.4256728086552424</br>AVLAND: -0.8931862160783208</br>EXLAND: -0.8811002224994066</br>EXTOT: -0.9821209155989064</br>EXMPTCL: 0.0</br>BLDFRONT: -1.4752961362039547</br>BLDDEPTH: -1.5117416694640489</br>AVLAND2: -0.6763157372913495</br>AVTOT2: -0.6769214045938811</br>EXTOT2: -0.4192279477359309</br>BLDAREA: -1.4931117864269552</br>LTAREA: 0.0986332022265756</br>... too many variables\"],[\"</br>id: 69</br>prediction: 302553.625</br>AVTOT: -1.896965451797938</br></br>LTFRONT: 0.2052506401893017</br>LTDEPTH: 0.0041150840808124</br>STORIES: -2.4256728086552424</br>AVLAND: -0.8931862160783208</br>EXLAND: -0.8811002224994066</br>EXTOT: -0.9821209155989064</br>EXMPTCL: 0.0</br>BLDFRONT: -1.4752961362039547</br>BLDDEPTH: -1.5117416694640489</br>AVLAND2: -0.6763157372913495</br>AVTOT2: -0.6769214045938811</br>EXTOT2: -0.4192279477359309</br>BLDAREA: -1.4931117864269552</br>LTAREA: 0.0986332022265756</br>... too many variables\"],[\"</br>id: 69</br>prediction: 302553.625</br>AVTOT: -1.7983466137930857</br></br>LTFRONT: 0.2052506401893017</br>LTDEPTH: 0.0041150840808124</br>STORIES: -2.4256728086552424</br>AVLAND: -0.8931862160783208</br>EXLAND: -0.8811002224994066</br>EXTOT: -0.9821209155989064</br>EXMPTCL: 0.0</br>BLDFRONT: -1.4752961362039547</br>BLDDEPTH: -1.5117416694640489</br>AVLAND2: -0.6763157372913495</br>AVTOT2: -0.6769214045938811</br>EXTOT2: -0.4192279477359309</br>BLDAREA: -1.4931117864269552</br>LTAREA: 0.0986332022265756</br>... too many variables\"],[\"</br>id: 69</br>prediction: 302553.625</br>AVTOT: -1.6997277757882336</br></br>LTFRONT: 0.2052506401893017</br>LTDEPTH: 0.0041150840808124</br>STORIES: -2.4256728086552424</br>AVLAND: -0.8931862160783208</br>EXLAND: -0.8811002224994066</br>EXTOT: -0.9821209155989064</br>EXMPTCL: 0.0</br>BLDFRONT: -1.4752961362039547</br>BLDDEPTH: -1.5117416694640489</br>AVLAND2: -0.6763157372913495</br>AVTOT2: -0.6769214045938811</br>EXTOT2: -0.4192279477359309</br>BLDAREA: -1.4931117864269552</br>LTAREA: 0.0986332022265756</br>... too many variables\"],[\"</br>id: 69</br>prediction: 302553.625</br>AVTOT: -1.6011089377833814</br></br>LTFRONT: 0.2052506401893017</br>LTDEPTH: 0.0041150840808124</br>STORIES: -2.4256728086552424</br>AVLAND: -0.8931862160783208</br>EXLAND: -0.8811002224994066</br>EXTOT: -0.9821209155989064</br>EXMPTCL: 0.0</br>BLDFRONT: -1.4752961362039547</br>BLDDEPTH: -1.5117416694640489</br>AVLAND2: -0.6763157372913495</br>AVTOT2: -0.6769214045938811</br>EXTOT2: -0.4192279477359309</br>BLDAREA: -1.4931117864269552</br>LTAREA: 0.0986332022265756</br>... too many variables\"],[\"</br>id: 69</br>prediction: 304887.438</br>AVTOT: -1.5024900997785293</br></br>LTFRONT: 0.2052506401893017</br>LTDEPTH: 0.0041150840808124</br>STORIES: -2.4256728086552424</br>AVLAND: -0.8931862160783208</br>EXLAND: -0.8811002224994066</br>EXTOT: -0.9821209155989064</br>EXMPTCL: 0.0</br>BLDFRONT: -1.4752961362039547</br>BLDDEPTH: -1.5117416694640489</br>AVLAND2: -0.6763157372913495</br>AVTOT2: -0.6769214045938811</br>EXTOT2: -0.4192279477359309</br>BLDAREA: -1.4931117864269552</br>LTAREA: 0.0986332022265756</br>... too many variables\"],[\"</br>id: 69</br>prediction: 305884.562</br>AVTOT: -1.403871261773677</br></br>LTFRONT: 0.2052506401893017</br>LTDEPTH: 0.0041150840808124</br>STORIES: -2.4256728086552424</br>AVLAND: -0.8931862160783208</br>EXLAND: -0.8811002224994066</br>EXTOT: -0.9821209155989064</br>EXMPTCL: 0.0</br>BLDFRONT: -1.4752961362039547</br>BLDDEPTH: -1.5117416694640489</br>AVLAND2: -0.6763157372913495</br>AVTOT2: -0.6769214045938811</br>EXTOT2: -0.4192279477359309</br>BLDAREA: -1.4931117864269552</br>LTAREA: 0.0986332022265756</br>... too many variables\"],[\"</br>id: 69</br>prediction: 305884.562</br>AVTOT: -1.3052524237688248</br></br>LTFRONT: 0.2052506401893017</br>LTDEPTH: 0.0041150840808124</br>STORIES: -2.4256728086552424</br>AVLAND: -0.8931862160783208</br>EXLAND: -0.8811002224994066</br>EXTOT: -0.9821209155989064</br>EXMPTCL: 0.0</br>BLDFRONT: -1.4752961362039547</br>BLDDEPTH: -1.5117416694640489</br>AVLAND2: -0.6763157372913495</br>AVTOT2: -0.6769214045938811</br>EXTOT2: -0.4192279477359309</br>BLDAREA: -1.4931117864269552</br>LTAREA: 0.0986332022265756</br>... too many variables\"],[\"</br>id: 69</br>prediction: 305884.562</br>AVTOT: -1.2066335857639725</br></br>LTFRONT: 0.2052506401893017</br>LTDEPTH: 0.0041150840808124</br>STORIES: -2.4256728086552424</br>AVLAND: -0.8931862160783208</br>EXLAND: -0.8811002224994066</br>EXTOT: -0.9821209155989064</br>EXMPTCL: 0.0</br>BLDFRONT: -1.4752961362039547</br>BLDDEPTH: -1.5117416694640489</br>AVLAND2: -0.6763157372913495</br>AVTOT2: -0.6769214045938811</br>EXTOT2: -0.4192279477359309</br>BLDAREA: -1.4931117864269552</br>LTAREA: 0.0986332022265756</br>... too many variables\"],[\"</br>id: 69</br>prediction: 305884.562</br>AVTOT: -1.1080147477591202</br></br>LTFRONT: 0.2052506401893017</br>LTDEPTH: 0.0041150840808124</br>STORIES: -2.4256728086552424</br>AVLAND: -0.8931862160783208</br>EXLAND: -0.8811002224994066</br>EXTOT: -0.9821209155989064</br>EXMPTCL: 0.0</br>BLDFRONT: -1.4752961362039547</br>BLDDEPTH: -1.5117416694640489</br>AVLAND2: -0.6763157372913495</br>AVTOT2: -0.6769214045938811</br>EXTOT2: -0.4192279477359309</br>BLDAREA: -1.4931117864269552</br>LTAREA: 0.0986332022265756</br>... too many variables\"],[\"</br>id: 69</br>prediction: 325856.031</br>AVTOT: -1.009395909754268</br></br>LTFRONT: 0.2052506401893017</br>LTDEPTH: 0.0041150840808124</br>STORIES: -2.4256728086552424</br>AVLAND: -0.8931862160783208</br>EXLAND: -0.8811002224994066</br>EXTOT: -0.9821209155989064</br>EXMPTCL: 0.0</br>BLDFRONT: -1.4752961362039547</br>BLDDEPTH: -1.5117416694640489</br>AVLAND2: -0.6763157372913495</br>AVTOT2: -0.6769214045938811</br>EXTOT2: -0.4192279477359309</br>BLDAREA: -1.4931117864269552</br>LTAREA: 0.0986332022265756</br>... too many variables\"],[\"</br>id: 69</br>prediction: 325856.031</br>AVTOT: -0.9107770717494157</br></br>LTFRONT: 0.2052506401893017</br>LTDEPTH: 0.0041150840808124</br>STORIES: -2.4256728086552424</br>AVLAND: -0.8931862160783208</br>EXLAND: -0.8811002224994066</br>EXTOT: -0.9821209155989064</br>EXMPTCL: 0.0</br>BLDFRONT: -1.4752961362039547</br>BLDDEPTH: -1.5117416694640489</br>AVLAND2: -0.6763157372913495</br>AVTOT2: -0.6769214045938811</br>EXTOT2: -0.4192279477359309</br>BLDAREA: -1.4931117864269552</br>LTAREA: 0.0986332022265756</br>... too many variables\"],[\"</br>id: 69</br>prediction: 343937.0</br>AVTOT: -0.8121582337445639</br></br>LTFRONT: 0.2052506401893017</br>LTDEPTH: 0.0041150840808124</br>STORIES: -2.4256728086552424</br>AVLAND: -0.8931862160783208</br>EXLAND: -0.8811002224994066</br>EXTOT: -0.9821209155989064</br>EXMPTCL: 0.0</br>BLDFRONT: -1.4752961362039547</br>BLDDEPTH: -1.5117416694640489</br>AVLAND2: -0.6763157372913495</br>AVTOT2: -0.6769214045938811</br>EXTOT2: -0.4192279477359309</br>BLDAREA: -1.4931117864269552</br>LTAREA: 0.0986332022265756</br>... too many variables\"],[\"</br>id: 69</br>prediction: 345221.0</br>AVTOT: -0.7135393957397116</br></br>LTFRONT: 0.2052506401893017</br>LTDEPTH: 0.0041150840808124</br>STORIES: -2.4256728086552424</br>AVLAND: -0.8931862160783208</br>EXLAND: -0.8811002224994066</br>EXTOT: -0.9821209155989064</br>EXMPTCL: 0.0</br>BLDFRONT: -1.4752961362039547</br>BLDDEPTH: -1.5117416694640489</br>AVLAND2: -0.6763157372913495</br>AVTOT2: -0.6769214045938811</br>EXTOT2: -0.4192279477359309</br>BLDAREA: -1.4931117864269552</br>LTAREA: 0.0986332022265756</br>... too many variables\"],[\"</br>id: 69</br>prediction: 345221.0</br>AVTOT: -0.6149205577348593</br></br>LTFRONT: 0.2052506401893017</br>LTDEPTH: 0.0041150840808124</br>STORIES: -2.4256728086552424</br>AVLAND: -0.8931862160783208</br>EXLAND: -0.8811002224994066</br>EXTOT: -0.9821209155989064</br>EXMPTCL: 0.0</br>BLDFRONT: -1.4752961362039547</br>BLDDEPTH: -1.5117416694640489</br>AVLAND2: -0.6763157372913495</br>AVTOT2: -0.6769214045938811</br>EXTOT2: -0.4192279477359309</br>BLDAREA: -1.4931117864269552</br>LTAREA: 0.0986332022265756</br>... too many variables\"],[\"</br>id: 69</br>prediction: 366470.906</br>AVTOT: -0.516301719730007</br></br>LTFRONT: 0.2052506401893017</br>LTDEPTH: 0.0041150840808124</br>STORIES: -2.4256728086552424</br>AVLAND: -0.8931862160783208</br>EXLAND: -0.8811002224994066</br>EXTOT: -0.9821209155989064</br>EXMPTCL: 0.0</br>BLDFRONT: -1.4752961362039547</br>BLDDEPTH: -1.5117416694640489</br>AVLAND2: -0.6763157372913495</br>AVTOT2: -0.6769214045938811</br>EXTOT2: -0.4192279477359309</br>BLDAREA: -1.4931117864269552</br>LTAREA: 0.0986332022265756</br>... too many variables\"],[\"</br>id: 69</br>prediction: 409783.625</br>AVTOT: -0.4176828817251548</br></br>LTFRONT: 0.2052506401893017</br>LTDEPTH: 0.0041150840808124</br>STORIES: -2.4256728086552424</br>AVLAND: -0.8931862160783208</br>EXLAND: -0.8811002224994066</br>EXTOT: -0.9821209155989064</br>EXMPTCL: 0.0</br>BLDFRONT: -1.4752961362039547</br>BLDDEPTH: -1.5117416694640489</br>AVLAND2: -0.6763157372913495</br>AVTOT2: -0.6769214045938811</br>EXTOT2: -0.4192279477359309</br>BLDAREA: -1.4931117864269552</br>LTAREA: 0.0986332022265756</br>... too many variables\"],[\"</br>id: 69</br>prediction: 600073.5</br>AVTOT: -0.3190640437203025</br></br>LTFRONT: 0.2052506401893017</br>LTDEPTH: 0.0041150840808124</br>STORIES: -2.4256728086552424</br>AVLAND: -0.8931862160783208</br>EXLAND: -0.8811002224994066</br>EXTOT: -0.9821209155989064</br>EXMPTCL: 0.0</br>BLDFRONT: -1.4752961362039547</br>BLDDEPTH: -1.5117416694640489</br>AVLAND2: -0.6763157372913495</br>AVTOT2: -0.6769214045938811</br>EXTOT2: -0.4192279477359309</br>BLDAREA: -1.4931117864269552</br>LTAREA: 0.0986332022265756</br>... too many variables\"],[\"</br>id: 69</br>prediction: 663287.75</br>AVTOT: -0.22044520571545023</br></br>LTFRONT: 0.2052506401893017</br>LTDEPTH: 0.0041150840808124</br>STORIES: -2.4256728086552424</br>AVLAND: -0.8931862160783208</br>EXLAND: -0.8811002224994066</br>EXTOT: -0.9821209155989064</br>EXMPTCL: 0.0</br>BLDFRONT: -1.4752961362039547</br>BLDDEPTH: -1.5117416694640489</br>AVLAND2: -0.6763157372913495</br>AVTOT2: -0.6769214045938811</br>EXTOT2: -0.4192279477359309</br>BLDAREA: -1.4931117864269552</br>LTAREA: 0.0986332022265756</br>... too many variables\"],[\"</br>id: 69</br>prediction: 723545.438</br>AVTOT: -0.12182636771059796</br></br>LTFRONT: 0.2052506401893017</br>LTDEPTH: 0.0041150840808124</br>STORIES: -2.4256728086552424</br>AVLAND: -0.8931862160783208</br>EXLAND: -0.8811002224994066</br>EXTOT: -0.9821209155989064</br>EXMPTCL: 0.0</br>BLDFRONT: -1.4752961362039547</br>BLDDEPTH: -1.5117416694640489</br>AVLAND2: -0.6763157372913495</br>AVTOT2: -0.6769214045938811</br>EXTOT2: -0.4192279477359309</br>BLDAREA: -1.4931117864269552</br>LTAREA: 0.0986332022265756</br>... too many variables\"],[\"</br>id: 69</br>prediction: 1214622.25</br>AVTOT: -0.02320752970574569</br></br>LTFRONT: 0.2052506401893017</br>LTDEPTH: 0.0041150840808124</br>STORIES: -2.4256728086552424</br>AVLAND: -0.8931862160783208</br>EXLAND: -0.8811002224994066</br>EXTOT: -0.9821209155989064</br>EXMPTCL: 0.0</br>BLDFRONT: -1.4752961362039547</br>BLDDEPTH: -1.5117416694640489</br>AVLAND2: -0.6763157372913495</br>AVTOT2: -0.6769214045938811</br>EXTOT2: -0.4192279477359309</br>BLDAREA: -1.4931117864269552</br>LTAREA: 0.0986332022265756</br>... too many variables\"],[\"</br>id: 69</br>prediction: 1385595.125</br>AVTOT: 0.07541130829910614</br></br>LTFRONT: 0.2052506401893017</br>LTDEPTH: 0.0041150840808124</br>STORIES: -2.4256728086552424</br>AVLAND: -0.8931862160783208</br>EXLAND: -0.8811002224994066</br>EXTOT: -0.9821209155989064</br>EXMPTCL: 0.0</br>BLDFRONT: -1.4752961362039547</br>BLDDEPTH: -1.5117416694640489</br>AVLAND2: -0.6763157372913495</br>AVTOT2: -0.6769214045938811</br>EXTOT2: -0.4192279477359309</br>BLDAREA: -1.4931117864269552</br>LTAREA: 0.0986332022265756</br>... too many variables\"],[\"</br>id: 69</br>prediction: 1480396.25</br>AVTOT: 0.1740301463039584</br></br>LTFRONT: 0.2052506401893017</br>LTDEPTH: 0.0041150840808124</br>STORIES: -2.4256728086552424</br>AVLAND: -0.8931862160783208</br>EXLAND: -0.8811002224994066</br>EXTOT: -0.9821209155989064</br>EXMPTCL: 0.0</br>BLDFRONT: -1.4752961362039547</br>BLDDEPTH: -1.5117416694640489</br>AVLAND2: -0.6763157372913495</br>AVTOT2: -0.6769214045938811</br>EXTOT2: -0.4192279477359309</br>BLDAREA: -1.4931117864269552</br>LTAREA: 0.0986332022265756</br>... too many variables\"],[\"</br>id: 69</br>prediction: 1538815.125</br>AVTOT: 0.2726489843088107</br></br>LTFRONT: 0.2052506401893017</br>LTDEPTH: 0.0041150840808124</br>STORIES: -2.4256728086552424</br>AVLAND: -0.8931862160783208</br>EXLAND: -0.8811002224994066</br>EXTOT: -0.9821209155989064</br>EXMPTCL: 0.0</br>BLDFRONT: -1.4752961362039547</br>BLDDEPTH: -1.5117416694640489</br>AVLAND2: -0.6763157372913495</br>AVTOT2: -0.6769214045938811</br>EXTOT2: -0.4192279477359309</br>BLDAREA: -1.4931117864269552</br>LTAREA: 0.0986332022265756</br>... too many variables\"],[\"</br>id: 69</br>prediction: 1986545.125</br>AVTOT: 0.37126782231366295</br></br>LTFRONT: 0.2052506401893017</br>LTDEPTH: 0.0041150840808124</br>STORIES: -2.4256728086552424</br>AVLAND: -0.8931862160783208</br>EXLAND: -0.8811002224994066</br>EXTOT: -0.9821209155989064</br>EXMPTCL: 0.0</br>BLDFRONT: -1.4752961362039547</br>BLDDEPTH: -1.5117416694640489</br>AVLAND2: -0.6763157372913495</br>AVTOT2: -0.6769214045938811</br>EXTOT2: -0.4192279477359309</br>BLDAREA: -1.4931117864269552</br>LTAREA: 0.0986332022265756</br>... too many variables\"],[\"</br>id: 69</br>prediction: 3387709.5</br>AVTOT: 0.4698866603185148</br></br>LTFRONT: 0.2052506401893017</br>LTDEPTH: 0.0041150840808124</br>STORIES: -2.4256728086552424</br>AVLAND: -0.8931862160783208</br>EXLAND: -0.8811002224994066</br>EXTOT: -0.9821209155989064</br>EXMPTCL: 0.0</br>BLDFRONT: -1.4752961362039547</br>BLDDEPTH: -1.5117416694640489</br>AVLAND2: -0.6763157372913495</br>AVTOT2: -0.6769214045938811</br>EXTOT2: -0.4192279477359309</br>BLDAREA: -1.4931117864269552</br>LTAREA: 0.0986332022265756</br>... too many variables\"],[\"</br>id: 69</br>prediction: 3464857.75</br>AVTOT: 0.568505498323367</br></br>LTFRONT: 0.2052506401893017</br>LTDEPTH: 0.0041150840808124</br>STORIES: -2.4256728086552424</br>AVLAND: -0.8931862160783208</br>EXLAND: -0.8811002224994066</br>EXTOT: -0.9821209155989064</br>EXMPTCL: 0.0</br>BLDFRONT: -1.4752961362039547</br>BLDDEPTH: -1.5117416694640489</br>AVLAND2: -0.6763157372913495</br>AVTOT2: -0.6769214045938811</br>EXTOT2: -0.4192279477359309</br>BLDAREA: -1.4931117864269552</br>LTAREA: 0.0986332022265756</br>... too many variables\"],[\"</br>id: 69</br>prediction: 3669629.5</br>AVTOT: 0.6671243363282193</br></br>LTFRONT: 0.2052506401893017</br>LTDEPTH: 0.0041150840808124</br>STORIES: -2.4256728086552424</br>AVLAND: -0.8931862160783208</br>EXLAND: -0.8811002224994066</br>EXTOT: -0.9821209155989064</br>EXMPTCL: 0.0</br>BLDFRONT: -1.4752961362039547</br>BLDDEPTH: -1.5117416694640489</br>AVLAND2: -0.6763157372913495</br>AVTOT2: -0.6769214045938811</br>EXTOT2: -0.4192279477359309</br>BLDAREA: -1.4931117864269552</br>LTAREA: 0.0986332022265756</br>... too many variables\"],[\"</br>id: 69</br>prediction: 3740351.5</br>AVTOT: 0.7657431743330716</br></br>LTFRONT: 0.2052506401893017</br>LTDEPTH: 0.0041150840808124</br>STORIES: -2.4256728086552424</br>AVLAND: -0.8931862160783208</br>EXLAND: -0.8811002224994066</br>EXTOT: -0.9821209155989064</br>EXMPTCL: 0.0</br>BLDFRONT: -1.4752961362039547</br>BLDDEPTH: -1.5117416694640489</br>AVLAND2: -0.6763157372913495</br>AVTOT2: -0.6769214045938811</br>EXTOT2: -0.4192279477359309</br>BLDAREA: -1.4931117864269552</br>LTAREA: 0.0986332022265756</br>... too many variables\"],[\"</br>id: 69</br>prediction: 3747004.5</br>AVTOT: 0.8643620123379239</br></br>LTFRONT: 0.2052506401893017</br>LTDEPTH: 0.0041150840808124</br>STORIES: -2.4256728086552424</br>AVLAND: -0.8931862160783208</br>EXLAND: -0.8811002224994066</br>EXTOT: -0.9821209155989064</br>EXMPTCL: 0.0</br>BLDFRONT: -1.4752961362039547</br>BLDDEPTH: -1.5117416694640489</br>AVLAND2: -0.6763157372913495</br>AVTOT2: -0.6769214045938811</br>EXTOT2: -0.4192279477359309</br>BLDAREA: -1.4931117864269552</br>LTAREA: 0.0986332022265756</br>... too many variables\"],[\"</br>id: 69</br>prediction: 3752620.75</br>AVTOT: 0.9629808503427761</br></br>LTFRONT: 0.2052506401893017</br>LTDEPTH: 0.0041150840808124</br>STORIES: -2.4256728086552424</br>AVLAND: -0.8931862160783208</br>EXLAND: -0.8811002224994066</br>EXTOT: -0.9821209155989064</br>EXMPTCL: 0.0</br>BLDFRONT: -1.4752961362039547</br>BLDDEPTH: -1.5117416694640489</br>AVLAND2: -0.6763157372913495</br>AVTOT2: -0.6769214045938811</br>EXTOT2: -0.4192279477359309</br>BLDAREA: -1.4931117864269552</br>LTAREA: 0.0986332022265756</br>... too many variables\"],[\"</br>id: 69</br>prediction: 3745774.25</br>AVTOT: 1.0615996883476284</br></br>LTFRONT: 0.2052506401893017</br>LTDEPTH: 0.0041150840808124</br>STORIES: -2.4256728086552424</br>AVLAND: -0.8931862160783208</br>EXLAND: -0.8811002224994066</br>EXTOT: -0.9821209155989064</br>EXMPTCL: 0.0</br>BLDFRONT: -1.4752961362039547</br>BLDDEPTH: -1.5117416694640489</br>AVLAND2: -0.6763157372913495</br>AVTOT2: -0.6769214045938811</br>EXTOT2: -0.4192279477359309</br>BLDAREA: -1.4931117864269552</br>LTAREA: 0.0986332022265756</br>... too many variables\"],[\"</br>id: 69</br>prediction: 3625417.0</br>AVTOT: 1.1602185263524807</br></br>LTFRONT: 0.2052506401893017</br>LTDEPTH: 0.0041150840808124</br>STORIES: -2.4256728086552424</br>AVLAND: -0.8931862160783208</br>EXLAND: -0.8811002224994066</br>EXTOT: -0.9821209155989064</br>EXMPTCL: 0.0</br>BLDFRONT: -1.4752961362039547</br>BLDDEPTH: -1.5117416694640489</br>AVLAND2: -0.6763157372913495</br>AVTOT2: -0.6769214045938811</br>EXTOT2: -0.4192279477359309</br>BLDAREA: -1.4931117864269552</br>LTAREA: 0.0986332022265756</br>... too many variables\"],[\"</br>id: 69</br>prediction: 3555091.0</br>AVTOT: 1.258837364357333</br></br>LTFRONT: 0.2052506401893017</br>LTDEPTH: 0.0041150840808124</br>STORIES: -2.4256728086552424</br>AVLAND: -0.8931862160783208</br>EXLAND: -0.8811002224994066</br>EXTOT: -0.9821209155989064</br>EXMPTCL: 0.0</br>BLDFRONT: -1.4752961362039547</br>BLDDEPTH: -1.5117416694640489</br>AVLAND2: -0.6763157372913495</br>AVTOT2: -0.6769214045938811</br>EXTOT2: -0.4192279477359309</br>BLDAREA: -1.4931117864269552</br>LTAREA: 0.0986332022265756</br>... too many variables\"],[\"</br>id: 69</br>prediction: 3519581.5</br>AVTOT: 1.3574562023621852</br></br>LTFRONT: 0.2052506401893017</br>LTDEPTH: 0.0041150840808124</br>STORIES: -2.4256728086552424</br>AVLAND: -0.8931862160783208</br>EXLAND: -0.8811002224994066</br>EXTOT: -0.9821209155989064</br>EXMPTCL: 0.0</br>BLDFRONT: -1.4752961362039547</br>BLDDEPTH: -1.5117416694640489</br>AVLAND2: -0.6763157372913495</br>AVTOT2: -0.6769214045938811</br>EXTOT2: -0.4192279477359309</br>BLDAREA: -1.4931117864269552</br>LTAREA: 0.0986332022265756</br>... too many variables\"],[\"</br>id: 69</br>prediction: 2867810.0</br>AVTOT: 1.4560750403670375</br></br>LTFRONT: 0.2052506401893017</br>LTDEPTH: 0.0041150840808124</br>STORIES: -2.4256728086552424</br>AVLAND: -0.8931862160783208</br>EXLAND: -0.8811002224994066</br>EXTOT: -0.9821209155989064</br>EXMPTCL: 0.0</br>BLDFRONT: -1.4752961362039547</br>BLDDEPTH: -1.5117416694640489</br>AVLAND2: -0.6763157372913495</br>AVTOT2: -0.6769214045938811</br>EXTOT2: -0.4192279477359309</br>BLDAREA: -1.4931117864269552</br>LTAREA: 0.0986332022265756</br>... too many variables\"],[\"</br>id: 69</br>prediction: 2710133.5</br>AVTOT: 1.5546938783718898</br></br>LTFRONT: 0.2052506401893017</br>LTDEPTH: 0.0041150840808124</br>STORIES: -2.4256728086552424</br>AVLAND: -0.8931862160783208</br>EXLAND: -0.8811002224994066</br>EXTOT: -0.9821209155989064</br>EXMPTCL: 0.0</br>BLDFRONT: -1.4752961362039547</br>BLDDEPTH: -1.5117416694640489</br>AVLAND2: -0.6763157372913495</br>AVTOT2: -0.6769214045938811</br>EXTOT2: -0.4192279477359309</br>BLDAREA: -1.4931117864269552</br>LTAREA: 0.0986332022265756</br>... too many variables\"],[\"</br>id: 69</br>prediction: 2938106.5</br>AVTOT: 1.653312716376742</br></br>LTFRONT: 0.2052506401893017</br>LTDEPTH: 0.0041150840808124</br>STORIES: -2.4256728086552424</br>AVLAND: -0.8931862160783208</br>EXLAND: -0.8811002224994066</br>EXTOT: -0.9821209155989064</br>EXMPTCL: 0.0</br>BLDFRONT: -1.4752961362039547</br>BLDDEPTH: -1.5117416694640489</br>AVLAND2: -0.6763157372913495</br>AVTOT2: -0.6769214045938811</br>EXTOT2: -0.4192279477359309</br>BLDAREA: -1.4931117864269552</br>LTAREA: 0.0986332022265756</br>... too many variables\"],[\"</br>id: 69</br>prediction: 2985129.5</br>AVTOT: 1.7519315543815943</br></br>LTFRONT: 0.2052506401893017</br>LTDEPTH: 0.0041150840808124</br>STORIES: -2.4256728086552424</br>AVLAND: -0.8931862160783208</br>EXLAND: -0.8811002224994066</br>EXTOT: -0.9821209155989064</br>EXMPTCL: 0.0</br>BLDFRONT: -1.4752961362039547</br>BLDDEPTH: -1.5117416694640489</br>AVLAND2: -0.6763157372913495</br>AVTOT2: -0.6769214045938811</br>EXTOT2: -0.4192279477359309</br>BLDAREA: -1.4931117864269552</br>LTAREA: 0.0986332022265756</br>... too many variables\"],[\"</br>id: 69</br>prediction: 3342099.25</br>AVTOT: 1.8505503923864466</br></br>LTFRONT: 0.2052506401893017</br>LTDEPTH: 0.0041150840808124</br>STORIES: -2.4256728086552424</br>AVLAND: -0.8931862160783208</br>EXLAND: -0.8811002224994066</br>EXTOT: -0.9821209155989064</br>EXMPTCL: 0.0</br>BLDFRONT: -1.4752961362039547</br>BLDDEPTH: -1.5117416694640489</br>AVLAND2: -0.6763157372913495</br>AVTOT2: -0.6769214045938811</br>EXTOT2: -0.4192279477359309</br>BLDAREA: -1.4931117864269552</br>LTAREA: 0.0986332022265756</br>... too many variables\"],[\"</br>id: 69</br>prediction: 3445488.5</br>AVTOT: 1.949169230391298</br></br>LTFRONT: 0.2052506401893017</br>LTDEPTH: 0.0041150840808124</br>STORIES: -2.4256728086552424</br>AVLAND: -0.8931862160783208</br>EXLAND: -0.8811002224994066</br>EXTOT: -0.9821209155989064</br>EXMPTCL: 0.0</br>BLDFRONT: -1.4752961362039547</br>BLDDEPTH: -1.5117416694640489</br>AVLAND2: -0.6763157372913495</br>AVTOT2: -0.6769214045938811</br>EXTOT2: -0.4192279477359309</br>BLDAREA: -1.4931117864269552</br>LTAREA: 0.0986332022265756</br>... too many variables\"],[\"</br>id: 69</br>prediction: 3541692.75</br>AVTOT: 2.0477880683961502</br></br>LTFRONT: 0.2052506401893017</br>LTDEPTH: 0.0041150840808124</br>STORIES: -2.4256728086552424</br>AVLAND: -0.8931862160783208</br>EXLAND: -0.8811002224994066</br>EXTOT: -0.9821209155989064</br>EXMPTCL: 0.0</br>BLDFRONT: -1.4752961362039547</br>BLDDEPTH: -1.5117416694640489</br>AVLAND2: -0.6763157372913495</br>AVTOT2: -0.6769214045938811</br>EXTOT2: -0.4192279477359309</br>BLDAREA: -1.4931117864269552</br>LTAREA: 0.0986332022265756</br>... too many variables\"],[\"</br>id: 69</br>prediction: 3749295.75</br>AVTOT: 2.1464069064010025</br></br>LTFRONT: 0.2052506401893017</br>LTDEPTH: 0.0041150840808124</br>STORIES: -2.4256728086552424</br>AVLAND: -0.8931862160783208</br>EXLAND: -0.8811002224994066</br>EXTOT: -0.9821209155989064</br>EXMPTCL: 0.0</br>BLDFRONT: -1.4752961362039547</br>BLDDEPTH: -1.5117416694640489</br>AVLAND2: -0.6763157372913495</br>AVTOT2: -0.6769214045938811</br>EXTOT2: -0.4192279477359309</br>BLDAREA: -1.4931117864269552</br>LTAREA: 0.0986332022265756</br>... too many variables\"],[\"</br>id: 69</br>prediction: 3876594.0</br>AVTOT: 2.245025744405855</br></br>LTFRONT: 0.2052506401893017</br>LTDEPTH: 0.0041150840808124</br>STORIES: -2.4256728086552424</br>AVLAND: -0.8931862160783208</br>EXLAND: -0.8811002224994066</br>EXTOT: -0.9821209155989064</br>EXMPTCL: 0.0</br>BLDFRONT: -1.4752961362039547</br>BLDDEPTH: -1.5117416694640489</br>AVLAND2: -0.6763157372913495</br>AVTOT2: -0.6769214045938811</br>EXTOT2: -0.4192279477359309</br>BLDAREA: -1.4931117864269552</br>LTAREA: 0.0986332022265756</br>... too many variables\"],[\"</br>id: 69</br>prediction: 4443889.5</br>AVTOT: 2.343644582410707</br></br>LTFRONT: 0.2052506401893017</br>LTDEPTH: 0.0041150840808124</br>STORIES: -2.4256728086552424</br>AVLAND: -0.8931862160783208</br>EXLAND: -0.8811002224994066</br>EXTOT: -0.9821209155989064</br>EXMPTCL: 0.0</br>BLDFRONT: -1.4752961362039547</br>BLDDEPTH: -1.5117416694640489</br>AVLAND2: -0.6763157372913495</br>AVTOT2: -0.6769214045938811</br>EXTOT2: -0.4192279477359309</br>BLDAREA: -1.4931117864269552</br>LTAREA: 0.0986332022265756</br>... too many variables\"],[\"</br>id: 69</br>prediction: 4707116.0</br>AVTOT: 2.4422634204155593</br></br>LTFRONT: 0.2052506401893017</br>LTDEPTH: 0.0041150840808124</br>STORIES: -2.4256728086552424</br>AVLAND: -0.8931862160783208</br>EXLAND: -0.8811002224994066</br>EXTOT: -0.9821209155989064</br>EXMPTCL: 0.0</br>BLDFRONT: -1.4752961362039547</br>BLDDEPTH: -1.5117416694640489</br>AVLAND2: -0.6763157372913495</br>AVTOT2: -0.6769214045938811</br>EXTOT2: -0.4192279477359309</br>BLDAREA: -1.4931117864269552</br>LTAREA: 0.0986332022265756</br>... too many variables\"],[\"</br>id: 69</br>prediction: 5129247.0</br>AVTOT: 2.5408822584204116</br></br>LTFRONT: 0.2052506401893017</br>LTDEPTH: 0.0041150840808124</br>STORIES: -2.4256728086552424</br>AVLAND: -0.8931862160783208</br>EXLAND: -0.8811002224994066</br>EXTOT: -0.9821209155989064</br>EXMPTCL: 0.0</br>BLDFRONT: -1.4752961362039547</br>BLDDEPTH: -1.5117416694640489</br>AVLAND2: -0.6763157372913495</br>AVTOT2: -0.6769214045938811</br>EXTOT2: -0.4192279477359309</br>BLDAREA: -1.4931117864269552</br>LTAREA: 0.0986332022265756</br>... too many variables\"],[\"</br>id: 69</br>prediction: 5567379.0</br>AVTOT: 2.639501096425264</br></br>LTFRONT: 0.2052506401893017</br>LTDEPTH: 0.0041150840808124</br>STORIES: -2.4256728086552424</br>AVLAND: -0.8931862160783208</br>EXLAND: -0.8811002224994066</br>EXTOT: -0.9821209155989064</br>EXMPTCL: 0.0</br>BLDFRONT: -1.4752961362039547</br>BLDDEPTH: -1.5117416694640489</br>AVLAND2: -0.6763157372913495</br>AVTOT2: -0.6769214045938811</br>EXTOT2: -0.4192279477359309</br>BLDAREA: -1.4931117864269552</br>LTAREA: 0.0986332022265756</br>... too many variables\"],[\"</br>id: 69</br>prediction: 6068678.0</br>AVTOT: 2.738119934430116</br></br>LTFRONT: 0.2052506401893017</br>LTDEPTH: 0.0041150840808124</br>STORIES: -2.4256728086552424</br>AVLAND: -0.8931862160783208</br>EXLAND: -0.8811002224994066</br>EXTOT: -0.9821209155989064</br>EXMPTCL: 0.0</br>BLDFRONT: -1.4752961362039547</br>BLDDEPTH: -1.5117416694640489</br>AVLAND2: -0.6763157372913495</br>AVTOT2: -0.6769214045938811</br>EXTOT2: -0.4192279477359309</br>BLDAREA: -1.4931117864269552</br>LTAREA: 0.0986332022265756</br>... too many variables\"],[\"</br>id: 69</br>prediction: 7075749.5</br>AVTOT: 2.8367387724349684</br></br>LTFRONT: 0.2052506401893017</br>LTDEPTH: 0.0041150840808124</br>STORIES: -2.4256728086552424</br>AVLAND: -0.8931862160783208</br>EXLAND: -0.8811002224994066</br>EXTOT: -0.9821209155989064</br>EXMPTCL: 0.0</br>BLDFRONT: -1.4752961362039547</br>BLDDEPTH: -1.5117416694640489</br>AVLAND2: -0.6763157372913495</br>AVTOT2: -0.6769214045938811</br>EXTOT2: -0.4192279477359309</br>BLDAREA: -1.4931117864269552</br>LTAREA: 0.0986332022265756</br>... too many variables\"],[\"</br>id: 69</br>prediction: 7781809.0</br>AVTOT: 2.9353576104398207</br></br>LTFRONT: 0.2052506401893017</br>LTDEPTH: 0.0041150840808124</br>STORIES: -2.4256728086552424</br>AVLAND: -0.8931862160783208</br>EXLAND: -0.8811002224994066</br>EXTOT: -0.9821209155989064</br>EXMPTCL: 0.0</br>BLDFRONT: -1.4752961362039547</br>BLDDEPTH: -1.5117416694640489</br>AVLAND2: -0.6763157372913495</br>AVTOT2: -0.6769214045938811</br>EXTOT2: -0.4192279477359309</br>BLDAREA: -1.4931117864269552</br>LTAREA: 0.0986332022265756</br>... too many variables\"],[\"</br>id: 69</br>prediction: 8447456.0</br>AVTOT: 3.033976448444673</br></br>LTFRONT: 0.2052506401893017</br>LTDEPTH: 0.0041150840808124</br>STORIES: -2.4256728086552424</br>AVLAND: -0.8931862160783208</br>EXLAND: -0.8811002224994066</br>EXTOT: -0.9821209155989064</br>EXMPTCL: 0.0</br>BLDFRONT: -1.4752961362039547</br>BLDDEPTH: -1.5117416694640489</br>AVLAND2: -0.6763157372913495</br>AVTOT2: -0.6769214045938811</br>EXTOT2: -0.4192279477359309</br>BLDAREA: -1.4931117864269552</br>LTAREA: 0.0986332022265756</br>... too many variables\"],[\"</br>id: 69</br>prediction: 10197534.0</br>AVTOT: 3.1325952864495252</br></br>LTFRONT: 0.2052506401893017</br>LTDEPTH: 0.0041150840808124</br>STORIES: -2.4256728086552424</br>AVLAND: -0.8931862160783208</br>EXLAND: -0.8811002224994066</br>EXTOT: -0.9821209155989064</br>EXMPTCL: 0.0</br>BLDFRONT: -1.4752961362039547</br>BLDDEPTH: -1.5117416694640489</br>AVLAND2: -0.6763157372913495</br>AVTOT2: -0.6769214045938811</br>EXTOT2: -0.4192279477359309</br>BLDAREA: -1.4931117864269552</br>LTAREA: 0.0986332022265756</br>... too many variables\"],[\"</br>id: 69</br>prediction: 11513906.0</br>AVTOT: 3.2312141244543775</br></br>LTFRONT: 0.2052506401893017</br>LTDEPTH: 0.0041150840808124</br>STORIES: -2.4256728086552424</br>AVLAND: -0.8931862160783208</br>EXLAND: -0.8811002224994066</br>EXTOT: -0.9821209155989064</br>EXMPTCL: 0.0</br>BLDFRONT: -1.4752961362039547</br>BLDDEPTH: -1.5117416694640489</br>AVLAND2: -0.6763157372913495</br>AVTOT2: -0.6769214045938811</br>EXTOT2: -0.4192279477359309</br>BLDAREA: -1.4931117864269552</br>LTAREA: 0.0986332022265756</br>... too many variables\"],[\"</br>id: 69</br>prediction: 12364740.0</br>AVTOT: 3.3298329624592298</br></br>LTFRONT: 0.2052506401893017</br>LTDEPTH: 0.0041150840808124</br>STORIES: -2.4256728086552424</br>AVLAND: -0.8931862160783208</br>EXLAND: -0.8811002224994066</br>EXTOT: -0.9821209155989064</br>EXMPTCL: 0.0</br>BLDFRONT: -1.4752961362039547</br>BLDDEPTH: -1.5117416694640489</br>AVLAND2: -0.6763157372913495</br>AVTOT2: -0.6769214045938811</br>EXTOT2: -0.4192279477359309</br>BLDAREA: -1.4931117864269552</br>LTAREA: 0.0986332022265756</br>... too many variables\"],[\"</br>id: 69</br>prediction: 14142427.0</br>AVTOT: 3.428451800464082</br></br>LTFRONT: 0.2052506401893017</br>LTDEPTH: 0.0041150840808124</br>STORIES: -2.4256728086552424</br>AVLAND: -0.8931862160783208</br>EXLAND: -0.8811002224994066</br>EXTOT: -0.9821209155989064</br>EXMPTCL: 0.0</br>BLDFRONT: -1.4752961362039547</br>BLDDEPTH: -1.5117416694640489</br>AVLAND2: -0.6763157372913495</br>AVTOT2: -0.6769214045938811</br>EXTOT2: -0.4192279477359309</br>BLDAREA: -1.4931117864269552</br>LTAREA: 0.0986332022265756</br>... too many variables\"],[\"</br>id: 69</br>prediction: 15406670.0</br>AVTOT: 3.5270706384689343</br></br>LTFRONT: 0.2052506401893017</br>LTDEPTH: 0.0041150840808124</br>STORIES: -2.4256728086552424</br>AVLAND: -0.8931862160783208</br>EXLAND: -0.8811002224994066</br>EXTOT: -0.9821209155989064</br>EXMPTCL: 0.0</br>BLDFRONT: -1.4752961362039547</br>BLDDEPTH: -1.5117416694640489</br>AVLAND2: -0.6763157372913495</br>AVTOT2: -0.6769214045938811</br>EXTOT2: -0.4192279477359309</br>BLDAREA: -1.4931117864269552</br>LTAREA: 0.0986332022265756</br>... too many variables\"],[\"</br>id: 69</br>prediction: 17999944.0</br>AVTOT: 3.6256894764737857</br></br>LTFRONT: 0.2052506401893017</br>LTDEPTH: 0.0041150840808124</br>STORIES: -2.4256728086552424</br>AVLAND: -0.8931862160783208</br>EXLAND: -0.8811002224994066</br>EXTOT: -0.9821209155989064</br>EXMPTCL: 0.0</br>BLDFRONT: -1.4752961362039547</br>BLDDEPTH: -1.5117416694640489</br>AVLAND2: -0.6763157372913495</br>AVTOT2: -0.6769214045938811</br>EXTOT2: -0.4192279477359309</br>BLDAREA: -1.4931117864269552</br>LTAREA: 0.0986332022265756</br>... too many variables\"],[\"</br>id: 69</br>prediction: 19178458.0</br>AVTOT: 3.724308314478638</br></br>LTFRONT: 0.2052506401893017</br>LTDEPTH: 0.0041150840808124</br>STORIES: -2.4256728086552424</br>AVLAND: -0.8931862160783208</br>EXLAND: -0.8811002224994066</br>EXTOT: -0.9821209155989064</br>EXMPTCL: 0.0</br>BLDFRONT: -1.4752961362039547</br>BLDDEPTH: -1.5117416694640489</br>AVLAND2: -0.6763157372913495</br>AVTOT2: -0.6769214045938811</br>EXTOT2: -0.4192279477359309</br>BLDAREA: -1.4931117864269552</br>LTAREA: 0.0986332022265756</br>... too many variables\"],[\"</br>id: 69</br>prediction: 21534172.0</br>AVTOT: 3.8229271524834902</br></br>LTFRONT: 0.2052506401893017</br>LTDEPTH: 0.0041150840808124</br>STORIES: -2.4256728086552424</br>AVLAND: -0.8931862160783208</br>EXLAND: -0.8811002224994066</br>EXTOT: -0.9821209155989064</br>EXMPTCL: 0.0</br>BLDFRONT: -1.4752961362039547</br>BLDDEPTH: -1.5117416694640489</br>AVLAND2: -0.6763157372913495</br>AVTOT2: -0.6769214045938811</br>EXTOT2: -0.4192279477359309</br>BLDAREA: -1.4931117864269552</br>LTAREA: 0.0986332022265756</br>... too many variables\"],[\"</br>id: 69</br>prediction: 23297218.0</br>AVTOT: 3.9215459904883425</br></br>LTFRONT: 0.2052506401893017</br>LTDEPTH: 0.0041150840808124</br>STORIES: -2.4256728086552424</br>AVLAND: -0.8931862160783208</br>EXLAND: -0.8811002224994066</br>EXTOT: -0.9821209155989064</br>EXMPTCL: 0.0</br>BLDFRONT: -1.4752961362039547</br>BLDDEPTH: -1.5117416694640489</br>AVLAND2: -0.6763157372913495</br>AVTOT2: -0.6769214045938811</br>EXTOT2: -0.4192279477359309</br>BLDAREA: -1.4931117864269552</br>LTAREA: 0.0986332022265756</br>... too many variables\"],[\"</br>id: 69</br>prediction: 25875862.0</br>AVTOT: 4.020164828493195</br></br>LTFRONT: 0.2052506401893017</br>LTDEPTH: 0.0041150840808124</br>STORIES: -2.4256728086552424</br>AVLAND: -0.8931862160783208</br>EXLAND: -0.8811002224994066</br>EXTOT: -0.9821209155989064</br>EXMPTCL: 0.0</br>BLDFRONT: -1.4752961362039547</br>BLDDEPTH: -1.5117416694640489</br>AVLAND2: -0.6763157372913495</br>AVTOT2: -0.6769214045938811</br>EXTOT2: -0.4192279477359309</br>BLDAREA: -1.4931117864269552</br>LTAREA: 0.0986332022265756</br>... too many variables\"],[\"</br>id: 69</br>prediction: 28700796.0</br>AVTOT: 4.118783666498047</br></br>LTFRONT: 0.2052506401893017</br>LTDEPTH: 0.0041150840808124</br>STORIES: -2.4256728086552424</br>AVLAND: -0.8931862160783208</br>EXLAND: -0.8811002224994066</br>EXTOT: -0.9821209155989064</br>EXMPTCL: 0.0</br>BLDFRONT: -1.4752961362039547</br>BLDDEPTH: -1.5117416694640489</br>AVLAND2: -0.6763157372913495</br>AVTOT2: -0.6769214045938811</br>EXTOT2: -0.4192279477359309</br>BLDAREA: -1.4931117864269552</br>LTAREA: 0.0986332022265756</br>... too many variables\"],[\"</br>id: 69</br>prediction: 32447270.0</br>AVTOT: 4.2174025045029</br></br>LTFRONT: 0.2052506401893017</br>LTDEPTH: 0.0041150840808124</br>STORIES: -2.4256728086552424</br>AVLAND: -0.8931862160783208</br>EXLAND: -0.8811002224994066</br>EXTOT: -0.9821209155989064</br>EXMPTCL: 0.0</br>BLDFRONT: -1.4752961362039547</br>BLDDEPTH: -1.5117416694640489</br>AVLAND2: -0.6763157372913495</br>AVTOT2: -0.6769214045938811</br>EXTOT2: -0.4192279477359309</br>BLDAREA: -1.4931117864269552</br>LTAREA: 0.0986332022265756</br>... too many variables\"],[\"</br>id: 69</br>prediction: 40750208.0</br>AVTOT: 4.316021342507751</br></br>LTFRONT: 0.2052506401893017</br>LTDEPTH: 0.0041150840808124</br>STORIES: -2.4256728086552424</br>AVLAND: -0.8931862160783208</br>EXLAND: -0.8811002224994066</br>EXTOT: -0.9821209155989064</br>EXMPTCL: 0.0</br>BLDFRONT: -1.4752961362039547</br>BLDDEPTH: -1.5117416694640489</br>AVLAND2: -0.6763157372913495</br>AVTOT2: -0.6769214045938811</br>EXTOT2: -0.4192279477359309</br>BLDAREA: -1.4931117864269552</br>LTAREA: 0.0986332022265756</br>... too many variables\"],[\"</br>id: 69</br>prediction: 46958836.0</br>AVTOT: 4.414640180512604</br></br>LTFRONT: 0.2052506401893017</br>LTDEPTH: 0.0041150840808124</br>STORIES: -2.4256728086552424</br>AVLAND: -0.8931862160783208</br>EXLAND: -0.8811002224994066</br>EXTOT: -0.9821209155989064</br>EXMPTCL: 0.0</br>BLDFRONT: -1.4752961362039547</br>BLDDEPTH: -1.5117416694640489</br>AVLAND2: -0.6763157372913495</br>AVTOT2: -0.6769214045938811</br>EXTOT2: -0.4192279477359309</br>BLDAREA: -1.4931117864269552</br>LTAREA: 0.0986332022265756</br>... too many variables\"],[\"</br>id: 69</br>prediction: 51652104.0</br>AVTOT: 4.513259018517456</br></br>LTFRONT: 0.2052506401893017</br>LTDEPTH: 0.0041150840808124</br>STORIES: -2.4256728086552424</br>AVLAND: -0.8931862160783208</br>EXLAND: -0.8811002224994066</br>EXTOT: -0.9821209155989064</br>EXMPTCL: 0.0</br>BLDFRONT: -1.4752961362039547</br>BLDDEPTH: -1.5117416694640489</br>AVLAND2: -0.6763157372913495</br>AVTOT2: -0.6769214045938811</br>EXTOT2: -0.4192279477359309</br>BLDAREA: -1.4931117864269552</br>LTAREA: 0.0986332022265756</br>... too many variables\"],[\"</br>id: 69</br>prediction: 53943452.0</br>AVTOT: 4.611877856522309</br></br>LTFRONT: 0.2052506401893017</br>LTDEPTH: 0.0041150840808124</br>STORIES: -2.4256728086552424</br>AVLAND: -0.8931862160783208</br>EXLAND: -0.8811002224994066</br>EXTOT: -0.9821209155989064</br>EXMPTCL: 0.0</br>BLDFRONT: -1.4752961362039547</br>BLDDEPTH: -1.5117416694640489</br>AVLAND2: -0.6763157372913495</br>AVTOT2: -0.6769214045938811</br>EXTOT2: -0.4192279477359309</br>BLDAREA: -1.4931117864269552</br>LTAREA: 0.0986332022265756</br>... too many variables\"],[\"</br>id: 69</br>prediction: 58887380.0</br>AVTOT: 4.71049669452716</br></br>LTFRONT: 0.2052506401893017</br>LTDEPTH: 0.0041150840808124</br>STORIES: -2.4256728086552424</br>AVLAND: -0.8931862160783208</br>EXLAND: -0.8811002224994066</br>EXTOT: -0.9821209155989064</br>EXMPTCL: 0.0</br>BLDFRONT: -1.4752961362039547</br>BLDDEPTH: -1.5117416694640489</br>AVLAND2: -0.6763157372913495</br>AVTOT2: -0.6769214045938811</br>EXTOT2: -0.4192279477359309</br>BLDAREA: -1.4931117864269552</br>LTAREA: 0.0986332022265756</br>... too many variables\"],[\"</br>id: 69</br>prediction: 62065116.0</br>AVTOT: 4.809115532532013</br></br>LTFRONT: 0.2052506401893017</br>LTDEPTH: 0.0041150840808124</br>STORIES: -2.4256728086552424</br>AVLAND: -0.8931862160783208</br>EXLAND: -0.8811002224994066</br>EXTOT: -0.9821209155989064</br>EXMPTCL: 0.0</br>BLDFRONT: -1.4752961362039547</br>BLDDEPTH: -1.5117416694640489</br>AVLAND2: -0.6763157372913495</br>AVTOT2: -0.6769214045938811</br>EXTOT2: -0.4192279477359309</br>BLDAREA: -1.4931117864269552</br>LTAREA: 0.0986332022265756</br>... too many variables\"],[\"</br>id: 69</br>prediction: 72700680.0</br>AVTOT: 4.907734370536865</br></br>LTFRONT: 0.2052506401893017</br>LTDEPTH: 0.0041150840808124</br>STORIES: -2.4256728086552424</br>AVLAND: -0.8931862160783208</br>EXLAND: -0.8811002224994066</br>EXTOT: -0.9821209155989064</br>EXMPTCL: 0.0</br>BLDFRONT: -1.4752961362039547</br>BLDDEPTH: -1.5117416694640489</br>AVLAND2: -0.6763157372913495</br>AVTOT2: -0.6769214045938811</br>EXTOT2: -0.4192279477359309</br>BLDAREA: -1.4931117864269552</br>LTAREA: 0.0986332022265756</br>... too many variables\"],[\"</br>id: 69</br>prediction: 76971376.0</br>AVTOT: 5.006353208541718</br></br>LTFRONT: 0.2052506401893017</br>LTDEPTH: 0.0041150840808124</br>STORIES: -2.4256728086552424</br>AVLAND: -0.8931862160783208</br>EXLAND: -0.8811002224994066</br>EXTOT: -0.9821209155989064</br>EXMPTCL: 0.0</br>BLDFRONT: -1.4752961362039547</br>BLDDEPTH: -1.5117416694640489</br>AVLAND2: -0.6763157372913495</br>AVTOT2: -0.6769214045938811</br>EXTOT2: -0.4192279477359309</br>BLDAREA: -1.4931117864269552</br>LTAREA: 0.0986332022265756</br>... too many variables\"],[\"</br>id: 69</br>prediction: 85331688.0</br>AVTOT: 5.104972046546569</br></br>LTFRONT: 0.2052506401893017</br>LTDEPTH: 0.0041150840808124</br>STORIES: -2.4256728086552424</br>AVLAND: -0.8931862160783208</br>EXLAND: -0.8811002224994066</br>EXTOT: -0.9821209155989064</br>EXMPTCL: 0.0</br>BLDFRONT: -1.4752961362039547</br>BLDDEPTH: -1.5117416694640489</br>AVLAND2: -0.6763157372913495</br>AVTOT2: -0.6769214045938811</br>EXTOT2: -0.4192279477359309</br>BLDAREA: -1.4931117864269552</br>LTAREA: 0.0986332022265756</br>... too many variables\"],[\"</br>id: 69</br>prediction: 101016760.0</br>AVTOT: 5.2035908845514225</br></br>LTFRONT: 0.2052506401893017</br>LTDEPTH: 0.0041150840808124</br>STORIES: -2.4256728086552424</br>AVLAND: -0.8931862160783208</br>EXLAND: -0.8811002224994066</br>EXTOT: -0.9821209155989064</br>EXMPTCL: 0.0</br>BLDFRONT: -1.4752961362039547</br>BLDDEPTH: -1.5117416694640489</br>AVLAND2: -0.6763157372913495</br>AVTOT2: -0.6769214045938811</br>EXTOT2: -0.4192279477359309</br>BLDAREA: -1.4931117864269552</br>LTAREA: 0.0986332022265756</br>... too many variables\"],[\"</br>id: 69</br>prediction: 103430360.0</br>AVTOT: 5.302209722556274</br></br>LTFRONT: 0.2052506401893017</br>LTDEPTH: 0.0041150840808124</br>STORIES: -2.4256728086552424</br>AVLAND: -0.8931862160783208</br>EXLAND: -0.8811002224994066</br>EXTOT: -0.9821209155989064</br>EXMPTCL: 0.0</br>BLDFRONT: -1.4752961362039547</br>BLDDEPTH: -1.5117416694640489</br>AVLAND2: -0.6763157372913495</br>AVTOT2: -0.6769214045938811</br>EXTOT2: -0.4192279477359309</br>BLDAREA: -1.4931117864269552</br>LTAREA: 0.0986332022265756</br>... too many variables\"],[\"</br>id: 69</br>prediction: 107469672.0</br>AVTOT: 5.400828560561127</br></br>LTFRONT: 0.2052506401893017</br>LTDEPTH: 0.0041150840808124</br>STORIES: -2.4256728086552424</br>AVLAND: -0.8931862160783208</br>EXLAND: -0.8811002224994066</br>EXTOT: -0.9821209155989064</br>EXMPTCL: 0.0</br>BLDFRONT: -1.4752961362039547</br>BLDDEPTH: -1.5117416694640489</br>AVLAND2: -0.6763157372913495</br>AVTOT2: -0.6769214045938811</br>EXTOT2: -0.4192279477359309</br>BLDAREA: -1.4931117864269552</br>LTAREA: 0.0986332022265756</br>... too many variables\"],[\"</br>id: 69</br>prediction: 115790968.0</br>AVTOT: 5.499447398565978</br></br>LTFRONT: 0.2052506401893017</br>LTDEPTH: 0.0041150840808124</br>STORIES: -2.4256728086552424</br>AVLAND: -0.8931862160783208</br>EXLAND: -0.8811002224994066</br>EXTOT: -0.9821209155989064</br>EXMPTCL: 0.0</br>BLDFRONT: -1.4752961362039547</br>BLDDEPTH: -1.5117416694640489</br>AVLAND2: -0.6763157372913495</br>AVTOT2: -0.6769214045938811</br>EXTOT2: -0.4192279477359309</br>BLDAREA: -1.4931117864269552</br>LTAREA: 0.0986332022265756</br>... too many variables\"],[\"</br>id: 69</br>prediction: 140435888.0</br>AVTOT: 5.598066236570832</br></br>LTFRONT: 0.2052506401893017</br>LTDEPTH: 0.0041150840808124</br>STORIES: -2.4256728086552424</br>AVLAND: -0.8931862160783208</br>EXLAND: -0.8811002224994066</br>EXTOT: -0.9821209155989064</br>EXMPTCL: 0.0</br>BLDFRONT: -1.4752961362039547</br>BLDDEPTH: -1.5117416694640489</br>AVLAND2: -0.6763157372913495</br>AVTOT2: -0.6769214045938811</br>EXTOT2: -0.4192279477359309</br>BLDAREA: -1.4931117864269552</br>LTAREA: 0.0986332022265756</br>... too many variables\"],[\"</br>id: 69</br>prediction: 156429232.0</br>AVTOT: 5.696685074575683</br></br>LTFRONT: 0.2052506401893017</br>LTDEPTH: 0.0041150840808124</br>STORIES: -2.4256728086552424</br>AVLAND: -0.8931862160783208</br>EXLAND: -0.8811002224994066</br>EXTOT: -0.9821209155989064</br>EXMPTCL: 0.0</br>BLDFRONT: -1.4752961362039547</br>BLDDEPTH: -1.5117416694640489</br>AVLAND2: -0.6763157372913495</br>AVTOT2: -0.6769214045938811</br>EXTOT2: -0.4192279477359309</br>BLDAREA: -1.4931117864269552</br>LTAREA: 0.0986332022265756</br>... too many variables\"],[\"</br>id: 69</br>prediction: 173621600.0</br>AVTOT: 5.795303912580536</br></br>LTFRONT: 0.2052506401893017</br>LTDEPTH: 0.0041150840808124</br>STORIES: -2.4256728086552424</br>AVLAND: -0.8931862160783208</br>EXLAND: -0.8811002224994066</br>EXTOT: -0.9821209155989064</br>EXMPTCL: 0.0</br>BLDFRONT: -1.4752961362039547</br>BLDDEPTH: -1.5117416694640489</br>AVLAND2: -0.6763157372913495</br>AVTOT2: -0.6769214045938811</br>EXTOT2: -0.4192279477359309</br>BLDAREA: -1.4931117864269552</br>LTAREA: 0.0986332022265756</br>... too many variables\"],[\"</br>id: 69</br>prediction: 186563568.0</br>AVTOT: 5.8939227505853875</br></br>LTFRONT: 0.2052506401893017</br>LTDEPTH: 0.0041150840808124</br>STORIES: -2.4256728086552424</br>AVLAND: -0.8931862160783208</br>EXLAND: -0.8811002224994066</br>EXTOT: -0.9821209155989064</br>EXMPTCL: 0.0</br>BLDFRONT: -1.4752961362039547</br>BLDDEPTH: -1.5117416694640489</br>AVLAND2: -0.6763157372913495</br>AVTOT2: -0.6769214045938811</br>EXTOT2: -0.4192279477359309</br>BLDAREA: -1.4931117864269552</br>LTAREA: 0.0986332022265756</br>... too many variables\"],[\"</br>id: 69</br>prediction: 200898528.0</br>AVTOT: 5.992541588590239</br></br>LTFRONT: 0.2052506401893017</br>LTDEPTH: 0.0041150840808124</br>STORIES: -2.4256728086552424</br>AVLAND: -0.8931862160783208</br>EXLAND: -0.8811002224994066</br>EXTOT: -0.9821209155989064</br>EXMPTCL: 0.0</br>BLDFRONT: -1.4752961362039547</br>BLDDEPTH: -1.5117416694640489</br>AVLAND2: -0.6763157372913495</br>AVTOT2: -0.6769214045938811</br>EXTOT2: -0.4192279477359309</br>BLDAREA: -1.4931117864269552</br>LTAREA: 0.0986332022265756</br>... too many variables\"],[\"</br>id: 69</br>prediction: 205166224.0</br>AVTOT: 6.091160426595092</br></br>LTFRONT: 0.2052506401893017</br>LTDEPTH: 0.0041150840808124</br>STORIES: -2.4256728086552424</br>AVLAND: -0.8931862160783208</br>EXLAND: -0.8811002224994066</br>EXTOT: -0.9821209155989064</br>EXMPTCL: 0.0</br>BLDFRONT: -1.4752961362039547</br>BLDDEPTH: -1.5117416694640489</br>AVLAND2: -0.6763157372913495</br>AVTOT2: -0.6769214045938811</br>EXTOT2: -0.4192279477359309</br>BLDAREA: -1.4931117864269552</br>LTAREA: 0.0986332022265756</br>... too many variables\"],[\"</br>id: 69</br>prediction: 205166224.0</br>AVTOT: 6.189779264599943</br></br>LTFRONT: 0.2052506401893017</br>LTDEPTH: 0.0041150840808124</br>STORIES: -2.4256728086552424</br>AVLAND: -0.8931862160783208</br>EXLAND: -0.8811002224994066</br>EXTOT: -0.9821209155989064</br>EXMPTCL: 0.0</br>BLDFRONT: -1.4752961362039547</br>BLDDEPTH: -1.5117416694640489</br>AVLAND2: -0.6763157372913495</br>AVTOT2: -0.6769214045938811</br>EXTOT2: -0.4192279477359309</br>BLDAREA: -1.4931117864269552</br>LTAREA: 0.0986332022265756</br>... too many variables\"],[\"</br>id: 69</br>prediction: 210059712.0</br>AVTOT: 6.288398102604796</br></br>LTFRONT: 0.2052506401893017</br>LTDEPTH: 0.0041150840808124</br>STORIES: -2.4256728086552424</br>AVLAND: -0.8931862160783208</br>EXLAND: -0.8811002224994066</br>EXTOT: -0.9821209155989064</br>EXMPTCL: 0.0</br>BLDFRONT: -1.4752961362039547</br>BLDDEPTH: -1.5117416694640489</br>AVLAND2: -0.6763157372913495</br>AVTOT2: -0.6769214045938811</br>EXTOT2: -0.4192279477359309</br>BLDAREA: -1.4931117864269552</br>LTAREA: 0.0986332022265756</br>... too many variables\"]],\"hovertemplate\":\"%{customdata[0]}<extra></extra>\",\"legendgroup\":\"XGBRFRegressor\",\"line\":{\"color\":\"#46bac2\",\"dash\":\"solid\",\"width\":2},\"marker\":{\"symbol\":\"circle\"},\"mode\":\"lines\",\"name\":\"XGBRFRegressor\",\"orientation\":\"v\",\"showlegend\":false,\"x\":[-3.5734856978804257,-3.4748668598755734,-3.376248021870721,-3.277629183865869,-3.179010345861017,-3.080391507856165,-2.9817726698513125,-2.8831538318464602,-2.784534993841608,-2.6859161558367557,-2.5872973178319034,-2.488678479827051,-2.390059641822199,-2.2914408038173466,-2.1928219658124948,-2.0942031278076425,-1.9955842898027902,-1.896965451797938,-1.7983466137930857,-1.6997277757882336,-1.6011089377833814,-1.5024900997785293,-1.403871261773677,-1.3052524237688248,-1.2066335857639725,-1.1080147477591202,-1.009395909754268,-0.9107770717494157,-0.8121582337445639,-0.7135393957397116,-0.6149205577348593,-0.516301719730007,-0.4176828817251548,-0.3190640437203025,-0.22044520571545023,-0.12182636771059796,-0.02320752970574569,0.07541130829910614,0.1740301463039584,0.2726489843088107,0.37126782231366295,0.4698866603185148,0.568505498323367,0.6671243363282193,0.7657431743330716,0.8643620123379239,0.9629808503427761,1.0615996883476284,1.1602185263524807,1.258837364357333,1.3574562023621852,1.4560750403670375,1.5546938783718898,1.653312716376742,1.7519315543815943,1.8505503923864466,1.949169230391298,2.0477880683961502,2.1464069064010025,2.245025744405855,2.343644582410707,2.4422634204155593,2.5408822584204116,2.639501096425264,2.738119934430116,2.8367387724349684,2.9353576104398207,3.033976448444673,3.1325952864495252,3.2312141244543775,3.3298329624592298,3.428451800464082,3.5270706384689343,3.6256894764737857,3.724308314478638,3.8229271524834902,3.9215459904883425,4.020164828493195,4.118783666498047,4.2174025045029,4.316021342507751,4.414640180512604,4.513259018517456,4.611877856522309,4.71049669452716,4.809115532532013,4.907734370536865,5.006353208541718,5.104972046546569,5.2035908845514225,5.302209722556274,5.400828560561127,5.499447398565978,5.598066236570832,5.696685074575683,5.795303912580536,5.8939227505853875,5.992541588590239,6.091160426595092,6.189779264599943,6.288398102604796],\"xaxis\":\"x2\",\"y\":[302159.375,302159.375,302159.375,302159.375,302159.375,302159.375,302159.375,302159.375,302159.375,302159.375,302159.375,302159.375,302553.625,302553.625,302553.625,302553.625,302553.625,302553.625,302553.625,302553.625,302553.625,304887.4375,305884.5625,305884.5625,305884.5625,305884.5625,325856.03125,325856.03125,343937.0,345221.0,345221.0,366470.90625,409783.625,600073.5,663287.75,723545.4375,1214622.25,1385595.125,1480396.25,1538815.125,1986545.125,3387709.5,3464857.75,3669629.5,3740351.5,3747004.5,3752620.75,3745774.25,3625417.0,3555091.0,3519581.5,2867810.0,2710133.5,2938106.5,2985129.5,3342099.25,3445488.5,3541692.75,3749295.75,3876594.0,4443889.5,4707116.0,5129247.0,5567379.0,6068678.0,7075749.5,7781809.0,8447456.0,10197534.0,11513906.0,12364740.0,14142427.0,15406670.0,17999944.0,19178458.0,21534172.0,23297218.0,25875862.0,28700796.0,32447270.0,40750208.0,46958836.0,51652104.0,53943452.0,58887380.0,62065116.0,72700680.0,76971376.0,85331688.0,101016760.0,103430360.0,107469672.0,115790968.0,140435888.0,156429232.0,173621600.0,186563568.0,200898528.0,205166224.0,205166224.0,210059712.0],\"yaxis\":\"y2\",\"type\":\"scatter\",\"opacity\":1}],                        {\"template\":{\"data\":{\"scatter\":[{\"type\":\"scatter\"}]}},\"xaxis\":{\"anchor\":\"y\",\"domain\":[0.0,0.475],\"title\":{\"text\":\"\"},\"showticklabels\":true,\"type\":\"linear\",\"gridwidth\":2,\"zeroline\":false,\"automargin\":true,\"ticks\":\"outside\",\"tickcolor\":\"white\",\"ticklen\":3,\"fixedrange\":true},\"yaxis\":{\"anchor\":\"x\",\"domain\":[0.0,1.0],\"title\":{\"text\":\"\"},\"type\":\"linear\",\"gridwidth\":2,\"zeroline\":false,\"automargin\":true,\"ticks\":\"outside\",\"tickcolor\":\"white\",\"ticklen\":3,\"fixedrange\":true,\"range\":[-20681652.0,231036200.0]},\"xaxis2\":{\"anchor\":\"y2\",\"domain\":[0.525,1.0],\"title\":{\"text\":\"\"},\"showticklabels\":true,\"type\":\"linear\",\"gridwidth\":2,\"zeroline\":false,\"automargin\":true,\"ticks\":\"outside\",\"tickcolor\":\"white\",\"ticklen\":3,\"fixedrange\":true},\"yaxis2\":{\"anchor\":\"x2\",\"domain\":[0.0,1.0],\"matches\":\"y\",\"showticklabels\":false,\"type\":\"linear\",\"gridwidth\":2,\"zeroline\":false,\"automargin\":true,\"ticks\":\"outside\",\"tickcolor\":\"white\",\"ticklen\":3,\"fixedrange\":true,\"range\":[-20681652.0,231036200.0],\"title\":{\"text\":\"\"}},\"annotations\":[{\"font\":{\"size\":13},\"showarrow\":false,\"text\":\"AVLAND\",\"x\":0.2375,\"xanchor\":\"center\",\"xref\":\"paper\",\"y\":1.0,\"yanchor\":\"bottom\",\"yref\":\"paper\"},{\"font\":{\"size\":13},\"showarrow\":false,\"text\":\"AVTOT\",\"x\":0.7625,\"xanchor\":\"center\",\"xref\":\"paper\",\"y\":1.0,\"yanchor\":\"bottom\",\"yref\":\"paper\"},{\"font\":{\"size\":13},\"showarrow\":false,\"text\":\"prediction\",\"textangle\":-90,\"x\":-0.07,\"xref\":\"paper\",\"y\":0.5,\"yref\":\"paper\"}],\"legend\":{\"title\":{\"text\":\"label\",\"font\":{\"size\":12}},\"tracegroupgap\":0,\"font\":{\"size\":11},\"orientation\":\"h\",\"yanchor\":\"bottom\",\"y\":1.0613496932515338,\"xanchor\":\"right\",\"x\":1,\"itemsizing\":\"constant\"},\"margin\":{\"t\":78,\"b\":71,\"r\":30},\"font\":{\"color\":\"#371ea3\"},\"title\":{\"font\":{\"size\":16},\"text\":\"Ceteris Paribus Profiles\",\"x\":0.15},\"hovermode\":\"closest\",\"height\":489,\"hoverlabel\":{\"bgcolor\":\"rgba(0,0,0,0.8)\"}},                        {\"displaylogo\": false, \"staticPlot\": false, \"toImageButtonOptions\": {\"height\": null, \"width\": null}, \"modeBarButtonsToRemove\": [\"sendDataToCloud\", \"lasso2d\", \"autoScale2d\", \"select2d\", \"zoom2d\", \"pan2d\", \"zoomIn2d\", \"zoomOut2d\", \"resetScale2d\", \"toggleSpikelines\", \"hoverCompareCartesian\", \"hoverClosestCartesian\"], \"responsive\": true}                    ).then(function(){\n",
       "                            \n",
       "var gd = document.getElementById('10dad013-f49c-4df1-a21d-aaf5dfcfd060');\n",
       "var x = new MutationObserver(function (mutations, observer) {{\n",
       "        var display = window.getComputedStyle(gd).display;\n",
       "        if (!display || display === 'none') {{\n",
       "            console.log([gd, 'removed!']);\n",
       "            Plotly.purge(gd);\n",
       "            observer.disconnect();\n",
       "        }}\n",
       "}});\n",
       "\n",
       "// Listen for the removal of the full notebook cells\n",
       "var notebookContainer = gd.closest('#notebook-container');\n",
       "if (notebookContainer) {{\n",
       "    x.observe(notebookContainer, {childList: true});\n",
       "}}\n",
       "\n",
       "// Listen for the clearing of the current output cell\n",
       "var outputEl = gd.closest('.output');\n",
       "if (outputEl) {{\n",
       "    x.observe(outputEl, {childList: true});\n",
       "}}\n",
       "\n",
       "                        })                };                });            </script>        </div>"
      ]
     },
     "metadata": {},
     "output_type": "display_data"
    }
   ],
   "source": [
    "cp = dalex.predict_explanations.CeterisParibus()\n",
    "cp.fit(explainer, X_test.loc[69], np.array(y_test[69]))\n",
    "cp.plot(variables=['AVLAND', 'AVTOT'])"
   ]
  }
 ],
 "metadata": {
  "interpreter": {
   "hash": "309de28a327ba8b6d3ffa0bb388f4d3964cedf25fae892936d492d1643bb65a2"
  },
  "kernelspec": {
   "display_name": "Python 3.9.12 ('best')",
   "language": "python",
   "name": "python3"
  },
  "language_info": {
   "codemirror_mode": {
    "name": "ipython",
    "version": 3
   },
   "file_extension": ".py",
   "mimetype": "text/x-python",
   "name": "python",
   "nbconvert_exporter": "python",
   "pygments_lexer": "ipython3",
   "version": "3.9.12"
  },
  "orig_nbformat": 4
 },
 "nbformat": 4,
 "nbformat_minor": 2
}
