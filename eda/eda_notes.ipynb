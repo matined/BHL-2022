{
 "cells": [
  {
   "cell_type": "markdown",
   "metadata": {},
   "source": [
    "1. Do wywalenia: \n",
    "   * BBLE to id\n",
    "   * POSTCODE\n",
    "   * BORO jest zbalansowana i ordered\n",
    "   * PERIOD do wywalenia - 1 wartość\n",
    "   * YEAR do wywalenia - 1 wartość\n",
    "   * VALTYPE do wywalenia - 1 wartość\n",
    "   * Borough do wywalenia \n",
    "   * Community board do wywalenia\n",
    "   * Council district do wywalenia\n",
    "   * Census Tract do wywalenia\n",
    "   * BIN do wywalenia\n",
    "   * NTA do wywalenia\n",
    "   * New Georeferenced Column do wywalenia\n",
    "\n",
    "2. Do szczególnego obsłużenia:\n",
    "   * Owner jest prawie cale unique, można jakoś obsłużyć\n",
    "   * Adresy sklasteryzować\n",
    "  \n",
    "3. Numeryczne:\n",
    "   * BLOCK jest numeryczna i ma spore dziury, być może skośna\n",
    "   * LTFRONT jest mocno skosne\n",
    "   * LTDEPTH mocno skosne\n",
    "     * Można dorobić pole działki\n",
    "   * STORIES ma trochę braków (ma jakies braki)\n",
    "   * AVLAND ma tez potezengo outliera\n",
    "   * AVTOT ma troche zer\n",
    "   * EXLAND jest w duzej mierze 0\n",
    "   * EXTOT ma duzo zer\n",
    "   * EXCD1 ma sporo brakujacych wartosci, byc moze da sie zkategoryzowac\n",
    "   *  BLDFRONT ma duzo zer\n",
    "   *  BLDDEPTH tak samo\n",
    "      * Można dorobić pole\n",
    "      * Jak bardzo zabudowana jest działka\n",
    "      * Jak zero to pewnie nie ma budynku\n",
    "   *  AVLAND2 ma poteznego outliera\n",
    "   *  AVTOT2 ma duzo brakow i duzego outliera\n",
    "   *  EXLAND2 ma bardzo duzo brakow (imputowac 0)\n",
    "   *  EXTOT2 ma duzego outliera i duzo brakow\n",
    "  \n",
    "4. Kategoryczne:\n",
    "   * EASEMENT kategoryczna, prawie cala pusta i mocno niezbalansowana\n",
    "   * BLDGCL ma duzo unikalnych wartosci (kategorie nieruchomosci, do usuniecia numerki)\n",
    "   * EXT ma 3 niezbalansowane kategorie i to prawie same nulle\n",
    "   * TAXCLASS tak samo (progi podatkowe)\n",
    "   *  EXMPTCL kilka kategorii duzo brakow\n",
    "   *  EXCD2 ma wiekszosc brakow i ma 9 unikalnych wartosci\n",
    "\n",
    "5. Lokalizacja:\n",
    "   * STADDR to adres, mozna wyciagnac z api wspolrzedne majac adres\n",
    "   * Latitude to wspolrzedne\n",
    "   * Longtitude to wspolrzedne\n",
    "\n",
    "\n",
    "6. Target:\n",
    "    * FULLVAL ma poteznego outliera"
   ]
  },
  {
   "cell_type": "markdown",
   "metadata": {},
   "source": [
    "Mateusz - wywalic kolumny\n",
    "\n",
    "Pawel - numeryczne\n",
    "\n",
    "Antoni - kategoryczne"
   ]
  },
  {
   "cell_type": "markdown",
   "metadata": {},
   "source": [
    "Flow transformerow:\n",
    "1. Wywalenie kolumn\n",
    "2. Lepsze nazwy kolumn\n",
    "3. Imputancja numerycznych\n",
    "4. Kategoryzacja zmiennych numerycznych (?)\n",
    "5. Skośność numerycznych - raczej logarytmowanie\n",
    "6. Standaryzacja numerycznych - z-score\n",
    "7. Dodanie własnych zmiennych numerycznych\n",
    "8. Imputancja kategorycznych\n",
    "9. Połączenie kategorii (?)\n",
    "10. Encoding kategorii\n",
    "11. Imputancja współrzędnych\n",
    "    * Korzystając z adresu\n",
    "    * Na pałe\n",
    "12. Klasteryzacja współrzędnych\n",
    "13. Log i standaryzacja targetu"
   ]
  }
 ],
 "metadata": {
  "interpreter": {
   "hash": "309de28a327ba8b6d3ffa0bb388f4d3964cedf25fae892936d492d1643bb65a2"
  },
  "kernelspec": {
   "display_name": "Python 3.9.12 ('best')",
   "language": "python",
   "name": "python3"
  },
  "language_info": {
   "codemirror_mode": {
    "name": "ipython",
    "version": 3
   },
   "file_extension": ".py",
   "mimetype": "text/x-python",
   "name": "python",
   "nbconvert_exporter": "python",
   "pygments_lexer": "ipython3",
   "version": "3.9.12"
  },
  "orig_nbformat": 4
 },
 "nbformat": 4,
 "nbformat_minor": 2
}
