{
 "cells": [
  {
   "cell_type": "code",
   "execution_count": 1,
   "metadata": {
    "collapsed": true
   },
   "outputs": [
    {
     "name": "stderr",
     "output_type": "stream",
     "text": [
      "/Users/pawel/.pyenv/versions/3.9.7/envs/bhl/lib/python3.9/site-packages/xgboost/compat.py:36: FutureWarning: pandas.Int64Index is deprecated and will be removed from pandas in a future version. Use pandas.Index with the appropriate dtype instead.\n",
      "  from pandas import MultiIndex, Int64Index\n"
     ]
    }
   ],
   "source": [
    "import pandas as pd\n",
    "import numpy as np\n",
    "import xgboost as xgb\n",
    "\n",
    "from sklearn.neural_network import MLPClassifier\n",
    "from sklearn.preprocessing import StandardScaler, OneHotEncoder\n",
    "from sklearn.impute import SimpleImputer\n",
    "from sklearn.pipeline import Pipeline\n",
    "from sklearn.compose import ColumnTransformer\n"
   ]
  },
  {
   "cell_type": "code",
   "execution_count": 3,
   "outputs": [],
   "source": [
    "df_train = pd.read_csv('../data/train_processed.csv')"
   ],
   "metadata": {
    "collapsed": false,
    "pycharm": {
     "name": "#%%\n"
    }
   }
  },
  {
   "cell_type": "code",
   "execution_count": 4,
   "outputs": [
    {
     "data": {
      "text/plain": "      Unnamed: 0        BBLE  BORO  BLOCK   LOT EASEMENT  \\\n0           4352  3002651104     3    265  1104      NaN   \n1           3053  2027170004     2   2717     4      NaN   \n2           8856  5023900603     5   2390   603      NaN   \n3            976  1000151323     1     15  1323      NaN   \n4           5809  3008400059     3    840    59      NaN   \n...          ...         ...   ...    ...   ...      ...   \n8356       11284  5014951053     5   1495  1053      NaN   \n8357        5191  3008260034     3    826    34      NaN   \n8358        5390  3008711106     3    871  1106      NaN   \n8359         860  1000162507     1     16  2507      NaN   \n8360        7270  4082864083     4   8286  4083      NaN   \n\n                      OWNER BLDGCL TAXCLASS   LTFRONT  ...   Latitude  \\\n0             KNITTEL, PHIL     R4        2 -1.569152  ...  40.692171   \n1        ZORRILLA, MARICELY     C0        1  0.316342  ...  40.824607   \n2           DIMASO, ANTHONY     A5        1  0.121248  ...  40.583636   \n3           WHITE, JOSEPH E     R4        2 -1.569152  ...  40.706358   \n4     XIN DI CINDY CHEN, TR     B9        1  0.056686  ...  40.640613   \n...                     ...    ...      ...       ...  ...        ...   \n8356    WEINGARTEN GERTRUDE     R3       1A  0.210045  ...  40.619038   \n8357            YUEN, BILLY     B9        1  0.056686  ...  40.639257   \n8358         MIDLER, SAMARA     R1       2C  0.264732  ...  40.658670   \n8359         MILES, JOHN P.     R4        2  1.620131  ...  40.710118   \n8360          WONG, CHI KIT     R3       1A -0.826863  ...  40.753052   \n\n      Longitude  Community Board  Council District  Census Tract        BIN  \\\n0    -73.991172            302.0              33.0           9.0  3397831.0   \n1    -73.894848            202.0              17.0       12701.0  2099838.0   \n2    -74.151088            502.0              50.0       27704.0  5039040.0   \n3    -74.016151            101.0               1.0          13.0  1087243.0   \n4    -74.013429            307.0              38.0         102.0  3015418.0   \n...         ...              ...               ...           ...        ...   \n8356 -74.153888            501.0              49.0       30301.0  5170865.0   \n8357 -74.006687            307.0              38.0         106.0  3014813.0   \n8358 -73.981846            307.0              38.0         169.0  3016663.0   \n8359 -74.016574            101.0               1.0       31704.0  1000436.0   \n8360 -73.737053            411.0              23.0      152901.0  4452374.0   \n\n                                                    NTA  \\\n0                          Brooklyn Heights-Cobble Hill   \n1                                           Hunts Point   \n2     Todt Hill-Emerson Hill-Heartland Village-Light...   \n3                     Battery Park City-Lower Manhattan   \n4                                      Sunset Park East   \n...                                                 ...   \n8356  Mariner's Harbor-Arlington-Port Ivory-Granitev...   \n8357                                   Sunset Park East   \n8358                                    Windsor Terrace   \n8359                  Battery Park City-Lower Manhattan   \n8360               Douglas Manor-Douglaston-Little Neck   \n\n          New Georeferenced Column   BLDAREA    LTAREA  \n0     POINT (-73.991172 40.692171) -1.494039 -1.554443  \n1     POINT (-73.894848 40.824607)  0.256868  0.402892  \n2     POINT (-74.151088 40.583636)  0.121372  0.279092  \n3     POINT (-74.016151 40.706358)  1.680334 -1.554443  \n4     POINT (-74.013429 40.640613)  0.329078  0.237775  \n...                            ...       ...       ...  \n8356  POINT (-74.153888 40.619038)  0.261711 -0.005967  \n8357  POINT (-74.006687 40.639257)  0.361548  0.237775  \n8358   POINT (-73.981846 40.65867) -1.494039  0.370282  \n8359  POINT (-74.016574 40.710118) -1.494039  1.328319  \n8360  POINT (-73.737053 40.753052) -1.494039 -1.554443  \n\n[8361 rows x 43 columns]",
      "text/html": "<div>\n<style scoped>\n    .dataframe tbody tr th:only-of-type {\n        vertical-align: middle;\n    }\n\n    .dataframe tbody tr th {\n        vertical-align: top;\n    }\n\n    .dataframe thead th {\n        text-align: right;\n    }\n</style>\n<table border=\"1\" class=\"dataframe\">\n  <thead>\n    <tr style=\"text-align: right;\">\n      <th></th>\n      <th>Unnamed: 0</th>\n      <th>BBLE</th>\n      <th>BORO</th>\n      <th>BLOCK</th>\n      <th>LOT</th>\n      <th>EASEMENT</th>\n      <th>OWNER</th>\n      <th>BLDGCL</th>\n      <th>TAXCLASS</th>\n      <th>LTFRONT</th>\n      <th>...</th>\n      <th>Latitude</th>\n      <th>Longitude</th>\n      <th>Community Board</th>\n      <th>Council District</th>\n      <th>Census Tract</th>\n      <th>BIN</th>\n      <th>NTA</th>\n      <th>New Georeferenced Column</th>\n      <th>BLDAREA</th>\n      <th>LTAREA</th>\n    </tr>\n  </thead>\n  <tbody>\n    <tr>\n      <th>0</th>\n      <td>4352</td>\n      <td>3002651104</td>\n      <td>3</td>\n      <td>265</td>\n      <td>1104</td>\n      <td>NaN</td>\n      <td>KNITTEL, PHIL</td>\n      <td>R4</td>\n      <td>2</td>\n      <td>-1.569152</td>\n      <td>...</td>\n      <td>40.692171</td>\n      <td>-73.991172</td>\n      <td>302.0</td>\n      <td>33.0</td>\n      <td>9.0</td>\n      <td>3397831.0</td>\n      <td>Brooklyn Heights-Cobble Hill</td>\n      <td>POINT (-73.991172 40.692171)</td>\n      <td>-1.494039</td>\n      <td>-1.554443</td>\n    </tr>\n    <tr>\n      <th>1</th>\n      <td>3053</td>\n      <td>2027170004</td>\n      <td>2</td>\n      <td>2717</td>\n      <td>4</td>\n      <td>NaN</td>\n      <td>ZORRILLA, MARICELY</td>\n      <td>C0</td>\n      <td>1</td>\n      <td>0.316342</td>\n      <td>...</td>\n      <td>40.824607</td>\n      <td>-73.894848</td>\n      <td>202.0</td>\n      <td>17.0</td>\n      <td>12701.0</td>\n      <td>2099838.0</td>\n      <td>Hunts Point</td>\n      <td>POINT (-73.894848 40.824607)</td>\n      <td>0.256868</td>\n      <td>0.402892</td>\n    </tr>\n    <tr>\n      <th>2</th>\n      <td>8856</td>\n      <td>5023900603</td>\n      <td>5</td>\n      <td>2390</td>\n      <td>603</td>\n      <td>NaN</td>\n      <td>DIMASO, ANTHONY</td>\n      <td>A5</td>\n      <td>1</td>\n      <td>0.121248</td>\n      <td>...</td>\n      <td>40.583636</td>\n      <td>-74.151088</td>\n      <td>502.0</td>\n      <td>50.0</td>\n      <td>27704.0</td>\n      <td>5039040.0</td>\n      <td>Todt Hill-Emerson Hill-Heartland Village-Light...</td>\n      <td>POINT (-74.151088 40.583636)</td>\n      <td>0.121372</td>\n      <td>0.279092</td>\n    </tr>\n    <tr>\n      <th>3</th>\n      <td>976</td>\n      <td>1000151323</td>\n      <td>1</td>\n      <td>15</td>\n      <td>1323</td>\n      <td>NaN</td>\n      <td>WHITE, JOSEPH E</td>\n      <td>R4</td>\n      <td>2</td>\n      <td>-1.569152</td>\n      <td>...</td>\n      <td>40.706358</td>\n      <td>-74.016151</td>\n      <td>101.0</td>\n      <td>1.0</td>\n      <td>13.0</td>\n      <td>1087243.0</td>\n      <td>Battery Park City-Lower Manhattan</td>\n      <td>POINT (-74.016151 40.706358)</td>\n      <td>1.680334</td>\n      <td>-1.554443</td>\n    </tr>\n    <tr>\n      <th>4</th>\n      <td>5809</td>\n      <td>3008400059</td>\n      <td>3</td>\n      <td>840</td>\n      <td>59</td>\n      <td>NaN</td>\n      <td>XIN DI CINDY CHEN, TR</td>\n      <td>B9</td>\n      <td>1</td>\n      <td>0.056686</td>\n      <td>...</td>\n      <td>40.640613</td>\n      <td>-74.013429</td>\n      <td>307.0</td>\n      <td>38.0</td>\n      <td>102.0</td>\n      <td>3015418.0</td>\n      <td>Sunset Park East</td>\n      <td>POINT (-74.013429 40.640613)</td>\n      <td>0.329078</td>\n      <td>0.237775</td>\n    </tr>\n    <tr>\n      <th>...</th>\n      <td>...</td>\n      <td>...</td>\n      <td>...</td>\n      <td>...</td>\n      <td>...</td>\n      <td>...</td>\n      <td>...</td>\n      <td>...</td>\n      <td>...</td>\n      <td>...</td>\n      <td>...</td>\n      <td>...</td>\n      <td>...</td>\n      <td>...</td>\n      <td>...</td>\n      <td>...</td>\n      <td>...</td>\n      <td>...</td>\n      <td>...</td>\n      <td>...</td>\n      <td>...</td>\n    </tr>\n    <tr>\n      <th>8356</th>\n      <td>11284</td>\n      <td>5014951053</td>\n      <td>5</td>\n      <td>1495</td>\n      <td>1053</td>\n      <td>NaN</td>\n      <td>WEINGARTEN GERTRUDE</td>\n      <td>R3</td>\n      <td>1A</td>\n      <td>0.210045</td>\n      <td>...</td>\n      <td>40.619038</td>\n      <td>-74.153888</td>\n      <td>501.0</td>\n      <td>49.0</td>\n      <td>30301.0</td>\n      <td>5170865.0</td>\n      <td>Mariner's Harbor-Arlington-Port Ivory-Granitev...</td>\n      <td>POINT (-74.153888 40.619038)</td>\n      <td>0.261711</td>\n      <td>-0.005967</td>\n    </tr>\n    <tr>\n      <th>8357</th>\n      <td>5191</td>\n      <td>3008260034</td>\n      <td>3</td>\n      <td>826</td>\n      <td>34</td>\n      <td>NaN</td>\n      <td>YUEN, BILLY</td>\n      <td>B9</td>\n      <td>1</td>\n      <td>0.056686</td>\n      <td>...</td>\n      <td>40.639257</td>\n      <td>-74.006687</td>\n      <td>307.0</td>\n      <td>38.0</td>\n      <td>106.0</td>\n      <td>3014813.0</td>\n      <td>Sunset Park East</td>\n      <td>POINT (-74.006687 40.639257)</td>\n      <td>0.361548</td>\n      <td>0.237775</td>\n    </tr>\n    <tr>\n      <th>8358</th>\n      <td>5390</td>\n      <td>3008711106</td>\n      <td>3</td>\n      <td>871</td>\n      <td>1106</td>\n      <td>NaN</td>\n      <td>MIDLER, SAMARA</td>\n      <td>R1</td>\n      <td>2C</td>\n      <td>0.264732</td>\n      <td>...</td>\n      <td>40.658670</td>\n      <td>-73.981846</td>\n      <td>307.0</td>\n      <td>38.0</td>\n      <td>169.0</td>\n      <td>3016663.0</td>\n      <td>Windsor Terrace</td>\n      <td>POINT (-73.981846 40.65867)</td>\n      <td>-1.494039</td>\n      <td>0.370282</td>\n    </tr>\n    <tr>\n      <th>8359</th>\n      <td>860</td>\n      <td>1000162507</td>\n      <td>1</td>\n      <td>16</td>\n      <td>2507</td>\n      <td>NaN</td>\n      <td>MILES, JOHN P.</td>\n      <td>R4</td>\n      <td>2</td>\n      <td>1.620131</td>\n      <td>...</td>\n      <td>40.710118</td>\n      <td>-74.016574</td>\n      <td>101.0</td>\n      <td>1.0</td>\n      <td>31704.0</td>\n      <td>1000436.0</td>\n      <td>Battery Park City-Lower Manhattan</td>\n      <td>POINT (-74.016574 40.710118)</td>\n      <td>-1.494039</td>\n      <td>1.328319</td>\n    </tr>\n    <tr>\n      <th>8360</th>\n      <td>7270</td>\n      <td>4082864083</td>\n      <td>4</td>\n      <td>8286</td>\n      <td>4083</td>\n      <td>NaN</td>\n      <td>WONG, CHI KIT</td>\n      <td>R3</td>\n      <td>1A</td>\n      <td>-0.826863</td>\n      <td>...</td>\n      <td>40.753052</td>\n      <td>-73.737053</td>\n      <td>411.0</td>\n      <td>23.0</td>\n      <td>152901.0</td>\n      <td>4452374.0</td>\n      <td>Douglas Manor-Douglaston-Little Neck</td>\n      <td>POINT (-73.737053 40.753052)</td>\n      <td>-1.494039</td>\n      <td>-1.554443</td>\n    </tr>\n  </tbody>\n</table>\n<p>8361 rows × 43 columns</p>\n</div>"
     },
     "execution_count": 4,
     "metadata": {},
     "output_type": "execute_result"
    }
   ],
   "source": [
    "df_train"
   ],
   "metadata": {
    "collapsed": false,
    "pycharm": {
     "name": "#%%\n"
    }
   }
  },
  {
   "cell_type": "code",
   "execution_count": null,
   "outputs": [],
   "source": [],
   "metadata": {
    "collapsed": false,
    "pycharm": {
     "name": "#%%\n"
    }
   }
  }
 ],
 "metadata": {
  "kernelspec": {
   "display_name": "Python 3",
   "language": "python",
   "name": "python3"
  },
  "language_info": {
   "codemirror_mode": {
    "name": "ipython",
    "version": 2
   },
   "file_extension": ".py",
   "mimetype": "text/x-python",
   "name": "python",
   "nbconvert_exporter": "python",
   "pygments_lexer": "ipython2",
   "version": "2.7.6"
  }
 },
 "nbformat": 4,
 "nbformat_minor": 0
}