{
 "cells": [
  {
   "cell_type": "code",
   "execution_count": 1,
   "metadata": {},
   "outputs": [],
   "source": [
    "import os\n",
    "os.chdir('..')"
   ]
  },
  {
   "cell_type": "code",
   "execution_count": 2,
   "metadata": {},
   "outputs": [],
   "source": [
    "import pandas as pd\n",
    "from pipelines.category_imputer import CategoryImputer"
   ]
  },
  {
   "cell_type": "code",
   "execution_count": 3,
   "metadata": {},
   "outputs": [],
   "source": [
    "cat_columns = ['EASEMENT', 'BLDGCL', 'TAXCLASS',\n",
    "               'EXMPTCL', 'EXCD2', 'EXT']"
   ]
  },
  {
   "cell_type": "code",
   "execution_count": 4,
   "metadata": {},
   "outputs": [],
   "source": [
    "df_train = pd.read_csv('data/train.csv')\n",
    "df_val = pd.read_csv('data/val.csv')"
   ]
  },
  {
   "cell_type": "code",
   "execution_count": 5,
   "metadata": {},
   "outputs": [],
   "source": [
    "category_imputer = CategoryImputer()\n",
    "category_imputer.fit(df_train)"
   ]
  },
  {
   "cell_type": "code",
   "execution_count": 6,
   "metadata": {},
   "outputs": [
    {
     "data": {
      "text/plain": [
       "EASEMENT    0\n",
       "BLDGCL      0\n",
       "TAXCLASS    0\n",
       "EXMPTCL     0\n",
       "EXCD2       0\n",
       "EXT         0\n",
       "dtype: int64"
      ]
     },
     "execution_count": 6,
     "metadata": {},
     "output_type": "execute_result"
    }
   ],
   "source": [
    "out_train = category_imputer.transform(df_train)[cat_columns]\n",
    "out_train.isna().sum()"
   ]
  },
  {
   "cell_type": "code",
   "execution_count": 7,
   "metadata": {},
   "outputs": [
    {
     "data": {
      "text/plain": [
       "EASEMENT    0\n",
       "BLDGCL      0\n",
       "TAXCLASS    0\n",
       "EXMPTCL     0\n",
       "EXCD2       0\n",
       "EXT         0\n",
       "dtype: int64"
      ]
     },
     "execution_count": 7,
     "metadata": {},
     "output_type": "execute_result"
    }
   ],
   "source": [
    "out_val = category_imputer.transform(df_val)[cat_columns]\n",
    "out_val.isna().sum()"
   ]
  }
 ],
 "metadata": {
  "interpreter": {
   "hash": "309de28a327ba8b6d3ffa0bb388f4d3964cedf25fae892936d492d1643bb65a2"
  },
  "kernelspec": {
   "display_name": "Python 3.9.12 ('best')",
   "language": "python",
   "name": "python3"
  },
  "language_info": {
   "codemirror_mode": {
    "name": "ipython",
    "version": 3
   },
   "file_extension": ".py",
   "mimetype": "text/x-python",
   "name": "python",
   "nbconvert_exporter": "python",
   "pygments_lexer": "ipython3",
   "version": "3.9.12"
  },
  "orig_nbformat": 4
 },
 "nbformat": 4,
 "nbformat_minor": 2
}
