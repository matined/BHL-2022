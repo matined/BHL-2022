{
 "cells": [
  {
   "cell_type": "code",
   "execution_count": 1,
   "metadata": {},
   "outputs": [],
   "source": [
    "import os\n",
    "os.chdir('..')"
   ]
  },
  {
   "cell_type": "code",
   "execution_count": 2,
   "metadata": {},
   "outputs": [],
   "source": [
    "import pandas as pd\n",
    "\n",
    "from sklearn.pipeline import make_pipeline\n",
    "\n",
    "from pipelines.category_imputer import CategoryImputer\n",
    "from pipelines.category_merger import CategoryMerger\n",
    "from pipelines.category_encoder import CategoryEncoder"
   ]
  },
  {
   "cell_type": "code",
   "execution_count": 3,
   "metadata": {},
   "outputs": [],
   "source": [
    "df_train = pd.read_csv('data/train.csv')\n",
    "df_val = pd.read_csv('data/val.csv')"
   ]
  },
  {
   "cell_type": "code",
   "execution_count": 4,
   "metadata": {},
   "outputs": [],
   "source": [
    "cat_pipeline = make_pipeline(\n",
    "    CategoryImputer(),\n",
    "    CategoryMerger(),\n",
    "    CategoryEncoder()\n",
    ")"
   ]
  },
  {
   "cell_type": "code",
   "execution_count": 5,
   "metadata": {},
   "outputs": [
    {
     "data": {
      "text/plain": [
       "Pipeline(steps=[('categoryimputer',\n",
       "                 <pipelines.category_imputer.CategoryImputer object at 0x7f1a9b5b4610>),\n",
       "                ('categorymerger',\n",
       "                 <pipelines.category_merger.CategoryMerger object at 0x7f1a69460460>),\n",
       "                ('categoryencoder',\n",
       "                 <pipelines.category_encoder.CategoryEncoder object at 0x7f1a69460040>)])"
      ]
     },
     "execution_count": 5,
     "metadata": {},
     "output_type": "execute_result"
    }
   ],
   "source": [
    "cat_pipeline.fit(df_train)"
   ]
  },
  {
   "cell_type": "code",
   "execution_count": 7,
   "metadata": {},
   "outputs": [
    {
     "name": "stderr",
     "output_type": "stream",
     "text": [
      "/home/antoni/miniconda3/envs/best/lib/python3.9/site-packages/sklearn/utils/deprecation.py:87: FutureWarning: Function get_feature_names is deprecated; get_feature_names is deprecated in 1.0 and will be removed in 1.2. Please use get_feature_names_out instead.\n",
      "  warnings.warn(msg, category=FutureWarning)\n"
     ]
    }
   ],
   "source": [
    "transformed_val = cat_pipeline.transform(df_val)"
   ]
  }
 ],
 "metadata": {
  "interpreter": {
   "hash": "309de28a327ba8b6d3ffa0bb388f4d3964cedf25fae892936d492d1643bb65a2"
  },
  "kernelspec": {
   "display_name": "Python 3.9.12 ('best')",
   "language": "python",
   "name": "python3"
  },
  "language_info": {
   "codemirror_mode": {
    "name": "ipython",
    "version": 3
   },
   "file_extension": ".py",
   "mimetype": "text/x-python",
   "name": "python",
   "nbconvert_exporter": "python",
   "pygments_lexer": "ipython3",
   "version": "3.9.12"
  },
  "orig_nbformat": 4
 },
 "nbformat": 4,
 "nbformat_minor": 2
}
