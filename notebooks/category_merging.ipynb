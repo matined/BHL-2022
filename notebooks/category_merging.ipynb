{
 "cells": [
  {
   "cell_type": "code",
   "execution_count": 1,
   "metadata": {},
   "outputs": [],
   "source": [
    "import os\n",
    "os.chdir('..')"
   ]
  },
  {
   "cell_type": "code",
   "execution_count": 2,
   "metadata": {},
   "outputs": [],
   "source": [
    "import pandas as pd\n",
    "from sklearn.base import TransformerMixin\n",
    "from pipelines.category_imputer import CategoryImputer\n",
    "from collections import defaultdict"
   ]
  },
  {
   "cell_type": "code",
   "execution_count": 3,
   "metadata": {},
   "outputs": [],
   "source": [
    "df_train = pd.read_csv('data/train.csv')\n",
    "df_val = pd.read_csv('data/val.csv')"
   ]
  },
  {
   "cell_type": "code",
   "execution_count": 4,
   "metadata": {},
   "outputs": [],
   "source": [
    "cat_columns = ['EASEMENT', 'BLDGCL', 'TAXCLASS',\n",
    "               'EXMPTCL', 'EXCD2', 'EXT']"
   ]
  },
  {
   "cell_type": "code",
   "execution_count": 5,
   "metadata": {},
   "outputs": [],
   "source": [
    "category_imputer = CategoryImputer()\n",
    "category_imputer.fit(df_train)"
   ]
  },
  {
   "cell_type": "code",
   "execution_count": 6,
   "metadata": {},
   "outputs": [],
   "source": [
    "df_train = category_imputer.transform(df_train)\n",
    "df_val = category_imputer.transform(df_val)"
   ]
  },
  {
   "cell_type": "code",
   "execution_count": 7,
   "metadata": {},
   "outputs": [
    {
     "data": {
      "text/plain": [
       "EASEMENT      3\n",
       "BLDGCL      101\n",
       "TAXCLASS      9\n",
       "EXMPTCL       5\n",
       "EXCD2         8\n",
       "EXT           4\n",
       "dtype: int64"
      ]
     },
     "execution_count": 7,
     "metadata": {},
     "output_type": "execute_result"
    }
   ],
   "source": [
    "df_val[cat_columns].nunique()"
   ]
  },
  {
   "cell_type": "code",
   "execution_count": 8,
   "metadata": {},
   "outputs": [],
   "source": [
    "class CategoryMerger(TransformerMixin):\n",
    "\n",
    "    def fit(self, X, y=None, **kwargs):\n",
    "        self.cat_mapping = {\n",
    "            'A': 'Family',\n",
    "            'C': 'Family',\n",
    "            'D': 'Family',\n",
    "            'G': 'Family',\n",
    "            'L': 'Multifamily',\n",
    "            'S': 'Multifamily',\n",
    "            'B': 'Multifamily',\n",
    "            'E': 'Industrial',\n",
    "            'F': 'Industrial',\n",
    "            'O': 'Industrial',\n",
    "            'H': 'Service',\n",
    "            'K': 'Service',\n",
    "            'T': 'Service',\n",
    "            'I': 'Public use',\n",
    "            'J': 'Public use',\n",
    "            'M': 'Public use',\n",
    "            'N': 'Public use',\n",
    "            'P': 'Public use',\n",
    "            'Q': 'Public use',\n",
    "            'R': 'Public use',\n",
    "            'U': 'Public use',\n",
    "            'V': 'Public use',\n",
    "            'W': 'Public use',\n",
    "            'Y': 'Public use',\n",
    "            'Z': 'Public use'\n",
    "        }\n",
    "        return self\n",
    "\n",
    "    def transform(self, X, y=None, **kwargs):\n",
    "        X = X.copy()\n",
    "        # Merge bldl\n",
    "        X['BLDGCL'] = X['BLDGCL'].apply(lambda s: s[0])\n",
    "        X['BLDGCL'] = X['BLDGCL'].map(self.cat_mapping)\n",
    "        return X"
   ]
  },
  {
   "cell_type": "code",
   "execution_count": 10,
   "metadata": {},
   "outputs": [
    {
     "data": {
      "text/plain": [
       "0"
      ]
     },
     "execution_count": 10,
     "metadata": {},
     "output_type": "execute_result"
    }
   ],
   "source": [
    "merger = CategoryMerger()\n",
    "merger.fit(df_train)\n",
    "merger.transform(df_val)['BLDGCL'].isna().sum()"
   ]
  }
 ],
 "metadata": {
  "interpreter": {
   "hash": "309de28a327ba8b6d3ffa0bb388f4d3964cedf25fae892936d492d1643bb65a2"
  },
  "kernelspec": {
   "display_name": "Python 3.9.12 ('best')",
   "language": "python",
   "name": "python3"
  },
  "language_info": {
   "codemirror_mode": {
    "name": "ipython",
    "version": 3
   },
   "file_extension": ".py",
   "mimetype": "text/x-python",
   "name": "python",
   "nbconvert_exporter": "python",
   "pygments_lexer": "ipython3",
   "version": "3.9.12"
  },
  "orig_nbformat": 4
 },
 "nbformat": 4,
 "nbformat_minor": 2
}
